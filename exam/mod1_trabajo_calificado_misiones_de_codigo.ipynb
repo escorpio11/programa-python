{
  "nbformat": 4,
  "nbformat_minor": 0,
  "metadata": {
    "colab": {
      "provenance": [],
      "include_colab_link": true
    },
    "kernelspec": {
      "name": "python3",
      "display_name": "Python 3"
    },
    "language_info": {
      "name": "python"
    }
  },
  "cells": [
    {
      "cell_type": "markdown",
      "metadata": {
        "id": "view-in-github",
        "colab_type": "text"
      },
      "source": [
        "<a href=\"https://colab.research.google.com/github/escorpio11/programa-python/blob/main/exam/mod1_trabajo_calificado_misiones_de_codigo.ipynb\" target=\"_parent\"><img src=\"https://colab.research.google.com/assets/colab-badge.svg\" alt=\"Open In Colab\"/></a>"
      ]
    },
    {
      "cell_type": "markdown",
      "source": [
        "<img src=\"https://posgrado.utec.edu.pe/sites/default/files/2023-08/Testimonial-home-2.jpg\" alt=\"HTML5 Icon\" width=\"900\" height=\"250\" >\n"
      ],
      "metadata": {
        "id": "dYz-CyepUcRS"
      }
    },
    {
      "cell_type": "markdown",
      "source": [
        "# **Trabajo Calificado: Misiones de Código**"
      ],
      "metadata": {
        "id": "tYd6BiWgUfLo"
      }
    },
    {
      "cell_type": "markdown",
      "source": [
        "**Contexto:**\n",
        "\n",
        "Eres desarrollador de un Simulador de Aventuras llamado Pythonia, un entorno virtual de entrenamiento diseñado para mejorar tus habilidades de programación. En este simulador, enfrentarás una serie de desafíos basados en situaciones de videojuegos y escenarios de aventura, donde deberás aplicar estructuras lógicas, condicionales, bucles y funciones para resolver problemas.\n",
        "\n"
      ],
      "metadata": {
        "id": "GtjjVTFRU6W1"
      }
    },
    {
      "cell_type": "markdown",
      "source": [
        "Cada ejercicio representa un reto independiente que simula eventos comunes en el desarrollo de videojuegos, sistemas de simulación y lógica de juegos interactivos."
      ],
      "metadata": {
        "id": "Ggayz2SXVXjt"
      }
    },
    {
      "cell_type": "markdown",
      "source": [
        "**Recomendaciones:**\n",
        "\n",
        "Utilizar buenas prácticas: comentarios, entradas y salidas limpias.\n",
        "\n",
        "Uso de funciones donde sea necesario."
      ],
      "metadata": {
        "id": "eAL1_dscUjd_"
      }
    },
    {
      "cell_type": "markdown",
      "source": [
        "**Ejercicio 1: Elige tu personaje (Variables y Entrada/Salida)**\n",
        "\n",
        "Crea un programa que permita al jugador elegir su personaje entre Mago, Guerrero o Arquero. Según la elección, muestra un mensaje personalizado con las estadísticas iniciales (vida, poder, defensa)."
      ],
      "metadata": {
        "id": "YpxJc_PoVc4c"
      }
    },
    {
      "cell_type": "code",
      "source": [
        "## INICIO DE CÓDIGO\n",
        "print('='*40)\n",
        "print('¡Bienvenido al simulador de aventuras de Pythonia!')\n",
        "print('='*40)\n",
        "personaje = str(input('Elije uno de los siguientes personajes: Mago, Guerrero, Arquero: ').lower().capitalize())\n",
        "\n",
        "if personaje == 'Mago':\n",
        "  personaje = {'Nombre': 'Mago','Vida': 100,'Vida_Inicial': 100, 'Poder': 50, 'Defensa': 20, 'Fuerza': 30, 'Velocidad': 14}\n",
        "  print(personaje)\n",
        "  print('¡Bienvenido Mago!')\n",
        "elif personaje == 'Guerrero':\n",
        "  personaje = {'Nombre': 'Guerrero','Vida': 120,'Vida_Inicial': 120, 'Poder': 60, 'Defensa': 15, 'Fuerza': 20, 'Velocidad': 10}\n",
        "  print(personaje)\n",
        "  print('¡Bienvenido Guerrero!')\n",
        "elif personaje == 'Arquero':\n",
        "  personaje = {'Nombre': 'Arquero','Vida': 80,'Vida_Inicial': 80, 'Poder': 70, 'Defensa': 25, 'Fuerza': 10, 'Velocidad': 18}\n",
        "  print(personaje)\n",
        "  print('¡Bienvenido Arquero!')\n",
        "else:\n",
        "  print('¡Personaje no encontrado!')\n",
        "\n",
        "## FIN DE CÓDIGO"
      ],
      "metadata": {
        "id": "GZrzl-7wVfkW",
        "outputId": "3aa242cb-eca8-4a3f-e6fb-4cc629fb1943",
        "colab": {
          "base_uri": "https://localhost:8080/"
        }
      },
      "execution_count": 26,
      "outputs": [
        {
          "output_type": "stream",
          "name": "stdout",
          "text": [
            "========================================\n",
            "¡Bienvenido al simulador de aventuras de Pythonia!\n",
            "========================================\n",
            "Elije uno de los siguientes personajes: Mago, Guerrero, Arquero: MAGO\n",
            "{'Nombre': 'Mago', 'Vida': 100, 'Vida_Inicial': 100, 'Poder': 50, 'Defensa': 20, 'Fuerza': 30, 'Velocidad': 14}\n",
            "¡Bienvenido Mago!\n"
          ]
        }
      ]
    },
    {
      "cell_type": "markdown",
      "source": [
        "**Ejercicio 2: La prueba del sabio (Condicionales)**\n",
        "\n",
        "El sabio te hace una pregunta: si traes menos de 50 monedas de oro, te expulsará; si llevas entre 50 y 100, te permitirá pasar; si llevas más de 100, te dará una poción.\n",
        "Crea el programa que lea las monedas y muestre el resultado."
      ],
      "metadata": {
        "id": "kvoGwX-QVgPr"
      }
    },
    {
      "cell_type": "code",
      "execution_count": null,
      "metadata": {
        "id": "3tg6KSK-UbUw",
        "outputId": "b888e9fc-a931-4463-af0e-7b65c6420d92",
        "colab": {
          "base_uri": "https://localhost:8080/"
        }
      },
      "outputs": [
        {
          "output_type": "stream",
          "name": "stdout",
          "text": [
            "Bienvenido Guerrero a la tienda de las posiones\n",
            "¿Cuántas monedas tienes para de oro mi?: 50\n",
            "Puedes pasar\n"
          ]
        }
      ],
      "source": [
        "## INICIO DE CÓDIGO\n",
        "print(f'Bienvenido {personaje} a la tienda de las posiones')\n",
        "monedas = int(input('¿Cuántas monedas tienes para de oro mi?: '))\n",
        "if monedas < 50:\n",
        "  print('Fuera de aqui, no tengo nada para ti')\n",
        "elif monedas >= 50 and monedas <= 100:\n",
        "  print('Puedes pasar')\n",
        "else:\n",
        "  print('Puedes tomar esta poción que te ayudara')\n",
        "## FIN DE CÓDIGO"
      ]
    },
    {
      "cell_type": "markdown",
      "source": [
        "**Ejercicio 3: El puente infinito (Bucles While)**\n",
        "\n",
        "Diseña un programa que simule el cruce de un puente que cambia su estructura aleatoriamente. El jugador debe adivinar si el siguiente paso será seguro ('s') o peligroso ('p').\n",
        "El juego termina si el jugador elige 'salir' o si falla 3 veces."
      ],
      "metadata": {
        "id": "g7B02fWhVj4M"
      }
    },
    {
      "cell_type": "code",
      "source": [
        "## INICIO DE CÓDIGO\n",
        "import random\n",
        "\n",
        "print('bienvenido al puente del destino')\n",
        "count = 0\n",
        "while True:\n",
        "  clave = random.choice(['s','p'])\n",
        "  print(clave)\n",
        "  eleccion = str(input('¿Seguro (s) o peligroso (p)?: ').lower())\n",
        "  count += 1\n",
        "  if eleccion == clave:\n",
        "    print(f'Felicidades ha pasado al otro lado del puente en el intento {count}')\n",
        "    break\n",
        "  elif count == 3:\n",
        "    print('Has fallado 3 veces')\n",
        "    break\n",
        "  print(f'La eleccion no es corracta intentelo nuevamente')\n",
        "## FIN DE CÓDIGO"
      ],
      "metadata": {
        "id": "9DRMWhDBVn71",
        "outputId": "345af966-0e61-49f9-8289-975f9fe26f71",
        "colab": {
          "base_uri": "https://localhost:8080/"
        }
      },
      "execution_count": null,
      "outputs": [
        {
          "output_type": "stream",
          "name": "stdout",
          "text": [
            "bienvenido al puente del destino\n",
            "s\n",
            "¿Seguro (s) o peligroso (p)?: P\n",
            "La eleccion no es corracta intentelo nuevamente\n",
            "s\n",
            "¿Seguro (s) o peligroso (p)?: P\n",
            "La eleccion no es corracta intentelo nuevamente\n",
            "p\n",
            "¿Seguro (s) o peligroso (p)?: P\n",
            "Felicidades ha pasado al otro lado del puente en el intento 3\n"
          ]
        }
      ]
    },
    {
      "cell_type": "markdown",
      "source": [
        "**Ejercicio 4: El laberinto secreto (Bucle For y Range)**\n",
        "\n",
        "Crea un programa que muestre una cuenta regresiva desde 10 hasta 1 al estilo nivel de escape del laberinto. Cada número debe ir acompañado de un mensaje tipo \"Quedan X segundos para escapar\"."
      ],
      "metadata": {
        "id": "66qKXQwTVoZG"
      }
    },
    {
      "cell_type": "code",
      "source": [
        "## INICIO DE CÓDIGO\n",
        "for i in range(10,0,-1):\n",
        "  print(f'Quedan {i} segundos para escapar')\n",
        "  print('***'*i)\n",
        "\n",
        "## FIN DE CÓDIGO"
      ],
      "metadata": {
        "id": "i1S9WPmhVsEj",
        "outputId": "fe538cc3-9835-407a-a190-b3f062ee1f29",
        "colab": {
          "base_uri": "https://localhost:8080/"
        }
      },
      "execution_count": null,
      "outputs": [
        {
          "output_type": "stream",
          "name": "stdout",
          "text": [
            "Quedan 10 segundos para escapar\n",
            "******************************\n",
            "Quedan 9 segundos para escapar\n",
            "***************************\n",
            "Quedan 8 segundos para escapar\n",
            "************************\n",
            "Quedan 7 segundos para escapar\n",
            "*********************\n",
            "Quedan 6 segundos para escapar\n",
            "******************\n",
            "Quedan 5 segundos para escapar\n",
            "***************\n",
            "Quedan 4 segundos para escapar\n",
            "************\n",
            "Quedan 3 segundos para escapar\n",
            "*********\n",
            "Quedan 2 segundos para escapar\n",
            "******\n",
            "Quedan 1 segundos para escapar\n",
            "***\n"
          ]
        }
      ]
    },
    {
      "cell_type": "markdown",
      "source": [
        "**Ejercicio 5: Cofres encantados (Break y Continue)**\n",
        "\n",
        "Simula 10 cofres cerrados, pero uno de ellos es una trampa explosiva (elige aleatoriamente una posición).\n",
        "El jugador abre cofres uno por uno:\n",
        "\n",
        "* Si encuentra la trampa, termina el juego (break).\n",
        "\n",
        "* Si encuentra cofres vacíos, continúa (continue).\n",
        "\n",
        "* Si abre todos sin explotar, gana."
      ],
      "metadata": {
        "id": "5dL6C-x1VsYf"
      }
    },
    {
      "cell_type": "code",
      "source": [
        "## INICIO DE CÓDIGO\n",
        "import random\n",
        "\n",
        "print('Felicidades esta en la etapa 5 ')\n",
        "\n",
        "todas_las_cajas = ['caja_1', 'caja_2', 'caja_3', 'caja_4', 'caja_5','caja_6', 'caja_7', 'caja_8', 'caja_9', 'caja_10']\n",
        "caja_explosiva = random.choice(['caja_1','caja_2','caja_3','caja_4','caja_5','caja_6','caja_7','caja_8','caja_9','caja_10'])\n",
        "print(caja_explosiva)\n",
        "sum_mon = 0\n",
        "count = 0\n",
        "\n",
        "while eleccion != caja_explosiva: #condicion de ejecucion del boucle\n",
        "    eleccion = str(input(f'Elija una caja del 1 al {len(todas_las_cajas)}: '))\n",
        "    eleccion = 'caja_' + eleccion\n",
        "\n",
        "    monedas = random.choice([30,50,100])  #seleccion random de las monedas del cofre elegido\n",
        "\n",
        "\n",
        "    if eleccion != caja_explosiva:\n",
        "      print(f'felicidades eligio la caja {eleccion} y gano {monedas} monedas de oro ')\n",
        "      sum_mon += monedas\n",
        "      print(f'monedas totales: {sum_mon}')\n",
        "\n",
        "      todas_las_cajas.remove(eleccion)\n",
        "\n",
        "      control = input('Elija \"n\" para finalizar o cualquier tecla para continuar ')\n",
        "      count += 1\n",
        "      if control == 'n' or count > 9: #control de ejecucion del boucle en funcion del deseo del jugador y de las cajas disponible\n",
        "        break\n",
        "\n",
        "if eleccion == caja_explosiva:\n",
        "  print(f'Juego finalizado, elegio la caja explosiva ! ')\n",
        "else:\n",
        "  print(f'Juego finalizado, usted gano {sum_mon} monedas de oro ')\n",
        "\n",
        "\n",
        "\n",
        "\n",
        "\n",
        "## FIN DE CÓDIGO"
      ],
      "metadata": {
        "id": "d0hcbl0_V2BI",
        "outputId": "452fac1c-f134-4d8a-92d8-1b32936afce3",
        "colab": {
          "base_uri": "https://localhost:8080/"
        }
      },
      "execution_count": null,
      "outputs": [
        {
          "output_type": "stream",
          "name": "stdout",
          "text": [
            "Felicidades avanzo a la etapa 5 \n",
            "caja_6\n",
            "Elija una caja del 1 al 10: 6\n",
            "Juego finalizado, elegio la caja explosiva ! \n"
          ]
        }
      ]
    },
    {
      "cell_type": "markdown",
      "source": [
        "**Ejercicio 6: Pociones mágicas (Funciones básicas)**\n",
        "\n",
        "Crea una función usar_pocion(tipo) que permita al jugador elegir entre 'vida', 'fuerza' o 'velocidad', y retorne el efecto de la poción.\n",
        "Luego, pide al usuario que elija una poción y muestra el resultado llamando a la función."
      ],
      "metadata": {
        "id": "94yOz-rKV2gp"
      }
    },
    {
      "cell_type": "code",
      "source": [
        "## INICIO DE CÓDIGO\n",
        "def usar_pocion(tipo):\n",
        "  pociones = {'Vida': 20, 'Fuerza': 10, 'Velocidad': 5}\n",
        "  if tipo in pociones:\n",
        "    return pociones[tipo]\n",
        "  else:\n",
        "    print('Posion no valida')\n",
        "\n",
        "pocion = str(input('Elija una posion: Vida, Fuerza o Velocidad: ').lower().capitalize()) #Elige el tipo de pocion a usar\n",
        "print(pocion)\n",
        "print(f'Su personaje antes de usar la posion: ')\n",
        "print(personaje)   # muestra las caracteristicas del personaje elegido al inicio del juego\n",
        "\n",
        "if pocion in ['Vida','Fuerza','Velocidad']:  #aplica el aumento a la caracteristica selecionada del personaje\n",
        "  aumento = usar_pocion(pocion)\n",
        "  personaje[pocion] += aumento\n",
        "  print(f'Su personaje despues de usar la posion: ')\n",
        "  print(personaje)\n",
        "else:\n",
        "  print('Posion no valida')\n",
        "\n",
        "## FIN DE CÓDIGO"
      ],
      "metadata": {
        "id": "NQKm0w5iV4Zz",
        "outputId": "46f6775d-a519-40be-c357-931cb3417257",
        "colab": {
          "base_uri": "https://localhost:8080/"
        }
      },
      "execution_count": null,
      "outputs": [
        {
          "output_type": "stream",
          "name": "stdout",
          "text": [
            "Elija una posion: Vida, Fuerza o Velocidad: VELOCIDAD\n",
            "Velocidad\n",
            "Su personaje antes de usar la posion: \n",
            "{'Nombre': 'Arquero', 'Vida': 100, 'Poder': 70, 'Defensa': 25, 'Fuerza': 20, 'Velocidad': 18}\n",
            "Su personaje despues de usar la posion: \n",
            "{'Nombre': 'Arquero', 'Vida': 100, 'Poder': 70, 'Defensa': 25, 'Fuerza': 20, 'Velocidad': 23}\n"
          ]
        }
      ]
    },
    {
      "cell_type": "markdown",
      "source": [
        "**Ejercicio 7: Calculadora de daño crítico (Funciones con parámetros)**\n",
        "\n",
        "Crea una función calcular_danio(base, critico) que reciba el daño base y un porcentaje de crítico, devolviendo el daño total.\n",
        "El usuario ingresará el daño base y el porcentaje crítico."
      ],
      "metadata": {
        "id": "Qdnbnm4nV44h"
      }
    },
    {
      "cell_type": "code",
      "source": [
        "## INICIO DE CÓDIGO\n",
        "def calcular_danio(personaje,tipo_danio):\n",
        "  count = 0\n",
        "  if tipo_danio == 'critico':\n",
        "    return personaje['Vida_Inicial']*0.8\n",
        "  elif tipo_danio == 'base':\n",
        "    return personaje['Vida_Inicial']*0.2\n",
        "  else:\n",
        "    print('Tipo de danio no valido')\n",
        "\n",
        "\n",
        "while True:\n",
        "  count = 0\n",
        "  danio = input('seleccione el tipo de danio (critico, base): ').lower()\n",
        "  if danio in ['critico','base']:\n",
        "    count += 1\n",
        "    danio_recibido = calcular_danio(personaje,danio)\n",
        "    personaje['Vida'] -= danio_recibido\n",
        "    print(f'Vida restante: {max(0,personaje[\"Vida\"])}')\n",
        "    if personaje['Vida'] <= 0:\n",
        "      print('Personaje derrotado')\n",
        "      break\n",
        "  else:\n",
        "    print('Tipo de danio no es valido, intente nuevamente ')\n",
        "## FIN DE CÓDIGO"
      ],
      "metadata": {
        "id": "leaLQJWrV8Tx",
        "outputId": "6f432280-6166-4c66-e7b4-81446418e1fe",
        "colab": {
          "base_uri": "https://localhost:8080/"
        }
      },
      "execution_count": null,
      "outputs": [
        {
          "output_type": "stream",
          "name": "stdout",
          "text": [
            "seleccione el tipo de danio (critico, base): critico\n",
            "Vida restante: 20.0\n",
            "seleccione el tipo de danio (critico, base): critico\n",
            "Vida restante: 0\n",
            "Personaje derrotado\n"
          ]
        }
      ]
    },
    {
      "cell_type": "markdown",
      "source": [
        "**Ejercicio 8: El desafío del dragón (Condicionales + funciones + bucles)**\n",
        "\n",
        "Diseña una función enfrentar_dragon(vida, fuerza) que simule el combate:\n",
        "\n",
        "* El jugador ataca al dragón y el dragón contraataca restando vida.\n",
        "\n",
        "* Si la vida llega a 0, el jugador pierde.\n",
        "\n",
        "* Si el jugador realiza 3 ataques consecutivos sin morir, gana.\n",
        "Usa un bucle while interno para el combate."
      ],
      "metadata": {
        "id": "d4j1ckE2V9ag"
      }
    },
    {
      "cell_type": "code",
      "source": [
        "## INICIO DE CÓDIGO\n",
        "def enfrentar_dragon(Vida, Fuerza): #Elegir la vida y la fuerza de ataque del dragon\n",
        "  import random\n",
        "\n",
        "  count = 0\n",
        "  while True:\n",
        "        defensa_dragon = random.choice(['activa','inactiva','inactiva','inactiva','inactiva']) #probabilidad del 20% de que el dragon se proteja\n",
        "        danio_ataque_dragon = -personaje['Defensa'] + Fuerza\n",
        "        atacar = random.choice(['s','n','s','s','s','s','s','s','s','s']) # El personaje tiene en cada oportunidad 90% de probabilidad de atacar\n",
        "\n",
        "        if atacar == 's' and defensa_dragon == 'inactiva':\n",
        "          count += 1\n",
        "          Vida -= personaje['Fuerza']\n",
        "          print(f\"Vida restante del dragon: {Vida}\")\n",
        "          if Vida <= 0:\n",
        "            print('¡El dragon ha sido derrotado!')\n",
        "            break\n",
        "          elif count == 3:\n",
        "            print('Pudiste realizar un combo de 3 ataques consecutivos ¡Ganaste!')\n",
        "            break\n",
        "        elif atacar == 's' and defensa_dragon == 'activa':\n",
        "          print('tu ataque no surtio efecto, el dragon se protegio, intentalo nuevamente')\n",
        "          count = 0\n",
        "        else:\n",
        "          print('No atacaste, ataca en al siguiente oportunidad')\n",
        "        print('Ponte alerta el dragon te atacara ')\n",
        "        personaje['Vida'] -= danio_ataque_dragon\n",
        "        print(f'Vida restante: {max(0,personaje[\"Vida\"])}')\n",
        "        if personaje['Vida'] <= 0:\n",
        "          print('Personaje derrotado')\n",
        "          break\n",
        "\n",
        "\n",
        "## FIN DE CÓDIGO"
      ],
      "metadata": {
        "id": "_CGyWwuaWByi"
      },
      "execution_count": 27,
      "outputs": []
    },
    {
      "cell_type": "code",
      "source": [
        "enfrentar_dragon(200,35)  #Si el personaje es derrotado y se requiere reiniciar los valores de vida del personaje elegido se debe ejecutar nuevamente la etapa 1 (ejercicio 1)"
      ],
      "metadata": {
        "id": "T_aNcVp43kqh",
        "outputId": "3b721dbe-7a50-4f35-dc46-cf48f812264f",
        "colab": {
          "base_uri": "https://localhost:8080/"
        }
      },
      "execution_count": 28,
      "outputs": [
        {
          "output_type": "stream",
          "name": "stdout",
          "text": [
            "Vida restante del dragon: 170\n",
            "Ponte alerta el dragon te atacara \n",
            "Vida restante: 85\n",
            "Vida restante del dragon: 140\n",
            "Ponte alerta el dragon te atacara \n",
            "Vida restante: 70\n",
            "Vida restante del dragon: 110\n",
            "Pudiste realizar un combo de 3 ataques consecutivos ¡Ganaste!\n"
          ]
        }
      ]
    },
    {
      "cell_type": "markdown",
      "source": [
        "**Ejercicio 9: El camino del héroe (Recursividad sencilla)**\n",
        "\n",
        "Crea una función recursiva que simule el camino de un héroe cruzando N obstáculos, mostrando mensajes como:\n",
        "\n",
        "\"Obstáculo 3: saltando...\"\n",
        "\n",
        "Termina cuando N llegue a 0."
      ],
      "metadata": {
        "id": "8X5Y08fQWCFU"
      }
    },
    {
      "cell_type": "code",
      "source": [
        "## INICIO DE CÓDIGO\n",
        "\n",
        "\n",
        "## FIN DE CÓDIGO"
      ],
      "metadata": {
        "id": "vVDjZHSVWJdQ"
      },
      "execution_count": null,
      "outputs": []
    },
    {
      "cell_type": "markdown",
      "source": [
        "**Ejercicio 10: Torre de los hechizos (Reto Integrador Final)**\n",
        "\n",
        "Crea un programa completo que combine:\n",
        "\n",
        "* Elección de personaje.\n",
        "\n",
        "* Simulación de un combate contra un enemigo con vida y defensa.\n",
        "\n",
        "* Uso de funciones para calcular el daño.\n",
        "\n",
        "* Bucles para turnos de combate.\n",
        "\n",
        "* Uso de una función recursiva que simule las rondas como niveles (nivel 1, 2, 3 hasta ganar).\n",
        "\n"
      ],
      "metadata": {
        "id": "Behbpl_8WJzR"
      }
    },
    {
      "cell_type": "code",
      "source": [
        "## INICIO DE CÓDIGO\n",
        "\n",
        "## FIN DE CÓDIGO"
      ],
      "metadata": {
        "id": "smtLq1SDWTJd"
      },
      "execution_count": null,
      "outputs": []
    },
    {
      "cell_type": "markdown",
      "source": [
        "---\n",
        "\n",
        "# Gracias por completar este laboratorio!\n",
        "\n",
        "---\n"
      ],
      "metadata": {
        "id": "EONqoa25Wlx3"
      }
    }
  ]
}