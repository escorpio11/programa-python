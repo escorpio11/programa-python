{
  "nbformat": 4,
  "nbformat_minor": 0,
  "metadata": {
    "colab": {
      "provenance": [],
      "include_colab_link": true
    },
    "kernelspec": {
      "name": "python3",
      "display_name": "Python 3"
    },
    "language_info": {
      "name": "python"
    }
  },
  "cells": [
    {
      "cell_type": "markdown",
      "metadata": {
        "id": "view-in-github",
        "colab_type": "text"
      },
      "source": [
        "<a href=\"https://colab.research.google.com/github/escorpio11/programa-python/blob/main/modulo_3%3AProgama_Python_UTEC_Sesion04_Diccionarios.ipynb\" target=\"_parent\"><img src=\"https://colab.research.google.com/assets/colab-badge.svg\" alt=\"Open In Colab\"/></a>"
      ]
    },
    {
      "cell_type": "markdown",
      "source": [
        "## Diccionarios"
      ],
      "metadata": {
        "id": "LIRifZ8oVWYD"
      }
    },
    {
      "cell_type": "code",
      "source": [
        "texto = \"banana\"\n",
        "\n",
        "from collections import Counter\n",
        "\n",
        "frecuencia = Counter(texto)\n",
        "print(frecuencia)"
      ],
      "metadata": {
        "colab": {
          "base_uri": "https://localhost:8080/"
        },
        "id": "tUAfRworMBgn",
        "outputId": "f6f2aa2a-afd2-4207-f89a-99446c11a401"
      },
      "execution_count": null,
      "outputs": [
        {
          "output_type": "stream",
          "name": "stdout",
          "text": [
            "Counter({'a': 3, 'n': 2, 'b': 1})\n"
          ]
        }
      ]
    },
    {
      "cell_type": "code",
      "source": [
        "import pandas as pd\n",
        "df = pd.read_csv(\"clientes.csv\",sep=\";\")\n",
        "df\n",
        "\n",
        "pd."
      ],
      "metadata": {
        "id": "OPglU5jxOW5u",
        "outputId": "4525e834-b548-4043-aa31-d012f9362da5",
        "colab": {
          "base_uri": "https://localhost:8080/",
          "height": 300
        }
      },
      "execution_count": 1,
      "outputs": [
        {
          "output_type": "execute_result",
          "data": {
            "text/plain": [
              "    ID  EDAD  INGRESOS RIESGO  LINEA_TC\n",
              "0  123    36      1348      A     49924\n",
              "1  234    52      9479      A     28454\n",
              "2  345    60      7511      B     14250\n",
              "3  456    40      7992      C     32064\n",
              "4  567    58      2675      C      1485\n",
              "5  678    47      7086      D     29157\n",
              "6  789    31      4704      E     14945\n",
              "7  999    42      6245      E      8798"
            ],
            "text/html": [
              "\n",
              "  <div id=\"df-7159b846-9a3b-4372-aa4f-763ca4bc17b8\" class=\"colab-df-container\">\n",
              "    <div>\n",
              "<style scoped>\n",
              "    .dataframe tbody tr th:only-of-type {\n",
              "        vertical-align: middle;\n",
              "    }\n",
              "\n",
              "    .dataframe tbody tr th {\n",
              "        vertical-align: top;\n",
              "    }\n",
              "\n",
              "    .dataframe thead th {\n",
              "        text-align: right;\n",
              "    }\n",
              "</style>\n",
              "<table border=\"1\" class=\"dataframe\">\n",
              "  <thead>\n",
              "    <tr style=\"text-align: right;\">\n",
              "      <th></th>\n",
              "      <th>ID</th>\n",
              "      <th>EDAD</th>\n",
              "      <th>INGRESOS</th>\n",
              "      <th>RIESGO</th>\n",
              "      <th>LINEA_TC</th>\n",
              "    </tr>\n",
              "  </thead>\n",
              "  <tbody>\n",
              "    <tr>\n",
              "      <th>0</th>\n",
              "      <td>123</td>\n",
              "      <td>36</td>\n",
              "      <td>1348</td>\n",
              "      <td>A</td>\n",
              "      <td>49924</td>\n",
              "    </tr>\n",
              "    <tr>\n",
              "      <th>1</th>\n",
              "      <td>234</td>\n",
              "      <td>52</td>\n",
              "      <td>9479</td>\n",
              "      <td>A</td>\n",
              "      <td>28454</td>\n",
              "    </tr>\n",
              "    <tr>\n",
              "      <th>2</th>\n",
              "      <td>345</td>\n",
              "      <td>60</td>\n",
              "      <td>7511</td>\n",
              "      <td>B</td>\n",
              "      <td>14250</td>\n",
              "    </tr>\n",
              "    <tr>\n",
              "      <th>3</th>\n",
              "      <td>456</td>\n",
              "      <td>40</td>\n",
              "      <td>7992</td>\n",
              "      <td>C</td>\n",
              "      <td>32064</td>\n",
              "    </tr>\n",
              "    <tr>\n",
              "      <th>4</th>\n",
              "      <td>567</td>\n",
              "      <td>58</td>\n",
              "      <td>2675</td>\n",
              "      <td>C</td>\n",
              "      <td>1485</td>\n",
              "    </tr>\n",
              "    <tr>\n",
              "      <th>5</th>\n",
              "      <td>678</td>\n",
              "      <td>47</td>\n",
              "      <td>7086</td>\n",
              "      <td>D</td>\n",
              "      <td>29157</td>\n",
              "    </tr>\n",
              "    <tr>\n",
              "      <th>6</th>\n",
              "      <td>789</td>\n",
              "      <td>31</td>\n",
              "      <td>4704</td>\n",
              "      <td>E</td>\n",
              "      <td>14945</td>\n",
              "    </tr>\n",
              "    <tr>\n",
              "      <th>7</th>\n",
              "      <td>999</td>\n",
              "      <td>42</td>\n",
              "      <td>6245</td>\n",
              "      <td>E</td>\n",
              "      <td>8798</td>\n",
              "    </tr>\n",
              "  </tbody>\n",
              "</table>\n",
              "</div>\n",
              "    <div class=\"colab-df-buttons\">\n",
              "\n",
              "  <div class=\"colab-df-container\">\n",
              "    <button class=\"colab-df-convert\" onclick=\"convertToInteractive('df-7159b846-9a3b-4372-aa4f-763ca4bc17b8')\"\n",
              "            title=\"Convert this dataframe to an interactive table.\"\n",
              "            style=\"display:none;\">\n",
              "\n",
              "  <svg xmlns=\"http://www.w3.org/2000/svg\" height=\"24px\" viewBox=\"0 -960 960 960\">\n",
              "    <path d=\"M120-120v-720h720v720H120Zm60-500h600v-160H180v160Zm220 220h160v-160H400v160Zm0 220h160v-160H400v160ZM180-400h160v-160H180v160Zm440 0h160v-160H620v160ZM180-180h160v-160H180v160Zm440 0h160v-160H620v160Z\"/>\n",
              "  </svg>\n",
              "    </button>\n",
              "\n",
              "  <style>\n",
              "    .colab-df-container {\n",
              "      display:flex;\n",
              "      gap: 12px;\n",
              "    }\n",
              "\n",
              "    .colab-df-convert {\n",
              "      background-color: #E8F0FE;\n",
              "      border: none;\n",
              "      border-radius: 50%;\n",
              "      cursor: pointer;\n",
              "      display: none;\n",
              "      fill: #1967D2;\n",
              "      height: 32px;\n",
              "      padding: 0 0 0 0;\n",
              "      width: 32px;\n",
              "    }\n",
              "\n",
              "    .colab-df-convert:hover {\n",
              "      background-color: #E2EBFA;\n",
              "      box-shadow: 0px 1px 2px rgba(60, 64, 67, 0.3), 0px 1px 3px 1px rgba(60, 64, 67, 0.15);\n",
              "      fill: #174EA6;\n",
              "    }\n",
              "\n",
              "    .colab-df-buttons div {\n",
              "      margin-bottom: 4px;\n",
              "    }\n",
              "\n",
              "    [theme=dark] .colab-df-convert {\n",
              "      background-color: #3B4455;\n",
              "      fill: #D2E3FC;\n",
              "    }\n",
              "\n",
              "    [theme=dark] .colab-df-convert:hover {\n",
              "      background-color: #434B5C;\n",
              "      box-shadow: 0px 1px 3px 1px rgba(0, 0, 0, 0.15);\n",
              "      filter: drop-shadow(0px 1px 2px rgba(0, 0, 0, 0.3));\n",
              "      fill: #FFFFFF;\n",
              "    }\n",
              "  </style>\n",
              "\n",
              "    <script>\n",
              "      const buttonEl =\n",
              "        document.querySelector('#df-7159b846-9a3b-4372-aa4f-763ca4bc17b8 button.colab-df-convert');\n",
              "      buttonEl.style.display =\n",
              "        google.colab.kernel.accessAllowed ? 'block' : 'none';\n",
              "\n",
              "      async function convertToInteractive(key) {\n",
              "        const element = document.querySelector('#df-7159b846-9a3b-4372-aa4f-763ca4bc17b8');\n",
              "        const dataTable =\n",
              "          await google.colab.kernel.invokeFunction('convertToInteractive',\n",
              "                                                    [key], {});\n",
              "        if (!dataTable) return;\n",
              "\n",
              "        const docLinkHtml = 'Like what you see? Visit the ' +\n",
              "          '<a target=\"_blank\" href=https://colab.research.google.com/notebooks/data_table.ipynb>data table notebook</a>'\n",
              "          + ' to learn more about interactive tables.';\n",
              "        element.innerHTML = '';\n",
              "        dataTable['output_type'] = 'display_data';\n",
              "        await google.colab.output.renderOutput(dataTable, element);\n",
              "        const docLink = document.createElement('div');\n",
              "        docLink.innerHTML = docLinkHtml;\n",
              "        element.appendChild(docLink);\n",
              "      }\n",
              "    </script>\n",
              "  </div>\n",
              "\n",
              "\n",
              "    <div id=\"df-0b47d91d-c17a-4ae1-89f3-78a61efc8516\">\n",
              "      <button class=\"colab-df-quickchart\" onclick=\"quickchart('df-0b47d91d-c17a-4ae1-89f3-78a61efc8516')\"\n",
              "                title=\"Suggest charts\"\n",
              "                style=\"display:none;\">\n",
              "\n",
              "<svg xmlns=\"http://www.w3.org/2000/svg\" height=\"24px\"viewBox=\"0 0 24 24\"\n",
              "     width=\"24px\">\n",
              "    <g>\n",
              "        <path d=\"M19 3H5c-1.1 0-2 .9-2 2v14c0 1.1.9 2 2 2h14c1.1 0 2-.9 2-2V5c0-1.1-.9-2-2-2zM9 17H7v-7h2v7zm4 0h-2V7h2v10zm4 0h-2v-4h2v4z\"/>\n",
              "    </g>\n",
              "</svg>\n",
              "      </button>\n",
              "\n",
              "<style>\n",
              "  .colab-df-quickchart {\n",
              "      --bg-color: #E8F0FE;\n",
              "      --fill-color: #1967D2;\n",
              "      --hover-bg-color: #E2EBFA;\n",
              "      --hover-fill-color: #174EA6;\n",
              "      --disabled-fill-color: #AAA;\n",
              "      --disabled-bg-color: #DDD;\n",
              "  }\n",
              "\n",
              "  [theme=dark] .colab-df-quickchart {\n",
              "      --bg-color: #3B4455;\n",
              "      --fill-color: #D2E3FC;\n",
              "      --hover-bg-color: #434B5C;\n",
              "      --hover-fill-color: #FFFFFF;\n",
              "      --disabled-bg-color: #3B4455;\n",
              "      --disabled-fill-color: #666;\n",
              "  }\n",
              "\n",
              "  .colab-df-quickchart {\n",
              "    background-color: var(--bg-color);\n",
              "    border: none;\n",
              "    border-radius: 50%;\n",
              "    cursor: pointer;\n",
              "    display: none;\n",
              "    fill: var(--fill-color);\n",
              "    height: 32px;\n",
              "    padding: 0;\n",
              "    width: 32px;\n",
              "  }\n",
              "\n",
              "  .colab-df-quickchart:hover {\n",
              "    background-color: var(--hover-bg-color);\n",
              "    box-shadow: 0 1px 2px rgba(60, 64, 67, 0.3), 0 1px 3px 1px rgba(60, 64, 67, 0.15);\n",
              "    fill: var(--button-hover-fill-color);\n",
              "  }\n",
              "\n",
              "  .colab-df-quickchart-complete:disabled,\n",
              "  .colab-df-quickchart-complete:disabled:hover {\n",
              "    background-color: var(--disabled-bg-color);\n",
              "    fill: var(--disabled-fill-color);\n",
              "    box-shadow: none;\n",
              "  }\n",
              "\n",
              "  .colab-df-spinner {\n",
              "    border: 2px solid var(--fill-color);\n",
              "    border-color: transparent;\n",
              "    border-bottom-color: var(--fill-color);\n",
              "    animation:\n",
              "      spin 1s steps(1) infinite;\n",
              "  }\n",
              "\n",
              "  @keyframes spin {\n",
              "    0% {\n",
              "      border-color: transparent;\n",
              "      border-bottom-color: var(--fill-color);\n",
              "      border-left-color: var(--fill-color);\n",
              "    }\n",
              "    20% {\n",
              "      border-color: transparent;\n",
              "      border-left-color: var(--fill-color);\n",
              "      border-top-color: var(--fill-color);\n",
              "    }\n",
              "    30% {\n",
              "      border-color: transparent;\n",
              "      border-left-color: var(--fill-color);\n",
              "      border-top-color: var(--fill-color);\n",
              "      border-right-color: var(--fill-color);\n",
              "    }\n",
              "    40% {\n",
              "      border-color: transparent;\n",
              "      border-right-color: var(--fill-color);\n",
              "      border-top-color: var(--fill-color);\n",
              "    }\n",
              "    60% {\n",
              "      border-color: transparent;\n",
              "      border-right-color: var(--fill-color);\n",
              "    }\n",
              "    80% {\n",
              "      border-color: transparent;\n",
              "      border-right-color: var(--fill-color);\n",
              "      border-bottom-color: var(--fill-color);\n",
              "    }\n",
              "    90% {\n",
              "      border-color: transparent;\n",
              "      border-bottom-color: var(--fill-color);\n",
              "    }\n",
              "  }\n",
              "</style>\n",
              "\n",
              "      <script>\n",
              "        async function quickchart(key) {\n",
              "          const quickchartButtonEl =\n",
              "            document.querySelector('#' + key + ' button');\n",
              "          quickchartButtonEl.disabled = true;  // To prevent multiple clicks.\n",
              "          quickchartButtonEl.classList.add('colab-df-spinner');\n",
              "          try {\n",
              "            const charts = await google.colab.kernel.invokeFunction(\n",
              "                'suggestCharts', [key], {});\n",
              "          } catch (error) {\n",
              "            console.error('Error during call to suggestCharts:', error);\n",
              "          }\n",
              "          quickchartButtonEl.classList.remove('colab-df-spinner');\n",
              "          quickchartButtonEl.classList.add('colab-df-quickchart-complete');\n",
              "        }\n",
              "        (() => {\n",
              "          let quickchartButtonEl =\n",
              "            document.querySelector('#df-0b47d91d-c17a-4ae1-89f3-78a61efc8516 button');\n",
              "          quickchartButtonEl.style.display =\n",
              "            google.colab.kernel.accessAllowed ? 'block' : 'none';\n",
              "        })();\n",
              "      </script>\n",
              "    </div>\n",
              "\n",
              "  <div id=\"id_e2188e7f-97d7-4765-8599-63cc727b8d22\">\n",
              "    <style>\n",
              "      .colab-df-generate {\n",
              "        background-color: #E8F0FE;\n",
              "        border: none;\n",
              "        border-radius: 50%;\n",
              "        cursor: pointer;\n",
              "        display: none;\n",
              "        fill: #1967D2;\n",
              "        height: 32px;\n",
              "        padding: 0 0 0 0;\n",
              "        width: 32px;\n",
              "      }\n",
              "\n",
              "      .colab-df-generate:hover {\n",
              "        background-color: #E2EBFA;\n",
              "        box-shadow: 0px 1px 2px rgba(60, 64, 67, 0.3), 0px 1px 3px 1px rgba(60, 64, 67, 0.15);\n",
              "        fill: #174EA6;\n",
              "      }\n",
              "\n",
              "      [theme=dark] .colab-df-generate {\n",
              "        background-color: #3B4455;\n",
              "        fill: #D2E3FC;\n",
              "      }\n",
              "\n",
              "      [theme=dark] .colab-df-generate:hover {\n",
              "        background-color: #434B5C;\n",
              "        box-shadow: 0px 1px 3px 1px rgba(0, 0, 0, 0.15);\n",
              "        filter: drop-shadow(0px 1px 2px rgba(0, 0, 0, 0.3));\n",
              "        fill: #FFFFFF;\n",
              "      }\n",
              "    </style>\n",
              "    <button class=\"colab-df-generate\" onclick=\"generateWithVariable('df')\"\n",
              "            title=\"Generate code using this dataframe.\"\n",
              "            style=\"display:none;\">\n",
              "\n",
              "  <svg xmlns=\"http://www.w3.org/2000/svg\" height=\"24px\"viewBox=\"0 0 24 24\"\n",
              "       width=\"24px\">\n",
              "    <path d=\"M7,19H8.4L18.45,9,17,7.55,7,17.6ZM5,21V16.75L18.45,3.32a2,2,0,0,1,2.83,0l1.4,1.43a1.91,1.91,0,0,1,.58,1.4,1.91,1.91,0,0,1-.58,1.4L9.25,21ZM18.45,9,17,7.55Zm-12,3A5.31,5.31,0,0,0,4.9,8.1,5.31,5.31,0,0,0,1,6.5,5.31,5.31,0,0,0,4.9,4.9,5.31,5.31,0,0,0,6.5,1,5.31,5.31,0,0,0,8.1,4.9,5.31,5.31,0,0,0,12,6.5,5.46,5.46,0,0,0,6.5,12Z\"/>\n",
              "  </svg>\n",
              "    </button>\n",
              "    <script>\n",
              "      (() => {\n",
              "      const buttonEl =\n",
              "        document.querySelector('#id_e2188e7f-97d7-4765-8599-63cc727b8d22 button.colab-df-generate');\n",
              "      buttonEl.style.display =\n",
              "        google.colab.kernel.accessAllowed ? 'block' : 'none';\n",
              "\n",
              "      buttonEl.onclick = () => {\n",
              "        google.colab.notebook.generateWithVariable('df');\n",
              "      }\n",
              "      })();\n",
              "    </script>\n",
              "  </div>\n",
              "\n",
              "    </div>\n",
              "  </div>\n"
            ],
            "application/vnd.google.colaboratory.intrinsic+json": {
              "type": "dataframe",
              "variable_name": "df",
              "summary": "{\n  \"name\": \"df\",\n  \"rows\": 8,\n  \"fields\": [\n    {\n      \"column\": \"ID\",\n      \"properties\": {\n        \"dtype\": \"number\",\n        \"std\": 293,\n        \"min\": 123,\n        \"max\": 999,\n        \"num_unique_values\": 8,\n        \"samples\": [\n          234,\n          678,\n          123\n        ],\n        \"semantic_type\": \"\",\n        \"description\": \"\"\n      }\n    },\n    {\n      \"column\": \"EDAD\",\n      \"properties\": {\n        \"dtype\": \"number\",\n        \"std\": 10,\n        \"min\": 31,\n        \"max\": 60,\n        \"num_unique_values\": 8,\n        \"samples\": [\n          52,\n          47,\n          36\n        ],\n        \"semantic_type\": \"\",\n        \"description\": \"\"\n      }\n    },\n    {\n      \"column\": \"INGRESOS\",\n      \"properties\": {\n        \"dtype\": \"number\",\n        \"std\": 2773,\n        \"min\": 1348,\n        \"max\": 9479,\n        \"num_unique_values\": 8,\n        \"samples\": [\n          9479,\n          7086,\n          1348\n        ],\n        \"semantic_type\": \"\",\n        \"description\": \"\"\n      }\n    },\n    {\n      \"column\": \"RIESGO\",\n      \"properties\": {\n        \"dtype\": \"string\",\n        \"num_unique_values\": 5,\n        \"samples\": [\n          \"B\",\n          \"E\",\n          \"C\"\n        ],\n        \"semantic_type\": \"\",\n        \"description\": \"\"\n      }\n    },\n    {\n      \"column\": \"LINEA_TC\",\n      \"properties\": {\n        \"dtype\": \"number\",\n        \"std\": 15481,\n        \"min\": 1485,\n        \"max\": 49924,\n        \"num_unique_values\": 8,\n        \"samples\": [\n          28454,\n          29157,\n          49924\n        ],\n        \"semantic_type\": \"\",\n        \"description\": \"\"\n      }\n    }\n  ]\n}"
            }
          },
          "metadata": {},
          "execution_count": 1
        }
      ]
    },
    {
      "cell_type": "code",
      "source": [
        "df.to_dict()"
      ],
      "metadata": {
        "id": "PYQtIB0kOoWl",
        "outputId": "d5c8964b-7d7c-4ef2-a617-a800f0fb0e30",
        "colab": {
          "base_uri": "https://localhost:8080/"
        }
      },
      "execution_count": 2,
      "outputs": [
        {
          "output_type": "execute_result",
          "data": {
            "text/plain": [
              "{'ID': {0: 123, 1: 234, 2: 345, 3: 456, 4: 567, 5: 678, 6: 789, 7: 999},\n",
              " 'EDAD': {0: 36, 1: 52, 2: 60, 3: 40, 4: 58, 5: 47, 6: 31, 7: 42},\n",
              " 'INGRESOS': {0: 1348,\n",
              "  1: 9479,\n",
              "  2: 7511,\n",
              "  3: 7992,\n",
              "  4: 2675,\n",
              "  5: 7086,\n",
              "  6: 4704,\n",
              "  7: 6245},\n",
              " 'RIESGO': {0: 'A', 1: 'A', 2: 'B', 3: 'C', 4: 'C', 5: 'D', 6: 'E', 7: 'E'},\n",
              " 'LINEA_TC': {0: 49924,\n",
              "  1: 28454,\n",
              "  2: 14250,\n",
              "  3: 32064,\n",
              "  4: 1485,\n",
              "  5: 29157,\n",
              "  6: 14945,\n",
              "  7: 8798}}"
            ]
          },
          "metadata": {},
          "execution_count": 2
        }
      ]
    },
    {
      "cell_type": "markdown",
      "source": [
        "### [1] Crear un diccionario"
      ],
      "metadata": {
        "id": "k6NywJVEVanA"
      }
    },
    {
      "cell_type": "code",
      "source": [
        "# Lista vacía\n",
        "l_0 = []"
      ],
      "metadata": {
        "id": "NR0AU19DKgWf"
      },
      "execution_count": 3,
      "outputs": []
    },
    {
      "cell_type": "code",
      "source": [
        "# Tupla vacía\n",
        "t_0 = ()"
      ],
      "metadata": {
        "id": "9_hWq0lzKlBd"
      },
      "execution_count": 4,
      "outputs": []
    },
    {
      "cell_type": "code",
      "execution_count": 5,
      "metadata": {
        "id": "A4keBXudVOG9"
      },
      "outputs": [],
      "source": [
        "# Diccionario vacío\n",
        "dc_0  = {}"
      ]
    },
    {
      "cell_type": "code",
      "source": [
        "type(dc_0) # objeto dict son diccionarios"
      ],
      "metadata": {
        "id": "k1XtCHJ9Voaz",
        "outputId": "e98945e2-ff13-4b28-a222-ad18f22a8ce9",
        "colab": {
          "base_uri": "https://localhost:8080/"
        }
      },
      "execution_count": 6,
      "outputs": [
        {
          "output_type": "execute_result",
          "data": {
            "text/plain": [
              "dict"
            ]
          },
          "metadata": {},
          "execution_count": 6
        }
      ]
    },
    {
      "cell_type": "code",
      "source": [
        "type(l_0) # objeto list es una lista"
      ],
      "metadata": {
        "id": "KTNSGZFDKvIf",
        "outputId": "e0c5e6c7-8066-424b-ae50-06f93664780a",
        "colab": {
          "base_uri": "https://localhost:8080/"
        }
      },
      "execution_count": 7,
      "outputs": [
        {
          "output_type": "execute_result",
          "data": {
            "text/plain": [
              "list"
            ]
          },
          "metadata": {},
          "execution_count": 7
        }
      ]
    },
    {
      "cell_type": "code",
      "source": [
        "type(t_0) # objeto tuple es una tupla"
      ],
      "metadata": {
        "id": "t2WwmeHlKvZ1",
        "outputId": "ed45f90b-590c-4259-d88e-fcd0de7332ff",
        "colab": {
          "base_uri": "https://localhost:8080/"
        }
      },
      "execution_count": 8,
      "outputs": [
        {
          "output_type": "execute_result",
          "data": {
            "text/plain": [
              "tuple"
            ]
          },
          "metadata": {},
          "execution_count": 8
        }
      ]
    },
    {
      "cell_type": "code",
      "source": [
        "# Diccionarios pueden ser homogéneos\n",
        "# Considerar el concepto => clave:valor\n",
        "# Los valores son del mismo tipo (enteros)\n",
        "# Las claves son caracteres\n",
        "\n",
        "dc_1 = {\"a\":1,\n",
        "        \"b\":2,\n",
        "        \"c\":3\n",
        "        }\n",
        "\n",
        "print(f\"El diccionario es \\n{dc_1}\")"
      ],
      "metadata": {
        "id": "YF1FKhXbVw9k",
        "outputId": "a6f3c191-12b8-473e-adec-23c737e574b1",
        "colab": {
          "base_uri": "https://localhost:8080/"
        }
      },
      "execution_count": 9,
      "outputs": [
        {
          "output_type": "stream",
          "name": "stdout",
          "text": [
            "El diccionario es \n",
            "{'a': 1, 'b': 2, 'c': 3}\n"
          ]
        }
      ]
    },
    {
      "cell_type": "code",
      "source": [
        "type(dc_1)"
      ],
      "metadata": {
        "id": "xXF5KRfVLMlK",
        "outputId": "9ba70eda-b7c1-410c-d01a-7506a929f5d6",
        "colab": {
          "base_uri": "https://localhost:8080/"
        }
      },
      "execution_count": 10,
      "outputs": [
        {
          "output_type": "execute_result",
          "data": {
            "text/plain": [
              "dict"
            ]
          },
          "metadata": {},
          "execution_count": 10
        }
      ]
    },
    {
      "cell_type": "code",
      "source": [
        "# Diccionarios pueden ser heterogéneos\n",
        "# Considerar el concepto => clave:valor\n",
        "# Los valores NO son del mismo tipo (valor1: diccionario, valor2: lista, valor3: tupla)\n",
        "# Las claves son caracteres\n",
        "dc_2 = {\"a\":{\"x\":100},\n",
        "        \"b\":[10,20,30],\n",
        "        \"c\":(1,2,3,4,5)\n",
        "        }\n",
        "print(f\"El diccionario es \\n{dc_2}\")"
      ],
      "metadata": {
        "id": "Ci64T0OkWc2K"
      },
      "execution_count": null,
      "outputs": []
    },
    {
      "cell_type": "code",
      "source": [
        "type(dc_2)"
      ],
      "metadata": {
        "id": "nlWLEL5WL3dl",
        "outputId": "c3c5abd1-05c7-4f96-829d-68795fd27f7b",
        "colab": {
          "base_uri": "https://localhost:8080/",
          "height": 148
        }
      },
      "execution_count": 27,
      "outputs": [
        {
          "output_type": "error",
          "ename": "NameError",
          "evalue": "name 'dc_2' is not defined",
          "traceback": [
            "\u001b[0;31m---------------------------------------------------------------------------\u001b[0m",
            "\u001b[0;31mNameError\u001b[0m                                 Traceback (most recent call last)",
            "\u001b[0;32m<ipython-input-27-9f8791857141>\u001b[0m in \u001b[0;36m<cell line: 0>\u001b[0;34m()\u001b[0m\n\u001b[0;32m----> 1\u001b[0;31m \u001b[0mtype\u001b[0m\u001b[0;34m(\u001b[0m\u001b[0mdc_2\u001b[0m\u001b[0;34m)\u001b[0m\u001b[0;34m\u001b[0m\u001b[0;34m\u001b[0m\u001b[0m\n\u001b[0m",
            "\u001b[0;31mNameError\u001b[0m: name 'dc_2' is not defined"
          ]
        }
      ]
    },
    {
      "cell_type": "code",
      "source": [
        "# Diccionarios con claves repetidas\n",
        "# Las claves de los diccionarios son únicas\n",
        "dc_3 = {\"a\":100,\n",
        "        \"b\":200,\n",
        "        \"a\":300}\n",
        "type(dc_3)"
      ],
      "metadata": {
        "id": "dwzog2qpXCr7"
      },
      "execution_count": null,
      "outputs": []
    },
    {
      "cell_type": "code",
      "source": [
        "print(f\"El diccionario dc_3 es \\n{dc_3}\")"
      ],
      "metadata": {
        "id": "-6VfrikSXcTH"
      },
      "execution_count": null,
      "outputs": []
    },
    {
      "cell_type": "code",
      "source": [
        "# Diccionario: dict_info\n",
        "# Claves: nombre,apellido,edad,profesion\n",
        "# Valores: su información personal\n",
        "# Los valores son distinto tipo (cadenas, int) => diccionario heterogéneo\n",
        "dict_info = {\"nombre\":\"emmanuel\",\n",
        "             \"apellido\":\"alhuay\",\n",
        "             \"edad\":29,\n",
        "             \"profesion\":\"ingeniero\"\n",
        "             }\n",
        "\n",
        "print(f\"El diccionario con mi info personal es \\n{dict_info}\")"
      ],
      "metadata": {
        "id": "8BUx8ML7Xz57",
        "outputId": "5223e65f-ee61-41e7-a31f-bcadbd66be46",
        "colab": {
          "base_uri": "https://localhost:8080/"
        }
      },
      "execution_count": 12,
      "outputs": [
        {
          "output_type": "stream",
          "name": "stdout",
          "text": [
            "El diccionario con mi info personal es \n",
            "{'nombre': 'emmanuel', 'apellido': 'alhuay', 'edad': 29, 'profesion': 'ingeniero'}\n"
          ]
        }
      ]
    },
    {
      "cell_type": "code",
      "source": [
        "# Diccionario con claves numéricas\n",
        "\n",
        "dc_4 = {1:100,\n",
        "        2:200,\n",
        "        3:300\n",
        "        }\n",
        "type(dc_4)"
      ],
      "metadata": {
        "id": "0tDAAoxxZ2T_"
      },
      "execution_count": null,
      "outputs": []
    },
    {
      "cell_type": "code",
      "source": [
        "# Diccionario con claves cadenas y valores numéricos\n",
        "\n",
        "dc_5 = {\"david\":10,\n",
        "        \"enzo\":20,\n",
        "        \"pedro\":30,\n",
        "        \"maria\":40,\n",
        "        \"andrea\":50\n",
        "        }\n",
        "\n",
        "type(dc_5)"
      ],
      "metadata": {
        "id": "aruFcE76aPLl"
      },
      "execution_count": null,
      "outputs": []
    },
    {
      "cell_type": "code",
      "source": [
        "%whos"
      ],
      "metadata": {
        "id": "71iwo2yeamj1"
      },
      "execution_count": null,
      "outputs": []
    },
    {
      "cell_type": "markdown",
      "source": [
        "### Actividad N028"
      ],
      "metadata": {
        "id": "UIO6ejzJ94Ko"
      }
    },
    {
      "cell_type": "markdown",
      "source": [
        "Crear un diccionario con la información de los 5 productos que compra con frecuencia en un supermercado.\n",
        "Considere las siguientes claves: ítem, cantidad, precio\n"
      ],
      "metadata": {
        "id": "Sbij3vTk9_-3"
      }
    },
    {
      "cell_type": "code",
      "source": [
        "compras = {'Aceite':{'Costo':10,'Marca':'Primor'},\n",
        "           'Leche':{'Costo':12,'Marca':'Ideal'},\n",
        "           'Yogurt':{'Costo':20,'Marca':'Nestle'}}\n",
        "\n",
        "print(f\"El diccionario con productos es \\n{compras}\")"
      ],
      "metadata": {
        "id": "SWh2tDbY-Ec_",
        "outputId": "6af11574-3af7-4c47-e5e5-6ea32af5a54d",
        "colab": {
          "base_uri": "https://localhost:8080/"
        }
      },
      "execution_count": 59,
      "outputs": [
        {
          "output_type": "stream",
          "name": "stdout",
          "text": [
            "El diccionario con productos es \n",
            "{'Aceite': {'Costo': 10, 'Marca': 'Primor'}, 'Leche': {'Costo': 12, 'Marca': 'Ideal'}, 'Yogurt': {'Costo': 20, 'Marca': 'Nestle'}}\n"
          ]
        }
      ]
    },
    {
      "cell_type": "code",
      "source": [
        "print(f'El ulitmo valor de compras es {compras[\"Yogurt\"]}')"
      ],
      "metadata": {
        "id": "NKN4KbS3ga4a",
        "outputId": "3c3bef06-741f-4804-cf7c-dc984fb6dc38",
        "colab": {
          "base_uri": "https://localhost:8080/"
        }
      },
      "execution_count": 60,
      "outputs": [
        {
          "output_type": "stream",
          "name": "stdout",
          "text": [
            "El ulitmo valor de compras es {'Costo': 20, 'Marca': 'Nestle'}\n"
          ]
        }
      ]
    },
    {
      "cell_type": "code",
      "source": [
        "dc_2 = {'a':{'x':100},\n",
        "            'b':[1,2,23,12],\n",
        "            'c':(2,35,32)}\n",
        "\n",
        "print(f\"El diccionario es \\n{dic_test}\")"
      ],
      "metadata": {
        "id": "wWuUKatvbsm3",
        "outputId": "9eb4a506-21b6-4178-ecaf-5b97d345e8e0",
        "colab": {
          "base_uri": "https://localhost:8080/"
        }
      },
      "execution_count": 37,
      "outputs": [
        {
          "output_type": "stream",
          "name": "stdout",
          "text": [
            "El diccionario es \n",
            "{'a': {'x': 100}, 'b': [1, 2, 23, 12], 'c': (2, 35, 32)}\n"
          ]
        }
      ]
    },
    {
      "cell_type": "code",
      "source": [
        "dc_2['b'][2]"
      ],
      "metadata": {
        "id": "YDmaSwrqcP9O",
        "outputId": "0c1ceb86-5abf-415d-a8d4-c68771779280",
        "colab": {
          "base_uri": "https://localhost:8080/"
        }
      },
      "execution_count": 38,
      "outputs": [
        {
          "output_type": "execute_result",
          "data": {
            "text/plain": [
              "23"
            ]
          },
          "metadata": {},
          "execution_count": 38
        }
      ]
    },
    {
      "cell_type": "code",
      "source": [
        "dc_2['a']['x']"
      ],
      "metadata": {
        "id": "MCR_d5d9cY-h",
        "outputId": "401d28ed-f54e-48ed-bf26-1ea9f7b03897",
        "colab": {
          "base_uri": "https://localhost:8080/"
        }
      },
      "execution_count": 39,
      "outputs": [
        {
          "output_type": "execute_result",
          "data": {
            "text/plain": [
              "100"
            ]
          },
          "metadata": {},
          "execution_count": 39
        }
      ]
    },
    {
      "cell_type": "markdown",
      "source": [
        "### [2] Acceder a los elementos de un diccionario"
      ],
      "metadata": {
        "id": "6_dWiA99a4oy"
      }
    },
    {
      "cell_type": "code",
      "source": [
        "print(f\"El diccionario con mi info personal es \\n{dict_info}\")"
      ],
      "metadata": {
        "id": "BGZExoDTascp",
        "outputId": "214d9f12-1e42-4521-87f9-1fc5dfce22aa",
        "colab": {
          "base_uri": "https://localhost:8080/"
        }
      },
      "execution_count": 18,
      "outputs": [
        {
          "output_type": "stream",
          "name": "stdout",
          "text": [
            "El diccionario con mi info personal es \n",
            "{'nombre': 'emmanuel', 'apellido': 'alhuay', 'edad': 29, 'profesion': 'ingeniero'}\n"
          ]
        }
      ]
    },
    {
      "cell_type": "code",
      "source": [
        "dict_info[\"edad\"] # A través de la clave accedo al valor (la clave está entre comillas dobles)"
      ],
      "metadata": {
        "id": "bKn82Z59bfdz",
        "outputId": "d91a46bf-8cde-4d20-91c3-df79c7fceae2",
        "colab": {
          "base_uri": "https://localhost:8080/"
        }
      },
      "execution_count": 19,
      "outputs": [
        {
          "output_type": "execute_result",
          "data": {
            "text/plain": [
              "29"
            ]
          },
          "metadata": {},
          "execution_count": 19
        }
      ]
    },
    {
      "cell_type": "code",
      "source": [
        "dict_info['edad'] # A través de la clave accedo al valor (la clave está entre comillas simples)"
      ],
      "metadata": {
        "id": "ArGCSPqsb1En",
        "outputId": "06d9e836-4fe1-4207-e814-5319186a80ed",
        "colab": {
          "base_uri": "https://localhost:8080/"
        }
      },
      "execution_count": 20,
      "outputs": [
        {
          "output_type": "execute_result",
          "data": {
            "text/plain": [
              "29"
            ]
          },
          "metadata": {},
          "execution_count": 20
        }
      ]
    },
    {
      "cell_type": "code",
      "source": [
        "dict_info[0] # Es incorrecto"
      ],
      "metadata": {
        "id": "dJMD5crmPRfm",
        "outputId": "750a43f0-cdeb-4b31-b681-c5c5e0585226",
        "colab": {
          "base_uri": "https://localhost:8080/",
          "height": 148
        }
      },
      "execution_count": 40,
      "outputs": [
        {
          "output_type": "error",
          "ename": "KeyError",
          "evalue": "0",
          "traceback": [
            "\u001b[0;31m---------------------------------------------------------------------------\u001b[0m",
            "\u001b[0;31mKeyError\u001b[0m                                  Traceback (most recent call last)",
            "\u001b[0;32m<ipython-input-40-fd173a0db1b4>\u001b[0m in \u001b[0;36m<cell line: 0>\u001b[0;34m()\u001b[0m\n\u001b[0;32m----> 1\u001b[0;31m \u001b[0mdict_info\u001b[0m\u001b[0;34m[\u001b[0m\u001b[0;36m0\u001b[0m\u001b[0;34m]\u001b[0m \u001b[0;31m# Es incorrecto\u001b[0m\u001b[0;34m\u001b[0m\u001b[0;34m\u001b[0m\u001b[0m\n\u001b[0m",
            "\u001b[0;31mKeyError\u001b[0m: 0"
          ]
        }
      ]
    },
    {
      "cell_type": "code",
      "source": [
        "print(f\"La edad de la persona es {dict_info['edad']} años\")"
      ],
      "metadata": {
        "id": "6CxnpIC9bDW8",
        "outputId": "ad9c4711-d714-4058-a5c8-37e1780c5a18",
        "colab": {
          "base_uri": "https://localhost:8080/"
        }
      },
      "execution_count": 41,
      "outputs": [
        {
          "output_type": "stream",
          "name": "stdout",
          "text": [
            "La edad de la persona es 29 años\n"
          ]
        }
      ]
    },
    {
      "cell_type": "code",
      "source": [
        "print(f\"La profesión de la persona es {dict_info['profesion']}\")"
      ],
      "metadata": {
        "id": "zYVHEpvxbZED",
        "outputId": "d5835ec7-f8eb-4a66-ea90-e29f63cfad96",
        "colab": {
          "base_uri": "https://localhost:8080/"
        }
      },
      "execution_count": 42,
      "outputs": [
        {
          "output_type": "stream",
          "name": "stdout",
          "text": [
            "La profesión de la persona es ingeniero\n"
          ]
        }
      ]
    },
    {
      "cell_type": "code",
      "source": [
        "print(f\"El diccionario es \\n{dc_2}\")"
      ],
      "metadata": {
        "id": "lpprzK1XcPvL",
        "outputId": "d3c785a0-34b3-4aae-f33c-d1a01b241c0c",
        "colab": {
          "base_uri": "https://localhost:8080/"
        }
      },
      "execution_count": 43,
      "outputs": [
        {
          "output_type": "stream",
          "name": "stdout",
          "text": [
            "El diccionario es \n",
            "{'a': {'x': 100}, 'b': [1, 2, 23, 12], 'c': (2, 35, 32)}\n"
          ]
        }
      ]
    },
    {
      "cell_type": "code",
      "source": [
        "print(f\"El primer elemento del diccionario es \\n{dc_2['a']}\")"
      ],
      "metadata": {
        "id": "BucuCWHAcpR6",
        "outputId": "9ff4366e-5913-4ef2-a258-802c1d03f975",
        "colab": {
          "base_uri": "https://localhost:8080/"
        }
      },
      "execution_count": 44,
      "outputs": [
        {
          "output_type": "stream",
          "name": "stdout",
          "text": [
            "El primer elemento del diccionario es \n",
            "{'x': 100}\n"
          ]
        }
      ]
    },
    {
      "cell_type": "code",
      "source": [
        "print(f\"El primer elemento del diccionario es del tipo \\n{type(dc_2['a'])}\")"
      ],
      "metadata": {
        "id": "4hUV-47hc7kE",
        "outputId": "6da4df6e-795c-44a2-a9a5-f441d9743e54",
        "colab": {
          "base_uri": "https://localhost:8080/"
        }
      },
      "execution_count": 45,
      "outputs": [
        {
          "output_type": "stream",
          "name": "stdout",
          "text": [
            "El primer elemento del diccionario es del tipo \n",
            "<class 'dict'>\n"
          ]
        }
      ]
    },
    {
      "cell_type": "code",
      "source": [
        "print(f\"El segundo elemento del diccionario es \\n{dc_2['b']}\")"
      ],
      "metadata": {
        "id": "hJVsSDn1dUVI",
        "outputId": "2d057a51-4ce0-4f85-eea3-ce9af2ac20a3",
        "colab": {
          "base_uri": "https://localhost:8080/"
        }
      },
      "execution_count": 46,
      "outputs": [
        {
          "output_type": "stream",
          "name": "stdout",
          "text": [
            "El segundo elemento del diccionario es \n",
            "[1, 2, 23, 12]\n"
          ]
        }
      ]
    },
    {
      "cell_type": "code",
      "source": [
        "print(f\"El segundo elemento del diccionario es del tipo \\n{type(dc_2['b'])}\")"
      ],
      "metadata": {
        "id": "rvg03ysAcxjW",
        "outputId": "981b6e24-52eb-4baa-9a1f-5bada45a1e69",
        "colab": {
          "base_uri": "https://localhost:8080/"
        }
      },
      "execution_count": 47,
      "outputs": [
        {
          "output_type": "stream",
          "name": "stdout",
          "text": [
            "El segundo elemento del diccionario es del tipo \n",
            "<class 'list'>\n"
          ]
        }
      ]
    },
    {
      "cell_type": "code",
      "source": [
        "print(f\"El tercer elemento del diccionario es \\n{dc_2['c']}\")"
      ],
      "metadata": {
        "id": "rYo67GZsRSuI",
        "outputId": "78c547b5-7860-4528-8aca-dfc6a5a6d724",
        "colab": {
          "base_uri": "https://localhost:8080/"
        }
      },
      "execution_count": 48,
      "outputs": [
        {
          "output_type": "stream",
          "name": "stdout",
          "text": [
            "El tercer elemento del diccionario es \n",
            "(2, 35, 32)\n"
          ]
        }
      ]
    },
    {
      "cell_type": "code",
      "source": [
        "print(f\"El tercer elemento del diccionario es del tipo \\n{type(dc_2['c'])}\")"
      ],
      "metadata": {
        "id": "cnCIrNp-RYj4",
        "outputId": "1b2a2a39-f49b-4c0a-9db9-6b9601f0e15c",
        "colab": {
          "base_uri": "https://localhost:8080/"
        }
      },
      "execution_count": 49,
      "outputs": [
        {
          "output_type": "stream",
          "name": "stdout",
          "text": [
            "El tercer elemento del diccionario es del tipo \n",
            "<class 'tuple'>\n"
          ]
        }
      ]
    },
    {
      "cell_type": "code",
      "source": [
        "# Pasos\n",
        "#########\n",
        "\n",
        "# Paso 1: Accedo al segundo elemento del diccionario y lo almaceno en la variable \"dc_2_ele2\"\n",
        "dc_2_ele2 = dc_2['b']\n",
        "print(f\"El segundo elemento del diccionario es \\n{dc_2_ele2}\")"
      ],
      "metadata": {
        "id": "AHjDdumjc4gw",
        "outputId": "231ee714-d8fa-40bf-d725-db430d6c2cd4",
        "colab": {
          "base_uri": "https://localhost:8080/"
        }
      },
      "execution_count": 50,
      "outputs": [
        {
          "output_type": "stream",
          "name": "stdout",
          "text": [
            "El segundo elemento del diccionario es \n",
            "[1, 2, 23, 12]\n"
          ]
        }
      ]
    },
    {
      "cell_type": "code",
      "source": [
        "# Paso 2: Validamos el tipo de dato (lista)\n",
        "type(dc_2_ele2)"
      ],
      "metadata": {
        "id": "o237nzcLJJiz",
        "outputId": "4672a177-c1f9-4380-91f0-14d5465c4061",
        "colab": {
          "base_uri": "https://localhost:8080/"
        }
      },
      "execution_count": 51,
      "outputs": [
        {
          "output_type": "execute_result",
          "data": {
            "text/plain": [
              "list"
            ]
          },
          "metadata": {},
          "execution_count": 51
        }
      ]
    },
    {
      "cell_type": "code",
      "source": [
        "# Paso 3: Accedemos al último elemento de la lista\n",
        "dc_2_ele2[-1]"
      ],
      "metadata": {
        "id": "sp6qOqxvR7y0",
        "outputId": "8cb5b74c-3149-438f-ea44-dd31d3183c3b",
        "colab": {
          "base_uri": "https://localhost:8080/"
        }
      },
      "execution_count": 52,
      "outputs": [
        {
          "output_type": "execute_result",
          "data": {
            "text/plain": [
              "12"
            ]
          },
          "metadata": {},
          "execution_count": 52
        }
      ]
    },
    {
      "cell_type": "code",
      "source": [
        "## Todo en un solo paso\n",
        "\n",
        "print(f\"El último elemento de la clave b del diccionario es \\n{dc_2['b'][-1]}\")"
      ],
      "metadata": {
        "id": "ZjtmCrqeSCJT",
        "outputId": "2496988b-7c3f-434d-8af6-b1efb2ac5e09",
        "colab": {
          "base_uri": "https://localhost:8080/"
        }
      },
      "execution_count": 53,
      "outputs": [
        {
          "output_type": "stream",
          "name": "stdout",
          "text": [
            "El último elemento de la clave b del diccionario es \n",
            "12\n"
          ]
        }
      ]
    },
    {
      "cell_type": "code",
      "source": [
        "print(f\"El diccionario con claves y valores numéricos: \\n{dc_4}\")"
      ],
      "metadata": {
        "id": "BckLuTKXS0yu",
        "outputId": "701c0f77-11aa-4c62-ba94-7b509ceddebb",
        "colab": {
          "base_uri": "https://localhost:8080/",
          "height": 148
        }
      },
      "execution_count": 55,
      "outputs": [
        {
          "output_type": "error",
          "ename": "NameError",
          "evalue": "name 'dc_4' is not defined",
          "traceback": [
            "\u001b[0;31m---------------------------------------------------------------------------\u001b[0m",
            "\u001b[0;31mNameError\u001b[0m                                 Traceback (most recent call last)",
            "\u001b[0;32m<ipython-input-55-16f07308a0f2>\u001b[0m in \u001b[0;36m<cell line: 0>\u001b[0;34m()\u001b[0m\n\u001b[0;32m----> 1\u001b[0;31m \u001b[0mprint\u001b[0m\u001b[0;34m(\u001b[0m\u001b[0;34mf\"El diccionario con claves y valores numéricos: \\n{dc_4}\"\u001b[0m\u001b[0;34m)\u001b[0m\u001b[0;34m\u001b[0m\u001b[0;34m\u001b[0m\u001b[0m\n\u001b[0m",
            "\u001b[0;31mNameError\u001b[0m: name 'dc_4' is not defined"
          ]
        }
      ]
    },
    {
      "cell_type": "code",
      "source": [
        "print(f\"El primer elemento del diccionario es {dc_4[1]}\")"
      ],
      "metadata": {
        "id": "97XAYVx3TJgI"
      },
      "execution_count": null,
      "outputs": []
    },
    {
      "cell_type": "code",
      "source": [
        "print(f\"El segundo elemento del diccionario es {dc_4[2]}\")"
      ],
      "metadata": {
        "id": "qTq1y0fyT1vX"
      },
      "execution_count": null,
      "outputs": []
    },
    {
      "cell_type": "code",
      "source": [
        "print(f\"El tercer elemento del diccionario es {dc_4[3]}\")"
      ],
      "metadata": {
        "id": "a_iejp25T8xC"
      },
      "execution_count": null,
      "outputs": []
    },
    {
      "cell_type": "code",
      "source": [
        "print(f\"El diccionario con claves que son cadenas y valores numéricos: \\n{dc_5}\")"
      ],
      "metadata": {
        "id": "RZhPHoaZUC_P"
      },
      "execution_count": null,
      "outputs": []
    },
    {
      "cell_type": "code",
      "source": [
        "print(f\"El valor de la clave 'pedro' es {dc_5['pedro']}\")"
      ],
      "metadata": {
        "id": "WCGNeGB4UcGR",
        "outputId": "af40500e-604d-438b-93ac-0705ef146250",
        "colab": {
          "base_uri": "https://localhost:8080/",
          "height": 148
        }
      },
      "execution_count": 69,
      "outputs": [
        {
          "output_type": "error",
          "ename": "NameError",
          "evalue": "name 'dc_5' is not defined",
          "traceback": [
            "\u001b[0;31m---------------------------------------------------------------------------\u001b[0m",
            "\u001b[0;31mNameError\u001b[0m                                 Traceback (most recent call last)",
            "\u001b[0;32m<ipython-input-69-60e19c373dd0>\u001b[0m in \u001b[0;36m<cell line: 0>\u001b[0;34m()\u001b[0m\n\u001b[0;32m----> 1\u001b[0;31m \u001b[0mprint\u001b[0m\u001b[0;34m(\u001b[0m\u001b[0;34mf\"El valor de la clave 'pedro' es {dc_5['pedro']}\"\u001b[0m\u001b[0;34m)\u001b[0m\u001b[0;34m\u001b[0m\u001b[0;34m\u001b[0m\u001b[0m\n\u001b[0m",
            "\u001b[0;31mNameError\u001b[0m: name 'dc_5' is not defined"
          ]
        }
      ]
    },
    {
      "cell_type": "markdown",
      "source": [
        "### Actividad N029"
      ],
      "metadata": {
        "id": "Q5KYOhzZC1gF"
      }
    },
    {
      "cell_type": "markdown",
      "source": [
        "Acceder al último valor del diccionario productos, creado en la actividad #028."
      ],
      "metadata": {
        "id": "MgLXBd87C4iV"
      }
    },
    {
      "cell_type": "code",
      "source": [],
      "metadata": {
        "id": "6frbxgb3C80i"
      },
      "execution_count": null,
      "outputs": []
    },
    {
      "cell_type": "markdown",
      "source": [
        "### [3] Método items()"
      ],
      "metadata": {
        "id": "7vEjjE4OV6kz"
      }
    },
    {
      "cell_type": "code",
      "source": [
        "%whos"
      ],
      "metadata": {
        "id": "QGQOYovTVNTX"
      },
      "execution_count": null,
      "outputs": []
    },
    {
      "cell_type": "code",
      "source": [
        "dc_1 # Diccionario con claves (caracteres): valores (numéricos)"
      ],
      "metadata": {
        "id": "6TiEVLYLWJep",
        "outputId": "a318741b-6feb-4f04-ee66-f59d8aa2847d",
        "colab": {
          "base_uri": "https://localhost:8080/"
        }
      },
      "execution_count": 64,
      "outputs": [
        {
          "output_type": "execute_result",
          "data": {
            "text/plain": [
              "{'a': 1, 'b': 2, 'c': 3}"
            ]
          },
          "metadata": {},
          "execution_count": 64
        }
      ]
    },
    {
      "cell_type": "code",
      "source": [
        "# Almacenar todos los pares clave : valor del diccionario \"dc_1\"\n",
        "items_dc_1 = dc_1.items()"
      ],
      "metadata": {
        "id": "Y16iFKrTWNVL"
      },
      "execution_count": 65,
      "outputs": []
    },
    {
      "cell_type": "code",
      "source": [
        "print(f\"Todos los pares clave:valor del diccionario \\n{items_dc_1}\")"
      ],
      "metadata": {
        "id": "_QCT3CpQW8Va",
        "outputId": "aafe1b2c-45ea-4fd9-aebd-0142c95753c4",
        "colab": {
          "base_uri": "https://localhost:8080/"
        }
      },
      "execution_count": 66,
      "outputs": [
        {
          "output_type": "stream",
          "name": "stdout",
          "text": [
            "Todos los pares clave:valor del diccionario \n",
            "dict_items([('a', 1), ('b', 2), ('c', 3)])\n"
          ]
        }
      ]
    },
    {
      "cell_type": "code",
      "source": [
        "for c,v in dc_1.items():\n",
        "  print(f\"La clave {c}, tiene el valor {v}\")"
      ],
      "metadata": {
        "id": "-QvVyDZ7XEsd",
        "outputId": "2d403c5f-cc31-4148-a39b-50caab1ea236",
        "colab": {
          "base_uri": "https://localhost:8080/"
        }
      },
      "execution_count": 67,
      "outputs": [
        {
          "output_type": "stream",
          "name": "stdout",
          "text": [
            "La clave a, tiene el valor 1\n",
            "La clave b, tiene el valor 2\n",
            "La clave c, tiene el valor 3\n"
          ]
        }
      ]
    },
    {
      "cell_type": "code",
      "source": [
        "dc_5 = {\n",
        "    \"david\":10,\n",
        "    \"enzo\":20,\n",
        "    \"pedro\":30,\n",
        "    \"maria\":40,\n",
        "    \"andrea\":50\n",
        "}"
      ],
      "metadata": {
        "id": "1gN8OlTEj4Pm"
      },
      "execution_count": 73,
      "outputs": []
    },
    {
      "cell_type": "code",
      "source": [
        "for c,v in dc_5.items():\n",
        "  print(f\"La clave {c}, tiene el valor {v}\")"
      ],
      "metadata": {
        "id": "hT5l2cZaYcQc",
        "outputId": "2cb00a18-d4ed-4200-b479-75d9c5f6d26e",
        "colab": {
          "base_uri": "https://localhost:8080/"
        }
      },
      "execution_count": 74,
      "outputs": [
        {
          "output_type": "stream",
          "name": "stdout",
          "text": [
            "La clave david, tiene el valor 10\n",
            "La clave enzo, tiene el valor 20\n",
            "La clave pedro, tiene el valor 30\n",
            "La clave maria, tiene el valor 40\n",
            "La clave andrea, tiene el valor 50\n"
          ]
        }
      ]
    },
    {
      "cell_type": "code",
      "source": [
        "# Crear una lista a partir del método items\n",
        "l_dc_5 = list(dc_5.items())\n",
        "print(f\"La lista creada a partir del método items es \\n{l_dc_5}\")"
      ],
      "metadata": {
        "id": "B1Zw-xrFYoyy",
        "outputId": "46bdc1ba-a7d0-4eb3-fc94-95f9fc9e40c5",
        "colab": {
          "base_uri": "https://localhost:8080/"
        }
      },
      "execution_count": 75,
      "outputs": [
        {
          "output_type": "stream",
          "name": "stdout",
          "text": [
            "La lista creada a partir del método items es \n",
            "[('david', 10), ('enzo', 20), ('pedro', 30), ('maria', 40), ('andrea', 50)]\n"
          ]
        }
      ]
    },
    {
      "cell_type": "code",
      "source": [
        "# Acceder al último elemento de la lista y mostrar el tipo de dato resultante\n",
        "print(f\"El último elemeno de la lista es {l_dc_5[4]}\")\n",
        "print(f\"El tipo de dato del último elemeno de la lista es {type(l_dc_5[4])}\")\n"
      ],
      "metadata": {
        "id": "gqH7e4-4ZkTs",
        "outputId": "1a38b3cc-3211-4e48-9629-a1f2aa4422be",
        "colab": {
          "base_uri": "https://localhost:8080/"
        }
      },
      "execution_count": 76,
      "outputs": [
        {
          "output_type": "stream",
          "name": "stdout",
          "text": [
            "El último elemeno de la lista es ('andrea', 50)\n",
            "El tipo de dato del último elemeno de la lista es <class 'tuple'>\n"
          ]
        }
      ]
    },
    {
      "cell_type": "code",
      "source": [
        "print(f\"El diccionario con valores de distinto tipo \\n{dc_2}\")"
      ],
      "metadata": {
        "id": "_JoLHUT-aG1C",
        "outputId": "0df03e88-e4a9-41a3-ea35-71bced22ea7d",
        "colab": {
          "base_uri": "https://localhost:8080/"
        }
      },
      "execution_count": 77,
      "outputs": [
        {
          "output_type": "stream",
          "name": "stdout",
          "text": [
            "El diccionario con valores de distinto tipo \n",
            "{'a': {'x': 100}, 'b': [1, 2, 23, 12], 'c': (2, 35, 32)}\n"
          ]
        }
      ]
    },
    {
      "cell_type": "code",
      "source": [
        "#acceder al ultimo valor del diccionario la tupla c\n",
        "dc_2[\"c\"][-1]"
      ],
      "metadata": {
        "id": "j1-Fn8m3lero",
        "outputId": "396fd56d-57d6-45f2-fcaf-e0721a9f316f",
        "colab": {
          "base_uri": "https://localhost:8080/"
        }
      },
      "execution_count": 80,
      "outputs": [
        {
          "output_type": "execute_result",
          "data": {
            "text/plain": [
              "32"
            ]
          },
          "metadata": {},
          "execution_count": 80
        }
      ]
    },
    {
      "cell_type": "code",
      "source": [
        "dc_2['b'][-1] = 300"
      ],
      "metadata": {
        "id": "e2BkS0DTgDFC"
      },
      "execution_count": 78,
      "outputs": []
    },
    {
      "cell_type": "code",
      "source": [
        "print(f\"El diccionario actualizado con valores de distinto tipo \\n{dc_2}\")"
      ],
      "metadata": {
        "id": "ZU23MGB4gUhg",
        "outputId": "ec0d98a5-0b74-4f93-c206-0c6f6b2226a9",
        "colab": {
          "base_uri": "https://localhost:8080/"
        }
      },
      "execution_count": 81,
      "outputs": [
        {
          "output_type": "stream",
          "name": "stdout",
          "text": [
            "El diccionario actualizado con valores de distinto tipo \n",
            "{'a': {'x': 100}, 'b': [1, 2, 23, 300], 'c': (2, 35, 32)}\n"
          ]
        }
      ]
    },
    {
      "cell_type": "code",
      "source": [
        "type(dc_2)"
      ],
      "metadata": {
        "id": "CrRzUZ7rmKkM",
        "outputId": "e6e7148d-65e8-4b7b-eea6-8442df2860c9",
        "colab": {
          "base_uri": "https://localhost:8080/"
        }
      },
      "execution_count": 83,
      "outputs": [
        {
          "output_type": "execute_result",
          "data": {
            "text/plain": [
              "dict"
            ]
          },
          "metadata": {},
          "execution_count": 83
        }
      ]
    },
    {
      "cell_type": "code",
      "source": [
        "# Actividad\n",
        "\n",
        "# El diccionario dc_2 lo vamos a convertir a una lista con elementos que tendrán\n",
        "# pares a nivel de tuplas que contengan la clave y valor del diccionario\n",
        "\n",
        "l_dc_2 = list(dc_2.items())\n",
        "print(f\"La lista creada es \\n{l_dc_2}\")\n",
        "\n",
        "# Acceder a la primera tupla y la vamos a convertir en una lista\n",
        "\n",
        "print(f\"\\nEl primer elemento de la nueva lista es {l_dc_2[0]}\")\n",
        "print(f\"El tipo de dato del primer elemento de la nueva lista es {type(l_dc_2[0])}\")\n",
        "\n",
        "\n"
      ],
      "metadata": {
        "id": "J_Y34P-Ngdpe",
        "outputId": "f528c625-286a-4023-9276-22ef482e30df",
        "colab": {
          "base_uri": "https://localhost:8080/"
        }
      },
      "execution_count": 84,
      "outputs": [
        {
          "output_type": "stream",
          "name": "stdout",
          "text": [
            "La lista creada es \n",
            "[('a', {'x': 100}), ('b', [1, 2, 23, 300]), ('c', (2, 35, 32))]\n",
            "\n",
            "El primer elemento de la nueva lista es ('a', {'x': 100})\n",
            "El tipo de dato del primer elemento de la nueva lista es <class 'tuple'>\n"
          ]
        }
      ]
    },
    {
      "cell_type": "code",
      "source": [
        "l_dc_2_0 = list(l_dc_2[0])\n",
        "print(f\"\\nLa nueva lista creada es {l_dc_2_0}\")\n",
        "print(f\"La nueva lista creada es del tipo {type(l_dc_2_0)}\")\n",
        "\n",
        "# Y vamos a renombrar al primer elemento de nueva lista en \"xx\" en vez de \"a\"\n",
        "l_dc_2_0[0] = \"xx\"\n",
        "print(f\"\\nLa nueva lista actualizada es {l_dc_2_0}\")"
      ],
      "metadata": {
        "id": "TUHwGlgymYJt",
        "outputId": "d7bb6bca-57dc-49ef-f425-15c0891eb3c9",
        "colab": {
          "base_uri": "https://localhost:8080/"
        }
      },
      "execution_count": 85,
      "outputs": [
        {
          "output_type": "stream",
          "name": "stdout",
          "text": [
            "\n",
            "La nueva lista creada es ['a', {'x': 100}]\n",
            "La nueva lista creada es del tipo <class 'list'>\n",
            "\n",
            "La nueva lista actualizada es ['xx', {'x': 100}]\n"
          ]
        }
      ]
    },
    {
      "cell_type": "markdown",
      "source": [
        "### Actividad N030"
      ],
      "metadata": {
        "id": "hw4bGsmFDAa1"
      }
    },
    {
      "cell_type": "markdown",
      "source": [
        "Acceder a todos los pares clave valor del diccionario creado en la actividad #28"
      ],
      "metadata": {
        "id": "cX2sP-n3DDU7"
      }
    },
    {
      "cell_type": "code",
      "source": [
        "for c,v in compras.items():\n",
        "  print(f\"La clave {c}, tiene el valor {v}\")"
      ],
      "metadata": {
        "id": "UX7WdSO6DJo0",
        "outputId": "cc452197-e402-418d-ad64-cedd0cd62a11",
        "colab": {
          "base_uri": "https://localhost:8080/"
        }
      },
      "execution_count": 86,
      "outputs": [
        {
          "output_type": "stream",
          "name": "stdout",
          "text": [
            "La clave Aceite, tiene el valor {'Costo': 10, 'Marca': 'Primor'}\n",
            "La clave Leche, tiene el valor {'Costo': 12, 'Marca': 'Ideal'}\n",
            "La clave Yogurt, tiene el valor {'Costo': 20, 'Marca': 'Nestle'}\n"
          ]
        }
      ]
    },
    {
      "cell_type": "markdown",
      "source": [
        "### [4] Método clear()"
      ],
      "metadata": {
        "id": "ogSMt8cllaY9"
      }
    },
    {
      "cell_type": "code",
      "source": [
        "%whos"
      ],
      "metadata": {
        "id": "pYRX2vjijN_Y",
        "outputId": "bcf6e45d-886f-418c-9697-275200537ab9",
        "colab": {
          "base_uri": "https://localhost:8080/"
        }
      },
      "execution_count": 87,
      "outputs": [
        {
          "output_type": "stream",
          "name": "stdout",
          "text": [
            "Variable     Type          Data/Info\n",
            "------------------------------------\n",
            "c            str           Yogurt\n",
            "compras      dict          n=3\n",
            "dc_0         dict          n=0\n",
            "dc_1         dict          n=3\n",
            "dc_2         dict          n=3\n",
            "dc_2_ele2    list          n=4\n",
            "dc_5         dict          n=5\n",
            "df           DataFrame         ID  EDAD  INGRESOS RI<...>    6245      E      8798\n",
            "dic_2        dict          n=3\n",
            "dic_test     dict          n=3\n",
            "dict_info    dict          n=4\n",
            "items_dc_1   dict_items    dict_items([('a', 1), ('b', 2), ('c', 3)])\n",
            "l_0          list          n=0\n",
            "l_dc_2       list          n=3\n",
            "l_dc_2_0     list          n=2\n",
            "l_dc_5       list          n=5\n",
            "pd           module        <module 'pandas' from '/u<...>ages/pandas/__init__.py'>\n",
            "t_0          tuple         n=0\n",
            "v            dict          n=2\n"
          ]
        }
      ]
    },
    {
      "cell_type": "code",
      "source": [
        "print(f\"El diccionario con información personal es \\n{dict_info}\")"
      ],
      "metadata": {
        "id": "Ntvm665TlkwO",
        "outputId": "d9f35407-d6ab-495e-de62-0ef76bce8577",
        "colab": {
          "base_uri": "https://localhost:8080/"
        }
      },
      "execution_count": 88,
      "outputs": [
        {
          "output_type": "stream",
          "name": "stdout",
          "text": [
            "El diccionario con información personal es \n",
            "{'nombre': 'emmanuel', 'apellido': 'alhuay', 'edad': 29, 'profesion': 'ingeniero'}\n"
          ]
        }
      ]
    },
    {
      "cell_type": "code",
      "source": [
        "dict_info.clear()\n",
        "print(f\"El diccionario con información personal es \\n{dict_info}\")"
      ],
      "metadata": {
        "id": "JK2sPbCCltSw",
        "outputId": "8ef8ec23-8cbd-43b9-fa6e-cdf61a28b5c3",
        "colab": {
          "base_uri": "https://localhost:8080/"
        }
      },
      "execution_count": 89,
      "outputs": [
        {
          "output_type": "stream",
          "name": "stdout",
          "text": [
            "El diccionario con información personal es \n",
            "{}\n"
          ]
        }
      ]
    },
    {
      "cell_type": "code",
      "source": [
        "dc_3 = {\n",
        "    \"a\":100,\n",
        "    \"b\":200,\n",
        "    \"a\":300\n",
        "}"
      ],
      "metadata": {
        "id": "Zbw6dA91oWfE"
      },
      "execution_count": 91,
      "outputs": []
    },
    {
      "cell_type": "code",
      "source": [
        "print(f\"El diccionario 'dc_3' es \\n{dc_3}\")"
      ],
      "metadata": {
        "id": "Qmwdb8Orl14-",
        "outputId": "c4d1aa36-295a-434b-ab2e-a7de531071e1",
        "colab": {
          "base_uri": "https://localhost:8080/"
        }
      },
      "execution_count": 92,
      "outputs": [
        {
          "output_type": "stream",
          "name": "stdout",
          "text": [
            "El diccionario 'dc_3' es \n",
            "{'a': 300, 'b': 200}\n"
          ]
        }
      ]
    },
    {
      "cell_type": "code",
      "source": [
        "# Crear al diccionario 'referencia'\n",
        "referencia = dc_3\n",
        "print(f\"El diccionario referencia es \\n{referencia}\")"
      ],
      "metadata": {
        "id": "Su_iug2GmOgY",
        "outputId": "62b51808-1e97-4698-83bf-632fa1d7cadd",
        "colab": {
          "base_uri": "https://localhost:8080/"
        }
      },
      "execution_count": 93,
      "outputs": [
        {
          "output_type": "stream",
          "name": "stdout",
          "text": [
            "El diccionario referencia es \n",
            "{'a': 300, 'b': 200}\n"
          ]
        }
      ]
    },
    {
      "cell_type": "code",
      "source": [
        "dc_3.clear()"
      ],
      "metadata": {
        "id": "HQtqCLB-mcli"
      },
      "execution_count": 94,
      "outputs": []
    },
    {
      "cell_type": "code",
      "source": [
        "print(f\"El diccionario 'dc_3' es \\n{dc_3}\")"
      ],
      "metadata": {
        "id": "PmtmpEikmyyL",
        "outputId": "4995f0dc-e79b-484c-bb63-ca4ac2595dd6",
        "colab": {
          "base_uri": "https://localhost:8080/"
        }
      },
      "execution_count": 95,
      "outputs": [
        {
          "output_type": "stream",
          "name": "stdout",
          "text": [
            "El diccionario 'dc_3' es \n",
            "{}\n"
          ]
        }
      ]
    },
    {
      "cell_type": "code",
      "source": [
        "print(f\"El diccionario referencia es \\n{referencia}\")"
      ],
      "metadata": {
        "id": "YbuGzlcbm1Et",
        "outputId": "482e9e3d-1369-4dee-a7e1-6d349656b311",
        "colab": {
          "base_uri": "https://localhost:8080/"
        }
      },
      "execution_count": 96,
      "outputs": [
        {
          "output_type": "stream",
          "name": "stdout",
          "text": [
            "El diccionario referencia es \n",
            "{}\n"
          ]
        }
      ]
    },
    {
      "cell_type": "code",
      "source": [
        "original = {\n",
        "    \"nombre\": \"Emmanuel\",\n",
        "    \"hobbies\": [\"artes marciales\",\"música\",\"lectura\"]\n",
        "}\n",
        "\n",
        "print(f\"El diccionario original es \\n{original}\")"
      ],
      "metadata": {
        "id": "EYuZ1EcXFx8B",
        "outputId": "265fe3e1-2d92-4453-c4f4-1907418e6b01",
        "colab": {
          "base_uri": "https://localhost:8080/"
        }
      },
      "execution_count": 97,
      "outputs": [
        {
          "output_type": "stream",
          "name": "stdout",
          "text": [
            "El diccionario original es \n",
            "{'nombre': 'Emmanuel', 'hobbies': ['artes marciales', 'música', 'lectura']}\n"
          ]
        }
      ]
    },
    {
      "cell_type": "code",
      "source": [
        "# Copia Simple\n",
        "shallow_copy = original.copy()"
      ],
      "metadata": {
        "id": "GZJk_fTbGRWv"
      },
      "execution_count": 98,
      "outputs": []
    },
    {
      "cell_type": "code",
      "source": [
        "print(f\"El diccionario copiado es \\n{shallow_copy}\")"
      ],
      "metadata": {
        "id": "a8R1Cqq4Gd1o",
        "outputId": "c9622c8f-81c8-4595-8ed0-cebb22109cbd",
        "colab": {
          "base_uri": "https://localhost:8080/"
        }
      },
      "execution_count": 99,
      "outputs": [
        {
          "output_type": "stream",
          "name": "stdout",
          "text": [
            "El diccionario copiado es \n",
            "{'nombre': 'Emmanuel', 'hobbies': ['artes marciales', 'música', 'lectura']}\n"
          ]
        }
      ]
    },
    {
      "cell_type": "code",
      "source": [
        "# Copia Profunda\n",
        "import copy\n",
        "\n",
        "deep_copy = copy.deepcopy(original)"
      ],
      "metadata": {
        "id": "2B4cHCLkGjMA"
      },
      "execution_count": 100,
      "outputs": []
    },
    {
      "cell_type": "code",
      "source": [
        "print(f\"El diccionario copiado es \\n{deep_copy}\")"
      ],
      "metadata": {
        "id": "yYpeh92vG5sd",
        "outputId": "104c28d3-8926-4e34-f849-e46f3b58cd1e",
        "colab": {
          "base_uri": "https://localhost:8080/"
        }
      },
      "execution_count": 101,
      "outputs": [
        {
          "output_type": "stream",
          "name": "stdout",
          "text": [
            "El diccionario copiado es \n",
            "{'nombre': 'Emmanuel', 'hobbies': ['artes marciales', 'música', 'lectura']}\n"
          ]
        }
      ]
    },
    {
      "cell_type": "code",
      "source": [
        "# Modificamos los diccionarios\n",
        "\n",
        "type(shallow_copy[\"hobbies\"])"
      ],
      "metadata": {
        "id": "vv7DD8h2HKp-",
        "outputId": "950ddb65-cd80-403c-88b1-049dd605e38e",
        "colab": {
          "base_uri": "https://localhost:8080/"
        }
      },
      "execution_count": 102,
      "outputs": [
        {
          "output_type": "execute_result",
          "data": {
            "text/plain": [
              "list"
            ]
          },
          "metadata": {},
          "execution_count": 102
        }
      ]
    },
    {
      "cell_type": "code",
      "source": [
        "shallow_copy[\"hobbies\"]"
      ],
      "metadata": {
        "id": "AqvXoaeDHfhK",
        "outputId": "ca2240ad-8547-4a87-8668-e1ecafe6833e",
        "colab": {
          "base_uri": "https://localhost:8080/"
        }
      },
      "execution_count": 103,
      "outputs": [
        {
          "output_type": "execute_result",
          "data": {
            "text/plain": [
              "['artes marciales', 'música', 'lectura']"
            ]
          },
          "metadata": {},
          "execution_count": 103
        }
      ]
    },
    {
      "cell_type": "code",
      "source": [
        "shallow_copy[\"hobbies\"].append(\"caminata\")\n",
        "print(f\"El diccionario copiado es \\n{shallow_copy}\")"
      ],
      "metadata": {
        "id": "fujWFfAeHjIC",
        "outputId": "3f08a086-8717-4471-a1f3-a1883a3bffbe",
        "colab": {
          "base_uri": "https://localhost:8080/"
        }
      },
      "execution_count": 104,
      "outputs": [
        {
          "output_type": "stream",
          "name": "stdout",
          "text": [
            "El diccionario copiado es \n",
            "{'nombre': 'Emmanuel', 'hobbies': ['artes marciales', 'música', 'lectura', 'caminata']}\n"
          ]
        }
      ]
    },
    {
      "cell_type": "code",
      "source": [
        "deep_copy[\"hobbies\"].append(\"natación\")\n",
        "print(f\"El diccionario copiado es \\n{deep_copy}\")"
      ],
      "metadata": {
        "id": "kERLWgUhHyul",
        "outputId": "7c29a621-3e70-4d08-925b-719572a4f355",
        "colab": {
          "base_uri": "https://localhost:8080/"
        }
      },
      "execution_count": 105,
      "outputs": [
        {
          "output_type": "stream",
          "name": "stdout",
          "text": [
            "El diccionario copiado es \n",
            "{'nombre': 'Emmanuel', 'hobbies': ['artes marciales', 'música', 'lectura', 'natación']}\n"
          ]
        }
      ]
    },
    {
      "cell_type": "code",
      "source": [
        "print(f\"El diccionario original es \\n{original}\")\n",
        "print(f\"\\nEl diccionario copiado con el método copy es \\n{shallow_copy}\")\n",
        "print(f\"\\nEl diccionario copiado con el método deepcopy es \\n{deep_copy}\")"
      ],
      "metadata": {
        "id": "aZOSA0d5IKFq",
        "outputId": "8b8c11c2-9832-489b-b4da-e3effb840822",
        "colab": {
          "base_uri": "https://localhost:8080/"
        }
      },
      "execution_count": 106,
      "outputs": [
        {
          "output_type": "stream",
          "name": "stdout",
          "text": [
            "El diccionario original es \n",
            "{'nombre': 'Emmanuel', 'hobbies': ['artes marciales', 'música', 'lectura', 'caminata']}\n",
            "\n",
            "El diccionario copiado con el método copy es \n",
            "{'nombre': 'Emmanuel', 'hobbies': ['artes marciales', 'música', 'lectura', 'caminata']}\n",
            "\n",
            "El diccionario copiado con el método deepcopy es \n",
            "{'nombre': 'Emmanuel', 'hobbies': ['artes marciales', 'música', 'lectura', 'natación']}\n"
          ]
        }
      ]
    },
    {
      "cell_type": "markdown",
      "source": [
        "### Actividad N031"
      ],
      "metadata": {
        "id": "5jCOQ32-KQfO"
      }
    },
    {
      "cell_type": "markdown",
      "source": [
        "Crear una copia del diccionario dict_info y renombrarlo como dict_info_copy, en el diccionario dict_info_copy cambiar el valor de la profesion por otra."
      ],
      "metadata": {
        "id": "eTpaqiH3KTrT"
      }
    },
    {
      "cell_type": "code",
      "source": [
        "# Diccionario: dict_info\n",
        "# Claves: nombre,apellido,edad,profesion\n",
        "# Valores: su información personal\n",
        "# Los valores son distinto tipo (cadenas, int) => diccionario heterogéneo\n",
        "dict_info = {\"nombre\":\"emmanuel\",\n",
        "             \"apellido\":\"alhuay\",\n",
        "             \"edad\":29,\n",
        "             \"profesion\":\"ingeniero\"\n",
        "             }\n",
        "\n",
        "print(f\"El diccionario con mi info personal es \\n{dict_info}\")\n",
        "\n",
        "import copy\n",
        "\n",
        "dict_info_copy = copy.deepcopy(dict_info)\n",
        "print(f'el diccionario copiado es {dict_info_copy}')\n",
        "\n",
        "dict_info_copy['profesion'] = 'arquitecto'\n",
        "print(f'la copia midificada es {dict_info_copy}')"
      ],
      "metadata": {
        "id": "jki_nKQuKUAt",
        "outputId": "673c3bf5-34ff-4796-e88e-1faf0d135486",
        "colab": {
          "base_uri": "https://localhost:8080/"
        }
      },
      "execution_count": 112,
      "outputs": [
        {
          "output_type": "stream",
          "name": "stdout",
          "text": [
            "El diccionario con mi info personal es \n",
            "{'nombre': 'emmanuel', 'apellido': 'alhuay', 'edad': 29, 'profesion': 'ingeniero'}\n",
            "el diccionario copiado es {'nombre': 'emmanuel', 'apellido': 'alhuay', 'edad': 29, 'profesion': 'ingeniero'}\n",
            "la copia midificada es {'nombre': 'emmanuel', 'apellido': 'alhuay', 'edad': 29, 'profesion': 'arquitecto'}\n"
          ]
        }
      ]
    },
    {
      "cell_type": "markdown",
      "source": [
        "### [6] Método keys()"
      ],
      "metadata": {
        "id": "03iRQ6gWnHYs"
      }
    },
    {
      "cell_type": "code",
      "source": [
        "# Crear un diccionario\n",
        "\n",
        "dic_prod = {\n",
        "    \"detergente\":70,\n",
        "    \"arroz\": 20,\n",
        "    \"aceite\":10\n",
        "}\n",
        "\n",
        "print(f\"El diccionario de productos es \\n{dic_prod}\")"
      ],
      "metadata": {
        "id": "6sVAJQlem7Je",
        "outputId": "e8dabd8f-4626-487d-a72e-662e892e004a",
        "colab": {
          "base_uri": "https://localhost:8080/"
        }
      },
      "execution_count": 108,
      "outputs": [
        {
          "output_type": "stream",
          "name": "stdout",
          "text": [
            "El diccionario de productos es \n",
            "{'detergente': 70, 'arroz': 20, 'aceite': 10}\n"
          ]
        }
      ]
    },
    {
      "cell_type": "code",
      "source": [
        "dic_prod.keys()"
      ],
      "metadata": {
        "id": "7-jVJjtGnica",
        "outputId": "d61026ef-e403-4d67-883e-7f016ff64db6",
        "colab": {
          "base_uri": "https://localhost:8080/"
        }
      },
      "execution_count": 109,
      "outputs": [
        {
          "output_type": "execute_result",
          "data": {
            "text/plain": [
              "dict_keys(['detergente', 'arroz', 'aceite'])"
            ]
          },
          "metadata": {},
          "execution_count": 109
        }
      ]
    },
    {
      "cell_type": "code",
      "source": [
        "l_dic_prod_keys = list(dic_prod.keys())\n",
        "print(f\"La lista de claves del diccionario productos \\n{l_dic_prod_keys}\")"
      ],
      "metadata": {
        "id": "AdzjPzBmnutF",
        "outputId": "38bc7c14-d2da-4296-f044-04c39954057d",
        "colab": {
          "base_uri": "https://localhost:8080/"
        }
      },
      "execution_count": 110,
      "outputs": [
        {
          "output_type": "stream",
          "name": "stdout",
          "text": [
            "La lista de claves del diccionario productos \n",
            "['detergente', 'arroz', 'aceite']\n"
          ]
        }
      ]
    },
    {
      "cell_type": "code",
      "source": [
        "for c in dic_prod.keys():\n",
        "  print(f\"La clave es {c}\")"
      ],
      "metadata": {
        "id": "zKOJBoC0oKyG"
      },
      "execution_count": null,
      "outputs": []
    },
    {
      "cell_type": "code",
      "source": [
        "for c in l_dic_prod_keys:\n",
        "  print(f\"La clave es {c}\")"
      ],
      "metadata": {
        "id": "qKL_0Vz8oZjP"
      },
      "execution_count": null,
      "outputs": []
    },
    {
      "cell_type": "code",
      "source": [
        "prod = 'aceite'\n",
        "\n",
        "if prod in dic_prod.keys():\n",
        "  print(f\"El producto {prod} existe en el diccionario.\")\n",
        "else:\n",
        "  print(f\"El producto {prod} no existe en el diccionario\")"
      ],
      "metadata": {
        "id": "Uz6OZXc2olN1"
      },
      "execution_count": null,
      "outputs": []
    },
    {
      "cell_type": "code",
      "source": [
        "prod = 'gaseosa'\n",
        "\n",
        "if prod in dic_prod.keys():\n",
        "  print(f\"El producto {prod} existe en el diccionario.\")\n",
        "else:\n",
        "  print(f\"El producto {prod} no existe en el diccionario\")"
      ],
      "metadata": {
        "id": "5XjOYcN1pN7c"
      },
      "execution_count": null,
      "outputs": []
    },
    {
      "cell_type": "code",
      "source": [
        "claves_dic_prod = dic_prod.keys()\n",
        "print(f\"Las claves del diccionario productos son \\n{claves_dic_prod}\")"
      ],
      "metadata": {
        "id": "tOAPc-J_pUaW"
      },
      "execution_count": null,
      "outputs": []
    },
    {
      "cell_type": "code",
      "source": [
        "type(claves_dic_prod)"
      ],
      "metadata": {
        "id": "Xy1PcwIEU0Eh"
      },
      "execution_count": null,
      "outputs": []
    },
    {
      "cell_type": "code",
      "source": [
        "dic_prod[\"cereal\"] = 15 # actualizo el diccionario\n",
        "for c in dic_prod.keys():\n",
        "  print(f\"La clave es {c}\")"
      ],
      "metadata": {
        "id": "S_v8uj7Wpynm"
      },
      "execution_count": null,
      "outputs": []
    },
    {
      "cell_type": "code",
      "source": [
        "print(f\"Las claves del diccionario productos son \\n{claves_dic_prod}\")"
      ],
      "metadata": {
        "id": "LWU5qonhqNr4"
      },
      "execution_count": null,
      "outputs": []
    },
    {
      "cell_type": "code",
      "source": [
        "print(f\"El diccionario actualizado es \\n{dic_prod}\")"
      ],
      "metadata": {
        "id": "ZXtoMKRqPa_S"
      },
      "execution_count": null,
      "outputs": []
    },
    {
      "cell_type": "markdown",
      "source": [
        "### [7] Método values()"
      ],
      "metadata": {
        "id": "XPFlZbPCWe0C"
      }
    },
    {
      "cell_type": "code",
      "source": [
        "print(f\"El diccionario de productos es \\n{dic_prod}\")"
      ],
      "metadata": {
        "id": "T9euCP3oqZi4"
      },
      "execution_count": null,
      "outputs": []
    },
    {
      "cell_type": "code",
      "source": [
        "valores_dic_prod = dic_prod.values() # objeto dict_values\n",
        "print(f\"Los valores del diccionario productos son \\n{valores_dic_prod}\")\n",
        "print(f\"\\nEl tipo de dato del objeto creado es {type(valores_dic_prod)}\")"
      ],
      "metadata": {
        "id": "F4SdWubuW5Lt"
      },
      "execution_count": null,
      "outputs": []
    },
    {
      "cell_type": "code",
      "source": [
        "l_valores_dic_prod = list(dic_prod.values()) # objeto lista\n",
        "print(f\"La lista de valores del diccionario productos son \\n{l_valores_dic_prod}\")\n",
        "print(f\"\\nEl tipo de dato del objeto creado es {type(l_valores_dic_prod)}\")"
      ],
      "metadata": {
        "id": "9gUC_Du-Xea9"
      },
      "execution_count": null,
      "outputs": []
    },
    {
      "cell_type": "code",
      "source": [
        "print(f\"El diccionario productos inicial es \\n{dic_prod}\")\n",
        "dic_prod[\"cafe\"] = 45 # Actualizar el diccionario\n",
        "print(f\"\\nEl diccionario productos actualizado es \\n{dic_prod}\")\n",
        "print(f\"\\nEl dict values es \\n{valores_dic_prod}\")\n",
        "print(f\"\\nLa lista es \\n{l_valores_dic_prod}\")"
      ],
      "metadata": {
        "id": "EVp51x7VYIsX"
      },
      "execution_count": null,
      "outputs": []
    },
    {
      "cell_type": "code",
      "source": [
        "from google.colab import files\n",
        "\n",
        "# Subir archivo desde tu máquina local\n",
        "uploaded = files.upload()"
      ],
      "metadata": {
        "id": "VRHlnu5oZBY2"
      },
      "execution_count": null,
      "outputs": []
    },
    {
      "cell_type": "code",
      "source": [
        "from IPython.display import Image, display\n",
        "\n",
        "# Mostrar la imagen en Colab\n",
        "display(Image(filename='ej001_cl111224.png'))"
      ],
      "metadata": {
        "id": "XReexOVKc7Gm"
      },
      "execution_count": null,
      "outputs": []
    },
    {
      "cell_type": "code",
      "source": [
        "  dic_jugadores = {\n",
        "      \"messi\":10,\n",
        "      \"cafu\":2,\n",
        "      \"zidane\":5,\n",
        "      \"ronaldo\":7,\n",
        "      \"iniesta\":8\n",
        "  }\n",
        "\n",
        "  print(f\"El diccionario de jugadores es \\n{dic_jugadores}\")"
      ],
      "metadata": {
        "id": "utwi3PrSdcA9"
      },
      "execution_count": null,
      "outputs": []
    },
    {
      "cell_type": "code",
      "source": [
        "print(f\"Los pares clave:valor del diccionario son \\n{dic_jugadores.items()}\")\n",
        "print(f\"\\nLas claves del diccionario son \\n{dic_jugadores.keys()}\")\n",
        "print(f\"\\nLos valores del diccionario son \\n{dic_jugadores.values()}\")"
      ],
      "metadata": {
        "id": "i5KyZWTrd3OG"
      },
      "execution_count": null,
      "outputs": []
    },
    {
      "cell_type": "code",
      "source": [
        "items_dic_jugadores = dic_jugadores.items() # Pares clave:valor\n",
        "keys_dic_jugadores = dic_jugadores.keys() # Claves\n",
        "values_dic_jugadores = dic_jugadores.values() # Valores"
      ],
      "metadata": {
        "id": "fEJQNHvmedj1"
      },
      "execution_count": null,
      "outputs": []
    },
    {
      "cell_type": "code",
      "source": [
        "print(f\"El diccionario inicial de jugadores es \\n{dic_jugadores}\")\n",
        "dic_jugadores[\"pele\"] = 10 # Actualizamos el diccionario\n",
        "print(f\"\\nEl diccionario actualizado de jugadores es \\n{dic_jugadores}\")"
      ],
      "metadata": {
        "id": "veln0ThOfETX"
      },
      "execution_count": null,
      "outputs": []
    },
    {
      "cell_type": "code",
      "source": [
        "print(f\"Los pares clave: valor del diccionario son \\n{items_dic_jugadores}\")\n",
        "print(f\"\\nLas claves del diccionario son \\n{keys_dic_jugadores}\")\n",
        "print(f\"\\nLos valores del diccionario son \\n{values_dic_jugadores}\")"
      ],
      "metadata": {
        "id": "R2ew5h_IfXoM"
      },
      "execution_count": null,
      "outputs": []
    },
    {
      "cell_type": "markdown",
      "source": [
        "### Actividad N032"
      ],
      "metadata": {
        "id": "fqwEapnRVlTR"
      }
    },
    {
      "cell_type": "markdown",
      "source": [
        "Crear un diccionario que tenga como claves : mina, país y producción.\n",
        "Ingrese los valores de la clave mina en una lista, los valores de la claves país y producción en tuplas.\n"
      ],
      "metadata": {
        "id": "glGaS1mSb5TT"
      }
    },
    {
      "cell_type": "code",
      "source": [
        "from google.colab import files\n",
        "\n",
        "# Subir archivo desde tu máquina local\n",
        "uploaded = files.upload()"
      ],
      "metadata": {
        "id": "hNO6Grrqb7en"
      },
      "execution_count": null,
      "outputs": []
    },
    {
      "cell_type": "code",
      "source": [
        "from IPython.display import Image, display\n",
        "\n",
        "# Mostrar la imagen en Colab\n",
        "display(Image(filename='minas.png'))"
      ],
      "metadata": {
        "id": "jNbv5GBVcJX4"
      },
      "execution_count": null,
      "outputs": []
    },
    {
      "cell_type": "code",
      "source": [],
      "metadata": {
        "id": "6fF0DwNVcNEm"
      },
      "execution_count": null,
      "outputs": []
    },
    {
      "cell_type": "markdown",
      "source": [
        "### [8] Agregar/Modificar un valor dentro de un diccionario"
      ],
      "metadata": {
        "id": "zsy4BVE7g6Nk"
      }
    },
    {
      "cell_type": "code",
      "source": [
        "print(f\"El diccionario inicial es \\n{dic_jugadores}\")\n",
        "dic_jugadores[\"kaka\"] = 10 # Agregando (actualizando) diccionario\n",
        "print(f\"\\nEl diccionario actualizado es \\n{dic_jugadores}\")"
      ],
      "metadata": {
        "id": "ob-REuIvf_tn"
      },
      "execution_count": null,
      "outputs": []
    },
    {
      "cell_type": "code",
      "source": [
        "dic_jugadores[\"cafu\"] = 100\n",
        "print(f\"\\nEl diccionario actualizado es \\n{dic_jugadores}\")"
      ],
      "metadata": {
        "id": "LJg003GlhgQo"
      },
      "execution_count": null,
      "outputs": []
    },
    {
      "cell_type": "code",
      "source": [
        "dic_jugadores[\"messi\"] = 1000\n",
        "print(f\"\\nEl diccionario actualizado es \\n{dic_jugadores}\")\n"
      ],
      "metadata": {
        "id": "DDeldrM_hvRu"
      },
      "execution_count": null,
      "outputs": []
    },
    {
      "cell_type": "markdown",
      "source": [
        "### [9] Crear un diccionario a partir de una lista"
      ],
      "metadata": {
        "id": "y0_nZit8iRzP"
      }
    },
    {
      "cell_type": "code",
      "source": [
        "lista_universidades = [\"UTEC\",\"UNI\",\"UPC\",\"UNMSM\",\"UNALM\"]\n",
        "print(f\"La lista de universidades es \\n{lista_universidades}\")"
      ],
      "metadata": {
        "id": "Fx_BkfaZiEp9"
      },
      "execution_count": null,
      "outputs": []
    },
    {
      "cell_type": "code",
      "source": [
        "print(f\"El tipo de dato de la lista creada es \\n{type(lista_universidades)}\")"
      ],
      "metadata": {
        "id": "f2s0V8mDi2Vz"
      },
      "execution_count": null,
      "outputs": []
    },
    {
      "cell_type": "code",
      "source": [
        "dic_universidades = dict.fromkeys(lista_universidades)\n",
        "print(f\"El diccionario de universidades es \\n{dic_universidades}\")\n",
        "print(f\"\\nEl tipo de dato del diccionario es \\n{type(dic_universidades)}\")"
      ],
      "metadata": {
        "id": "-j1sHwONioiH"
      },
      "execution_count": null,
      "outputs": []
    },
    {
      "cell_type": "code",
      "source": [
        "dic_universidades_ = dict.fromkeys(lista_universidades,1)\n",
        "print(f\"El diccionario de universidades es \\n{dic_universidades_}\")\n",
        "print(f\"\\nEl tipo de dato del diccionario es \\n{type(dic_universidades_)}\")"
      ],
      "metadata": {
        "id": "wVMGMomqjPYT"
      },
      "execution_count": null,
      "outputs": []
    },
    {
      "cell_type": "code",
      "source": [
        "for c,v in dic_universidades.items():\n",
        "  print(f\"La clave es {c} y el valor es {v}\")"
      ],
      "metadata": {
        "id": "NvhwQllmjQAt"
      },
      "execution_count": null,
      "outputs": []
    },
    {
      "cell_type": "code",
      "source": [
        "dic_universidades[\"UTEC\"] = 1000"
      ],
      "metadata": {
        "id": "XUCmq7rLk7DR"
      },
      "execution_count": null,
      "outputs": []
    },
    {
      "cell_type": "code",
      "source": [
        "for c,v in dic_universidades.items():\n",
        "  print(f\"La clave es {c} y el valor es {v}\")"
      ],
      "metadata": {
        "id": "frjQjUs4k-Je"
      },
      "execution_count": null,
      "outputs": []
    },
    {
      "cell_type": "code",
      "source": [
        "for c,v in dic_universidades_.items():\n",
        "  print(f\"La clave es {c} y el valor es {v}\")"
      ],
      "metadata": {
        "id": "kibJLH0SjQbk"
      },
      "execution_count": null,
      "outputs": []
    },
    {
      "cell_type": "markdown",
      "source": [
        "### [10] Método popitem()"
      ],
      "metadata": {
        "id": "IcbayUzDpkrs"
      }
    },
    {
      "cell_type": "code",
      "source": [
        "print(f\"El diccionario de jugadores es \\n{dic_jugadores}\")"
      ],
      "metadata": {
        "id": "MmWkFZnFk3ON"
      },
      "execution_count": null,
      "outputs": []
    },
    {
      "cell_type": "code",
      "source": [
        "par_1 = dic_jugadores.popitem()\n",
        "print(f\"El diccionario actualizado de jugadores es \\n{dic_jugadores}\")\n",
        "print(f\"\\nEl par clave:valor eliminado es {par_1}\")"
      ],
      "metadata": {
        "id": "WIndvOc0pyji"
      },
      "execution_count": null,
      "outputs": []
    },
    {
      "cell_type": "code",
      "source": [
        "print(f\"El tipo de dato del par clave:valor eliminado es {type(par_1)}\")"
      ],
      "metadata": {
        "id": "O-9kF0GIqzeQ"
      },
      "execution_count": null,
      "outputs": []
    },
    {
      "cell_type": "markdown",
      "source": [
        "### [11] El Método pop()"
      ],
      "metadata": {
        "id": "k5PJwXtYrZDd"
      }
    },
    {
      "cell_type": "code",
      "source": [
        "print(f\"El diccionario de universidades es \\n{dic_universidades_}\")"
      ],
      "metadata": {
        "id": "zasy68w1rFk0"
      },
      "execution_count": null,
      "outputs": []
    },
    {
      "cell_type": "code",
      "source": [
        "dic_universidades_.pop(\"UTEC\") # Elimino el par clave: valor a partir de una clave específica, retorna el valor correspondiente a la clave"
      ],
      "metadata": {
        "id": "2pfC9ti7rnSw"
      },
      "execution_count": null,
      "outputs": []
    },
    {
      "cell_type": "code",
      "source": [
        "print(f\"El diccionario actualizado de universidades es \\n{dic_universidades_}\")"
      ],
      "metadata": {
        "id": "g8AKi3JTsQmY"
      },
      "execution_count": null,
      "outputs": []
    },
    {
      "cell_type": "code",
      "source": [
        "dic_universidades_.pop(\"ULIMA\") # Elimino el par clave: valor a partir de una clave no existente"
      ],
      "metadata": {
        "id": "YC63zUblsYxO"
      },
      "execution_count": null,
      "outputs": []
    },
    {
      "cell_type": "code",
      "source": [
        "dic_universidades_.pop(\"ULIMA\",999) # Elimino el par clave: valor a partir de una clave no existente"
      ],
      "metadata": {
        "id": "hw2aXY6mtB_A"
      },
      "execution_count": null,
      "outputs": []
    },
    {
      "cell_type": "code",
      "source": [
        "dic_universidades_.pop(\"ULIMA\",\"Clave no existente\") # Elimino el par clave: valor a partir de una clave no existente"
      ],
      "metadata": {
        "id": "vn8MNRawtV5k"
      },
      "execution_count": null,
      "outputs": []
    },
    {
      "cell_type": "code",
      "source": [
        "print(f\"El diccionario actualizado de universidades es \\n{dic_universidades_}\")"
      ],
      "metadata": {
        "id": "oCH3tcTgyEMG"
      },
      "execution_count": null,
      "outputs": []
    },
    {
      "cell_type": "markdown",
      "source": [
        "### [12] Método setdefault()"
      ],
      "metadata": {
        "id": "JPv7ncp7uDQC"
      }
    },
    {
      "cell_type": "code",
      "source": [
        "%whos"
      ],
      "metadata": {
        "id": "s7OBybx7thZI"
      },
      "execution_count": null,
      "outputs": []
    },
    {
      "cell_type": "code",
      "source": [
        "print(f\"El diccionario es {dc_1}\")"
      ],
      "metadata": {
        "id": "tFLtEBdZuQhn"
      },
      "execution_count": null,
      "outputs": []
    },
    {
      "cell_type": "code",
      "source": [
        "dc_1.setdefault(\"a\") # Va a buscar la clave \"a\" en el diccionario y me entrega el valor"
      ],
      "metadata": {
        "id": "j4BnuM-Pubfm"
      },
      "execution_count": null,
      "outputs": []
    },
    {
      "cell_type": "code",
      "source": [
        "print(f\"El diccionario de jugadores es \\n{dic_jugadores}\")"
      ],
      "metadata": {
        "id": "Ic0CPUuEur15"
      },
      "execution_count": null,
      "outputs": []
    },
    {
      "cell_type": "code",
      "source": [
        "dic_jugadores.setdefault(\"messi\")"
      ],
      "metadata": {
        "id": "A3gV5D_AvATb"
      },
      "execution_count": null,
      "outputs": []
    },
    {
      "cell_type": "code",
      "source": [
        "dic_jugadores.setdefault(\"Maradona\") # Buscar la clave \"Maradona\" en el diccionario dic_jugadores"
      ],
      "metadata": {
        "id": "IP2CwIPzvH-H"
      },
      "execution_count": null,
      "outputs": []
    },
    {
      "cell_type": "code",
      "source": [
        "print(f\"El diccionario de jugadores es \\n{dic_jugadores}\")"
      ],
      "metadata": {
        "id": "pIbBp48Avhtk"
      },
      "execution_count": null,
      "outputs": []
    },
    {
      "cell_type": "code",
      "source": [
        "par_2 = dic_jugadores.popitem()\n",
        "print(f\"El diccionario de jugadores es \\n{dic_jugadores}\")\n",
        "print(f\"El par clave:valor eliminado es {par_2}\")"
      ],
      "metadata": {
        "id": "EqdEQIcSvsH_"
      },
      "execution_count": null,
      "outputs": []
    },
    {
      "cell_type": "code",
      "source": [
        "dic_jugadores.setdefault(\"Maradona\",111) # Buscar la clave \"Maradona\" en el diccionario dic_jugadores"
      ],
      "metadata": {
        "id": "K3_cXEoFwKfD"
      },
      "execution_count": null,
      "outputs": []
    },
    {
      "cell_type": "code",
      "source": [
        "print(f\"El diccionario de jugadores es \\n{dic_jugadores}\")"
      ],
      "metadata": {
        "id": "uh3LS5G7wdjy"
      },
      "execution_count": null,
      "outputs": []
    },
    {
      "cell_type": "code",
      "source": [
        "dic_jugadores.setdefault(\"Maradona\",999)"
      ],
      "metadata": {
        "id": "eXfi-cpHxCf2"
      },
      "execution_count": null,
      "outputs": []
    },
    {
      "cell_type": "code",
      "source": [
        "print(f\"El diccionario de jugadores es \\n{dic_jugadores}\")"
      ],
      "metadata": {
        "id": "hFv09IOYxLST"
      },
      "execution_count": null,
      "outputs": []
    },
    {
      "cell_type": "code",
      "source": [
        "# Crear un diccionario\n",
        "\n",
        "mi_diccionario = {} # Diccinario vacío\n",
        "\n",
        "mi_diccionario.setdefault(\"frutas\",[]).append(\"manzana\")\n",
        "\n",
        "print(f\"El diccionario actualizado es {mi_diccionario}\")"
      ],
      "metadata": {
        "id": "vn-sKgHiwgk4"
      },
      "execution_count": null,
      "outputs": []
    },
    {
      "cell_type": "code",
      "source": [
        "mi_diccionario.setdefault(\"frutas\",[]).append(\"pera\")\n",
        "\n",
        "print(f\"El diccionario actualizado es {mi_diccionario}\")"
      ],
      "metadata": {
        "id": "9fSqogfAyhSc"
      },
      "execution_count": null,
      "outputs": []
    },
    {
      "cell_type": "markdown",
      "source": [
        "### [13] Método update()"
      ],
      "metadata": {
        "id": "kfiXm5vZFwb_"
      }
    },
    {
      "cell_type": "code",
      "source": [
        "dc_16 = {\"a\":10,\n",
        "         \"b\":15,\n",
        "         \"c\":20\n",
        "         }\n",
        "\n",
        "print(f\"El diccionario dc_16 es \\n{dc_16}\")"
      ],
      "metadata": {
        "id": "lVOsa9o-zZ_s"
      },
      "execution_count": null,
      "outputs": []
    },
    {
      "cell_type": "code",
      "source": [
        "dc_16.update({\"d\":100}) # actualizar el diccionario, ingresando 1 par clave:valor\n",
        "print(f\"El diccionario dc_16 es \\n{dc_16}\")"
      ],
      "metadata": {
        "id": "QNi8TTvwGaxJ"
      },
      "execution_count": null,
      "outputs": []
    },
    {
      "cell_type": "code",
      "source": [
        "dc_16.update({\"e\":100,\"f\":1000}) # actualizar el diccionario\n",
        "# ingresar +1 par a nivel de clave:valor\n",
        "print(f\"El diccionario dc_16 es \\n{dc_16}\")"
      ],
      "metadata": {
        "id": "xKak-meaG8ud"
      },
      "execution_count": null,
      "outputs": []
    },
    {
      "cell_type": "code",
      "source": [
        "# Diccionario inicial\n",
        "mi_diccionario = {\"a\":1,\n",
        "                  \"b\":2\n",
        "                  }\n",
        "# Diccionario para actualizar\n",
        "diccionario_u = {\"c\":3,\n",
        "                 \"d\":4\n",
        "                 }\n",
        "# Mostrar los diccionarios creados\n",
        "print(f\"El diccionario inicial es \\n{mi_diccionario}\")\n",
        "print(f\"El diccionario para actualizar es \\n{diccionario_u}\")"
      ],
      "metadata": {
        "id": "A_faxuHxHZf5"
      },
      "execution_count": null,
      "outputs": []
    },
    {
      "cell_type": "code",
      "source": [
        "mi_diccionario.update(diccionario_u)\n",
        "print(f\"El diccionario actualizado es \\n{mi_diccionario}\")"
      ],
      "metadata": {
        "id": "dQshIo99IdzD"
      },
      "execution_count": null,
      "outputs": []
    },
    {
      "cell_type": "code",
      "source": [
        "# Diccionario inicial\n",
        "mi_diccionario = {\"a\":1,\n",
        "                  \"b\":2\n",
        "                  }\n",
        "# Diccionario para actualizar\n",
        "diccionario_u = {\"b\":3,\n",
        "                 \"c\":4\n",
        "                 }\n",
        "# Mostrar los diccionarios creados\n",
        "print(f\"El diccionario inicial es \\n{mi_diccionario}\")\n",
        "print(f\"El diccionario para actualizar es \\n{diccionario_u}\")"
      ],
      "metadata": {
        "id": "nLW_Ee1TI0Ka"
      },
      "execution_count": null,
      "outputs": []
    },
    {
      "cell_type": "code",
      "source": [
        "mi_diccionario.update(diccionario_u)\n",
        "print(f\"El diccionario actualizado es \\n{mi_diccionario}\")"
      ],
      "metadata": {
        "id": "AIue9Pp0J6Ry"
      },
      "execution_count": null,
      "outputs": []
    },
    {
      "cell_type": "code",
      "source": [
        "# Actualización del diccionario a través de argumentos nombrados\n",
        "mi_diccionario.update(z=30,x=15)\n",
        "print(f\"El diccionario actualizado es \\n{mi_diccionario}\")"
      ],
      "metadata": {
        "id": "zTqiMP2KKKaq"
      },
      "execution_count": null,
      "outputs": []
    },
    {
      "cell_type": "code",
      "source": [
        "# Actualización de un diccionario usando una lista de tuplas\n",
        "mi_diccionario.update([(\"a\",10),(\"w\",20)])\n",
        "print(f\"El diccionario actualizado es \\n{mi_diccionario}\")"
      ],
      "metadata": {
        "id": "LmoZEpugK-Sw"
      },
      "execution_count": null,
      "outputs": []
    },
    {
      "cell_type": "markdown",
      "source": [
        "### [14] Método get()"
      ],
      "metadata": {
        "id": "L027FZ7IM8PR"
      }
    },
    {
      "cell_type": "code",
      "source": [
        "mi_diccionario.get(\"b\")"
      ],
      "metadata": {
        "id": "iCAyuNUAMliX"
      },
      "execution_count": null,
      "outputs": []
    },
    {
      "cell_type": "code",
      "source": [
        "mi_diccionario.get(\"m\")"
      ],
      "metadata": {
        "id": "VZkYUV75NMBq"
      },
      "execution_count": null,
      "outputs": []
    },
    {
      "cell_type": "code",
      "source": [
        "print(f\"El diccionario actualizado es \\n{mi_diccionario}\")"
      ],
      "metadata": {
        "id": "S2jJ5j3sNWX1"
      },
      "execution_count": null,
      "outputs": []
    },
    {
      "cell_type": "code",
      "source": [
        "mi_diccionario.get(\"m\",\"Clave no existente\")"
      ],
      "metadata": {
        "id": "WEgBwoijNh5o"
      },
      "execution_count": null,
      "outputs": []
    },
    {
      "cell_type": "markdown",
      "source": [
        "### Actividad N033"
      ],
      "metadata": {
        "id": "3UYj8Qs42li8"
      }
    },
    {
      "cell_type": "markdown",
      "source": [
        "Crea el diccionario notas_estudiantes, calcula el promedio de cada estudiante e imprime el resultado del promedio de notas de cada estudiante por pantalla"
      ],
      "metadata": {
        "id": "e8mYSNaY3Av7"
      }
    },
    {
      "cell_type": "code",
      "source": [
        "from google.colab import files\n",
        "\n",
        "# Subir archivo desde tu máquina local\n",
        "uploaded = files.upload()"
      ],
      "metadata": {
        "id": "2wU6bCEyN2lh"
      },
      "execution_count": null,
      "outputs": []
    },
    {
      "cell_type": "code",
      "source": [
        "from IPython.display import Image, display\n",
        "\n",
        "# Mostrar la imagen en Colab\n",
        "display(Image(filename='notas.png'))"
      ],
      "metadata": {
        "id": "DQqpPXhd3hgm"
      },
      "execution_count": null,
      "outputs": []
    },
    {
      "cell_type": "code",
      "source": [],
      "metadata": {
        "id": "x9az_3oi4ad7"
      },
      "execution_count": null,
      "outputs": []
    }
  ]
}