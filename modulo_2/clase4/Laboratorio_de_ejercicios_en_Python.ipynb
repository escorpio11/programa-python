{
  "nbformat": 4,
  "nbformat_minor": 0,
  "metadata": {
    "colab": {
      "provenance": [],
      "include_colab_link": true
    },
    "kernelspec": {
      "name": "python3",
      "display_name": "Python 3"
    },
    "language_info": {
      "name": "python"
    }
  },
  "cells": [
    {
      "cell_type": "markdown",
      "metadata": {
        "id": "view-in-github",
        "colab_type": "text"
      },
      "source": [
        "<a href=\"https://colab.research.google.com/github/escorpio11/programa-python/blob/main/modulo_2/clase4/Laboratorio_de_ejercicios_en_Python.ipynb\" target=\"_parent\"><img src=\"https://colab.research.google.com/assets/colab-badge.svg\" alt=\"Open In Colab\"/></a>"
      ]
    },
    {
      "cell_type": "markdown",
      "source": [
        "# Listas"
      ],
      "metadata": {
        "id": "NC_iRWcEhNSv"
      }
    },
    {
      "cell_type": "markdown",
      "source": [
        "Ejercicio 1\n",
        "\n",
        "Crear una lista con los nombres de 5 bancos."
      ],
      "metadata": {
        "id": "IxkzijV9gnqx"
      }
    },
    {
      "cell_type": "code",
      "source": [
        "bancos = ['BVA','CONTINENTAl','BCP','BANCO DE LA NACION','SANTANDER']\n",
        "bancos"
      ],
      "metadata": {
        "id": "F0EDVBnvlwgp",
        "outputId": "6e66f569-64cd-455b-e01c-4a33accbeeaf",
        "colab": {
          "base_uri": "https://localhost:8080/"
        }
      },
      "execution_count": 3,
      "outputs": [
        {
          "output_type": "execute_result",
          "data": {
            "text/plain": [
              "['BVA', 'CONTINENTAl', 'BCP', 'BANCO DE LA NACION', 'SANTANDER']"
            ]
          },
          "metadata": {},
          "execution_count": 3
        }
      ]
    },
    {
      "cell_type": "markdown",
      "source": [
        "Ejercicio 2\n",
        "\n",
        "Acceder al tercer banco de la lista."
      ],
      "metadata": {
        "id": "2d57HxBKgtdO"
      }
    },
    {
      "cell_type": "code",
      "source": [
        "banco_i = bancos[2]\n",
        "banco_i"
      ],
      "metadata": {
        "id": "BbmykhKZmFUA",
        "outputId": "ed1bac35-a9d1-4f74-db72-fcc0d72518d3",
        "colab": {
          "base_uri": "https://localhost:8080/",
          "height": 35
        }
      },
      "execution_count": 6,
      "outputs": [
        {
          "output_type": "execute_result",
          "data": {
            "text/plain": [
              "'BCP'"
            ],
            "application/vnd.google.colaboratory.intrinsic+json": {
              "type": "string"
            }
          },
          "metadata": {},
          "execution_count": 6
        }
      ]
    },
    {
      "cell_type": "markdown",
      "source": [
        "Ejercicio 3\n",
        "\n",
        "Agregar un nuevo banco a la lista."
      ],
      "metadata": {
        "id": "r3av9R2Ygv2T"
      }
    },
    {
      "cell_type": "code",
      "source": [
        "bancos.append('MI BANCO')\n",
        "bancos"
      ],
      "metadata": {
        "id": "2tdJu3EimW47",
        "outputId": "6cfa27b7-10c0-456a-a238-cf1a0deed082",
        "colab": {
          "base_uri": "https://localhost:8080/"
        }
      },
      "execution_count": 7,
      "outputs": [
        {
          "output_type": "execute_result",
          "data": {
            "text/plain": [
              "['BVA', 'CONTINENTAl', 'BCP', 'BANCO DE LA NACION', 'SANTANDER', 'MI BANCO']"
            ]
          },
          "metadata": {},
          "execution_count": 7
        }
      ]
    },
    {
      "cell_type": "markdown",
      "source": [
        "Ejercicio 4\n",
        "\n",
        "Eliminar el segundo banco."
      ],
      "metadata": {
        "id": "mCi9Qu0lhA7E"
      }
    },
    {
      "cell_type": "code",
      "source": [
        "bancos.remove(bancos[1])\n",
        "bancos"
      ],
      "metadata": {
        "id": "q_2IiCWFmhhA",
        "outputId": "0cbb8619-9299-45db-f15d-cff054cdc1d9",
        "colab": {
          "base_uri": "https://localhost:8080/"
        }
      },
      "execution_count": 9,
      "outputs": [
        {
          "output_type": "execute_result",
          "data": {
            "text/plain": [
              "['BVA', 'BANCO DE LA NACION', 'SANTANDER', 'MI BANCO']"
            ]
          },
          "metadata": {},
          "execution_count": 9
        }
      ]
    },
    {
      "cell_type": "markdown",
      "source": [
        "Ejercicio 5\n",
        "\n",
        "Ordenar alfabéticamente los bancos."
      ],
      "metadata": {
        "id": "he1Ai2YahGpE"
      }
    },
    {
      "cell_type": "code",
      "source": [
        "bancos.sort()\n",
        "bancos"
      ],
      "metadata": {
        "id": "7YV-pnGVm1qN",
        "outputId": "23afdc0a-a5a4-4c86-ca31-f6877267a422",
        "colab": {
          "base_uri": "https://localhost:8080/"
        }
      },
      "execution_count": 10,
      "outputs": [
        {
          "output_type": "execute_result",
          "data": {
            "text/plain": [
              "['BANCO DE LA NACION', 'BVA', 'MI BANCO', 'SANTANDER']"
            ]
          },
          "metadata": {},
          "execution_count": 10
        }
      ]
    },
    {
      "cell_type": "markdown",
      "source": [
        "# Condicionales IF, ELIF, ELSE"
      ],
      "metadata": {
        "id": "VpT6gNZ2hj1O"
      }
    },
    {
      "cell_type": "markdown",
      "source": [
        "Ejercicio 1\n",
        "\n",
        "Verificar si un cliente tiene ingreso > 3000."
      ],
      "metadata": {
        "id": "kv91XOyphovd"
      }
    },
    {
      "cell_type": "code",
      "source": [
        "ingreso = float(input('Ingrese su ingreso: '))\n",
        "\n",
        "if ingreso > 3000:\n",
        "  print('Tiene ingreso mayor a 3000 soles')"
      ],
      "metadata": {
        "id": "t0q5ztTPm9if",
        "outputId": "dcaebdb6-d9ba-499b-ccd3-0141157067b2",
        "colab": {
          "base_uri": "https://localhost:8080/"
        }
      },
      "execution_count": 11,
      "outputs": [
        {
          "output_type": "stream",
          "name": "stdout",
          "text": [
            "Ingrese su ingreso: 4000\n",
            "Tiene ingreso mayor a 3000 soles\n"
          ]
        }
      ]
    },
    {
      "cell_type": "markdown",
      "source": [
        "Ejercicio 2\n",
        "\n",
        "Evaluar edad para otorgar tarjeta de crédito."
      ],
      "metadata": {
        "id": "n1X-A7oNhr4z"
      }
    },
    {
      "cell_type": "code",
      "source": [
        "edad = int(input('Ingrese su edad: '))\n",
        "\n",
        "if edad >= 18:\n",
        "  print('Puede otorgar tarjeta de crédito')\n",
        "else:\n",
        "  print('No puede otorgar tarjeta de crédito')"
      ],
      "metadata": {
        "id": "-74_8Go3nKY0",
        "outputId": "c31602a3-d65e-4ebb-976f-b42458bc482f",
        "colab": {
          "base_uri": "https://localhost:8080/"
        }
      },
      "execution_count": 12,
      "outputs": [
        {
          "output_type": "stream",
          "name": "stdout",
          "text": [
            "Ingrese su edad: 29\n",
            "Puede otorgar tarjeta de crédito\n"
          ]
        }
      ]
    },
    {
      "cell_type": "markdown",
      "source": [
        "Ejercicio 3\n",
        "\n",
        "Evaluar un score de crédito."
      ],
      "metadata": {
        "id": "PiDQUQ05htq2"
      }
    },
    {
      "cell_type": "code",
      "source": [
        "edad = int(input('Ingrese su edad:'))\n",
        "ingreso = float(input('Ingrese su ingreso:'))\n",
        "\n",
        "if edad >= 18 and ingreso > 3000:\n",
        "  print('Puede otorgar tarjeta de crédito')\n",
        "else:\n",
        "  print('No puede otorgar tarjeta de crédito')"
      ],
      "metadata": {
        "id": "--is63fZnPuI",
        "outputId": "97275be1-0d45-4c6d-fc2a-aee9e735d671",
        "colab": {
          "base_uri": "https://localhost:8080/"
        }
      },
      "execution_count": 14,
      "outputs": [
        {
          "output_type": "stream",
          "name": "stdout",
          "text": [
            "Ingrese su edad:19\n",
            "Ingrese su ingreso:4000\n",
            "Puede otorgar tarjeta de crédito\n"
          ]
        }
      ]
    },
    {
      "cell_type": "markdown",
      "source": [
        "Ejercicio 4\n",
        "\n",
        "Verificar si una cuenta tiene saldo negativo."
      ],
      "metadata": {
        "id": "xoT9xGBph1M_"
      }
    },
    {
      "cell_type": "code",
      "source": [
        "ingreso = float(input('Ingrese su ingreso:'))\n",
        "egresos = float(input('Ingrese sus egresos:'))\n",
        "\n",
        "if ingreso > egresos:\n",
        "  print('Tiene saldo positivo')\n",
        "  saldo = ingreso - egresos\n",
        "  print(f'Su saldo es: {saldo}')\n",
        "else:\n",
        "  print('Tiene saldo negativo')\n",
        "  saldo = egresos - ingreso\n",
        "  print(f'Su saldo es: -2{saldo}')"
      ],
      "metadata": {
        "id": "I4ivpPLTnl2g",
        "outputId": "769f2a37-23fa-40c7-e785-3360c4c63e10",
        "colab": {
          "base_uri": "https://localhost:8080/"
        }
      },
      "execution_count": 17,
      "outputs": [
        {
          "output_type": "stream",
          "name": "stdout",
          "text": [
            "Ingrese su ingreso:2000\n",
            "Ingrese sus egresos:999\n",
            "Tiene saldo positivo\n",
            "Su saldo es: 1001.0\n"
          ]
        }
      ]
    },
    {
      "cell_type": "markdown",
      "source": [
        "Ejercicio 5\n",
        "\n",
        "Comparar dos tasas de interés."
      ],
      "metadata": {
        "id": "hLB_ZRjth5cJ"
      }
    },
    {
      "cell_type": "code",
      "source": [
        "tase_1 = float(input('Ingrese la tasa 1:'))\n",
        "tase_2 = float(input('Ingrese la tasa 2:'))\n",
        "\n",
        "if tase_1 > tase_2:\n",
        "  print('La tasa 1 es mayor')\n",
        "  diferencia = tase_1 - tase_2\n",
        "  print(f'La diferencia es: {diferencia}')\n",
        "else:\n",
        "  print('La tasa 2 es mayor')"
      ],
      "metadata": {
        "id": "nL1bpf1dn1df",
        "outputId": "39c22994-7b24-4eac-a923-1b6311e92db7",
        "colab": {
          "base_uri": "https://localhost:8080/"
        }
      },
      "execution_count": 18,
      "outputs": [
        {
          "output_type": "stream",
          "name": "stdout",
          "text": [
            "Ingrese la tasa 1:2\n",
            "Ingrese la tasa 2:3\n",
            "La tasa 2 es mayor\n"
          ]
        }
      ]
    },
    {
      "cell_type": "markdown",
      "source": [
        "Ejercicio 6\n",
        "\n",
        "Evaluar si un cliente tiene más de 3 productos financieros."
      ],
      "metadata": {
        "id": "ORVVt26mh8dt"
      }
    },
    {
      "cell_type": "code",
      "source": [
        "tarjeta = str(input('Cuenta con tarjeta de credito ?: (y/n)')).lower()\n",
        "ahorros = str(input('Cuenta con ahorros ?: (y/n)')).lower()\n",
        "seguro = str(input('Cuenta con seguro de vida ?: (y/n)')).lower()\n",
        "acciones = str(input('Cuenta con acciones ?: (y/n)')).lower()\n",
        "\n",
        "if tarjeta == 'y' and ahorros == 'y' and seguro == 'y' and acciones == 'y':\n",
        "  print('Tiene más de 3 productos financieros')\n",
        "  print('Felicidades')\n",
        "else:\n",
        "  print('No tiene más de 3 productos financieros')\n",
        "  print('Lo sentimos')"
      ],
      "metadata": {
        "id": "dSo6lE5NoADP",
        "outputId": "95e90a1d-bb31-4174-daf1-07cdce2ff2d4",
        "colab": {
          "base_uri": "https://localhost:8080/"
        }
      },
      "execution_count": 21,
      "outputs": [
        {
          "output_type": "stream",
          "name": "stdout",
          "text": [
            "Cuenta con tarjeta de credito ?: (y/n)y\n",
            "Cuenta con ahorros ?: (y/n)Y\n",
            "Cuenta con seguro de vida ?: (y/n)Y\n",
            "Cuenta con acciones ?: (y/n)Y\n",
            "Tiene más de 3 productos financieros\n",
            "Felicidades\n"
          ]
        }
      ]
    },
    {
      "cell_type": "markdown",
      "source": [
        "Ejercicio 7\n",
        "\n",
        "Determinar si un monto depositado supera los 10,000."
      ],
      "metadata": {
        "id": "naW4x0QLh_SV"
      }
    },
    {
      "cell_type": "code",
      "source": [
        "deposito = float(input('Ingrese el monto depositado:'))\n",
        "\n",
        "if deposito > 10000:\n",
        "  print('El monto depositado supera los 10,000 soles')\n",
        "  print(f'El monto depositado es: {deposito}')\n",
        "else:\n",
        "  print('El monto depositado no supera los 10,000 soles')\n",
        "  print(f'El monto depositado es: {deposito}')"
      ],
      "metadata": {
        "id": "1fmkeR6epIPs",
        "outputId": "94f94295-edc8-498d-81d5-6ebd61095470",
        "colab": {
          "base_uri": "https://localhost:8080/"
        }
      },
      "execution_count": 22,
      "outputs": [
        {
          "output_type": "stream",
          "name": "stdout",
          "text": [
            "Ingrese el monto depositado:7000\n",
            "El monto depositado no supera los 10,000 soles\n",
            "El monto depositado es: 7000.0\n"
          ]
        }
      ]
    },
    {
      "cell_type": "markdown",
      "source": [
        "# **Diccionarios**"
      ],
      "metadata": {
        "id": "V7WW7fIGioVg"
      }
    },
    {
      "cell_type": "markdown",
      "source": [
        "Ejercicio 1\n",
        "\n",
        "Crear un diccionario con datos de un cliente."
      ],
      "metadata": {
        "id": "CHwNqNtNisgi"
      }
    },
    {
      "cell_type": "code",
      "source": [
        "datos_cliente = {\n",
        "    'Nombre':'Juan',\n",
        "    'Edad':'29',\n",
        "    'Ingresos':'2400',\n",
        "    'Egresos':'1500',\n",
        "    'Saldo':'800'\n",
        "}\n",
        "datos_cliente\n"
      ],
      "metadata": {
        "id": "ivUNB9vXpSRK",
        "outputId": "f72e4f82-f8ab-43b8-adee-50414bc9d42b",
        "colab": {
          "base_uri": "https://localhost:8080/"
        }
      },
      "execution_count": 24,
      "outputs": [
        {
          "output_type": "execute_result",
          "data": {
            "text/plain": [
              "{'Nombre': 'Juan',\n",
              " 'Edad': '29',\n",
              " 'Ingresos': '2400',\n",
              " 'Egresos': '1500',\n",
              " 'Saldo': '800'}"
            ]
          },
          "metadata": {},
          "execution_count": 24
        }
      ]
    },
    {
      "cell_type": "markdown",
      "source": [
        "Ejercicio 2\n",
        "\n",
        "Acceder al saldo del cliente."
      ],
      "metadata": {
        "id": "y79prRhxivr3"
      }
    },
    {
      "cell_type": "code",
      "source": [
        "datos_cliente['Saldo']"
      ],
      "metadata": {
        "id": "LU3tNlfLqHWR",
        "outputId": "ec86e722-cee7-4151-ca3f-b9450d93ebe5",
        "colab": {
          "base_uri": "https://localhost:8080/"
        }
      },
      "execution_count": 31,
      "outputs": [
        {
          "output_type": "execute_result",
          "data": {
            "text/plain": [
              "1500"
            ]
          },
          "metadata": {},
          "execution_count": 31
        }
      ]
    },
    {
      "cell_type": "markdown",
      "source": [
        "Ejercicio 3\n",
        "\n",
        "Modificar el saldo."
      ],
      "metadata": {
        "id": "WPMXW--eiy7n"
      }
    },
    {
      "cell_type": "code",
      "source": [
        "datos_cliente['Saldo'] = 1500\n",
        "datos_cliente"
      ],
      "metadata": {
        "id": "t6qHLZ-CqNbv",
        "outputId": "9dafda74-930f-4f29-8ed3-c202b499245e",
        "colab": {
          "base_uri": "https://localhost:8080/"
        }
      },
      "execution_count": 32,
      "outputs": [
        {
          "output_type": "execute_result",
          "data": {
            "text/plain": [
              "{'Nombre': 'Juan',\n",
              " 'Edad': '29',\n",
              " 'Ingresos': '2400',\n",
              " 'Egresos': '1500',\n",
              " 'Saldo': 1500}"
            ]
          },
          "metadata": {},
          "execution_count": 32
        }
      ]
    },
    {
      "cell_type": "markdown",
      "source": [
        "Ejercicio 4\n",
        "\n",
        "Agregar una nueva llave 'tarjeta_credito'."
      ],
      "metadata": {
        "id": "xN7U259_i0SD"
      }
    },
    {
      "cell_type": "code",
      "source": [
        "datos_cliente['Tarjeta de credito'] = 'Visa'\n",
        "datos_cliente"
      ],
      "metadata": {
        "id": "mXE3neArq1fb",
        "outputId": "3b1774f4-ff6c-4752-8426-9c094558e88e",
        "colab": {
          "base_uri": "https://localhost:8080/"
        }
      },
      "execution_count": 33,
      "outputs": [
        {
          "output_type": "execute_result",
          "data": {
            "text/plain": [
              "{'Nombre': 'Juan',\n",
              " 'Edad': '29',\n",
              " 'Ingresos': '2400',\n",
              " 'Egresos': '1500',\n",
              " 'Saldo': 1500,\n",
              " 'Tarjeta de credito': 'Visa'}"
            ]
          },
          "metadata": {},
          "execution_count": 33
        }
      ]
    },
    {
      "cell_type": "markdown",
      "source": [
        "Ejercicio 5\n",
        "\n",
        "Eliminar el nombre del cliente."
      ],
      "metadata": {
        "id": "EhsIdR2wi2MR"
      }
    },
    {
      "cell_type": "code",
      "source": [
        "del datos_cliente['Nombre']\n",
        "datos_cliente"
      ],
      "metadata": {
        "id": "kPIvCjIXrBAj",
        "outputId": "72bf2d2b-b08e-4421-8f16-5a18240bdd66",
        "colab": {
          "base_uri": "https://localhost:8080/"
        }
      },
      "execution_count": 36,
      "outputs": [
        {
          "output_type": "execute_result",
          "data": {
            "text/plain": [
              "{'Edad': '29',\n",
              " 'Ingresos': '2400',\n",
              " 'Egresos': '1500',\n",
              " 'Saldo': 1500,\n",
              " 'Tarjeta de credito': 'Visa'}"
            ]
          },
          "metadata": {},
          "execution_count": 36
        }
      ]
    },
    {
      "cell_type": "markdown",
      "source": [
        "# FOR"
      ],
      "metadata": {
        "id": "SEZ-ENCGi45b"
      }
    },
    {
      "cell_type": "markdown",
      "source": [
        "Ejercicio 1\n",
        "\n",
        "Recorrer una lista de tasas de interés."
      ],
      "metadata": {
        "id": "UIibjV-Ti8kG"
      }
    },
    {
      "cell_type": "code",
      "source": [
        "tasas = [4 , 5, 3.5, 4.5, 5.5]\n",
        "\n",
        "for tasa in tasas:\n",
        "  print(f'la tasas de interes es {tasa}')\n"
      ],
      "metadata": {
        "id": "VxSwH-hjlM8G",
        "outputId": "44084269-7852-4b5b-eb56-ed8cbee2716d",
        "colab": {
          "base_uri": "https://localhost:8080/"
        }
      },
      "execution_count": 39,
      "outputs": [
        {
          "output_type": "stream",
          "name": "stdout",
          "text": [
            "la tasas de interes es 4\n",
            "la tasas de interes es 5\n",
            "la tasas de interes es 3.5\n",
            "la tasas de interes es 4.5\n",
            "la tasas de interes es 5.5\n"
          ]
        }
      ]
    },
    {
      "cell_type": "markdown",
      "source": [
        "Ejercicio 2\n",
        "\n",
        "Sumar todos los saldos de una lista."
      ],
      "metadata": {
        "id": "xJcFuGJ-i_OZ"
      }
    },
    {
      "cell_type": "code",
      "source": [
        "saldos = [1000, 2000, 3000, 4000, 5000]\n",
        "suma_saldos = 0\n",
        "\n",
        "for saldo in saldos:\n",
        "  suma_saldos += saldo\n",
        "\n",
        "print(f'La suma de los saldos es: {suma_saldos}')"
      ],
      "metadata": {
        "id": "2rxvjq21rwvt",
        "outputId": "13740b7f-20c4-4e4f-d9ab-53202bbab086",
        "colab": {
          "base_uri": "https://localhost:8080/"
        }
      },
      "execution_count": 40,
      "outputs": [
        {
          "output_type": "stream",
          "name": "stdout",
          "text": [
            "La suma de los saldos es: 15000\n"
          ]
        }
      ]
    },
    {
      "cell_type": "markdown",
      "source": [
        "Ejercicio 3\n",
        "\n",
        "Recorrer una lista de precios de productos ecommerce y aplicar descuento de 10%."
      ],
      "metadata": {
        "id": "VrNKApKTjBYl"
      }
    },
    {
      "cell_type": "code",
      "source": [
        "precios = [100, 200, 300, 400, 500]\n",
        "count = 0\n",
        "for precio in precios:\n",
        "  precio_descuento = precio * 0.9\n",
        "  count += 1\n",
        "  print(f'El precio del producto {count} es {precio} y con descuento es: {precio_descuento}')"
      ],
      "metadata": {
        "id": "tFdOTsP-r66F",
        "outputId": "c6485d63-a6ca-471a-a8b8-63c701b09a1c",
        "colab": {
          "base_uri": "https://localhost:8080/"
        }
      },
      "execution_count": 42,
      "outputs": [
        {
          "output_type": "stream",
          "name": "stdout",
          "text": [
            "El precio del producto 1 es 100 y con descuento es: 90.0\n",
            "El precio del producto 2 es 200 y con descuento es: 180.0\n",
            "El precio del producto 3 es 300 y con descuento es: 270.0\n",
            "El precio del producto 4 es 400 y con descuento es: 360.0\n",
            "El precio del producto 5 es 500 y con descuento es: 450.0\n"
          ]
        }
      ]
    },
    {
      "cell_type": "markdown",
      "source": [
        "Ejercicio 4\n",
        "\n",
        "Contar cuántos productos tienen un precio mayor a 100."
      ],
      "metadata": {
        "id": "LLFjbn2KjDvf"
      }
    },
    {
      "cell_type": "code",
      "source": [
        "count = 0\n",
        "for precio in precios:\n",
        "  if precio > 100:\n",
        "    count +=1\n",
        "print(f'El numero de productos con precio mayor a S/.100 es {count}')"
      ],
      "metadata": {
        "id": "UioVujK5sZX8",
        "outputId": "9da2d681-1794-434d-94e6-eef8a7a6d0be",
        "colab": {
          "base_uri": "https://localhost:8080/"
        }
      },
      "execution_count": 44,
      "outputs": [
        {
          "output_type": "stream",
          "name": "stdout",
          "text": [
            "El numero de productos con precio mayor a S/.100 es 4\n"
          ]
        }
      ]
    },
    {
      "cell_type": "markdown",
      "source": [
        "Ejercicio 5\n",
        "\n",
        "Recorrer campañas de marketing y mostrar su nombre."
      ],
      "metadata": {
        "id": "Sx866gLnjGL3"
      }
    },
    {
      "cell_type": "code",
      "source": [
        "campanas = ['verano','invierno','primavera','otoño']\n",
        "\n",
        "for campana in campanas:\n",
        "  print(f'esta es la campaña de {campana}')"
      ],
      "metadata": {
        "id": "olKo2Zc_s0o5",
        "outputId": "7da0ba3c-def4-42d2-cf32-1ce05890ba20",
        "colab": {
          "base_uri": "https://localhost:8080/"
        }
      },
      "execution_count": 46,
      "outputs": [
        {
          "output_type": "stream",
          "name": "stdout",
          "text": [
            "esta es la campaña de verano\n",
            "esta es la campaña de invierno\n",
            "esta es la campaña de primavera\n",
            "esta es la campaña de otoño\n"
          ]
        }
      ]
    },
    {
      "cell_type": "markdown",
      "source": [
        "Ejercicio 6\n",
        "\n",
        "Recorrer un diccionario de clientes con saldo y mostrar solo los que tengan saldo > 2000."
      ],
      "metadata": {
        "id": "QahT6s0IjIOv"
      }
    },
    {
      "cell_type": "code",
      "source": [
        "clientes = {\n",
        "    'cliente_1':1000,\n",
        "    'cliente_2':2000,\n",
        "    'cliente_3':3000,\n",
        "    'cliente_4':4000,\n",
        "    'cliente_5':5000\n",
        "}\n",
        "for cliente, saldo in clientes.items():\n",
        "  if saldo > 2000:\n",
        "    print(f'El cliente {cliente} tiene un saldo de {saldo}')\n",
        "\n",
        "\n",
        "\n"
      ],
      "metadata": {
        "id": "ybLIh1QKtJZr",
        "outputId": "e6ac9484-4566-4fb3-e6a4-1b98243c6d75",
        "colab": {
          "base_uri": "https://localhost:8080/"
        }
      },
      "execution_count": 52,
      "outputs": [
        {
          "output_type": "stream",
          "name": "stdout",
          "text": [
            "El cliente cliente_3 tiene un saldo de 3000\n",
            "El cliente cliente_4 tiene un saldo de 4000\n",
            "El cliente cliente_5 tiene un saldo de 5000\n"
          ]
        }
      ]
    },
    {
      "cell_type": "markdown",
      "source": [
        "Ejercicio 7\n",
        "\n",
        "Recorrer una lista de emails de clientes y contar los que terminan en \"@gmail.com\"."
      ],
      "metadata": {
        "id": "2rTlLwQ_jL5s"
      }
    },
    {
      "cell_type": "code",
      "source": [
        "lista_correos = ['correo1@gmail.com','correo2@hotmail.com','correo3@yahoo.com','correo4@gmail.com','correo5@gmail.com']\n",
        "cont = 0\n",
        "for correo in lista_correos:\n",
        "  if correo.endswith('@gmail.com'):\n",
        "    cont += 1\n",
        "print(f'El numero de correos que terminan en @gmail.com es {cont}')"
      ],
      "metadata": {
        "id": "aeuI7HrDunRf",
        "outputId": "2479b9bb-3a0c-430d-925e-18de2c460282",
        "colab": {
          "base_uri": "https://localhost:8080/"
        }
      },
      "execution_count": 54,
      "outputs": [
        {
          "output_type": "stream",
          "name": "stdout",
          "text": [
            "El numero de correos que terminan en @gmail.com es 3\n"
          ]
        }
      ]
    },
    {
      "cell_type": "markdown",
      "source": [
        "# Mini Proyecto\n",
        "\n",
        "\"Evaluador de Clientes Hipotecarios\""
      ],
      "metadata": {
        "id": "FMUBc06ojTaq"
      }
    },
    {
      "cell_type": "markdown",
      "source": [
        "Contexto:\n",
        "Un banco quiere evaluar a sus clientes para ofrecerles un nuevo crédito hipotecario.\n",
        "Cada cliente tiene datos como: nombre, ingreso mensual, deudas actuales y número de productos contratados.\n",
        "\n",
        "Objetivo:\n",
        "1. Crear la base de datos de clientes usando un diccionario.\n",
        "2. Usar for para recorrer todos los clientes.\n",
        "3. Aplicar condicionales para clasificar:\n",
        "   - \"Elegible\" si su ingreso anual es mayor a 36,000 soles, sus deudas son menores a 15,000 soles y tiene al menos 2 productos contratados.\n",
        "   - \"Requiere Evaluación\" si cumple solo algunas condiciones.\n",
        "   - \"No Elegible\" si no cumple ninguna condición.\n",
        "4. Mostrar el resultado bien formateado por cliente."
      ],
      "metadata": {
        "id": "UawN6JC7jXAE"
      }
    },
    {
      "cell_type": "markdown",
      "source": [
        "Instrucciones\n",
        "\n",
        "1. Crea un diccionario llamado clientes con al menos 5 clientes.\n",
        "2. Cada cliente tendrá:\n",
        "   - Nombre (str)\n",
        "   - Ingreso mensual (float)\n",
        "   - Deudas (float)\n",
        "   - Número de productos contratados (int)\n",
        "3. Calcula el ingreso anual (ingreso mensual × 12).\n",
        "4. Usa un for para recorrer cada cliente.\n",
        "5. Usa if, elif, else para clasificarlo en una de las tres categorías.\n",
        "6. Muestra en pantalla: Cliente: {nombre} - Resultado: {clasificación}"
      ],
      "metadata": {
        "id": "cO8ajcixjnWX"
      }
    },
    {
      "cell_type": "markdown",
      "source": [
        "# 🔥 Nivel extra:\n",
        "\n",
        "1. Ingresa manualmente los clientes (input).\n",
        "2. Calcula la diferencia absoluta (abs) entre ingreso anual y deudas.\n",
        "3. Redondea (round) el ingreso anual al número entero más cercano."
      ],
      "metadata": {
        "id": "5ZCQkJxkkDGj"
      }
    },
    {
      "cell_type": "code",
      "source": [
        "#Base de datos de clientes\n",
        "clientes = {\n",
        "            'cliente_001' : {\n",
        "                            'nombre' : 'Juan',\n",
        "                            'ingreso_mensual' : 2000,\n",
        "                            'deudas' : 1000,\n",
        "                            'productos_contratados' : 2\n",
        "                            },\n",
        "            'cliente_002' : {\n",
        "                            'nombre' : 'Pedro',\n",
        "                            'ingreso_mensual' : 3000,\n",
        "                            'deudas' : 2000,\n",
        "                            'productos_contratados' : 3\n",
        "\n",
        "            },\n",
        "            'cliente_003' : {\n",
        "                            'nombre' : 'Maria',\n",
        "                            'ingreso_mensual' : 4000,\n",
        "                            'deudas' : 3000,\n",
        "                            'productos_contratados' : 4\n",
        "            },\n",
        "            'cliente_004' : {\n",
        "                            'nombre' : 'Ana',\n",
        "                            'ingreso_mensual' : 5000,\n",
        "                            'deudas' : 4000,\n",
        "                            'productos_contratados' : 5\n",
        "            },\n",
        "            'cliente_005' : {\n",
        "                            'nombre' : 'Luis',\n",
        "                            'ingreso_mensual' : 6000,\n",
        "                            'deudas' : 5000,\n",
        "                            'productos_contratados' : 6\n",
        "            }\n",
        "\n",
        "}"
      ],
      "metadata": {
        "id": "Oqstl4kTvafd"
      },
      "execution_count": 59,
      "outputs": []
    },
    {
      "cell_type": "code",
      "source": [
        "for cliente, datos in clientes.items():\n",
        "  ingreso_anual = datos['ingreso_mensual']*12\n",
        "  datos['ingreso_anual'] = ingreso_anual\n",
        "  if datos['ingreso_anual'] > 36000 and datos['deudas'] < 15000 and datos['productos_contratados'] >= 2:\n",
        "    datos['clasificacion'] = 'Elegible'\n",
        "    print(f'Cliente: {datos[\"nombre\"]} - Resultado: {datos[\"clasificacion\"]}')\n",
        ""
      ],
      "metadata": {
        "id": "j08iJEzxxGCy",
        "outputId": "916d2fbc-7f5d-4c85-dff1-be4b72ca1dcf",
        "colab": {
          "base_uri": "https://localhost:8080/"
        }
      },
      "execution_count": 60,
      "outputs": [
        {
          "output_type": "stream",
          "name": "stdout",
          "text": [
            "Cliente: Maria - Resultado: Elegible\n",
            "Cliente: Ana - Resultado: Elegible\n",
            "Cliente: Luis - Resultado: Elegible\n"
          ]
        }
      ]
    }
  ]
}