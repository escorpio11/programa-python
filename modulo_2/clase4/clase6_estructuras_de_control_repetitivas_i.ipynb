{
  "nbformat": 4,
  "nbformat_minor": 0,
  "metadata": {
    "colab": {
      "provenance": [],
      "include_colab_link": true
    },
    "kernelspec": {
      "name": "python3",
      "display_name": "Python 3"
    },
    "language_info": {
      "name": "python"
    }
  },
  "cells": [
    {
      "cell_type": "markdown",
      "metadata": {
        "id": "view-in-github",
        "colab_type": "text"
      },
      "source": [
        "<a href=\"https://colab.research.google.com/github/escorpio11/programa-python/blob/main/modulo_2/clase4/clase6_estructuras_de_control_repetitivas_i.ipynb\" target=\"_parent\"><img src=\"https://colab.research.google.com/assets/colab-badge.svg\" alt=\"Open In Colab\"/></a>"
      ]
    },
    {
      "cell_type": "markdown",
      "source": [
        "# 1. Introducción a Diccionarios"
      ],
      "metadata": {
        "id": "ZXZB5T0_yOyz"
      }
    },
    {
      "cell_type": "markdown",
      "source": [
        "**¿Qué es un diccionario?**\n",
        "\n",
        "Es una colección de datos en formato clave: valor.\n",
        "\n",
        "Permite acceder a la información mediante claves, no por posición como las listas.\n",
        "\n"
      ],
      "metadata": {
        "id": "IYQZoyHT2EIY"
      }
    },
    {
      "cell_type": "markdown",
      "source": [
        "**¿Para qué sirve?**\n",
        "\n",
        "Ideal para representar objetos del mundo real.\n",
        "\n",
        "Muy útil en el sector financiero para almacenar datos de clientes, productos financieros, tasas, etc."
      ],
      "metadata": {
        "id": "RtUMR-2i2NoZ"
      }
    },
    {
      "cell_type": "markdown",
      "source": [
        "Ejemplo:"
      ],
      "metadata": {
        "id": "f7P8f-Xp2Vxd"
      }
    },
    {
      "cell_type": "code",
      "source": [
        "cliente = {\n",
        "    \"nombre\": \"Ana\",\n",
        "    \"edad\": 35,\n",
        "    \"ingreso\": 4500,\n",
        "    \"morosidades\": 0\n",
        "}\n",
        "print(cliente[\"ingreso\"])  # Acceder al ingreso del cliente"
      ],
      "metadata": {
        "id": "XoMaweyb2JzS",
        "colab": {
          "base_uri": "https://localhost:8080/"
        },
        "outputId": "f9c015f8-2d80-422c-9305-688aae4cfb43"
      },
      "execution_count": null,
      "outputs": [
        {
          "output_type": "stream",
          "name": "stdout",
          "text": [
            "4500\n"
          ]
        }
      ]
    },
    {
      "cell_type": "code",
      "source": [
        "student = {\n",
        "    \"nombre\": \"Emmanuel\",\n",
        "    \"edad\": 29,\n",
        "    \"profesion\": 'Ing Civil',\n",
        "    \"nacionalidad\": 'Peruano'\n",
        "}\n",
        "for i in student:\n",
        "  print(f'{i} :{student[i]}')\n",
        "  #agregar dato\n"
      ],
      "metadata": {
        "colab": {
          "base_uri": "https://localhost:8080/"
        },
        "id": "Csk88848Q6RU",
        "outputId": "1c769ebe-46d8-4a7c-9a1e-bf86da46d9e6"
      },
      "execution_count": null,
      "outputs": [
        {
          "output_type": "stream",
          "name": "stdout",
          "text": [
            "nombre :Emmanuel\n",
            "edad :29\n",
            "profesion :Ing Civil\n",
            "nacionalidad :Peruano\n"
          ]
        }
      ]
    },
    {
      "cell_type": "code",
      "source": [
        "student['Formacion']='universitaria'\n",
        "student"
      ],
      "metadata": {
        "colab": {
          "base_uri": "https://localhost:8080/"
        },
        "id": "upkO7o_vUCN8",
        "outputId": "c09285b6-9ceb-4c1f-917c-79cc38cb6983"
      },
      "execution_count": null,
      "outputs": [
        {
          "output_type": "execute_result",
          "data": {
            "text/plain": [
              "{'nombre': 'Emmanuel',\n",
              " 'edad': 29,\n",
              " 'profesion': 'Ing Civil',\n",
              " 'nacionalidad': 'Peruano',\n",
              " 'Formacion': 'universitaria'}"
            ]
          },
          "metadata": {},
          "execution_count": 13
        }
      ]
    },
    {
      "cell_type": "markdown",
      "source": [
        "**Cómo acceder a valores:**\n",
        "\n",
        "Usando la clave: diccionario[\"clave\"]"
      ],
      "metadata": {
        "id": "w4ylLTfU2aeH"
      }
    },
    {
      "cell_type": "markdown",
      "source": [
        "**Añadir nuevo par clave-valor:**"
      ],
      "metadata": {
        "id": "jmS8eewO2fFC"
      }
    },
    {
      "cell_type": "code",
      "execution_count": null,
      "metadata": {
        "id": "uUEYtzY9x5Gm"
      },
      "outputs": [],
      "source": [
        "cliente[\"tipo_credito\"] = \"Hipotecario\""
      ]
    },
    {
      "cell_type": "code",
      "source": [
        "cliente"
      ],
      "metadata": {
        "colab": {
          "base_uri": "https://localhost:8080/"
        },
        "id": "Qc-G8iH_TuT5",
        "outputId": "2d6562b8-498b-4ca4-ef40-90ab6aa1a8ec"
      },
      "execution_count": null,
      "outputs": [
        {
          "output_type": "execute_result",
          "data": {
            "text/plain": [
              "{'nombre': 'Ana',\n",
              " 'edad': 35,\n",
              " 'ingreso': 4500,\n",
              " 'morosidades': 0,\n",
              " 'tipo_credito': 'Hipotecario'}"
            ]
          },
          "metadata": {},
          "execution_count": 11
        }
      ]
    },
    {
      "cell_type": "markdown",
      "source": [
        "**Empezar con un diccionario vacío:**"
      ],
      "metadata": {
        "id": "51g4lCo92lwQ"
      }
    },
    {
      "cell_type": "code",
      "source": [
        "nuevo_cliente = {}\n",
        "nuevo_cliente[\"nombre\"] = \"Luis\"\n",
        "nuevo_cliente[\"ingreso\"] = 3000"
      ],
      "metadata": {
        "id": "tpK5NSue2mx3"
      },
      "execution_count": null,
      "outputs": []
    },
    {
      "cell_type": "code",
      "source": [
        "#creacion de nuevo diccionario\n",
        "new_student={}\n",
        "new_student['nombre']='Emmanuel'\n",
        "new_student['edad']=29\n",
        "new_student['profesion']='Ing Civil'\n",
        "new_student"
      ],
      "metadata": {
        "colab": {
          "base_uri": "https://localhost:8080/"
        },
        "id": "h-xFDlAyUq8j",
        "outputId": "4b210b8b-4b9c-47ff-f643-9672ab457099"
      },
      "execution_count": null,
      "outputs": [
        {
          "output_type": "execute_result",
          "data": {
            "text/plain": [
              "{'nombre': 'Emmanuel', 'edad': 29, 'profesion': 'Ing Civil'}"
            ]
          },
          "metadata": {},
          "execution_count": 17
        }
      ]
    },
    {
      "cell_type": "markdown",
      "source": [
        "**Modificar valores:**"
      ],
      "metadata": {
        "id": "_sa6x1ct2rOy"
      }
    },
    {
      "cell_type": "code",
      "source": [
        "cliente[\"ingreso\"] = 5000"
      ],
      "metadata": {
        "id": "6pQI6-vr2vpI"
      },
      "execution_count": null,
      "outputs": []
    },
    {
      "cell_type": "markdown",
      "source": [
        "**Eliminar pares clave-valor:**"
      ],
      "metadata": {
        "id": "DUHgSOL22xrI"
      }
    },
    {
      "cell_type": "code",
      "source": [
        "clientes = {\n",
        "    \"001\": {\"nombre\": \"Ana\", \"ingreso\": 4000},\n",
        "    \"002\": {\"nombre\": \"Luis\", \"ingreso\": 3000}\n",
        "}"
      ],
      "metadata": {
        "id": "Aq7-4wBo205G"
      },
      "execution_count": null,
      "outputs": []
    },
    {
      "cell_type": "code",
      "source": [
        "clientes"
      ],
      "metadata": {
        "colab": {
          "base_uri": "https://localhost:8080/"
        },
        "id": "ULg79FJ_WXBO",
        "outputId": "d0690f94-ff54-4169-9aee-b8b8e183ef52"
      },
      "execution_count": null,
      "outputs": [
        {
          "output_type": "execute_result",
          "data": {
            "text/plain": [
              "{'001': {'nombre': 'Ana', 'ingreso': 4000},\n",
              " '002': {'nombre': 'Luis', 'ingreso': 3000}}"
            ]
          },
          "metadata": {},
          "execution_count": 24
        }
      ]
    },
    {
      "cell_type": "code",
      "source": [
        "engineer={\n",
        "    'ing_01': {'especialidad':'ing electrica','experiencia':'10 años'},\n",
        "    'ing_02': {'especialidad':'ing civil','experiencia':'5 años'},\n",
        "    'ing_03': {'especialidad':'ing sistemas','experiencia':'7 años'}\n",
        "}\n",
        "engineer"
      ],
      "metadata": {
        "colab": {
          "base_uri": "https://localhost:8080/"
        },
        "id": "dRh06WNKW3vF",
        "outputId": "9a4550ff-88c4-4677-e10b-74bcc28e97ac"
      },
      "execution_count": null,
      "outputs": [
        {
          "output_type": "execute_result",
          "data": {
            "text/plain": [
              "{'ing_01': {'especialidad': 'ing electrica', 'experiencia': '10 años'},\n",
              " 'ing_02': {'especialidad': 'ing civil', 'experiencia': '5 años'},\n",
              " 'ing_03': {'especialidad': 'ing sistemas', 'experiencia': '7 años'}}"
            ]
          },
          "metadata": {},
          "execution_count": 32
        }
      ]
    },
    {
      "cell_type": "markdown",
      "source": [],
      "metadata": {
        "id": "D53osj9JYQry"
      }
    },
    {
      "cell_type": "code",
      "source": [
        "new_engineer={'especialidad':'ing sistemas','experiencia':'7 años'}\n",
        "engineer['engineer_04']=new_engineer\n",
        "engineer"
      ],
      "metadata": {
        "colab": {
          "base_uri": "https://localhost:8080/"
        },
        "id": "eFnrP-3BXz5Z",
        "outputId": "ad28c0bf-2a68-4fb3-e5b7-6d0447a424ba"
      },
      "execution_count": null,
      "outputs": [
        {
          "output_type": "execute_result",
          "data": {
            "text/plain": [
              "{'ing_01': {'especialidad': 'ing electrica', 'experiencia': '10 años'},\n",
              " 'ing_02': {'especialidad': 'ing civil', 'experiencia': '5 años'},\n",
              " 'ing_03': {'especialidad': 'ing sistemas', 'experiencia': '7 años'},\n",
              " 'engineer_04': {'especialidad': 'ing sistemas', 'experiencia': '7 años'}}"
            ]
          },
          "metadata": {},
          "execution_count": 35
        }
      ]
    },
    {
      "cell_type": "markdown",
      "source": [
        "**modificar un valor en un diccionario de diccionarios**"
      ],
      "metadata": {
        "id": "jUKhk_whZlJG"
      }
    },
    {
      "cell_type": "code",
      "source": [
        "engineer['engineer_04']['experiencia']=15\n",
        "engineer['engineer_04']['salario']=5000\n",
        "engineer"
      ],
      "metadata": {
        "colab": {
          "base_uri": "https://localhost:8080/"
        },
        "id": "BhG54VieZrP6",
        "outputId": "7b76acb2-8f24-43b2-adbe-b444677b0955"
      },
      "execution_count": null,
      "outputs": [
        {
          "output_type": "execute_result",
          "data": {
            "text/plain": [
              "{'ing_01': {'especialidad': 'ing electrica', 'experiencia': '10 años'},\n",
              " 'ing_02': {'especialidad': 'ing civil', 'experiencia': '5 años'},\n",
              " 'ing_03': {'especialidad': 'ing sistemas', 'experiencia': '7 años'},\n",
              " 'engineer_04': {'especialidad': 'ing sistemas',\n",
              "  'experiencia': 15,\n",
              "  'salario': 5000}}"
            ]
          },
          "metadata": {},
          "execution_count": 38
        }
      ]
    },
    {
      "cell_type": "markdown",
      "source": [
        "***Eliminar un valor de un dicionario***"
      ],
      "metadata": {
        "id": "i6-a3LCbbS6i"
      }
    },
    {
      "cell_type": "code",
      "source": [
        "del engineer['ing_01']\n",
        "engineer"
      ],
      "metadata": {
        "colab": {
          "base_uri": "https://localhost:8080/"
        },
        "id": "__jhODOxbNGI",
        "outputId": "47b0f8c8-45fa-4731-98da-6590610fd20c"
      },
      "execution_count": null,
      "outputs": [
        {
          "output_type": "execute_result",
          "data": {
            "text/plain": [
              "{'ing_02': {'especialidad': 'ing civil', 'experiencia': '5 años'},\n",
              " 'ing_03': {'especialidad': 'ing sistemas', 'experiencia': '7 años'},\n",
              " 'engineer_04': {'especialidad': 'ing sistemas',\n",
              "  'experiencia': 15,\n",
              "  'salario': 5000}}"
            ]
          },
          "metadata": {},
          "execution_count": 39
        }
      ]
    },
    {
      "cell_type": "markdown",
      "source": [
        "****Ejercicio 1:**\n",
        "\n",
        "Crea un diccionario para un producto financiero con claves como nombre, tasa de interés y tipo. Luego accede a la tasa de interés y modifícala.\n",
        "\n",
        "\n",
        "\n"
      ],
      "metadata": {
        "id": "83NKUBXf23zf"
      }
    },
    {
      "cell_type": "code",
      "source": [
        "prod_finan={\n",
        "    'Nombre':'Emmanuel',\n",
        "    'tasa_interes':0.05,\n",
        "    'tipo':'Credito'\n",
        "    }"
      ],
      "metadata": {
        "id": "tHifd4nbWDxC"
      },
      "execution_count": null,
      "outputs": []
    },
    {
      "cell_type": "code",
      "source": [
        "prod_finan['tasa_interes']=0.06\n",
        "prod_finan"
      ],
      "metadata": {
        "colab": {
          "base_uri": "https://localhost:8080/"
        },
        "id": "xQdIngBHWmIW",
        "outputId": "55cf7ee7-24f4-4714-ae3e-307b3404d9f9"
      },
      "execution_count": null,
      "outputs": [
        {
          "output_type": "execute_result",
          "data": {
            "text/plain": [
              "{'Nombre': 'Emmanuel', 'tasa_interes': 0.06, 'tipo': 'Credito'}"
            ]
          },
          "metadata": {},
          "execution_count": 28
        }
      ]
    },
    {
      "cell_type": "markdown",
      "source": [
        "**Ejercicio 2:**\n",
        "\n",
        "Crea un diccionario de 3 clientes con su nombre e ingresos. Agrega un nuevo cliente. Luego, elimina uno de los existentes."
      ],
      "metadata": {
        "id": "Czi-iYwt27Lr"
      }
    },
    {
      "cell_type": "code",
      "source": [
        "  #creacion de clientes nuevos\n",
        "  clientes_ingresos={\n",
        "    'Cliente_01':{'Nombre':'Luis','Ingresos':3000},\n",
        "    'Cliente_02':{'Nombre':'Ana','Ingresos':4000},\n",
        "    'Cliente_03':{'Nombre':'Carlos','Ingresos':5000}\n",
        "}"
      ],
      "metadata": {
        "id": "QnB5qmKjfBCr"
      },
      "execution_count": null,
      "outputs": []
    },
    {
      "cell_type": "code",
      "source": [
        "#agregar nuevo cliente\n",
        "clientes_ingresos['Cliente_04']={'Nombre':'Emmanuel','Ingresos':6000}\n",
        "clientes_ingresos"
      ],
      "metadata": {
        "colab": {
          "base_uri": "https://localhost:8080/"
        },
        "id": "CgbE1k3jfccA",
        "outputId": "5c3ea27f-9261-4ef4-afc4-66aec7c18b24"
      },
      "execution_count": null,
      "outputs": [
        {
          "output_type": "execute_result",
          "data": {
            "text/plain": [
              "{'Cliente_01': {'Nombre': 'Luis', 'Ingresos': 3000},\n",
              " 'Cliente_02': {'Nombre': 'Ana', 'Ingresos': 4000},\n",
              " 'Cliente_03': {'Nombre': 'Carlos', 'Ingresos': 5000},\n",
              " 'Cliente_04': {'Nombre': 'Emmanuel', 'Ingresos': 6000}}"
            ]
          },
          "metadata": {},
          "execution_count": 51
        }
      ]
    },
    {
      "cell_type": "code",
      "source": [
        "#eliminar cliente\n",
        "del clientes_ingresos['Cliente_02']\n",
        "clientes_ingresos"
      ],
      "metadata": {
        "colab": {
          "base_uri": "https://localhost:8080/"
        },
        "id": "g1yff5MSff-T",
        "outputId": "74613230-8072-4c3f-c674-be2efe18cca1"
      },
      "execution_count": null,
      "outputs": [
        {
          "output_type": "execute_result",
          "data": {
            "text/plain": [
              "{'Cliente_01': {'Nombre': 'Luis', 'Ingresos': 3000},\n",
              " 'Cliente_03': {'Nombre': 'Carlos', 'Ingresos': 5000},\n",
              " 'Cliente_04': {'Nombre': 'Emmanuel', 'Ingresos': 6000}}"
            ]
          },
          "metadata": {},
          "execution_count": 52
        }
      ]
    },
    {
      "cell_type": "markdown",
      "source": [
        "# 2. For en Python"
      ],
      "metadata": {
        "id": "w2oBkGm-3IZi"
      }
    },
    {
      "cell_type": "markdown",
      "source": [
        "**¿Qué es for?**\n",
        "\n",
        "Una estructura de control repetitiva.\n",
        "\n",
        "Se usa para recorrer elementos de una lista, string o diccionario."
      ],
      "metadata": {
        "id": "vqkAmEE33Ov0"
      }
    },
    {
      "cell_type": "markdown",
      "source": [
        "**¿Para qué sirve?**\n",
        "\n",
        "Automatizar procesos repetitivos, como revisar múltiples clientes o productos financieros."
      ],
      "metadata": {
        "id": "6NnHm2Zw3RFo"
      }
    },
    {
      "cell_type": "markdown",
      "source": [
        "**Sintaxis básica:**\n"
      ],
      "metadata": {
        "id": "tJGAMI9Q3TwI"
      }
    },
    {
      "cell_type": "code",
      "source": [
        "lista_clientes = [\"Ana\", \"Luis\", \"Sofía\"]"
      ],
      "metadata": {
        "id": "LttOLLDcmHX8"
      },
      "execution_count": 1,
      "outputs": []
    },
    {
      "cell_type": "code",
      "source": [
        "for cliente in lista_clientes:\n",
        "    print(cliente)"
      ],
      "metadata": {
        "id": "lGd8GFjZ26u5",
        "colab": {
          "base_uri": "https://localhost:8080/"
        },
        "outputId": "48499cb4-b35c-4245-9329-eec28eb58eda"
      },
      "execution_count": 2,
      "outputs": [
        {
          "output_type": "stream",
          "name": "stdout",
          "text": [
            "Ana\n",
            "Luis\n",
            "Sofía\n"
          ]
        }
      ]
    },
    {
      "cell_type": "markdown",
      "source": [
        "**¿Por qué es repetitiva?**\n",
        "\n",
        "Porque ejecuta el mismo bloque de código por cada elemento en la secuencia."
      ],
      "metadata": {
        "id": "zbzptSdD3cZ6"
      }
    },
    {
      "cell_type": "code",
      "source": [
        "ingresos = [1000, 2000, 3000]\n",
        "for ingreso in ingresos:\n",
        "    print(\"Ingreso anual:\", ingreso * 12)"
      ],
      "metadata": {
        "id": "ddfuukXf3a-T",
        "colab": {
          "base_uri": "https://localhost:8080/"
        },
        "outputId": "8ca4c1ce-5ccd-4aea-a4c5-a9ea5b9aa16d"
      },
      "execution_count": null,
      "outputs": [
        {
          "output_type": "stream",
          "name": "stdout",
          "text": [
            "Ingreso anual: 12000\n",
            "Ingreso anual: 24000\n",
            "Ingreso anual: 36000\n"
          ]
        }
      ]
    },
    {
      "cell_type": "code",
      "source": [
        "costos=[230,265,277,287]\n",
        "i=0\n",
        "for costo in costos:\n",
        "  costo_ajustado=costo*1.3\n",
        "  i+=1\n",
        "  print(f'Costo anual año 200{i}, {costo_ajustado}')"
      ],
      "metadata": {
        "colab": {
          "base_uri": "https://localhost:8080/"
        },
        "id": "nbEvCt2cpLtK",
        "outputId": "0d37c803-8819-4589-fd9f-4b5792c48b04"
      },
      "execution_count": 6,
      "outputs": [
        {
          "output_type": "stream",
          "name": "stdout",
          "text": [
            "Costo anual año 2001,299.0\n",
            "Costo anual año 2002,344.5\n",
            "Costo anual año 2003,360.1\n",
            "Costo anual año 2004,373.1\n"
          ]
        }
      ]
    },
    {
      "cell_type": "markdown",
      "source": [
        "Ejemplo 2: Recorrer un diccionario de clientes"
      ],
      "metadata": {
        "id": "yTflWWvp3hI1"
      }
    },
    {
      "cell_type": "code",
      "source": [
        "clientes"
      ],
      "metadata": {
        "colab": {
          "base_uri": "https://localhost:8080/"
        },
        "id": "LM5FhON6eEU4",
        "outputId": "d568cf3a-9a63-4112-a4c5-7d180b0dc58e"
      },
      "execution_count": null,
      "outputs": [
        {
          "output_type": "execute_result",
          "data": {
            "text/plain": [
              "{'001': {'nombre': 'Ana', 'ingreso': 4000},\n",
              " '002': {'nombre': 'Luis', 'ingreso': 3000}}"
            ]
          },
          "metadata": {},
          "execution_count": 48
        }
      ]
    },
    {
      "cell_type": "code",
      "source": [
        "for id_cliente in clientes:\n",
        "    print(\"ID:\", id_cliente, \"Ingreso:\", clientes[id_cliente][\"ingreso\"])"
      ],
      "metadata": {
        "id": "1jReTnvu3kG0",
        "colab": {
          "base_uri": "https://localhost:8080/"
        },
        "outputId": "88c83944-2fed-4cd9-b2f1-55495dd22e7f"
      },
      "execution_count": null,
      "outputs": [
        {
          "output_type": "stream",
          "name": "stdout",
          "text": [
            "ID: 001 Ingreso: 4000\n",
            "ID: 002 Ingreso: 3000\n"
          ]
        }
      ]
    },
    {
      "cell_type": "markdown",
      "source": [
        "Ejemplo 3: Contar cuántos clientes tienen ingreso > 3000"
      ],
      "metadata": {
        "id": "wQeoR3Lz3mpd"
      }
    },
    {
      "cell_type": "code",
      "source": [
        "contador = 0\n",
        "for cliente in clientes.values():\n",
        "    if cliente[\"ingreso\"] > 3000:\n",
        "        contador += 1\n",
        "print(\"Clientes con alto ingreso:\", contador)"
      ],
      "metadata": {
        "id": "BO6QccEn3pvU",
        "colab": {
          "base_uri": "https://localhost:8080/"
        },
        "outputId": "6d604a5a-1861-4ad1-dc79-6ad9c7e935ed"
      },
      "execution_count": null,
      "outputs": [
        {
          "output_type": "stream",
          "name": "stdout",
          "text": [
            "Clientes con alto ingreso: 1\n"
          ]
        }
      ]
    },
    {
      "cell_type": "markdown",
      "source": [
        "Ejemplo 4: Crear una lista con tasas ajustadas"
      ],
      "metadata": {
        "id": "Z1DZYAfj3sRL"
      }
    },
    {
      "cell_type": "code",
      "source": [
        "tasas = [0.05, 0.07, 0.08]\n",
        "tasas_ajustadas = []\n",
        "for tasa in tasas:\n",
        "    tasas_ajustadas.append(tasa + 0.01)\n",
        "print(tasas_ajustadas)"
      ],
      "metadata": {
        "id": "jerZ3Pbp3v_-"
      },
      "execution_count": null,
      "outputs": []
    },
    {
      "cell_type": "markdown",
      "source": [
        "Ejemplo 5: Reporte de evaluación"
      ],
      "metadata": {
        "id": "vDmAijzk30aP"
      }
    },
    {
      "cell_type": "code",
      "source": [
        "clientes = [\"Ana\", \"Luis\", \"Sofía\"]\n",
        "for nombre in clientes:\n",
        "    print(f\"Evaluación enviada a {nombre}\")"
      ],
      "metadata": {
        "id": "b4ah9HGJ32bn"
      },
      "execution_count": null,
      "outputs": []
    },
    {
      "cell_type": "markdown",
      "source": [],
      "metadata": {
        "id": "3J9EUJLG3oos"
      }
    }
  ]
}