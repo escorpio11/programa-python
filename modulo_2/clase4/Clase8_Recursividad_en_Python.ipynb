{
  "nbformat": 4,
  "nbformat_minor": 0,
  "metadata": {
    "colab": {
      "provenance": [],
      "include_colab_link": true
    },
    "kernelspec": {
      "name": "python3",
      "display_name": "Python 3"
    },
    "language_info": {
      "name": "python"
    }
  },
  "cells": [
    {
      "cell_type": "markdown",
      "metadata": {
        "id": "view-in-github",
        "colab_type": "text"
      },
      "source": [
        "<a href=\"https://colab.research.google.com/github/escorpio11/programa-python/blob/main/modulo_2/clase4/Clase8_Recursividad_en_Python.ipynb\" target=\"_parent\"><img src=\"https://colab.research.google.com/assets/colab-badge.svg\" alt=\"Open In Colab\"/></a>"
      ]
    },
    {
      "cell_type": "markdown",
      "source": [
        "# Recursividad en Python"
      ],
      "metadata": {
        "id": "OVwQVEDyn2yr"
      }
    },
    {
      "cell_type": "markdown",
      "source": [
        "**Objetivos de aprendizaje**\n",
        "\n",
        "- Comprender qué es la recursividad y cuándo se utiliza.\n",
        "- Aprender a escribir funciones recursivas en Python.\n",
        "- Diferenciar entre recursión y repetición con for/while.\n",
        "- Aplicar recursividad en problemas reales de análisis de datos, marketing, finanzas y ecommerce."
      ],
      "metadata": {
        "id": "uZ1tHNswn-OP"
      }
    },
    {
      "cell_type": "markdown",
      "source": [
        "**1. TEORÍA**\n",
        "\n",
        "**¿Qué es la recursividad?**\n",
        "\n",
        "La recursividad es una técnica en la que una función se llama a sí misma para resolver un problema más grande dividiéndolo en subproblemas más pequeños."
      ],
      "metadata": {
        "id": "zA01peWZoIPA"
      }
    },
    {
      "cell_type": "markdown",
      "source": [
        "**Requisitos:**\n",
        "\n",
        "Caso base: condición que detiene la recursión.\n",
        "Paso recursivo: llamada a la misma función con un nuevo valor."
      ],
      "metadata": {
        "id": "AXGBG7FeoQHf"
      }
    },
    {
      "cell_type": "markdown",
      "source": [
        "**Ejemplo clásico:**\n",
        "\n",
        "Factorial"
      ],
      "metadata": {
        "id": "7bvUZWFtoUiN"
      }
    },
    {
      "cell_type": "code",
      "execution_count": 48,
      "metadata": {
        "id": "NSUQT0MnnwWc"
      },
      "outputs": [],
      "source": [
        "def factorial(n):\n",
        "    if n == 0:\n",
        "        return 1  # caso base\n",
        "    else:\n",
        "        return n * factorial(n - 1)  # paso recursivo"
      ]
    },
    {
      "cell_type": "code",
      "source": [
        "factorial(5)"
      ],
      "metadata": {
        "colab": {
          "base_uri": "https://localhost:8080/"
        },
        "id": "34RkzSO4j7YT",
        "outputId": "3da9bf40-b3aa-4cc3-c8c0-5c4bf1b7dd0d"
      },
      "execution_count": 49,
      "outputs": [
        {
          "output_type": "execute_result",
          "data": {
            "text/plain": [
              "120"
            ]
          },
          "metadata": {},
          "execution_count": 49
        }
      ]
    },
    {
      "cell_type": "code",
      "source": [
        "def factorial_1(n):\n",
        "    factorial = 1\n",
        "    if n == 0:\n",
        "        return 1\n",
        "    else:\n",
        "        for n in range(1,n+1):\n",
        "            factorial = factorial*(n)\n",
        "        return factorial\n"
      ],
      "metadata": {
        "id": "59qLet7mZNOT"
      },
      "execution_count": 45,
      "outputs": []
    },
    {
      "cell_type": "code",
      "source": [
        "factorial_1(5)"
      ],
      "metadata": {
        "colab": {
          "base_uri": "https://localhost:8080/"
        },
        "id": "-LHl0RGqZYki",
        "outputId": "575383ac-2b96-4749-b4c2-45a2418ea271"
      },
      "execution_count": 46,
      "outputs": [
        {
          "output_type": "execute_result",
          "data": {
            "text/plain": [
              "120"
            ]
          },
          "metadata": {},
          "execution_count": 46
        }
      ]
    },
    {
      "cell_type": "markdown",
      "source": [
        "**2. EJEMPLOS APLICADOS**"
      ],
      "metadata": {
        "id": "kefRXtnToeLJ"
      }
    },
    {
      "cell_type": "code",
      "source": [
        "def interes_compuesto(capital, tasa, años):\n",
        "    if años == 0:\n",
        "        return capital\n",
        "    else:\n",
        "        return interes_compuesto(capital * (1 + tasa), tasa, años - 1)\n",
        "\n",
        "print(interes_compuesto(1000, 0.05, 3))  # 1157.625"
      ],
      "metadata": {
        "id": "w1GSGHvtoi2Q",
        "colab": {
          "base_uri": "https://localhost:8080/"
        },
        "outputId": "6f2ef731-2d4d-444d-e481-628b3d63f8f5"
      },
      "execution_count": 50,
      "outputs": [
        {
          "output_type": "stream",
          "name": "stdout",
          "text": [
            "1157.625\n"
          ]
        }
      ]
    },
    {
      "cell_type": "code",
      "source": [
        "def suma_ventas(ventas):\n",
        "    if len(ventas) == 0:\n",
        "        return 0\n",
        "    else:\n",
        "        return ventas[0] + suma_ventas(ventas[1:])\n",
        "\n",
        "print(suma_ventas([120, 340, 560]))  # 1020"
      ],
      "metadata": {
        "id": "kxx-2ynOonJ2",
        "colab": {
          "base_uri": "https://localhost:8080/"
        },
        "outputId": "2234e4f6-f2cd-4cf9-c896-c268d3fee149"
      },
      "execution_count": 71,
      "outputs": [
        {
          "output_type": "stream",
          "name": "stdout",
          "text": [
            "1020\n"
          ]
        }
      ]
    },
    {
      "cell_type": "code",
      "source": [
        "def sum_vent1(ventas):\n",
        "  sum = 0\n",
        "  for i in range(len(ventas)):\n",
        "    sum = sum + ventas[i]\n",
        "\n",
        "  return sum\n",
        ""
      ],
      "metadata": {
        "id": "B-DMeZfFs0J_"
      },
      "execution_count": 69,
      "outputs": []
    },
    {
      "cell_type": "code",
      "source": [
        "sum_vent1([1523,3836,373,33])"
      ],
      "metadata": {
        "colab": {
          "base_uri": "https://localhost:8080/"
        },
        "id": "AKtvf7oStLMq",
        "outputId": "d77e97b0-67c9-4bbd-e032-f4844d9561e4"
      },
      "execution_count": 70,
      "outputs": [
        {
          "output_type": "execute_result",
          "data": {
            "text/plain": [
              "5765"
            ]
          },
          "metadata": {},
          "execution_count": 70
        }
      ]
    },
    {
      "cell_type": "code",
      "source": [
        "def contar_clics_positivos(lista):\n",
        "    if not lista:\n",
        "        return 0\n",
        "    if lista[0] > 0:\n",
        "        return 1 + contar_clics_positivos(lista[1:]) #adiciona +1 cada que el elemento 0 de la lista es > 0\n",
        "    else:\n",
        "        return contar_clics_positivos(lista[1:]) # reduce la lista generando una lista que no considera el 1er elemento de la lista incial\n",
        "\n",
        "clics = [1, 0, 2, 0, 5]\n",
        "print(contar_clics_positivos(clics))  # 3"
      ],
      "metadata": {
        "id": "HwcRhlUPoqvZ",
        "colab": {
          "base_uri": "https://localhost:8080/"
        },
        "outputId": "8f265a14-979e-462c-a964-b201d7522214"
      },
      "execution_count": 72,
      "outputs": [
        {
          "output_type": "stream",
          "name": "stdout",
          "text": [
            "3\n"
          ]
        }
      ]
    },
    {
      "cell_type": "code",
      "source": [
        "def cont_clics(lista):\n",
        "  cont = 0\n",
        "  for i in range(len(lista)):\n",
        "    if lista[i] > 0:\n",
        "      cont += 1\n",
        "  return cont"
      ],
      "metadata": {
        "id": "kQYp7QbDzNRn"
      },
      "execution_count": 73,
      "outputs": []
    },
    {
      "cell_type": "code",
      "source": [
        "cont_clics([1,0,2,0,5])"
      ],
      "metadata": {
        "colab": {
          "base_uri": "https://localhost:8080/"
        },
        "id": "XtDMUpg4zmmE",
        "outputId": "1f8edb48-f8b0-447a-a9e6-74567b95365b"
      },
      "execution_count": 74,
      "outputs": [
        {
          "output_type": "execute_result",
          "data": {
            "text/plain": [
              "3"
            ]
          },
          "metadata": {},
          "execution_count": 74
        }
      ]
    },
    {
      "cell_type": "markdown",
      "source": [
        "**3. PRÁCTICA GUIADA**\n",
        "\n",
        "Paso a paso:\n",
        "- Identificar el caso base.\n",
        "- Establecer el paso recursivo.\n",
        "- Validar inputs extremos (0, negativos, listas vacías)."
      ],
      "metadata": {
        "id": "Og9d7Lw9ot5S"
      }
    },
    {
      "cell_type": "markdown",
      "source": [
        "1. Crear una función recursiva que cuente regresivamente desde un número dado hasta 0.\n",
        "2. Crear una función recursiva para calcular la suma de los primeros n números naturales.\n",
        "3. Escribir una función que recorra recursivamente una lista de precios y devuelva el precio mayor.\n",
        "4. Dado un diccionario de ventas por categoría, usar recursividad para sumar todas las ventas.\n",
        "5. En una lista de deudas, usar recursividad para saber cuántas superan cierto umbral (e.g. > 1000).\n",
        "6. Calcular cuántos productos tienen descuento en una lista de booleanos [True, False, True...].\n",
        "7. Crear una función recursiva para contar cuántas veces aparece una palabra clave en una lista de campañas de marketing."
      ],
      "metadata": {
        "id": "3q030OJ6o764"
      }
    }
  ]
}