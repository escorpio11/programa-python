{
  "nbformat": 4,
  "nbformat_minor": 0,
  "metadata": {
    "colab": {
      "provenance": [],
      "include_colab_link": true
    },
    "kernelspec": {
      "name": "python3",
      "display_name": "Python 3"
    },
    "language_info": {
      "name": "python"
    }
  },
  "cells": [
    {
      "cell_type": "markdown",
      "metadata": {
        "id": "view-in-github",
        "colab_type": "text"
      },
      "source": [
        "<a href=\"https://colab.research.google.com/github/escorpio11/programa-python/blob/main/modulo_2/clase4/Clase_8_Funciones_y_Range_en_Python.ipynb\" target=\"_parent\"><img src=\"https://colab.research.google.com/assets/colab-badge.svg\" alt=\"Open In Colab\"/></a>"
      ]
    },
    {
      "cell_type": "markdown",
      "source": [
        "# Funciones y Range en Python"
      ],
      "metadata": {
        "id": "X1el0Wz1JZqY"
      }
    },
    {
      "cell_type": "markdown",
      "source": [
        "**1. INTRODUCCIÓN**\n",
        "\n",
        "**Objetivo de la clase:**\n",
        "\n",
        "- Comprender qué son las funciones y cómo se usan en Python.\n",
        "\n",
        "- Comprender el uso de range() como herramienta de iteración.\n",
        "\n",
        "- Aplicar ambos conceptos en contextos de marketing, finanzas y ecommerce."
      ],
      "metadata": {
        "id": "ywsKcY8cJfJo"
      }
    },
    {
      "cell_type": "markdown",
      "source": [
        "**2. FUNCIONES EN PYTHON**\n",
        "\n",
        "**¿Qué es una función?**\n",
        "\n",
        "Una función es un bloque de código reutilizable que se puede ejecutar cuando sea necesario. Ayuda a organizar el código y evitar repeticiones."
      ],
      "metadata": {
        "id": "LQuCiXPzJojH"
      }
    },
    {
      "cell_type": "markdown",
      "source": [
        "**Estructura básica:**"
      ],
      "metadata": {
        "id": "7AK84BGCJszm"
      }
    },
    {
      "cell_type": "code",
      "execution_count": 1,
      "metadata": {
        "id": "htagfLrqJPYN"
      },
      "outputs": [],
      "source": [
        "def nombre_de_funcion(parametros):\n",
        "    # bloque de código\n",
        "    return resultado"
      ]
    },
    {
      "cell_type": "markdown",
      "source": [
        "**Ejemplo 1**\n",
        "\n",
        "Diseñar una función que calcule el interés en monto que pagará un cliente al tomar un crédito, use como inputs (capital en soles, tasa de interés y duración del crédito en meses)"
      ],
      "metadata": {
        "id": "NW7S7xplKMGT"
      }
    },
    {
      "cell_type": "code",
      "source": [
        "def calcular_interes(capital, tasa, tiempo):\n",
        "    interes = capital * tasa * tiempo\n",
        "    return interes"
      ],
      "metadata": {
        "id": "Rr6v1Y70KmYN"
      },
      "execution_count": 2,
      "outputs": []
    },
    {
      "cell_type": "code",
      "source": [
        "print(calcular_interes(1000, 0.05, 1))  # Resultado: 50.0"
      ],
      "metadata": {
        "id": "14HMlvihKrhq",
        "outputId": "4042df0c-b5a8-4630-e258-a212740a596c",
        "colab": {
          "base_uri": "https://localhost:8080/"
        }
      },
      "execution_count": 3,
      "outputs": [
        {
          "output_type": "stream",
          "name": "stdout",
          "text": [
            "50.0\n"
          ]
        }
      ]
    },
    {
      "cell_type": "markdown",
      "source": [
        "**Ejemplo 2**\n",
        "\n",
        "Diseñar una función que calcule el nuevo precio incluyendo el descuento de una campaña específica, use como inputs (precio en soles y descuento en porcentaje)"
      ],
      "metadata": {
        "id": "6xNqUFtzKzW9"
      }
    },
    {
      "cell_type": "code",
      "source": [
        "#definicion de la funcion e inputs\n",
        "precio = float(input('Ingrese el precio: '))\n",
        "descuento = float(input('Ingrese el descuento: '))\n",
        "def nuevo_precio(precio,descuento):\n",
        "#desarrollo de la funcion\n",
        "  precio_final = precio - (precio*descuento/100)\n",
        "#resultado\n",
        "  return precio_final\n",
        "print(f'el precio con descuento es S/. {nuevo_precio(precio,descuento):.2f}')"
      ],
      "metadata": {
        "id": "8Yb3CbSJTLxp",
        "outputId": "5d874c96-c79d-4181-e351-fcdb8c6fa1a5",
        "colab": {
          "base_uri": "https://localhost:8080/"
        }
      },
      "execution_count": 9,
      "outputs": [
        {
          "output_type": "stream",
          "name": "stdout",
          "text": [
            "Ingrese el precio: 123\n",
            "Ingrese el descuento: 23\n",
            "el precio con descuento es 94.71\n"
          ]
        }
      ]
    },
    {
      "cell_type": "markdown",
      "source": [
        "**Ejemplo 3**\n",
        "\n",
        "Diseñar una función que calcule el cpcc (Costo por Click) de un ad publicitario en internet, considerde como input (Tarifa en soles que se aplicará por click, número de clicks en el Ad)"
      ],
      "metadata": {
        "id": "zU28K4nWLe2N"
      }
    },
    {
      "cell_type": "code",
      "source": [
        "def costo_por_click(tarifa, clicks):\n",
        "  costo = tarifa * clicks\n",
        "  return costo\n",
        "print(f'Para 3000 clics a una tarifa de S/0.07 por clic el costo total sera {costo_por_click(0.07,3000):.2f}')"
      ],
      "metadata": {
        "id": "yWaOEpoJVdsS",
        "outputId": "0c1781a4-577a-4ae4-ab0c-c79793d0cc7f",
        "colab": {
          "base_uri": "https://localhost:8080/"
        }
      },
      "execution_count": 12,
      "outputs": [
        {
          "output_type": "stream",
          "name": "stdout",
          "text": [
            "Para 3000 clics a una tarifa de S/0.07 por clic el costo total sera 210.00\n"
          ]
        }
      ]
    },
    {
      "cell_type": "markdown",
      "source": [
        "**2. RANGE EN PYTHON**\n",
        "\n",
        "**¿Qué es range()?**\n",
        "\n",
        "range() genera una secuencia de números, comúnmente usada para repetir acciones un número definido de veces."
      ],
      "metadata": {
        "id": "isGog95fMNbO"
      }
    },
    {
      "cell_type": "markdown",
      "source": [
        "**Estructura básica:**"
      ],
      "metadata": {
        "id": "-oR_Etb6MXAD"
      }
    },
    {
      "cell_type": "code",
      "source": [
        "range(inicio, fin, paso)"
      ],
      "metadata": {
        "id": "d8XGHQQkLT0Q"
      },
      "execution_count": null,
      "outputs": []
    },
    {
      "cell_type": "markdown",
      "source": [
        "**Ejemplo 1**"
      ],
      "metadata": {
        "id": "bLDJfdmEMbfS"
      }
    },
    {
      "cell_type": "code",
      "source": [
        "for i in range(5):\n",
        "    print(i)  # Imprime del 0 al 4"
      ],
      "metadata": {
        "id": "mmyPk4RzMcNg",
        "outputId": "aa2200fd-d06e-480d-c42d-2d2df3274063",
        "colab": {
          "base_uri": "https://localhost:8080/"
        }
      },
      "execution_count": 13,
      "outputs": [
        {
          "output_type": "stream",
          "name": "stdout",
          "text": [
            "0\n",
            "1\n",
            "2\n",
            "3\n",
            "4\n"
          ]
        }
      ]
    },
    {
      "cell_type": "markdown",
      "source": [
        "**Ejemplo 2**\n",
        "\n",
        "Diseñe una función que presente el portafolio de productos que tiene un negocio"
      ],
      "metadata": {
        "id": "valEOhXnMh5T"
      }
    },
    {
      "cell_type": "code",
      "source": [
        "productos = [\"zapatos\", \"camisa\", \"pantalón\"]\n",
        "for i in range(len(productos)):\n",
        "    print(\"Producto:\", productos[i])"
      ],
      "metadata": {
        "id": "h8eQF6oeMiYZ",
        "outputId": "15082180-4998-47c3-ee67-0e8036e4fe27",
        "colab": {
          "base_uri": "https://localhost:8080/"
        }
      },
      "execution_count": 14,
      "outputs": [
        {
          "output_type": "stream",
          "name": "stdout",
          "text": [
            "Producto: zapatos\n",
            "Producto: camisa\n",
            "Producto: pantalón\n"
          ]
        }
      ]
    },
    {
      "cell_type": "markdown",
      "source": [
        "**4. EJERCICIOS DE PRÁCTICA EN CLASE**\n",
        "\n",
        "**Funciones:**\n",
        "\n",
        "1. Crear una función que calcule el IGV (18%) de una venta.\n",
        "\n",
        "2. Crear una función que reciba una lista de ingresos mensuales y devuelva el promedio.\n",
        "\n",
        "3. Crear una función que indique si un cliente es \"Premium\" (si tiene más de 3 productos).\n",
        "\n",
        "**Range:**\n",
        "\n",
        "1. Usar range() para imprimir los primeros 10 múltiplos de 5.\n",
        "\n",
        "2. Usar range() para simular 6 meses de ahorro mensual y mostrar el total ahorrado."
      ],
      "metadata": {
        "id": "4xIvrZsOM41P"
      }
    },
    {
      "cell_type": "markdown",
      "source": [
        "**5. MINI PROYECTO FINAL**\n",
        "\n",
        "**Descripción:**\n",
        "\n",
        "Simular un sistema básico para evaluar el rendimiento financiero de clientes bancarios.\n",
        "\n",
        "**Requisitos:**\n",
        "\n",
        "- Lista de clientes (IDs)\n",
        "\n",
        "- Diccionario con ingresos mensuales\n",
        "\n",
        "- Funciones para:\n",
        "\n",
        "- Calcular ingreso anual\n",
        "\n",
        "- Clasificar al cliente (alto, medio, bajo ingreso)\n",
        "\n",
        "- Uso de range para simular 12 meses\n",
        "\n",
        "- Uso de if, else, for, while"
      ],
      "metadata": {
        "id": "qZKELUZANEtx"
      }
    },
    {
      "cell_type": "code",
      "source": [
        "# igv_venta\n",
        "def igv_venta(precio):\n",
        "  igv=precio*0.18\n",
        "  return igv\n",
        "print(igv_venta(100))"
      ],
      "metadata": {
        "id": "ZnzK9eFCNW9F",
        "outputId": "4aca2504-e5d2-494c-ed87-3bc03364ed75",
        "colab": {
          "base_uri": "https://localhost:8080/"
        }
      },
      "execution_count": 16,
      "outputs": [
        {
          "output_type": "stream",
          "name": "stdout",
          "text": [
            "18.0\n"
          ]
        }
      ]
    },
    {
      "cell_type": "code",
      "source": [
        "#declarar lista de ingresos\n",
        "lista_ingresos = []\n",
        "#definicion de la funcion\n",
        "def ingreso_promedio(lista_ingresos):\n",
        "  for i in range(5):\n",
        "    ingreso = int(input(f'Ingrese el ingreso mensual de la presona {i+1}: '))\n",
        "    lista_ingresos.append(ingreso)\n",
        "    promedio = sum(lista_ingresos) / len(lista_ingresos)\n",
        "  return promedio\n",
        "print(f'El ingreso promedio es {ingreso_promedio(lista_ingresos)}')"
      ],
      "metadata": {
        "id": "15bCJOSra0ub",
        "outputId": "942b1cb4-35cd-41d9-9e6c-4aa6109227e5",
        "colab": {
          "base_uri": "https://localhost:8080/"
        }
      },
      "execution_count": 25,
      "outputs": [
        {
          "output_type": "stream",
          "name": "stdout",
          "text": [
            "Ingrese el ingreso mensual de la presona 1: 1234\n",
            "Ingrese el ingreso mensual de la presona 2: 1245\n",
            "Ingrese el ingreso mensual de la presona 3: 1976\n",
            "Ingrese el ingreso mensual de la presona 4: 1976\n",
            "Ingrese el ingreso mensual de la presona 5: 1657\n",
            "El ingreso promedio es 1617.6\n"
          ]
        }
      ]
    },
    {
      "cell_type": "code",
      "source": [
        "#funcion que indica que un cliente es premium si tienen mas de 3 productos\n",
        "productos = []\n",
        "def cliente_premium(productos):\n",
        "  producto = ''\n",
        "  while True:\n",
        "    if producto != 'fin':\n",
        "        producto = str(input('Ingrese el nombre de su producto financiero o escriba fin para finalizar: ')).lower()\n",
        "        productos.append(producto)\n",
        "    else:\n",
        "        break\n",
        "  del productos[len(productos)-1]\n",
        "  if len(productos) > 3:\n",
        "    print('El cliente es premium')\n",
        "  else:\n",
        "    print('El cliente no es premium')\n",
        "print(cliente_premium(productos))\n",
        "print(f'usted declaro los siguientes productos {productos}')"
      ],
      "metadata": {
        "id": "xSMDuhqteICO",
        "outputId": "aab5e4d9-c4b5-46ea-f3ec-0eb43eefc85b",
        "colab": {
          "base_uri": "https://localhost:8080/"
        }
      },
      "execution_count": 46,
      "outputs": [
        {
          "output_type": "stream",
          "name": "stdout",
          "text": [
            "Ingrese el nombre de su producto financiero o escriba fin para finalizar: Ahorros\n",
            "Ingrese el nombre de su producto financiero o escriba fin para finalizar: Acciones\n",
            "Ingrese el nombre de su producto financiero o escriba fin para finalizar: CUenta corriente\n",
            "Ingrese el nombre de su producto financiero o escriba fin para finalizar: Bonos\n",
            "Ingrese el nombre de su producto financiero o escriba fin para finalizar: fin\n",
            "El cliente es premium\n",
            "None\n",
            "usted declaro los siguientes productos ['ahorros', 'acciones', 'cuenta corriente', 'bonos']\n"
          ]
        }
      ]
    },
    {
      "cell_type": "markdown",
      "source": [
        "Range:\n",
        "\n",
        "Usar range() para imprimir los primeros 10 múltiplos de 5."
      ],
      "metadata": {
        "id": "Dy62ebZYkrpb"
      }
    },
    {
      "cell_type": "code",
      "source": [
        "for i in range(0,9):\n",
        "  print(f'Este es el multiplo numero {i+1} de \"5\": {i*5}')"
      ],
      "metadata": {
        "id": "HQdq3G6bks3Q",
        "outputId": "69b1381a-dff1-46af-91b2-92123b26dbd2",
        "colab": {
          "base_uri": "https://localhost:8080/"
        }
      },
      "execution_count": 39,
      "outputs": [
        {
          "output_type": "stream",
          "name": "stdout",
          "text": [
            "Este es el multiplo numero 1 de \"5\": 0\n",
            "Este es el multiplo numero 2 de \"5\": 5\n",
            "Este es el multiplo numero 3 de \"5\": 10\n",
            "Este es el multiplo numero 4 de \"5\": 15\n",
            "Este es el multiplo numero 5 de \"5\": 20\n",
            "Este es el multiplo numero 6 de \"5\": 25\n",
            "Este es el multiplo numero 7 de \"5\": 30\n",
            "Este es el multiplo numero 8 de \"5\": 35\n",
            "Este es el multiplo numero 9 de \"5\": 40\n"
          ]
        }
      ]
    },
    {
      "cell_type": "markdown",
      "source": [
        "Usar range() para simular 6 meses de ahorro mensual y mostrar el total ahorrado."
      ],
      "metadata": {
        "id": "q4scOOshlWbh"
      }
    },
    {
      "cell_type": "code",
      "source": [
        "sum = 0\n",
        "count = 0\n",
        "for i in range(6):\n",
        "  ahorro = float(input(f'Ingrese el monto ahorrado en el mes {i+1}: '))\n",
        "  sum += ahorro\n",
        "  count += 1\n",
        "  promedio = sum / count\n",
        "print(f'El promedio final es {promedio:.2f}')"
      ],
      "metadata": {
        "id": "jgx6iG0JlXaG",
        "outputId": "d8065496-0623-4029-cff0-792b2f5cc9e7",
        "colab": {
          "base_uri": "https://localhost:8080/"
        }
      },
      "execution_count": 44,
      "outputs": [
        {
          "output_type": "stream",
          "name": "stdout",
          "text": [
            "Ingrese el monto ahorrado en el mes 1: 1758\n",
            "Ingrese el monto ahorrado en el mes 2: 1865\n",
            "Ingrese el monto ahorrado en el mes 3: 1769\n",
            "Ingrese el monto ahorrado en el mes 4: 19876\n",
            "Ingrese el monto ahorrado en el mes 5: 187\n",
            "Ingrese el monto ahorrado en el mes 6: 1870\n",
            "El promedio final es 4554.17\n"
          ]
        }
      ]
    },
    {
      "cell_type": "markdown",
      "source": [
        "5. MINI PROYECTO FINAL\n",
        "\n",
        "Descripción:\n",
        "\n",
        "Simular un sistema básico para evaluar el rendimiento financiero de clientes bancarios.\n",
        "\n",
        "Requisitos:\n",
        "\n",
        "Lista de clientes (IDs)\n",
        "\n",
        "Diccionario con ingresos mensuales\n",
        "\n",
        "Funciones para:\n",
        "\n",
        "Calcular ingreso anual\n",
        "\n",
        "Clasificar al cliente (alto, medio, bajo ingreso)\n",
        "\n",
        "Uso de range para simular 12 meses\n",
        "\n",
        "Uso de if, else, for, while"
      ],
      "metadata": {
        "id": "ZF5b80TGnPot"
      }
    },
    {
      "cell_type": "code",
      "source": [
        "#crear lista de IDs de clientes\n",
        "lista_clientes = []  #declaracion de variables\n",
        "cliente_id = ''\n",
        "ingresos = 0\n",
        "dic_clientes = {}\n",
        "while True:     #bucle para colectar clientes ID in una lista\n",
        "\n",
        "  if cliente_id != 'fin':\n",
        "    cliente_id = str(input('Ingrese el numero de DNI del cliente o \"fin\" para finalizar: ')).lower()\n",
        "    lista_clientes.append(cliente_id)\n",
        "  else:\n",
        "    break\n",
        "del lista_clientes[len(lista_clientes)-1]\n",
        "print(lista_clientes)\n",
        "\n",
        "for i in range(len(lista_clientes)):  #asignacion de ingresos a cada ID de la lista anterior\n",
        "  cliente_id = lista_clientes[i]\n",
        "  ingreso = float(input(f'Ingrese el ingreso mensual del cliente nuemro {i}: '))\n",
        "  dic_clientes[cliente_id] = {'ingresos' : ingreso}\n",
        "print(dic_clientes)"
      ],
      "metadata": {
        "id": "DHPM1WnEnQfx",
        "outputId": "eee62a23-3eaa-40b9-e4e2-ad9dabb9fdad",
        "colab": {
          "base_uri": "https://localhost:8080/"
        }
      },
      "execution_count": 71,
      "outputs": [
        {
          "output_type": "stream",
          "name": "stdout",
          "text": [
            "Ingrese el numero de DNI del cliente o \"fin\" para finalizar: 6252\n",
            "Ingrese el numero de DNI del cliente o \"fin\" para finalizar: fin\n",
            "['6252']\n",
            "Ingrese el ingreso mensual del cliente nuemro 0: 272\n",
            "{'6252': {'ingresos': 272.0}}\n"
          ]
        }
      ]
    },
    {
      "cell_type": "code",
      "source": [
        "def ingreso_anual(dic_clientes):  # bucle para añadir el ingreso anual al diccionario\n",
        "    for cliente_id in lista_clientes:\n",
        "        ingreso_mensual = dic_clientes[cliente_id]['ingresos']\n",
        "        ingreso_anual = ingreso_mensual * 12\n",
        "        dic_clientes[cliente_id]['ingreso_anual'] = round(ingreso_anual, 2)\n",
        "\n",
        "# Llamada a la función\n",
        "ingreso_anual(dic_clientes)\n",
        "\n",
        "# Mostrar el resultado\n",
        "print(dic_clientes)\n"
      ],
      "metadata": {
        "id": "aAsgK9HV1mG5",
        "outputId": "110f03e7-f2fd-4110-ebf2-c10ea0e3a446",
        "colab": {
          "base_uri": "https://localhost:8080/"
        }
      },
      "execution_count": 78,
      "outputs": [
        {
          "output_type": "stream",
          "name": "stdout",
          "text": [
            "{'6252': {'ingresos': 272.0, 'ingreso_anual': 3264.0}}\n"
          ]
        }
      ]
    },
    {
      "cell_type": "code",
      "source": [
        "def ingreso_anual(dic_clientes):  #bucle para añadir el ingreso anual al diccionario\n",
        "  for i in range(len(lista_clientes)):\n",
        "    ingreso_anual = dic_clientes[lista_clientes[i]]['ingresos'] * 12  #se accede con el codigo del cliente al su ingreso respectivo\n",
        "    dic_clientes[lista_clientes[i]] = {'ingreso_anual' : ingreso_anual}\n",
        "dic_clientes"
      ],
      "metadata": {
        "id": "btPXs3c40q1c",
        "outputId": "50f5afbb-d1a1-4606-9f86-cc073d78d843",
        "colab": {
          "base_uri": "https://localhost:8080/"
        }
      },
      "execution_count": 77,
      "outputs": [
        {
          "output_type": "execute_result",
          "data": {
            "text/plain": [
              "{'6252': {'ingresos': 272.0}}"
            ]
          },
          "metadata": {},
          "execution_count": 77
        }
      ]
    },
    {
      "cell_type": "code",
      "source": [
        "ingreso_anual = dic_clientes[lista_clientes[i]]['ingresos'] * 12\n",
        "ingreso_anual"
      ],
      "metadata": {
        "id": "s9KoS-WPyWyw",
        "outputId": "a7e103b5-1ce8-47fe-a677-d26d4dc1eca1",
        "colab": {
          "base_uri": "https://localhost:8080/"
        }
      },
      "execution_count": 66,
      "outputs": [
        {
          "output_type": "execute_result",
          "data": {
            "text/plain": [
              "2808.0"
            ]
          },
          "metadata": {},
          "execution_count": 66
        }
      ]
    }
  ]
}