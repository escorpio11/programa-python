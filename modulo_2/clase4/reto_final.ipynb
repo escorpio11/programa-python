{
  "nbformat": 4,
  "nbformat_minor": 0,
  "metadata": {
    "colab": {
      "provenance": [],
      "include_colab_link": true
    },
    "kernelspec": {
      "name": "python3",
      "display_name": "Python 3"
    },
    "language_info": {
      "name": "python"
    }
  },
  "cells": [
    {
      "cell_type": "markdown",
      "metadata": {
        "id": "view-in-github",
        "colab_type": "text"
      },
      "source": [
        "<a href=\"https://colab.research.google.com/github/escorpio11/programa-python/blob/main/modulo_2/clase4/reto_final.ipynb\" target=\"_parent\"><img src=\"https://colab.research.google.com/assets/colab-badge.svg\" alt=\"Open In Colab\"/></a>"
      ]
    },
    {
      "cell_type": "markdown",
      "source": [
        "# Operadores Aritméticos"
      ],
      "metadata": {
        "id": "JTV8y7qVbDVW"
      }
    },
    {
      "cell_type": "markdown",
      "source": [
        "***RETO FINAL***"
      ],
      "metadata": {
        "id": "m1IjW8JVsetB"
      }
    },
    {
      "cell_type": "code",
      "source": [
        "n=int(input(\"¿Cuántas simulaciones desea realizar?: \"))\n",
        "results=[]\n",
        "for i in range(n):\n",
        "    ingreso_mensual=int(input(\"Ingrese su ingreso mensual: \"))\n",
        "    edad=int(input(\"Ingrese su edad: \"))\n",
        "    valor_inmueble=int(input(\"Ingrese el valor del inmueble: \"))\n",
        "    cuota=valor_inmueble*(1+0.06)/12/20\n",
        "    if cuota>0.3*ingreso_mensual:\n",
        "        result=\"Su cuota es mayor al 30% de sus ingresos. No califica para el crédito hipotecario\"\n",
        "    elif edad+20>70:\n",
        "        result=\"Debido a su edad no califica para el crédito hipotecario\"\n",
        "    else:\n",
        "        result=\"Felicidades! Califica para el crédito hipotecario\"\n",
        "#print results for each case\n",
        "    results.append(result)\n",
        "for i in range(n):\n",
        "  print(f'cliente {i+1} : {results}')\n"
      ],
      "metadata": {
        "id": "A5OVvsDgixhN",
        "outputId": "3dfc636f-6070-4bc4-fe5f-38d70ea2b246",
        "colab": {
          "base_uri": "https://localhost:8080/"
        }
      },
      "execution_count": 33,
      "outputs": [
        {
          "output_type": "stream",
          "name": "stdout",
          "text": [
            "¿Cuántas simulaciones desea realizar?: 2\n",
            "Ingrese su ingreso mensual: 1\n",
            "Ingrese su edad: 1\n",
            "Ingrese el valor del inmueble: 1\n",
            "Ingrese su ingreso mensual: 1\n",
            "Ingrese su edad: 1\n",
            "Ingrese el valor del inmueble: 1\n",
            "cliente 1 : ['Felicidades! Califica para el crédito hipotecario', 'Felicidades! Califica para el crédito hipotecario']\n",
            "cliente 2 : ['Felicidades! Califica para el crédito hipotecario', 'Felicidades! Califica para el crédito hipotecario']\n"
          ]
        }
      ]
    },
    {
      "cell_type": "code",
      "source": [
        "n=int(input(\"¿Cuántas simulaciones desea realizar?: \"))\n",
        "for i in range(n):\n",
        "  print(i)"
      ],
      "metadata": {
        "id": "mhDQRLHbotzy",
        "outputId": "0950d1b3-854a-42ae-8b14-f5d6713676e9",
        "colab": {
          "base_uri": "https://localhost:8080/"
        }
      },
      "execution_count": 22,
      "outputs": [
        {
          "output_type": "stream",
          "name": "stdout",
          "text": [
            "¿Cuántas simulaciones desea realizar?: 3\n",
            "0\n",
            "1\n",
            "2\n"
          ]
        }
      ]
    },
    {
      "cell_type": "markdown",
      "source": [
        "1Bibliografía sugerida:\n",
        "\n",
        "Libro: Automate the Boring Stuff with Python - Al Sweigart (capítulos 2 y 4)\n",
        "\n",
        "Blog: Real Python\n",
        "\n",
        "Canal YouTube: Programación ATS, TecnoDavid, HolaMundo"
      ],
      "metadata": {
        "id": "AFYCwp_ntYHO"
      }
    }
  ]
}