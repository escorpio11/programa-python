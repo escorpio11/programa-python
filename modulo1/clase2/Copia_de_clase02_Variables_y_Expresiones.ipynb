{
  "nbformat": 4,
  "nbformat_minor": 0,
  "metadata": {
    "colab": {
      "provenance": [],
      "include_colab_link": true
    },
    "kernelspec": {
      "name": "python3",
      "display_name": "Python 3"
    },
    "language_info": {
      "name": "python"
    }
  },
  "cells": [
    {
      "cell_type": "markdown",
      "metadata": {
        "id": "view-in-github",
        "colab_type": "text"
      },
      "source": [
        "<a href=\"https://colab.research.google.com/github/escorpio11/programa-python/blob/main/modulo1/clase2/Copia_de_clase02_Variables_y_Expresiones.ipynb\" target=\"_parent\"><img src=\"https://colab.research.google.com/assets/colab-badge.svg\" alt=\"Open In Colab\"/></a>"
      ]
    },
    {
      "cell_type": "markdown",
      "source": [
        "<img src=\"https://posgrado.utec.edu.pe/sites/default/files/2023-08/Testimonial-home-2.jpg\" alt=\"HTML5 Icon\" width=\"900\" height=\"250\" >\n"
      ],
      "metadata": {
        "id": "cqadFmlrgAXp"
      }
    },
    {
      "cell_type": "markdown",
      "source": [
        "# **Ejercicios - Variables y Expresiones**"
      ],
      "metadata": {
        "id": "tW1-ULBmb0Cm"
      }
    },
    {
      "cell_type": "markdown",
      "source": [
        "**Ejercicio 1: Calculadora de ahorro semanal**\n",
        "\n",
        "Pide al usuario cuánto dinero ahorra cada día de lunes a domingo. Al final, muestra cuánto ahorró en total esa semana y cuánto tendría en un mes si repite el mismo patrón cada semana.\n",
        "\n",
        "- Pista: Usar 7 variables (ahorro_lunes, ahorro_martes, …), input(), float(), +, *."
      ],
      "metadata": {
        "id": "9igzfvIKqNGr"
      }
    },
    {
      "cell_type": "code",
      "source": [
        "## INICIO DE CÓDIGO\n",
        "#Inputs\n",
        "i=0\n",
        "saving_week=0\n",
        "days=['Monday','Tuesday','Wednesday','Thursday','Friday','Saturday','Sunday']\n",
        "#Process\n",
        "while i<=6:\n",
        "  saving[i-1]=input(f'Enter your saving for the day {days[i]}...... :')\n",
        "  i=i+1\n",
        "  saving_week=saving_week+float(saving[i-1])\n",
        "#Output\n",
        "print(f'Your saving for this week is {saving_week}')\n",
        "saving_month=saving_week*4\n",
        "print(f'Your saving for the month could be {saving_month}')\n",
        "\n",
        "\n",
        "## FIN DE CÓDIGO"
      ],
      "metadata": {
        "id": "BX-O1-4wqWF9",
        "outputId": "45189011-6352-492c-83c5-6ee968068ffa",
        "colab": {
          "base_uri": "https://localhost:8080/"
        }
      },
      "execution_count": 24,
      "outputs": [
        {
          "output_type": "stream",
          "name": "stdout",
          "text": [
            "Enter your saving for the day Monday...... :1\n",
            "Enter your saving for the day Tuesday...... :1\n",
            "Enter your saving for the day Wednesday...... :1\n",
            "Enter your saving for the day Thursday...... :1\n",
            "Enter your saving for the day Friday...... :1\n",
            "Enter your saving for the day Saturday...... :1\n",
            "Enter your saving for the day Sunday...... :1\n",
            "Your saving for this week is 7.0\n",
            "Your saving for the month could be 28.0\n"
          ]
        }
      ]
    },
    {
      "cell_type": "markdown",
      "source": [
        "**Ejercicio 2: Conversor de segundos**\n",
        "\n",
        "Solicita una cantidad total de segundos y muestra cuántos minutos y segundos representa.\n",
        "\n",
        "Ejemplo: 130 segundos → 2 minutos y 10 segundos\n",
        "* Pista: Usar // y %\n"
      ],
      "metadata": {
        "id": "oLaw6UggqV3E"
      }
    },
    {
      "cell_type": "code",
      "source": [
        "## INICIO DE CÓDIGO\n",
        "time_sec=(input('Enter a slot of time in seconds: '))\n",
        "time_min=int(time_sec)//60\n",
        "time_sec=int(time_sec)%60\n",
        "print(f'{time_min} minutes and {time_sec} seconds')\n",
        "## FIN DE CÓDIGO"
      ],
      "metadata": {
        "id": "bAuxBROrqaWb",
        "outputId": "c92607cd-8ace-4fef-8299-9d4a97863f9b",
        "colab": {
          "base_uri": "https://localhost:8080/"
        }
      },
      "execution_count": 25,
      "outputs": [
        {
          "output_type": "stream",
          "name": "stdout",
          "text": [
            "Enter a slot of time in seconds: 40\n",
            "0 minutes and 40 seconds\n"
          ]
        }
      ]
    },
    {
      "cell_type": "markdown",
      "source": [
        "**Ejercicio 3: Puntuación de juego**\n",
        "\n",
        "Un videojuego otorga:\n",
        "\n",
        "* 10 puntos por cada estrella recolectada,\n",
        "* 50 puntos por cada gema recolectada, y\n",
        "* 1 punto por cada segundo que el jugador se mantuvo vivo.\n",
        "\n",
        "Pide al usuario las tres cantidades y muestra su puntaje total.\n",
        "\n",
        "* Pista: total = estrellas*10 + gemas*50 + tiempo"
      ],
      "metadata": {
        "id": "dK4EIGoKrW2B"
      }
    },
    {
      "cell_type": "code",
      "source": [
        "## INICIO DE CÓDIGO\n",
        "collected_stars=int(input('Enter the number of stars collected: '))\n",
        "collected_gems=int(input('Enter the number of gems collected: '))\n",
        "time_survived=int(input('Enter the time survived in seconds: '))\n",
        "score=collected_stars*10+collected_gems*50+time_survived\n",
        "print(f'Your score is {score}')\n",
        "\n",
        "## FIN DE CÓDIGO"
      ],
      "metadata": {
        "id": "jkBQHQF1rlUY",
        "outputId": "8357d513-abdf-458d-c159-425c977c2cd4",
        "colab": {
          "base_uri": "https://localhost:8080/"
        }
      },
      "execution_count": 26,
      "outputs": [
        {
          "output_type": "stream",
          "name": "stdout",
          "text": [
            "Enter the number of stars collected: 2\n",
            "Enter the number of gems collected: 3\n",
            "Enter the time survived in seconds: 56\n",
            "Your score is 226\n"
          ]
        }
      ]
    },
    {
      "cell_type": "markdown",
      "source": [
        "**Ejercicio 4: Conversor de monedas con tasa personalizada**\n",
        "\n",
        "Solicita al usuario:\n",
        "\n",
        "* El monto en soles\n",
        "* La tasa de cambio a dólares\n",
        "\n",
        "Muestra el equivalente en dólares, redondeado a 2 decimales.\n",
        "\n",
        "* Pista: Usar float(), *, round(valor, 2)"
      ],
      "metadata": {
        "id": "wW9Edl_8rlt1"
      }
    },
    {
      "cell_type": "code",
      "source": [
        "## INICIO DE CÓDIGO\n",
        "amount_soles=float(input('Enter the amount in soles: '))\n",
        "exchange_rate=float(input('Enter the exchange rate: '))\n",
        "amount_dollars=round(amount_soles/exchange_rate,2)\n",
        "print(f'The equivalence in dollars is {amount_dollars}')\n",
        "## FIN DE CÓDIGO"
      ],
      "metadata": {
        "id": "fTCsCohHrmQW",
        "outputId": "e88d8fa9-c557-4d12-8f51-3aea49820463",
        "colab": {
          "base_uri": "https://localhost:8080/"
        }
      },
      "execution_count": 27,
      "outputs": [
        {
          "output_type": "stream",
          "name": "stdout",
          "text": [
            "Enter the amount in soles: 398\n",
            "Enter the exchange rate: 3.7865\n",
            "The equivalence in dollars is 105.11\n"
          ]
        }
      ]
    },
    {
      "cell_type": "markdown",
      "source": [
        "**Ejercicio 5: Costo compartido de viaje**\n",
        "\n",
        "Tres amigos hacen un viaje y pagan distintos montos:\n",
        "\n",
        "* Ana pagó gasolina,\n",
        "* Luis pagó peajes,\n",
        "* Carla pagó comida.\n",
        "\n",
        "Pide los tres montos, calcula el total y cuánto debería aportar cada uno para que paguen igual.\n",
        "\n",
        "* Pista: Calcular el total y luego dividirlo entre 3"
      ],
      "metadata": {
        "id": "JYUyJAidrmnT"
      }
    },
    {
      "cell_type": "code",
      "source": [
        "## INICIO DE CÓDIGO\n",
        "gas_ana=float(input('Enter the amount paid by Ana for fuel: '))\n",
        "toll_luis=float(input('Enter the amount paid by Luis for tolls: '))\n",
        "food_carla=float(input('Enter the amount paid by Carla for food: '))\n",
        "total=gas_ana+toll_luis+food_carla\n",
        "print(f'The total amount is {total}')\n",
        "\n",
        "## FIN DE CÓDIGO"
      ],
      "metadata": {
        "id": "SGjH-m_mrom9",
        "outputId": "453f76a5-f5ee-4a18-d120-71c4e1325252",
        "colab": {
          "base_uri": "https://localhost:8080/"
        }
      },
      "execution_count": 28,
      "outputs": [
        {
          "output_type": "stream",
          "name": "stdout",
          "text": [
            "Enter the amount paid by Ana for fuel: 23\n",
            "Enter the amount paid by Luis for tolls: 34\n",
            "Enter the amount paid by Carla for food: 45\n",
            "The total amount is 102.0\n"
          ]
        }
      ]
    },
    {
      "cell_type": "markdown",
      "source": [
        "**Ejercicio 6: Tiempo total de estudio**\n",
        "\n",
        "Solicita al usuario cuántas horas estudió en 4 materias distintas.\n",
        "\n",
        "Muestra el total de horas de estudio en la semana y el promedio diario (considerando 7 días).\n"
      ],
      "metadata": {
        "id": "skhBiCaCro5l"
      }
    },
    {
      "cell_type": "code",
      "source": [
        "## INICIO DE CÓDIGO\n",
        "t_math=float(input('Enter the number of hours studied in Mathematics: '))\n",
        "t_history=float(input('Enter the number of hours studied in History: '))\n",
        "t_science=float(input('Enter the number of hours studied in Science: '))\n",
        "t_english=float(input('Enter the number of hours studied in English: '))\n",
        "t_week=t_math+t_history+t_science+t_english\n",
        "t_week_hours=int(t_week)\n",
        "t_week_minutes=int(t_week%60)\n",
        "t_day_hours=int(t_week/7)\n",
        "y_day_minutes=int(t_week/7%60)\n",
        "print(f'The total number of hours studied in the week is {t_week_hours} hours and {t_week_minutes} minutes')\n",
        "print(f'The total number of hours studied in a day is {t_day_hours} hours and {y_day_minutes} minutes')\n",
        "## FIN DE CÓDIGO"
      ],
      "metadata": {
        "id": "HnFuV1RPrqXQ",
        "outputId": "89214055-d36b-4846-9fed-2d8973da315c",
        "colab": {
          "base_uri": "https://localhost:8080/"
        }
      },
      "execution_count": 31,
      "outputs": [
        {
          "output_type": "stream",
          "name": "stdout",
          "text": [
            "Enter the number of hours studied in Mathematics: 23\n",
            "Enter the number of hours studied in History: 24\n",
            "Enter the number of hours studied in Science: 28.9\n",
            "Enter the number of hours studied in English: 2\n",
            "The total number of hours studied in the week is 77 hours and 17 minutes\n",
            "The total number of hours studied in a day is 11 hours and 11 minutes\n"
          ]
        }
      ]
    },
    {
      "cell_type": "markdown",
      "source": [
        "**Ejercicio 7: Nombre codificado (nivel string)**\n",
        "\n",
        "Pide al usuario su nombre completo y muestra:\n",
        "\n",
        "* La cantidad de caracteres (con len())\n",
        "* Su nombre todo en mayúsculas (.upper())\n",
        "* Su nombre todo en minúsculas (.lower())\n"
      ],
      "metadata": {
        "id": "rNjtOXKWrqs5"
      }
    },
    {
      "cell_type": "code",
      "source": [
        "from os import name\n",
        "## INICIO DE CÓDIGO\n",
        "name=input('Enter your full name: ')\n",
        "print(f'The number of characters in your name is {len(name)}')\n",
        "print(f'Your name in uppercase is {name.upper()}')\n",
        "print(f'Your name in lowercase is {name.lower()}')\n",
        "## FIN DE CÓDIGO"
      ],
      "metadata": {
        "id": "GnGm74GXrsL0",
        "outputId": "a1652149-44dc-4af6-e4c0-2f2d674fd9ad",
        "colab": {
          "base_uri": "https://localhost:8080/"
        }
      },
      "execution_count": 32,
      "outputs": [
        {
          "output_type": "stream",
          "name": "stdout",
          "text": [
            "Enter your full name: Emmanuel\n",
            "The number of characters in your name is 8\n",
            "Your name in uppercase is EMMANUEL\n",
            "Your name in lowercase is emmanuel\n"
          ]
        }
      ]
    },
    {
      "cell_type": "markdown",
      "source": [
        "**Ejercicio 8: Frase repetida**\n",
        "\n",
        "Pide una frase y un número n, y muestra la frase repetida n veces, cada una en una línea.\n",
        "\n",
        "* Pista: print(frase * n)  # y/o con '\\n'"
      ],
      "metadata": {
        "id": "lrhPyjmWrse2"
      }
    },
    {
      "cell_type": "code",
      "source": [
        "## INICIO DE CÓDIGO\n",
        "phrase=input('Enter a phrase:')\n",
        "number=int(input('Enter a number:'))\n",
        "print((phrase+'\\n')*number)\n",
        "## FIN DE CÓDIGO"
      ],
      "metadata": {
        "id": "Vzef3t_Lru0p",
        "outputId": "666f5e6d-9723-49b7-c488-8c949c3dd148",
        "colab": {
          "base_uri": "https://localhost:8080/"
        }
      },
      "execution_count": 33,
      "outputs": [
        {
          "output_type": "stream",
          "name": "stdout",
          "text": [
            "Enter a phrase:Hello\n",
            "Enter a number:3\n",
            "Hello\n",
            "Hello\n",
            "Hello\n",
            "\n"
          ]
        }
      ]
    },
    {
      "cell_type": "markdown",
      "source": [
        "**Ejercicio 9: División de cuentas**\n",
        "\n",
        "Un grupo de amigos pide una cuenta por S/ 250.\n",
        "Pide al usuario cuántas personas están en el grupo y muestra cuánto debe pagar cada uno.\n",
        "\n",
        "Asegúrate de redondear el resultado a 2 decimales.\n",
        "\n",
        "* Pista: Usa la funcion round()"
      ],
      "metadata": {
        "id": "5NpbbGR_rvNH"
      }
    },
    {
      "cell_type": "code",
      "source": [
        "## INICIO DE CÓDIGO\n",
        "bill=250\n",
        "number_people=int(input('Enter the number of people in the group: '))\n",
        "print(f'Each people in the group should pay {round(bill/number_people,2)} soles')\n",
        "\n",
        "## FIN DE CÓDIGO"
      ],
      "metadata": {
        "id": "uMxuVCUVrvj6",
        "outputId": "4d9c7c87-b2e5-41c0-ab39-994cac816843",
        "colab": {
          "base_uri": "https://localhost:8080/"
        }
      },
      "execution_count": 35,
      "outputs": [
        {
          "output_type": "stream",
          "name": "stdout",
          "text": [
            "Enter the number of people in the group: 4\n",
            "Each people in the group should pay 62.5 soles\n"
          ]
        }
      ]
    },
    {
      "cell_type": "markdown",
      "source": [
        "**Ejercicio 10: Calendario de clases**\n",
        "\n",
        "Pide cuántas horas se estudia en promedio por día, y cuántos días tiene el mes.\n",
        "\n",
        "Calcula cuántas horas de estudio habrá ese mes."
      ],
      "metadata": {
        "id": "p3PYp0l4pxuI"
      }
    },
    {
      "cell_type": "code",
      "source": [
        "## INICIO DE CÓDIGO\n",
        "hours_per_day=int(input('Enter the number of hours studied per day:'))\n",
        "days_in_month=int(input('Enter the number of days in the month:'))\n",
        "print(f'The total number of hours studied in the month is {hours_per_day*days_in_month}')\n",
        "## FIN DE CÓDIGO"
      ],
      "metadata": {
        "id": "y1bXFffhrxk2",
        "outputId": "26c37a30-803b-4ab3-fced-18b1883ca9d4",
        "colab": {
          "base_uri": "https://localhost:8080/"
        }
      },
      "execution_count": 36,
      "outputs": [
        {
          "output_type": "stream",
          "name": "stdout",
          "text": [
            "Enter the number of hours studied per day:2\n",
            "Enter the number of days in the month:30\n",
            "The total number of hours studied in the month is 60\n"
          ]
        }
      ]
    },
    {
      "cell_type": "markdown",
      "source": [
        "---\n",
        "\n",
        "# Gracias por completar este laboratorio!\n",
        "\n",
        "---\n"
      ],
      "metadata": {
        "id": "8_ZocYoOrx3Z"
      }
    }
  ]
}