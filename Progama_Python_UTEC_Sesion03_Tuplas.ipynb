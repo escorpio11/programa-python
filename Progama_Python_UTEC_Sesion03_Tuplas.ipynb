{
  "nbformat": 4,
  "nbformat_minor": 0,
  "metadata": {
    "colab": {
      "provenance": [],
      "toc_visible": true,
      "include_colab_link": true
    },
    "kernelspec": {
      "name": "python3",
      "display_name": "Python 3"
    },
    "language_info": {
      "name": "python"
    }
  },
  "cells": [
    {
      "cell_type": "markdown",
      "metadata": {
        "id": "view-in-github",
        "colab_type": "text"
      },
      "source": [
        "<a href=\"https://colab.research.google.com/github/escorpio11/programa-python/blob/main/Progama_Python_UTEC_Sesion03_Tuplas.ipynb\" target=\"_parent\"><img src=\"https://colab.research.google.com/assets/colab-badge.svg\" alt=\"Open In Colab\"/></a>"
      ]
    },
    {
      "cell_type": "markdown",
      "source": [
        "## [1] Tuplas"
      ],
      "metadata": {
        "id": "PPS0lZeKcs0W"
      }
    },
    {
      "cell_type": "markdown",
      "source": [
        "### [1.1] Tuplas a partir de un DataFrame"
      ],
      "metadata": {
        "id": "dccU3CnJA61l"
      }
    },
    {
      "cell_type": "code",
      "source": [
        "import pandas as pd\n",
        "data = pd.read_csv(\"clientes.csv\",sep=';')\n",
        "data.shape"
      ],
      "metadata": {
        "id": "Bvl3_er6A5u_"
      },
      "execution_count": null,
      "outputs": []
    },
    {
      "cell_type": "markdown",
      "source": [
        "### [1.2] Tuplas a partir de enumerate"
      ],
      "metadata": {
        "id": "6Ga15KnUBjJ6"
      }
    },
    {
      "cell_type": "code",
      "source": [
        "paises = ['perú','colombia','venezuela','ecuador','chile']\n",
        "\n",
        "for i,pais in enumerate(paises):\n",
        "  print((i,pais))"
      ],
      "metadata": {
        "id": "uGif8EEGBvqM"
      },
      "execution_count": null,
      "outputs": []
    },
    {
      "cell_type": "markdown",
      "source": [
        "### [1.3] Tuplas a partir de librería os"
      ],
      "metadata": {
        "id": "BadFpPR9CCTZ"
      }
    },
    {
      "cell_type": "code",
      "source": [
        "import os\n",
        "\n",
        "ruta = \"/home/usuario/archivo.txt\"\n",
        "resultado = os.path.split(ruta)\n",
        "print(resultado)"
      ],
      "metadata": {
        "id": "g7AqxAYmBwIM"
      },
      "execution_count": null,
      "outputs": []
    },
    {
      "cell_type": "markdown",
      "source": [
        "## [2] Crear tuplas e identificar los tipos de tuplas"
      ],
      "metadata": {
        "id": "DWhuqqC-fj5G"
      }
    },
    {
      "cell_type": "code",
      "source": [
        "tupla_0 = ('ibk','bcp','bbva')\n",
        "print(tupla_0)"
      ],
      "metadata": {
        "id": "qzsv-0QWBf8c"
      },
      "execution_count": null,
      "outputs": []
    },
    {
      "cell_type": "code",
      "source": [
        "tupla_0 = () # Tupla vacía"
      ],
      "metadata": {
        "id": "g9w3MgKvbOYX"
      },
      "execution_count": null,
      "outputs": []
    },
    {
      "cell_type": "code",
      "source": [
        "type(tupla_0)"
      ],
      "metadata": {
        "id": "zRkTwen0c5XP"
      },
      "execution_count": null,
      "outputs": []
    },
    {
      "cell_type": "code",
      "source": [
        "tupla_1 = (5,) # Tupla de 1 elemento\n",
        "type(tupla_1)"
      ],
      "metadata": {
        "id": "n5NnbgLMc7Al"
      },
      "execution_count": null,
      "outputs": []
    },
    {
      "cell_type": "markdown",
      "source": [
        "## Actividad N022"
      ],
      "metadata": {
        "id": "-qKSwJwWDkBd"
      }
    },
    {
      "cell_type": "markdown",
      "source": [
        "Crear una tupla con el nombre “equipos”, los elementos de la tupla serán 5 equipos de fútbol y vamos a mostrar en pantalla el resultado."
      ],
      "metadata": {
        "id": "7rk2mFtKDnSu"
      }
    },
    {
      "cell_type": "code",
      "source": [],
      "metadata": {
        "id": "nyszH_XfDrVI"
      },
      "execution_count": null,
      "outputs": []
    },
    {
      "cell_type": "markdown",
      "source": [
        "## [3] Tipos de tuplas"
      ],
      "metadata": {
        "id": "i2YPNZCzDyWg"
      }
    },
    {
      "cell_type": "code",
      "source": [
        "# Tupla homogénea => elementos son del mismo tipo\n",
        "\n",
        "tupla_2 = (2.0, 2.5, 3.2, 4.3, 4.5, 6.5, 7.0)\n",
        "print(f\"La tupla es \\n{tupla_2}\")\n",
        "print(f\"El objeto tupla_2 es del tipo {type(tupla_2)}\")"
      ],
      "metadata": {
        "id": "6jSfoLLvdHSY"
      },
      "execution_count": null,
      "outputs": []
    },
    {
      "cell_type": "markdown",
      "source": [
        "## Actividad N023"
      ],
      "metadata": {
        "id": "5OCfITR2FNXH"
      }
    },
    {
      "cell_type": "markdown",
      "source": [
        "(2,5.5,'UTEC',True)\n",
        "\n",
        "Crear una tupla con la información de la imagen superior y nombrar como “info_personal”.\n",
        "¿Qué tipo de tupla es “info_personal”?"
      ],
      "metadata": {
        "id": "qz4HAITeFPe7"
      }
    },
    {
      "cell_type": "code",
      "source": [],
      "metadata": {
        "id": "4rEE9oKYFZVM"
      },
      "execution_count": null,
      "outputs": []
    },
    {
      "cell_type": "markdown",
      "source": [
        "## [4] Acceder a los elementos de las tuplas"
      ],
      "metadata": {
        "id": "MY9xSd-qfgkS"
      }
    },
    {
      "cell_type": "code",
      "source": [
        "materias = ('algebra','aritmética','razonamiento verbal','trigonometría','geometría')"
      ],
      "metadata": {
        "id": "eRYIY_eEEEd3"
      },
      "execution_count": null,
      "outputs": []
    },
    {
      "cell_type": "code",
      "source": [
        "materias[2]"
      ],
      "metadata": {
        "id": "PIz7aCaJEZHj"
      },
      "execution_count": null,
      "outputs": []
    },
    {
      "cell_type": "code",
      "source": [
        "materias[1:3]"
      ],
      "metadata": {
        "id": "kIF8FIZqEdsw"
      },
      "execution_count": null,
      "outputs": []
    },
    {
      "cell_type": "code",
      "source": [
        "print(f\"La tupla es {tupla_3}\")\n",
        "print(f\"El elemento de índice 1 de la tupla es {tupla_3[1]}\")"
      ],
      "metadata": {
        "id": "G_AXXBySeEo4"
      },
      "execution_count": null,
      "outputs": []
    },
    {
      "cell_type": "code",
      "source": [
        "tupla_4 = (1,2,3,4,5,6,7,8,9,10)"
      ],
      "metadata": {
        "id": "ndnatYBSf6_V"
      },
      "execution_count": null,
      "outputs": []
    },
    {
      "cell_type": "code",
      "source": [
        "# Acceder a los elementos de la tupla por operadores de segmentación\n",
        "print(f\"Los elementos seleccionados de la tupla original son \\n{tupla_4[2:7]}\")"
      ],
      "metadata": {
        "id": "AQhKAo1Sjnjs"
      },
      "execution_count": null,
      "outputs": []
    },
    {
      "cell_type": "code",
      "source": [
        "print(f\"Los elementos seleccionados de la tupla original son \\n{tupla_4[7:]}\")"
      ],
      "metadata": {
        "id": "ynldLm6JkrTS"
      },
      "execution_count": null,
      "outputs": []
    },
    {
      "cell_type": "code",
      "source": [
        "print(f\"Los elementos seleccionados de la tupla original son \\n{tupla_4[0:4]}\")"
      ],
      "metadata": {
        "id": "D-k3mMqWloTN"
      },
      "execution_count": null,
      "outputs": []
    },
    {
      "cell_type": "code",
      "source": [
        "print(f\"Los elementos seleccionados de la tupla original son \\n{tupla_4[:4]}\")"
      ],
      "metadata": {
        "id": "IScUIKDblsUM"
      },
      "execution_count": null,
      "outputs": []
    },
    {
      "cell_type": "markdown",
      "source": [
        "## Actividad N024"
      ],
      "metadata": {
        "id": "zxMMwTm5Es5v"
      }
    },
    {
      "cell_type": "markdown",
      "source": [
        "Acceder al último elemento de la tupla (“equipos”)."
      ],
      "metadata": {
        "id": "VmmXpCP9Exf9"
      }
    },
    {
      "cell_type": "code",
      "source": [],
      "metadata": {
        "id": "6cOHpfzlEw0U"
      },
      "execution_count": null,
      "outputs": []
    },
    {
      "cell_type": "markdown",
      "source": [
        "Acceder a los primeros 3 elementos de la tupla (“equipos”)."
      ],
      "metadata": {
        "id": "aBUdIPP8E8IQ"
      }
    },
    {
      "cell_type": "code",
      "source": [],
      "metadata": {
        "id": "O-Q7KnwOE9YQ"
      },
      "execution_count": null,
      "outputs": []
    },
    {
      "cell_type": "markdown",
      "source": [
        "## [5] Desempaquetado de tuplas"
      ],
      "metadata": {
        "id": "90beMxfqovaa"
      }
    },
    {
      "cell_type": "code",
      "source": [
        "var_1, var_2 = \"UTEC\",\"UPC\" # Desempaquetado de dos cadenas de caracteres en dos variables (var_1,var_2)"
      ],
      "metadata": {
        "id": "py4oDOQronuA"
      },
      "execution_count": null,
      "outputs": []
    },
    {
      "cell_type": "code",
      "source": [
        "print(f\"El valor de var_1 es {var_1}\")\n",
        "print(f\"El valor de var_2 es {var_2}\")"
      ],
      "metadata": {
        "id": "jzXde_wyo6mi"
      },
      "execution_count": null,
      "outputs": []
    },
    {
      "cell_type": "code",
      "source": [
        "t_vocales = (\"a\", \"e\", \"i\", \"o\", \"u\")\n",
        "print(f\"La tupla vocales es {t_vocales}\")"
      ],
      "metadata": {
        "id": "OnR3rrRvpBMJ"
      },
      "execution_count": null,
      "outputs": []
    },
    {
      "cell_type": "code",
      "source": [
        "print(f\"La selección de los primeros tres elementos es {t_vocales[0:3]}\")"
      ],
      "metadata": {
        "id": "7oXysCaZpVl-"
      },
      "execution_count": null,
      "outputs": []
    },
    {
      "cell_type": "code",
      "source": [
        "x, y, z = t_vocales[0:3] # Desempaquetar los elementos de la tupla en 3 variables"
      ],
      "metadata": {
        "id": "yygRS0qvqB9l"
      },
      "execution_count": null,
      "outputs": []
    },
    {
      "cell_type": "code",
      "source": [
        "print(f\"El primer elemento de la tupla vocales es {x}.\")\n",
        "print(f\"El segundo elemento de la tupla vocales es {y}.\")\n",
        "print(f\"El tercer elemento de la tupla vocales es {z}.\")"
      ],
      "metadata": {
        "id": "R1IwLShhqNaP"
      },
      "execution_count": null,
      "outputs": []
    },
    {
      "cell_type": "code",
      "source": [
        "t_vocales[0] = \"A\" # Tuplas son inmutables"
      ],
      "metadata": {
        "id": "NNXZ16M5qfIv"
      },
      "execution_count": null,
      "outputs": []
    },
    {
      "cell_type": "code",
      "source": [
        "print(materias)"
      ],
      "metadata": {
        "id": "54h3b0goFxLE"
      },
      "execution_count": null,
      "outputs": []
    },
    {
      "cell_type": "code",
      "source": [
        "x,y,z = materias[0:3]"
      ],
      "metadata": {
        "id": "XAelNq2gq_T5"
      },
      "execution_count": null,
      "outputs": []
    },
    {
      "cell_type": "markdown",
      "source": [
        "## Actividad N025"
      ],
      "metadata": {
        "id": "L6mFLkVaF_Qw"
      }
    },
    {
      "cell_type": "markdown",
      "source": [
        "Desempaquetar los 2 últimos equipos de la tupla (“equipos”) y almacenarlos en los objetos equipo_A y equipo_B."
      ],
      "metadata": {
        "id": "cpSfGmfoGCZO"
      }
    },
    {
      "cell_type": "code",
      "source": [],
      "metadata": {
        "id": "xMYOFUjqGBsb"
      },
      "execution_count": null,
      "outputs": []
    },
    {
      "cell_type": "markdown",
      "source": [
        "## [6] Desempaquetado de tuplas con FOR"
      ],
      "metadata": {
        "id": "bYvov9PCrwZf"
      }
    },
    {
      "cell_type": "code",
      "source": [
        "t_prod = ((\"A0001\",\"manzana\",3.0),(\"A0002\",\"aceite\",7.5))"
      ],
      "metadata": {
        "id": "ZBKicQLJre0p"
      },
      "execution_count": null,
      "outputs": []
    },
    {
      "cell_type": "code",
      "source": [
        "print(f\"La tupla de productos es \\n{t_prod}\")"
      ],
      "metadata": {
        "id": "N0IHEobWsEkJ"
      },
      "execution_count": null,
      "outputs": []
    },
    {
      "cell_type": "code",
      "source": [
        "for cod,prod,pre in t_prod:\n",
        "  print(f\"El producto {prod} con código {cod} tiene el precio vigente en S/.{pre}\")"
      ],
      "metadata": {
        "id": "rZt_NLthsI1k"
      },
      "execution_count": null,
      "outputs": []
    },
    {
      "cell_type": "markdown",
      "source": [
        "## [7] Función tuple"
      ],
      "metadata": {
        "id": "GKm73_I7supL"
      }
    },
    {
      "cell_type": "code",
      "source": [
        "pares = tuple(range(2,11,2))\n",
        "print(pares)"
      ],
      "metadata": {
        "id": "KXZ3pB0WGeXV"
      },
      "execution_count": null,
      "outputs": []
    },
    {
      "cell_type": "code",
      "source": [
        "lista_ = list(range(10)) # Función list me permite crear listas"
      ],
      "metadata": {
        "id": "FqYvb0BestuV"
      },
      "execution_count": null,
      "outputs": []
    },
    {
      "cell_type": "code",
      "source": [
        "print(f\"La lista {lista_} es del tipo {type(lista_)}\")"
      ],
      "metadata": {
        "id": "-9Dcr5ursiYC"
      },
      "execution_count": null,
      "outputs": []
    },
    {
      "cell_type": "code",
      "source": [
        "tupla_ = tuple(lista_) # Función tuple me permite crear tuplas\n",
        "print(f\"La tupla {tupla_} es del tipo {type(tupla_)}\")"
      ],
      "metadata": {
        "id": "p-5jW-BttDEa"
      },
      "execution_count": null,
      "outputs": []
    },
    {
      "cell_type": "code",
      "source": [
        "tuple(\"David\")"
      ],
      "metadata": {
        "id": "PCrzJ3y8tXrs"
      },
      "execution_count": null,
      "outputs": []
    },
    {
      "cell_type": "markdown",
      "source": [
        "## Actividad N026"
      ],
      "metadata": {
        "id": "eDbrnbWkGiLB"
      }
    },
    {
      "cell_type": "markdown",
      "source": [
        "Crear la tupla cobre_prod, esta tupla estará compuesta por la información del cuadro."
      ],
      "metadata": {
        "id": "Y3aiPsbNGqQi"
      }
    },
    {
      "cell_type": "code",
      "source": [],
      "metadata": {
        "id": "y_fwBZT0GkcE"
      },
      "execution_count": null,
      "outputs": []
    },
    {
      "cell_type": "markdown",
      "source": [
        "## Actividad N027"
      ],
      "metadata": {
        "id": "fyCkjmKrGvT4"
      }
    },
    {
      "cell_type": "markdown",
      "source": [
        "Desempaquetar la tupla cobre_prod, imprimir en pantalla los siguientes enunciados."
      ],
      "metadata": {
        "id": "OKnEoJyEGrrI"
      }
    },
    {
      "cell_type": "code",
      "source": [],
      "metadata": {
        "id": "KMLfnzfTGtu2"
      },
      "execution_count": null,
      "outputs": []
    }
  ]
}