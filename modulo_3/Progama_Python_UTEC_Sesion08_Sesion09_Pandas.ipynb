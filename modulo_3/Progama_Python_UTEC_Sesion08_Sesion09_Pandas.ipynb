{
  "nbformat": 4,
  "nbformat_minor": 0,
  "metadata": {
    "colab": {
      "provenance": [],
      "include_colab_link": true
    },
    "kernelspec": {
      "name": "python3",
      "display_name": "Python 3"
    },
    "language_info": {
      "name": "python"
    }
  },
  "cells": [
    {
      "cell_type": "markdown",
      "metadata": {
        "id": "view-in-github",
        "colab_type": "text"
      },
      "source": [
        "<a href=\"https://colab.research.google.com/github/escorpio11/programa-python/blob/main/modulo_3/Progama_Python_UTEC_Sesion08_Sesion09_Pandas.ipynb\" target=\"_parent\"><img src=\"https://colab.research.google.com/assets/colab-badge.svg\" alt=\"Open In Colab\"/></a>"
      ]
    },
    {
      "cell_type": "markdown",
      "source": [
        "## Pandas"
      ],
      "metadata": {
        "id": "-Nqz6ukyNDeh"
      }
    },
    {
      "cell_type": "markdown",
      "source": [
        "### Series"
      ],
      "metadata": {
        "id": "692MPyAFNXEh"
      }
    },
    {
      "cell_type": "code",
      "execution_count": null,
      "metadata": {
        "id": "c9djoeVPNBVV"
      },
      "outputs": [],
      "source": [
        "# Llamar a la librería Pandas\n",
        "import pandas as pd"
      ]
    },
    {
      "cell_type": "code",
      "source": [
        "# Creación de una serie a partir de 5 números aleatorios usando la librería numpy\n",
        "import numpy as np\n",
        "\n",
        "pd.Series(np.random.randn(5))"
      ],
      "metadata": {
        "id": "pj_iqthXNEd4"
      },
      "execution_count": null,
      "outputs": []
    },
    {
      "cell_type": "code",
      "source": [
        "pd.Series(np.random.randn(5), index=['a', 'b', 'c', 'd', 'e'])"
      ],
      "metadata": {
        "id": "q8LaW3tKNgNc"
      },
      "execution_count": null,
      "outputs": []
    },
    {
      "cell_type": "markdown",
      "source": [
        "### DataFrames"
      ],
      "metadata": {
        "id": "O--CFjOkNnIH"
      }
    },
    {
      "cell_type": "code",
      "source": [
        "# Data Frames que provienen de diccionarios de series.\n",
        "d = {\n",
        "    'c1': pd.Series(['A', 'B', 'C']),\n",
        "    'c2': pd.Series([1, 2., 3., 4.])\n",
        "    }\n",
        "\n",
        "print(d)"
      ],
      "metadata": {
        "id": "U52C7VdnNh5z"
      },
      "execution_count": null,
      "outputs": []
    },
    {
      "cell_type": "code",
      "source": [
        "# Convertir un diccionario en un DataFrame\n",
        "df = pd.DataFrame(d)\n",
        "df"
      ],
      "metadata": {
        "id": "-8Hxlp0VN1fb"
      },
      "execution_count": null,
      "outputs": []
    },
    {
      "cell_type": "code",
      "source": [
        "# Data Frames que provienen de diccionarios de listas.\n",
        "d = {\n",
        "    'c1': ['A', 'B', 'C', 'D'],\n",
        "    'c2': [1, 2.0, 3.0, 4.0]\n",
        "    }\n",
        "\n",
        "df = pd.DataFrame(d)"
      ],
      "metadata": {
        "id": "OGGaawRSN4SU"
      },
      "execution_count": null,
      "outputs": []
    },
    {
      "cell_type": "code",
      "source": [
        "df"
      ],
      "metadata": {
        "id": "Yi-IG-tHOQbW"
      },
      "execution_count": null,
      "outputs": []
    },
    {
      "cell_type": "code",
      "source": [
        "np.random.randn(4, 3)"
      ],
      "metadata": {
        "id": "HiSyZ7VR70na"
      },
      "execution_count": null,
      "outputs": []
    },
    {
      "cell_type": "code",
      "source": [
        "# Data Frames que provienen de diccionarios de series.\n",
        "\n",
        "d = {\n",
        "    'Item1': pd.DataFrame(np.random.randn(4, 3)),\n",
        "    'Item2': pd.DataFrame(np.random.randn(4, 2))\n",
        "    }\n",
        "\n",
        "print(d)"
      ],
      "metadata": {
        "id": "MTsdbVP9ORIH"
      },
      "execution_count": null,
      "outputs": []
    },
    {
      "cell_type": "code",
      "source": [
        "pd.DataFrame(d['Item1'])"
      ],
      "metadata": {
        "id": "dXMbjjLRO6ju"
      },
      "execution_count": null,
      "outputs": []
    },
    {
      "cell_type": "code",
      "source": [
        "pd.DataFrame(d['Item2'])"
      ],
      "metadata": {
        "id": "OS6pbKs2PNM6"
      },
      "execution_count": null,
      "outputs": []
    },
    {
      "cell_type": "markdown",
      "source": [
        "### Importar Datos CSV"
      ],
      "metadata": {
        "id": "CfjnNf2ZQ76T"
      }
    },
    {
      "cell_type": "code",
      "source": [
        "from google.colab import drive\n",
        "drive.mount('/gdrive')"
      ],
      "metadata": {
        "id": "f3XmmgqRQVGh"
      },
      "execution_count": null,
      "outputs": []
    },
    {
      "cell_type": "code",
      "source": [
        "ruta = \"/gdrive/My Drive/UTEC/\"\n",
        "dataset = \"students.csv\""
      ],
      "metadata": {
        "id": "waWLFsNPYjpH"
      },
      "execution_count": null,
      "outputs": []
    },
    {
      "cell_type": "code",
      "source": [
        "ruta+dataset"
      ],
      "metadata": {
        "id": "nhuVAQIVZPsI",
        "colab": {
          "base_uri": "https://localhost:8080/",
          "height": 36
        },
        "outputId": "9e8efffa-33e3-4d70-82fd-64e93286e7e6"
      },
      "execution_count": null,
      "outputs": [
        {
          "output_type": "execute_result",
          "data": {
            "text/plain": [
              "'/gdrive/My Drive/UTEC/students.csv'"
            ],
            "application/vnd.google.colaboratory.intrinsic+json": {
              "type": "string"
            }
          },
          "metadata": {},
          "execution_count": 34
        }
      ]
    },
    {
      "cell_type": "code",
      "source": [
        "d = pd.read_csv(ruta+dataset)"
      ],
      "metadata": {
        "id": "swuh-XTJZFnE"
      },
      "execution_count": null,
      "outputs": []
    },
    {
      "cell_type": "code",
      "source": [
        "#Leer los primeros registros.\n",
        "d.head()"
      ],
      "metadata": {
        "id": "Neem2H3dZKdw",
        "colab": {
          "base_uri": "https://localhost:8080/",
          "height": 625
        },
        "outputId": "5d0341cd-a696-4190-b3ef-70201c5e5f84"
      },
      "execution_count": null,
      "outputs": [
        {
          "output_type": "execute_result",
          "data": {
            "text/plain": [
              "   LOCATION CODE  COUNTY                                        AREA NAME  \\\n",
              "0          10402  ALBANY  RAVENA COEYMANS SELKIRK CENTRAL SCHOOL DISTRICT   \n",
              "1          10402  ALBANY  RAVENA COEYMANS SELKIRK CENTRAL SCHOOL DISTRICT   \n",
              "2          10402  ALBANY  RAVENA COEYMANS SELKIRK CENTRAL SCHOOL DISTRICT   \n",
              "3          10500  ALBANY                      COHOES CITY SCHOOL DISTRICT   \n",
              "4          10500  ALBANY                      COHOES CITY SCHOOL DISTRICT   \n",
              "\n",
              "                  REGION SCHOOL YEARS  NO. OVERWEIGHT PCT OVERWEIGHT  \\\n",
              "0  NORTHEASTERN NEW YORK    2012-2013           124.0          18.5%   \n",
              "1  NORTHEASTERN NEW YORK    2012-2013            74.0          19.2%   \n",
              "2  NORTHEASTERN NEW YORK    2012-2013            50.0          17.6%   \n",
              "3  NORTHEASTERN NEW YORK    2012-2013            84.0          17.2%   \n",
              "4  NORTHEASTERN NEW YORK    2012-2013            58.0          16.1%   \n",
              "\n",
              "   NO. OBESE PCT OBESE  NO. OVERWEIGHT OR OBESE PCT OVERWEIGHT OR OBESE  \\\n",
              "0      139.0     20.8%                    263.0                   39.3%   \n",
              "1       72.0     18.7%                    146.0                   37.9%   \n",
              "2       67.0     23.6%                    117.0                   41.2%   \n",
              "3      124.0     25.4%                    208.0                   42.5%   \n",
              "4       89.0     24.7%                    147.0                   40.8%   \n",
              "\n",
              "      GRADE LEVEL        AREA TYPE  STREET ADDRESS    CITY STATE  ZIP CODE  \\\n",
              "0  DISTRICT TOTAL  SCHOOL DISTRICT  15 MOUNTAIN RD  RAVENA    NY   12143.0   \n",
              "1      ELEMENTARY  SCHOOL DISTRICT  15 MOUNTAIN RD  RAVENA    NY   12143.0   \n",
              "2     MIDDLE/HIGH  SCHOOL DISTRICT  15 MOUNTAIN RD  RAVENA    NY   12143.0   \n",
              "3  DISTRICT TOTAL  SCHOOL DISTRICT      7 BEVAN ST  COHOES    NY   12047.0   \n",
              "4      ELEMENTARY  SCHOOL DISTRICT      7 BEVAN ST  COHOES    NY   12047.0   \n",
              "\n",
              "                                          Location 1  \n",
              "0  15 MOUNTAIN RD\\nRAVENA, NY 12143\\n(42.47227638...  \n",
              "1  15 MOUNTAIN RD\\nRAVENA, NY 12143\\n(42.47227638...  \n",
              "2  15 MOUNTAIN RD\\nRAVENA, NY 12143\\n(42.47227638...  \n",
              "3  7 BEVAN ST\\nCOHOES, NY 12047\\n(42.771285452000...  \n",
              "4  7 BEVAN ST\\nCOHOES, NY 12047\\n(42.771285452000...  "
            ],
            "text/html": [
              "\n",
              "  <div id=\"df-bda9e01f-766a-4cc4-9e14-b806323adaa9\" class=\"colab-df-container\">\n",
              "    <div>\n",
              "<style scoped>\n",
              "    .dataframe tbody tr th:only-of-type {\n",
              "        vertical-align: middle;\n",
              "    }\n",
              "\n",
              "    .dataframe tbody tr th {\n",
              "        vertical-align: top;\n",
              "    }\n",
              "\n",
              "    .dataframe thead th {\n",
              "        text-align: right;\n",
              "    }\n",
              "</style>\n",
              "<table border=\"1\" class=\"dataframe\">\n",
              "  <thead>\n",
              "    <tr style=\"text-align: right;\">\n",
              "      <th></th>\n",
              "      <th>LOCATION CODE</th>\n",
              "      <th>COUNTY</th>\n",
              "      <th>AREA NAME</th>\n",
              "      <th>REGION</th>\n",
              "      <th>SCHOOL YEARS</th>\n",
              "      <th>NO. OVERWEIGHT</th>\n",
              "      <th>PCT OVERWEIGHT</th>\n",
              "      <th>NO. OBESE</th>\n",
              "      <th>PCT OBESE</th>\n",
              "      <th>NO. OVERWEIGHT OR OBESE</th>\n",
              "      <th>PCT OVERWEIGHT OR OBESE</th>\n",
              "      <th>GRADE LEVEL</th>\n",
              "      <th>AREA TYPE</th>\n",
              "      <th>STREET ADDRESS</th>\n",
              "      <th>CITY</th>\n",
              "      <th>STATE</th>\n",
              "      <th>ZIP CODE</th>\n",
              "      <th>Location 1</th>\n",
              "    </tr>\n",
              "  </thead>\n",
              "  <tbody>\n",
              "    <tr>\n",
              "      <th>0</th>\n",
              "      <td>10402</td>\n",
              "      <td>ALBANY</td>\n",
              "      <td>RAVENA COEYMANS SELKIRK CENTRAL SCHOOL DISTRICT</td>\n",
              "      <td>NORTHEASTERN NEW YORK</td>\n",
              "      <td>2012-2013</td>\n",
              "      <td>124.0</td>\n",
              "      <td>18.5%</td>\n",
              "      <td>139.0</td>\n",
              "      <td>20.8%</td>\n",
              "      <td>263.0</td>\n",
              "      <td>39.3%</td>\n",
              "      <td>DISTRICT TOTAL</td>\n",
              "      <td>SCHOOL DISTRICT</td>\n",
              "      <td>15 MOUNTAIN RD</td>\n",
              "      <td>RAVENA</td>\n",
              "      <td>NY</td>\n",
              "      <td>12143.0</td>\n",
              "      <td>15 MOUNTAIN RD\\nRAVENA, NY 12143\\n(42.47227638...</td>\n",
              "    </tr>\n",
              "    <tr>\n",
              "      <th>1</th>\n",
              "      <td>10402</td>\n",
              "      <td>ALBANY</td>\n",
              "      <td>RAVENA COEYMANS SELKIRK CENTRAL SCHOOL DISTRICT</td>\n",
              "      <td>NORTHEASTERN NEW YORK</td>\n",
              "      <td>2012-2013</td>\n",
              "      <td>74.0</td>\n",
              "      <td>19.2%</td>\n",
              "      <td>72.0</td>\n",
              "      <td>18.7%</td>\n",
              "      <td>146.0</td>\n",
              "      <td>37.9%</td>\n",
              "      <td>ELEMENTARY</td>\n",
              "      <td>SCHOOL DISTRICT</td>\n",
              "      <td>15 MOUNTAIN RD</td>\n",
              "      <td>RAVENA</td>\n",
              "      <td>NY</td>\n",
              "      <td>12143.0</td>\n",
              "      <td>15 MOUNTAIN RD\\nRAVENA, NY 12143\\n(42.47227638...</td>\n",
              "    </tr>\n",
              "    <tr>\n",
              "      <th>2</th>\n",
              "      <td>10402</td>\n",
              "      <td>ALBANY</td>\n",
              "      <td>RAVENA COEYMANS SELKIRK CENTRAL SCHOOL DISTRICT</td>\n",
              "      <td>NORTHEASTERN NEW YORK</td>\n",
              "      <td>2012-2013</td>\n",
              "      <td>50.0</td>\n",
              "      <td>17.6%</td>\n",
              "      <td>67.0</td>\n",
              "      <td>23.6%</td>\n",
              "      <td>117.0</td>\n",
              "      <td>41.2%</td>\n",
              "      <td>MIDDLE/HIGH</td>\n",
              "      <td>SCHOOL DISTRICT</td>\n",
              "      <td>15 MOUNTAIN RD</td>\n",
              "      <td>RAVENA</td>\n",
              "      <td>NY</td>\n",
              "      <td>12143.0</td>\n",
              "      <td>15 MOUNTAIN RD\\nRAVENA, NY 12143\\n(42.47227638...</td>\n",
              "    </tr>\n",
              "    <tr>\n",
              "      <th>3</th>\n",
              "      <td>10500</td>\n",
              "      <td>ALBANY</td>\n",
              "      <td>COHOES CITY SCHOOL DISTRICT</td>\n",
              "      <td>NORTHEASTERN NEW YORK</td>\n",
              "      <td>2012-2013</td>\n",
              "      <td>84.0</td>\n",
              "      <td>17.2%</td>\n",
              "      <td>124.0</td>\n",
              "      <td>25.4%</td>\n",
              "      <td>208.0</td>\n",
              "      <td>42.5%</td>\n",
              "      <td>DISTRICT TOTAL</td>\n",
              "      <td>SCHOOL DISTRICT</td>\n",
              "      <td>7 BEVAN ST</td>\n",
              "      <td>COHOES</td>\n",
              "      <td>NY</td>\n",
              "      <td>12047.0</td>\n",
              "      <td>7 BEVAN ST\\nCOHOES, NY 12047\\n(42.771285452000...</td>\n",
              "    </tr>\n",
              "    <tr>\n",
              "      <th>4</th>\n",
              "      <td>10500</td>\n",
              "      <td>ALBANY</td>\n",
              "      <td>COHOES CITY SCHOOL DISTRICT</td>\n",
              "      <td>NORTHEASTERN NEW YORK</td>\n",
              "      <td>2012-2013</td>\n",
              "      <td>58.0</td>\n",
              "      <td>16.1%</td>\n",
              "      <td>89.0</td>\n",
              "      <td>24.7%</td>\n",
              "      <td>147.0</td>\n",
              "      <td>40.8%</td>\n",
              "      <td>ELEMENTARY</td>\n",
              "      <td>SCHOOL DISTRICT</td>\n",
              "      <td>7 BEVAN ST</td>\n",
              "      <td>COHOES</td>\n",
              "      <td>NY</td>\n",
              "      <td>12047.0</td>\n",
              "      <td>7 BEVAN ST\\nCOHOES, NY 12047\\n(42.771285452000...</td>\n",
              "    </tr>\n",
              "  </tbody>\n",
              "</table>\n",
              "</div>\n",
              "    <div class=\"colab-df-buttons\">\n",
              "\n",
              "  <div class=\"colab-df-container\">\n",
              "    <button class=\"colab-df-convert\" onclick=\"convertToInteractive('df-bda9e01f-766a-4cc4-9e14-b806323adaa9')\"\n",
              "            title=\"Convert this dataframe to an interactive table.\"\n",
              "            style=\"display:none;\">\n",
              "\n",
              "  <svg xmlns=\"http://www.w3.org/2000/svg\" height=\"24px\" viewBox=\"0 -960 960 960\">\n",
              "    <path d=\"M120-120v-720h720v720H120Zm60-500h600v-160H180v160Zm220 220h160v-160H400v160Zm0 220h160v-160H400v160ZM180-400h160v-160H180v160Zm440 0h160v-160H620v160ZM180-180h160v-160H180v160Zm440 0h160v-160H620v160Z\"/>\n",
              "  </svg>\n",
              "    </button>\n",
              "\n",
              "  <style>\n",
              "    .colab-df-container {\n",
              "      display:flex;\n",
              "      gap: 12px;\n",
              "    }\n",
              "\n",
              "    .colab-df-convert {\n",
              "      background-color: #E8F0FE;\n",
              "      border: none;\n",
              "      border-radius: 50%;\n",
              "      cursor: pointer;\n",
              "      display: none;\n",
              "      fill: #1967D2;\n",
              "      height: 32px;\n",
              "      padding: 0 0 0 0;\n",
              "      width: 32px;\n",
              "    }\n",
              "\n",
              "    .colab-df-convert:hover {\n",
              "      background-color: #E2EBFA;\n",
              "      box-shadow: 0px 1px 2px rgba(60, 64, 67, 0.3), 0px 1px 3px 1px rgba(60, 64, 67, 0.15);\n",
              "      fill: #174EA6;\n",
              "    }\n",
              "\n",
              "    .colab-df-buttons div {\n",
              "      margin-bottom: 4px;\n",
              "    }\n",
              "\n",
              "    [theme=dark] .colab-df-convert {\n",
              "      background-color: #3B4455;\n",
              "      fill: #D2E3FC;\n",
              "    }\n",
              "\n",
              "    [theme=dark] .colab-df-convert:hover {\n",
              "      background-color: #434B5C;\n",
              "      box-shadow: 0px 1px 3px 1px rgba(0, 0, 0, 0.15);\n",
              "      filter: drop-shadow(0px 1px 2px rgba(0, 0, 0, 0.3));\n",
              "      fill: #FFFFFF;\n",
              "    }\n",
              "  </style>\n",
              "\n",
              "    <script>\n",
              "      const buttonEl =\n",
              "        document.querySelector('#df-bda9e01f-766a-4cc4-9e14-b806323adaa9 button.colab-df-convert');\n",
              "      buttonEl.style.display =\n",
              "        google.colab.kernel.accessAllowed ? 'block' : 'none';\n",
              "\n",
              "      async function convertToInteractive(key) {\n",
              "        const element = document.querySelector('#df-bda9e01f-766a-4cc4-9e14-b806323adaa9');\n",
              "        const dataTable =\n",
              "          await google.colab.kernel.invokeFunction('convertToInteractive',\n",
              "                                                    [key], {});\n",
              "        if (!dataTable) return;\n",
              "\n",
              "        const docLinkHtml = 'Like what you see? Visit the ' +\n",
              "          '<a target=\"_blank\" href=https://colab.research.google.com/notebooks/data_table.ipynb>data table notebook</a>'\n",
              "          + ' to learn more about interactive tables.';\n",
              "        element.innerHTML = '';\n",
              "        dataTable['output_type'] = 'display_data';\n",
              "        await google.colab.output.renderOutput(dataTable, element);\n",
              "        const docLink = document.createElement('div');\n",
              "        docLink.innerHTML = docLinkHtml;\n",
              "        element.appendChild(docLink);\n",
              "      }\n",
              "    </script>\n",
              "  </div>\n",
              "\n",
              "\n",
              "    <div id=\"df-b4720afd-3a30-4480-8646-355364b427c9\">\n",
              "      <button class=\"colab-df-quickchart\" onclick=\"quickchart('df-b4720afd-3a30-4480-8646-355364b427c9')\"\n",
              "                title=\"Suggest charts\"\n",
              "                style=\"display:none;\">\n",
              "\n",
              "<svg xmlns=\"http://www.w3.org/2000/svg\" height=\"24px\"viewBox=\"0 0 24 24\"\n",
              "     width=\"24px\">\n",
              "    <g>\n",
              "        <path d=\"M19 3H5c-1.1 0-2 .9-2 2v14c0 1.1.9 2 2 2h14c1.1 0 2-.9 2-2V5c0-1.1-.9-2-2-2zM9 17H7v-7h2v7zm4 0h-2V7h2v10zm4 0h-2v-4h2v4z\"/>\n",
              "    </g>\n",
              "</svg>\n",
              "      </button>\n",
              "\n",
              "<style>\n",
              "  .colab-df-quickchart {\n",
              "      --bg-color: #E8F0FE;\n",
              "      --fill-color: #1967D2;\n",
              "      --hover-bg-color: #E2EBFA;\n",
              "      --hover-fill-color: #174EA6;\n",
              "      --disabled-fill-color: #AAA;\n",
              "      --disabled-bg-color: #DDD;\n",
              "  }\n",
              "\n",
              "  [theme=dark] .colab-df-quickchart {\n",
              "      --bg-color: #3B4455;\n",
              "      --fill-color: #D2E3FC;\n",
              "      --hover-bg-color: #434B5C;\n",
              "      --hover-fill-color: #FFFFFF;\n",
              "      --disabled-bg-color: #3B4455;\n",
              "      --disabled-fill-color: #666;\n",
              "  }\n",
              "\n",
              "  .colab-df-quickchart {\n",
              "    background-color: var(--bg-color);\n",
              "    border: none;\n",
              "    border-radius: 50%;\n",
              "    cursor: pointer;\n",
              "    display: none;\n",
              "    fill: var(--fill-color);\n",
              "    height: 32px;\n",
              "    padding: 0;\n",
              "    width: 32px;\n",
              "  }\n",
              "\n",
              "  .colab-df-quickchart:hover {\n",
              "    background-color: var(--hover-bg-color);\n",
              "    box-shadow: 0 1px 2px rgba(60, 64, 67, 0.3), 0 1px 3px 1px rgba(60, 64, 67, 0.15);\n",
              "    fill: var(--button-hover-fill-color);\n",
              "  }\n",
              "\n",
              "  .colab-df-quickchart-complete:disabled,\n",
              "  .colab-df-quickchart-complete:disabled:hover {\n",
              "    background-color: var(--disabled-bg-color);\n",
              "    fill: var(--disabled-fill-color);\n",
              "    box-shadow: none;\n",
              "  }\n",
              "\n",
              "  .colab-df-spinner {\n",
              "    border: 2px solid var(--fill-color);\n",
              "    border-color: transparent;\n",
              "    border-bottom-color: var(--fill-color);\n",
              "    animation:\n",
              "      spin 1s steps(1) infinite;\n",
              "  }\n",
              "\n",
              "  @keyframes spin {\n",
              "    0% {\n",
              "      border-color: transparent;\n",
              "      border-bottom-color: var(--fill-color);\n",
              "      border-left-color: var(--fill-color);\n",
              "    }\n",
              "    20% {\n",
              "      border-color: transparent;\n",
              "      border-left-color: var(--fill-color);\n",
              "      border-top-color: var(--fill-color);\n",
              "    }\n",
              "    30% {\n",
              "      border-color: transparent;\n",
              "      border-left-color: var(--fill-color);\n",
              "      border-top-color: var(--fill-color);\n",
              "      border-right-color: var(--fill-color);\n",
              "    }\n",
              "    40% {\n",
              "      border-color: transparent;\n",
              "      border-right-color: var(--fill-color);\n",
              "      border-top-color: var(--fill-color);\n",
              "    }\n",
              "    60% {\n",
              "      border-color: transparent;\n",
              "      border-right-color: var(--fill-color);\n",
              "    }\n",
              "    80% {\n",
              "      border-color: transparent;\n",
              "      border-right-color: var(--fill-color);\n",
              "      border-bottom-color: var(--fill-color);\n",
              "    }\n",
              "    90% {\n",
              "      border-color: transparent;\n",
              "      border-bottom-color: var(--fill-color);\n",
              "    }\n",
              "  }\n",
              "</style>\n",
              "\n",
              "      <script>\n",
              "        async function quickchart(key) {\n",
              "          const quickchartButtonEl =\n",
              "            document.querySelector('#' + key + ' button');\n",
              "          quickchartButtonEl.disabled = true;  // To prevent multiple clicks.\n",
              "          quickchartButtonEl.classList.add('colab-df-spinner');\n",
              "          try {\n",
              "            const charts = await google.colab.kernel.invokeFunction(\n",
              "                'suggestCharts', [key], {});\n",
              "          } catch (error) {\n",
              "            console.error('Error during call to suggestCharts:', error);\n",
              "          }\n",
              "          quickchartButtonEl.classList.remove('colab-df-spinner');\n",
              "          quickchartButtonEl.classList.add('colab-df-quickchart-complete');\n",
              "        }\n",
              "        (() => {\n",
              "          let quickchartButtonEl =\n",
              "            document.querySelector('#df-b4720afd-3a30-4480-8646-355364b427c9 button');\n",
              "          quickchartButtonEl.style.display =\n",
              "            google.colab.kernel.accessAllowed ? 'block' : 'none';\n",
              "        })();\n",
              "      </script>\n",
              "    </div>\n",
              "\n",
              "    </div>\n",
              "  </div>\n"
            ],
            "application/vnd.google.colaboratory.intrinsic+json": {
              "type": "dataframe",
              "variable_name": "d",
              "summary": "{\n  \"name\": \"d\",\n  \"rows\": 3270,\n  \"fields\": [\n    {\n      \"column\": \"LOCATION CODE\",\n      \"properties\": {\n        \"dtype\": \"number\",\n        \"std\": 220310,\n        \"min\": 0,\n        \"max\": 700000,\n        \"num_unique_values\": 745,\n        \"samples\": [\n          472506,\n          580205,\n          210302\n        ],\n        \"semantic_type\": \"\",\n        \"description\": \"\"\n      }\n    },\n    {\n      \"column\": \"COUNTY\",\n      \"properties\": {\n        \"dtype\": \"category\",\n        \"num_unique_values\": 58,\n        \"samples\": [\n          \"ALBANY\",\n          \"CHAUTAUQUA\",\n          \"OSWEGO\"\n        ],\n        \"semantic_type\": \"\",\n        \"description\": \"\"\n      }\n    },\n    {\n      \"column\": \"AREA NAME\",\n      \"properties\": {\n        \"dtype\": \"category\",\n        \"num_unique_values\": 745,\n        \"samples\": [\n          \"WORCESTER CENTRAL SCHOOL\",\n          \"SACHEM CENT SCH AT HOLBROOK\",\n          \"WEST CANADA VALLEY CENT SCH\"\n        ],\n        \"semantic_type\": \"\",\n        \"description\": \"\"\n      }\n    },\n    {\n      \"column\": \"REGION\",\n      \"properties\": {\n        \"dtype\": \"category\",\n        \"num_unique_values\": 8,\n        \"samples\": [\n          \"WESTERN NEW YORK\",\n          \"HUDSON VALLEY\",\n          \"NORTHEASTERN NEW YORK\"\n        ],\n        \"semantic_type\": \"\",\n        \"description\": \"\"\n      }\n    },\n    {\n      \"column\": \"SCHOOL YEARS\",\n      \"properties\": {\n        \"dtype\": \"category\",\n        \"num_unique_values\": 2,\n        \"samples\": [\n          \"2010-2012\",\n          \"2012-2013\"\n        ],\n        \"semantic_type\": \"\",\n        \"description\": \"\"\n      }\n    },\n    {\n      \"column\": \"NO. OVERWEIGHT\",\n      \"properties\": {\n        \"dtype\": \"number\",\n        \"std\": 1914.8365254320095,\n        \"min\": 5.0,\n        \"max\": 77813.0,\n        \"num_unique_values\": 470,\n        \"samples\": [\n          65.0,\n          73.0\n        ],\n        \"semantic_type\": \"\",\n        \"description\": \"\"\n      }\n    },\n    {\n      \"column\": \"PCT OVERWEIGHT\",\n      \"properties\": {\n        \"dtype\": \"category\",\n        \"num_unique_values\": 243,\n        \"samples\": [\n          \"15.8%\",\n          \"15.9%\"\n        ],\n        \"semantic_type\": \"\",\n        \"description\": \"\"\n      }\n    },\n    {\n      \"column\": \"NO. OBESE\",\n      \"properties\": {\n        \"dtype\": \"number\",\n        \"std\": 2076.638147507342,\n        \"min\": 5.0,\n        \"max\": 84578.0,\n        \"num_unique_values\": 495,\n        \"samples\": [\n          463.0,\n          96.0\n        ],\n        \"semantic_type\": \"\",\n        \"description\": \"\"\n      }\n    },\n    {\n      \"column\": \"PCT OBESE\",\n      \"properties\": {\n        \"dtype\": \"category\",\n        \"num_unique_values\": 322,\n        \"samples\": [\n          \"7.7%\",\n          \"15.4%\"\n        ],\n        \"semantic_type\": \"\",\n        \"description\": \"\"\n      }\n    },\n    {\n      \"column\": \"NO. OVERWEIGHT OR OBESE\",\n      \"properties\": {\n        \"dtype\": \"number\",\n        \"std\": 3959.958869502371,\n        \"min\": 5.0,\n        \"max\": 162391.0,\n        \"num_unique_values\": 707,\n        \"samples\": [\n          588.0,\n          665.0\n        ],\n        \"semantic_type\": \"\",\n        \"description\": \"\"\n      }\n    },\n    {\n      \"column\": \"PCT OVERWEIGHT OR OBESE\",\n      \"properties\": {\n        \"dtype\": \"category\",\n        \"num_unique_values\": 415,\n        \"samples\": [\n          \"40.9%\",\n          \"26.8%\"\n        ],\n        \"semantic_type\": \"\",\n        \"description\": \"\"\n      }\n    },\n    {\n      \"column\": \"GRADE LEVEL\",\n      \"properties\": {\n        \"dtype\": \"category\",\n        \"num_unique_values\": 3,\n        \"samples\": [\n          \"DISTRICT TOTAL\",\n          \"ELEMENTARY\"\n        ],\n        \"semantic_type\": \"\",\n        \"description\": \"\"\n      }\n    },\n    {\n      \"column\": \"AREA TYPE\",\n      \"properties\": {\n        \"dtype\": \"category\",\n        \"num_unique_values\": 4,\n        \"samples\": [\n          \"STATEWIDE (EXCLUDING NYC)\",\n          \"REGION\"\n        ],\n        \"semantic_type\": \"\",\n        \"description\": \"\"\n      }\n    },\n    {\n      \"column\": \"STREET ADDRESS\",\n      \"properties\": {\n        \"dtype\": \"category\",\n        \"num_unique_values\": 693,\n        \"samples\": [\n          \"425 E MAIN ST\",\n          \"6200 ONTARIO CTR RD\"\n        ],\n        \"semantic_type\": \"\",\n        \"description\": \"\"\n      }\n    },\n    {\n      \"column\": \"CITY\",\n      \"properties\": {\n        \"dtype\": \"category\",\n        \"num_unique_values\": 636,\n        \"samples\": [\n          \"GREENPORT\",\n          \"SHRUB OAK\"\n        ],\n        \"semantic_type\": \"\",\n        \"description\": \"\"\n      }\n    },\n    {\n      \"column\": \"STATE\",\n      \"properties\": {\n        \"dtype\": \"category\",\n        \"num_unique_values\": 1,\n        \"samples\": [\n          \"NY\"\n        ],\n        \"semantic_type\": \"\",\n        \"description\": \"\"\n      }\n    },\n    {\n      \"column\": \"ZIP CODE\",\n      \"properties\": {\n        \"dtype\": \"number\",\n        \"std\": 1262.478622502217,\n        \"min\": 6390.0,\n        \"max\": 14905.0,\n        \"num_unique_values\": 643,\n        \"samples\": [\n          10504.0\n        ],\n        \"semantic_type\": \"\",\n        \"description\": \"\"\n      }\n    },\n    {\n      \"column\": \"Location 1\",\n      \"properties\": {\n        \"dtype\": \"category\",\n        \"num_unique_values\": 1082,\n        \"samples\": [\n          \"194 HAIGHT RD\\nAMENIA, NY 12501\\n(41.88746340600045, -73.53434375299963)\"\n        ],\n        \"semantic_type\": \"\",\n        \"description\": \"\"\n      }\n    }\n  ]\n}"
            }
          },
          "metadata": {},
          "execution_count": 36
        }
      ]
    },
    {
      "cell_type": "code",
      "source": [
        "#Leer registros específicos de una variable\n",
        "d[0:5]['REGION']\n"
      ],
      "metadata": {
        "id": "3lOaWpp5ZasZ",
        "colab": {
          "base_uri": "https://localhost:8080/",
          "height": 241
        },
        "outputId": "08d87db2-5086-47f8-a22a-68f15dbdd075"
      },
      "execution_count": null,
      "outputs": [
        {
          "output_type": "execute_result",
          "data": {
            "text/plain": [
              "0    NORTHEASTERN NEW YORK\n",
              "1    NORTHEASTERN NEW YORK\n",
              "2    NORTHEASTERN NEW YORK\n",
              "3    NORTHEASTERN NEW YORK\n",
              "4    NORTHEASTERN NEW YORK\n",
              "Name: REGION, dtype: object"
            ],
            "text/html": [
              "<div>\n",
              "<style scoped>\n",
              "    .dataframe tbody tr th:only-of-type {\n",
              "        vertical-align: middle;\n",
              "    }\n",
              "\n",
              "    .dataframe tbody tr th {\n",
              "        vertical-align: top;\n",
              "    }\n",
              "\n",
              "    .dataframe thead th {\n",
              "        text-align: right;\n",
              "    }\n",
              "</style>\n",
              "<table border=\"1\" class=\"dataframe\">\n",
              "  <thead>\n",
              "    <tr style=\"text-align: right;\">\n",
              "      <th></th>\n",
              "      <th>REGION</th>\n",
              "    </tr>\n",
              "  </thead>\n",
              "  <tbody>\n",
              "    <tr>\n",
              "      <th>0</th>\n",
              "      <td>NORTHEASTERN NEW YORK</td>\n",
              "    </tr>\n",
              "    <tr>\n",
              "      <th>1</th>\n",
              "      <td>NORTHEASTERN NEW YORK</td>\n",
              "    </tr>\n",
              "    <tr>\n",
              "      <th>2</th>\n",
              "      <td>NORTHEASTERN NEW YORK</td>\n",
              "    </tr>\n",
              "    <tr>\n",
              "      <th>3</th>\n",
              "      <td>NORTHEASTERN NEW YORK</td>\n",
              "    </tr>\n",
              "    <tr>\n",
              "      <th>4</th>\n",
              "      <td>NORTHEASTERN NEW YORK</td>\n",
              "    </tr>\n",
              "  </tbody>\n",
              "</table>\n",
              "</div><br><label><b>dtype:</b> object</label>"
            ]
          },
          "metadata": {},
          "execution_count": 37
        }
      ]
    },
    {
      "cell_type": "code",
      "source": [
        "# Diccionario de datos\n",
        "d = {\n",
        "    'c1': pd.Series(['A', 'B', 'C']),\n",
        "    'c2': pd.Series([1, 2., 3., 4.])\n",
        "    }\n",
        "\n",
        "df = pd.DataFrame(d)\n",
        "df"
      ],
      "metadata": {
        "id": "ppWmRcfUZguy",
        "colab": {
          "base_uri": "https://localhost:8080/",
          "height": 175
        },
        "outputId": "e57d80bf-c8ca-48db-8e6a-3335c5a54076"
      },
      "execution_count": null,
      "outputs": [
        {
          "output_type": "execute_result",
          "data": {
            "text/plain": [
              "    c1   c2\n",
              "0    A  1.0\n",
              "1    B  2.0\n",
              "2    C  3.0\n",
              "3  NaN  4.0"
            ],
            "text/html": [
              "\n",
              "  <div id=\"df-5f4fe373-3310-4ae4-a737-3e847ef23c4a\" class=\"colab-df-container\">\n",
              "    <div>\n",
              "<style scoped>\n",
              "    .dataframe tbody tr th:only-of-type {\n",
              "        vertical-align: middle;\n",
              "    }\n",
              "\n",
              "    .dataframe tbody tr th {\n",
              "        vertical-align: top;\n",
              "    }\n",
              "\n",
              "    .dataframe thead th {\n",
              "        text-align: right;\n",
              "    }\n",
              "</style>\n",
              "<table border=\"1\" class=\"dataframe\">\n",
              "  <thead>\n",
              "    <tr style=\"text-align: right;\">\n",
              "      <th></th>\n",
              "      <th>c1</th>\n",
              "      <th>c2</th>\n",
              "    </tr>\n",
              "  </thead>\n",
              "  <tbody>\n",
              "    <tr>\n",
              "      <th>0</th>\n",
              "      <td>A</td>\n",
              "      <td>1.0</td>\n",
              "    </tr>\n",
              "    <tr>\n",
              "      <th>1</th>\n",
              "      <td>B</td>\n",
              "      <td>2.0</td>\n",
              "    </tr>\n",
              "    <tr>\n",
              "      <th>2</th>\n",
              "      <td>C</td>\n",
              "      <td>3.0</td>\n",
              "    </tr>\n",
              "    <tr>\n",
              "      <th>3</th>\n",
              "      <td>NaN</td>\n",
              "      <td>4.0</td>\n",
              "    </tr>\n",
              "  </tbody>\n",
              "</table>\n",
              "</div>\n",
              "    <div class=\"colab-df-buttons\">\n",
              "\n",
              "  <div class=\"colab-df-container\">\n",
              "    <button class=\"colab-df-convert\" onclick=\"convertToInteractive('df-5f4fe373-3310-4ae4-a737-3e847ef23c4a')\"\n",
              "            title=\"Convert this dataframe to an interactive table.\"\n",
              "            style=\"display:none;\">\n",
              "\n",
              "  <svg xmlns=\"http://www.w3.org/2000/svg\" height=\"24px\" viewBox=\"0 -960 960 960\">\n",
              "    <path d=\"M120-120v-720h720v720H120Zm60-500h600v-160H180v160Zm220 220h160v-160H400v160Zm0 220h160v-160H400v160ZM180-400h160v-160H180v160Zm440 0h160v-160H620v160ZM180-180h160v-160H180v160Zm440 0h160v-160H620v160Z\"/>\n",
              "  </svg>\n",
              "    </button>\n",
              "\n",
              "  <style>\n",
              "    .colab-df-container {\n",
              "      display:flex;\n",
              "      gap: 12px;\n",
              "    }\n",
              "\n",
              "    .colab-df-convert {\n",
              "      background-color: #E8F0FE;\n",
              "      border: none;\n",
              "      border-radius: 50%;\n",
              "      cursor: pointer;\n",
              "      display: none;\n",
              "      fill: #1967D2;\n",
              "      height: 32px;\n",
              "      padding: 0 0 0 0;\n",
              "      width: 32px;\n",
              "    }\n",
              "\n",
              "    .colab-df-convert:hover {\n",
              "      background-color: #E2EBFA;\n",
              "      box-shadow: 0px 1px 2px rgba(60, 64, 67, 0.3), 0px 1px 3px 1px rgba(60, 64, 67, 0.15);\n",
              "      fill: #174EA6;\n",
              "    }\n",
              "\n",
              "    .colab-df-buttons div {\n",
              "      margin-bottom: 4px;\n",
              "    }\n",
              "\n",
              "    [theme=dark] .colab-df-convert {\n",
              "      background-color: #3B4455;\n",
              "      fill: #D2E3FC;\n",
              "    }\n",
              "\n",
              "    [theme=dark] .colab-df-convert:hover {\n",
              "      background-color: #434B5C;\n",
              "      box-shadow: 0px 1px 3px 1px rgba(0, 0, 0, 0.15);\n",
              "      filter: drop-shadow(0px 1px 2px rgba(0, 0, 0, 0.3));\n",
              "      fill: #FFFFFF;\n",
              "    }\n",
              "  </style>\n",
              "\n",
              "    <script>\n",
              "      const buttonEl =\n",
              "        document.querySelector('#df-5f4fe373-3310-4ae4-a737-3e847ef23c4a button.colab-df-convert');\n",
              "      buttonEl.style.display =\n",
              "        google.colab.kernel.accessAllowed ? 'block' : 'none';\n",
              "\n",
              "      async function convertToInteractive(key) {\n",
              "        const element = document.querySelector('#df-5f4fe373-3310-4ae4-a737-3e847ef23c4a');\n",
              "        const dataTable =\n",
              "          await google.colab.kernel.invokeFunction('convertToInteractive',\n",
              "                                                    [key], {});\n",
              "        if (!dataTable) return;\n",
              "\n",
              "        const docLinkHtml = 'Like what you see? Visit the ' +\n",
              "          '<a target=\"_blank\" href=https://colab.research.google.com/notebooks/data_table.ipynb>data table notebook</a>'\n",
              "          + ' to learn more about interactive tables.';\n",
              "        element.innerHTML = '';\n",
              "        dataTable['output_type'] = 'display_data';\n",
              "        await google.colab.output.renderOutput(dataTable, element);\n",
              "        const docLink = document.createElement('div');\n",
              "        docLink.innerHTML = docLinkHtml;\n",
              "        element.appendChild(docLink);\n",
              "      }\n",
              "    </script>\n",
              "  </div>\n",
              "\n",
              "\n",
              "    <div id=\"df-54a5ba28-821c-4c3a-973b-64048cd67a8e\">\n",
              "      <button class=\"colab-df-quickchart\" onclick=\"quickchart('df-54a5ba28-821c-4c3a-973b-64048cd67a8e')\"\n",
              "                title=\"Suggest charts\"\n",
              "                style=\"display:none;\">\n",
              "\n",
              "<svg xmlns=\"http://www.w3.org/2000/svg\" height=\"24px\"viewBox=\"0 0 24 24\"\n",
              "     width=\"24px\">\n",
              "    <g>\n",
              "        <path d=\"M19 3H5c-1.1 0-2 .9-2 2v14c0 1.1.9 2 2 2h14c1.1 0 2-.9 2-2V5c0-1.1-.9-2-2-2zM9 17H7v-7h2v7zm4 0h-2V7h2v10zm4 0h-2v-4h2v4z\"/>\n",
              "    </g>\n",
              "</svg>\n",
              "      </button>\n",
              "\n",
              "<style>\n",
              "  .colab-df-quickchart {\n",
              "      --bg-color: #E8F0FE;\n",
              "      --fill-color: #1967D2;\n",
              "      --hover-bg-color: #E2EBFA;\n",
              "      --hover-fill-color: #174EA6;\n",
              "      --disabled-fill-color: #AAA;\n",
              "      --disabled-bg-color: #DDD;\n",
              "  }\n",
              "\n",
              "  [theme=dark] .colab-df-quickchart {\n",
              "      --bg-color: #3B4455;\n",
              "      --fill-color: #D2E3FC;\n",
              "      --hover-bg-color: #434B5C;\n",
              "      --hover-fill-color: #FFFFFF;\n",
              "      --disabled-bg-color: #3B4455;\n",
              "      --disabled-fill-color: #666;\n",
              "  }\n",
              "\n",
              "  .colab-df-quickchart {\n",
              "    background-color: var(--bg-color);\n",
              "    border: none;\n",
              "    border-radius: 50%;\n",
              "    cursor: pointer;\n",
              "    display: none;\n",
              "    fill: var(--fill-color);\n",
              "    height: 32px;\n",
              "    padding: 0;\n",
              "    width: 32px;\n",
              "  }\n",
              "\n",
              "  .colab-df-quickchart:hover {\n",
              "    background-color: var(--hover-bg-color);\n",
              "    box-shadow: 0 1px 2px rgba(60, 64, 67, 0.3), 0 1px 3px 1px rgba(60, 64, 67, 0.15);\n",
              "    fill: var(--button-hover-fill-color);\n",
              "  }\n",
              "\n",
              "  .colab-df-quickchart-complete:disabled,\n",
              "  .colab-df-quickchart-complete:disabled:hover {\n",
              "    background-color: var(--disabled-bg-color);\n",
              "    fill: var(--disabled-fill-color);\n",
              "    box-shadow: none;\n",
              "  }\n",
              "\n",
              "  .colab-df-spinner {\n",
              "    border: 2px solid var(--fill-color);\n",
              "    border-color: transparent;\n",
              "    border-bottom-color: var(--fill-color);\n",
              "    animation:\n",
              "      spin 1s steps(1) infinite;\n",
              "  }\n",
              "\n",
              "  @keyframes spin {\n",
              "    0% {\n",
              "      border-color: transparent;\n",
              "      border-bottom-color: var(--fill-color);\n",
              "      border-left-color: var(--fill-color);\n",
              "    }\n",
              "    20% {\n",
              "      border-color: transparent;\n",
              "      border-left-color: var(--fill-color);\n",
              "      border-top-color: var(--fill-color);\n",
              "    }\n",
              "    30% {\n",
              "      border-color: transparent;\n",
              "      border-left-color: var(--fill-color);\n",
              "      border-top-color: var(--fill-color);\n",
              "      border-right-color: var(--fill-color);\n",
              "    }\n",
              "    40% {\n",
              "      border-color: transparent;\n",
              "      border-right-color: var(--fill-color);\n",
              "      border-top-color: var(--fill-color);\n",
              "    }\n",
              "    60% {\n",
              "      border-color: transparent;\n",
              "      border-right-color: var(--fill-color);\n",
              "    }\n",
              "    80% {\n",
              "      border-color: transparent;\n",
              "      border-right-color: var(--fill-color);\n",
              "      border-bottom-color: var(--fill-color);\n",
              "    }\n",
              "    90% {\n",
              "      border-color: transparent;\n",
              "      border-bottom-color: var(--fill-color);\n",
              "    }\n",
              "  }\n",
              "</style>\n",
              "\n",
              "      <script>\n",
              "        async function quickchart(key) {\n",
              "          const quickchartButtonEl =\n",
              "            document.querySelector('#' + key + ' button');\n",
              "          quickchartButtonEl.disabled = true;  // To prevent multiple clicks.\n",
              "          quickchartButtonEl.classList.add('colab-df-spinner');\n",
              "          try {\n",
              "            const charts = await google.colab.kernel.invokeFunction(\n",
              "                'suggestCharts', [key], {});\n",
              "          } catch (error) {\n",
              "            console.error('Error during call to suggestCharts:', error);\n",
              "          }\n",
              "          quickchartButtonEl.classList.remove('colab-df-spinner');\n",
              "          quickchartButtonEl.classList.add('colab-df-quickchart-complete');\n",
              "        }\n",
              "        (() => {\n",
              "          let quickchartButtonEl =\n",
              "            document.querySelector('#df-54a5ba28-821c-4c3a-973b-64048cd67a8e button');\n",
              "          quickchartButtonEl.style.display =\n",
              "            google.colab.kernel.accessAllowed ? 'block' : 'none';\n",
              "        })();\n",
              "      </script>\n",
              "    </div>\n",
              "\n",
              "  <div id=\"id_0722bffd-7acb-4155-aae3-e719274092a7\">\n",
              "    <style>\n",
              "      .colab-df-generate {\n",
              "        background-color: #E8F0FE;\n",
              "        border: none;\n",
              "        border-radius: 50%;\n",
              "        cursor: pointer;\n",
              "        display: none;\n",
              "        fill: #1967D2;\n",
              "        height: 32px;\n",
              "        padding: 0 0 0 0;\n",
              "        width: 32px;\n",
              "      }\n",
              "\n",
              "      .colab-df-generate:hover {\n",
              "        background-color: #E2EBFA;\n",
              "        box-shadow: 0px 1px 2px rgba(60, 64, 67, 0.3), 0px 1px 3px 1px rgba(60, 64, 67, 0.15);\n",
              "        fill: #174EA6;\n",
              "      }\n",
              "\n",
              "      [theme=dark] .colab-df-generate {\n",
              "        background-color: #3B4455;\n",
              "        fill: #D2E3FC;\n",
              "      }\n",
              "\n",
              "      [theme=dark] .colab-df-generate:hover {\n",
              "        background-color: #434B5C;\n",
              "        box-shadow: 0px 1px 3px 1px rgba(0, 0, 0, 0.15);\n",
              "        filter: drop-shadow(0px 1px 2px rgba(0, 0, 0, 0.3));\n",
              "        fill: #FFFFFF;\n",
              "      }\n",
              "    </style>\n",
              "    <button class=\"colab-df-generate\" onclick=\"generateWithVariable('df')\"\n",
              "            title=\"Generate code using this dataframe.\"\n",
              "            style=\"display:none;\">\n",
              "\n",
              "  <svg xmlns=\"http://www.w3.org/2000/svg\" height=\"24px\"viewBox=\"0 0 24 24\"\n",
              "       width=\"24px\">\n",
              "    <path d=\"M7,19H8.4L18.45,9,17,7.55,7,17.6ZM5,21V16.75L18.45,3.32a2,2,0,0,1,2.83,0l1.4,1.43a1.91,1.91,0,0,1,.58,1.4,1.91,1.91,0,0,1-.58,1.4L9.25,21ZM18.45,9,17,7.55Zm-12,3A5.31,5.31,0,0,0,4.9,8.1,5.31,5.31,0,0,0,1,6.5,5.31,5.31,0,0,0,4.9,4.9,5.31,5.31,0,0,0,6.5,1,5.31,5.31,0,0,0,8.1,4.9,5.31,5.31,0,0,0,12,6.5,5.46,5.46,0,0,0,6.5,12Z\"/>\n",
              "  </svg>\n",
              "    </button>\n",
              "    <script>\n",
              "      (() => {\n",
              "      const buttonEl =\n",
              "        document.querySelector('#id_0722bffd-7acb-4155-aae3-e719274092a7 button.colab-df-generate');\n",
              "      buttonEl.style.display =\n",
              "        google.colab.kernel.accessAllowed ? 'block' : 'none';\n",
              "\n",
              "      buttonEl.onclick = () => {\n",
              "        google.colab.notebook.generateWithVariable('df');\n",
              "      }\n",
              "      })();\n",
              "    </script>\n",
              "  </div>\n",
              "\n",
              "    </div>\n",
              "  </div>\n"
            ],
            "application/vnd.google.colaboratory.intrinsic+json": {
              "type": "dataframe",
              "variable_name": "df",
              "summary": "{\n  \"name\": \"df\",\n  \"rows\": 4,\n  \"fields\": [\n    {\n      \"column\": \"c1\",\n      \"properties\": {\n        \"dtype\": \"string\",\n        \"num_unique_values\": 3,\n        \"samples\": [\n          \"A\",\n          \"B\",\n          \"C\"\n        ],\n        \"semantic_type\": \"\",\n        \"description\": \"\"\n      }\n    },\n    {\n      \"column\": \"c2\",\n      \"properties\": {\n        \"dtype\": \"number\",\n        \"std\": 1.2909944487358056,\n        \"min\": 1.0,\n        \"max\": 4.0,\n        \"num_unique_values\": 4,\n        \"samples\": [\n          2.0,\n          4.0,\n          1.0\n        ],\n        \"semantic_type\": \"\",\n        \"description\": \"\"\n      }\n    }\n  ]\n}"
            }
          },
          "metadata": {},
          "execution_count": 38
        }
      ]
    },
    {
      "cell_type": "code",
      "source": [
        "ruta_out = \"/gdrive/My Drive/UTEC/OUT\"\n",
        "dataset_out = 'sample_data.csv'\n",
        "df.to_csv(ruta_out+dataset_out)\n"
      ],
      "metadata": {
        "id": "AZg_W9Q1Z4Vz"
      },
      "execution_count": null,
      "outputs": []
    },
    {
      "cell_type": "markdown",
      "source": [
        "### Importar Datos EXCEL"
      ],
      "metadata": {
        "id": "DVCLapDMaUY4"
      }
    },
    {
      "cell_type": "code",
      "source": [
        "# Importar datos en formato xls.\n",
        "dataset = 'students.xls'\n",
        "d = pd.read_excel(ruta+dataset)\n",
        "#Leer los primeros registros.\n",
        "d.head()"
      ],
      "metadata": {
        "id": "sV5shLLsaKRp"
      },
      "execution_count": null,
      "outputs": []
    },
    {
      "cell_type": "code",
      "source": [
        "#Leer registros específicos de una variable\n",
        "df = d[0:5]['COUNTY']\n",
        "df"
      ],
      "metadata": {
        "id": "U9u3K2S3azQN"
      },
      "execution_count": null,
      "outputs": []
    },
    {
      "cell_type": "code",
      "source": [
        "#Exportar datos de un data frame a un xls\n",
        "df.to_excel(ruta_out+'sample_data.xlsx')"
      ],
      "metadata": {
        "id": "Xv24F2YDa-hv"
      },
      "execution_count": null,
      "outputs": []
    },
    {
      "cell_type": "markdown",
      "source": [
        "### Importar Datos JSON"
      ],
      "metadata": {
        "id": "vhStmcxzbT16"
      }
    },
    {
      "cell_type": "code",
      "source": [
        "ruta = \"/gdrive/My Drive/[UTEC_2025]/[Programa_Python_Mayo]/ALUMNOS/\"\n",
        "dataset = \"students.json\""
      ],
      "metadata": {
        "id": "9bNEypA2V1Gn"
      },
      "execution_count": null,
      "outputs": []
    },
    {
      "cell_type": "code",
      "source": [
        "import json\n",
        "\n",
        "json_data = open(ruta+dataset)\n",
        "data = json.load(json_data)"
      ],
      "metadata": {
        "id": "k9JabbBBbB-4"
      },
      "execution_count": null,
      "outputs": []
    },
    {
      "cell_type": "code",
      "source": [
        "data.keys()"
      ],
      "metadata": {
        "id": "bvUvzAqjbwCZ"
      },
      "execution_count": null,
      "outputs": []
    },
    {
      "cell_type": "code",
      "source": [
        "data['meta']"
      ],
      "metadata": {
        "id": "BRl0ZO3IeMoZ"
      },
      "execution_count": null,
      "outputs": []
    },
    {
      "cell_type": "code",
      "source": [
        "data['data'][0]"
      ],
      "metadata": {
        "id": "aoQK8lYHbzpw"
      },
      "execution_count": null,
      "outputs": []
    },
    {
      "cell_type": "code",
      "source": [
        "data['data'][1]"
      ],
      "metadata": {
        "id": "oe8X2UBZXA2t"
      },
      "execution_count": null,
      "outputs": []
    },
    {
      "cell_type": "code",
      "source": [
        "json_data.close()"
      ],
      "metadata": {
        "id": "RbdJiVDhXsRo"
      },
      "execution_count": null,
      "outputs": []
    },
    {
      "cell_type": "markdown",
      "source": [
        "### Actividad N040"
      ],
      "metadata": {
        "id": "Sx5gNLm5eX1H"
      }
    },
    {
      "cell_type": "markdown",
      "source": [
        "Leer el archivo de datos “data_train” y realice una vista previa de los datos."
      ],
      "metadata": {
        "id": "oV4IghMTeaQm"
      }
    },
    {
      "cell_type": "code",
      "source": [],
      "metadata": {
        "id": "DxSfRZ_tYIoJ"
      },
      "execution_count": null,
      "outputs": []
    }
  ]
}