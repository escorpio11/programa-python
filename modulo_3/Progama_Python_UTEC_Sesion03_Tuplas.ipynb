{
  "nbformat": 4,
  "nbformat_minor": 0,
  "metadata": {
    "colab": {
      "provenance": [],
      "include_colab_link": true
    },
    "kernelspec": {
      "name": "python3",
      "display_name": "Python 3"
    },
    "language_info": {
      "name": "python"
    }
  },
  "cells": [
    {
      "cell_type": "markdown",
      "metadata": {
        "id": "view-in-github",
        "colab_type": "text"
      },
      "source": [
        "<a href=\"https://colab.research.google.com/github/escorpio11/programa-python/blob/main/modulo_3/Progama_Python_UTEC_Sesion03_Tuplas.ipynb\" target=\"_parent\"><img src=\"https://colab.research.google.com/assets/colab-badge.svg\" alt=\"Open In Colab\"/></a>"
      ]
    },
    {
      "cell_type": "markdown",
      "source": [
        "## [1] Tuplas"
      ],
      "metadata": {
        "id": "PPS0lZeKcs0W"
      }
    },
    {
      "cell_type": "markdown",
      "source": [
        "### [1.1] Tuplas a partir de un DataFrame"
      ],
      "metadata": {
        "id": "dccU3CnJA61l"
      }
    },
    {
      "cell_type": "code",
      "source": [
        "import pandas as pd\n",
        "data = pd.read_csv(\"clientes.csv\",sep=';')\n",
        "dimensiones = data.shape"
      ],
      "metadata": {
        "id": "Bvl3_er6A5u_"
      },
      "execution_count": null,
      "outputs": []
    },
    {
      "cell_type": "code",
      "source": [
        "# Tipo de dato del objeto dimesiones\n",
        "type(dimensiones)"
      ],
      "metadata": {
        "id": "-q6jFDKmd2aF",
        "outputId": "adb0ab8c-d232-4888-f9b7-c45ca0939625",
        "colab": {
          "base_uri": "https://localhost:8080/"
        }
      },
      "execution_count": null,
      "outputs": [
        {
          "output_type": "execute_result",
          "data": {
            "text/plain": [
              "tuple"
            ]
          },
          "metadata": {},
          "execution_count": 4
        }
      ]
    },
    {
      "cell_type": "code",
      "source": [
        "type(data)"
      ],
      "metadata": {
        "id": "17GLKIr4eDXc",
        "outputId": "eb653bb9-c54e-48d6-ba75-d34e8cd4f84c",
        "colab": {
          "base_uri": "https://localhost:8080/",
          "height": 204
        }
      },
      "execution_count": null,
      "outputs": [
        {
          "output_type": "execute_result",
          "data": {
            "text/plain": [
              "pandas.core.frame.DataFrame"
            ],
            "text/html": [
              "<div style=\"max-width:800px; border: 1px solid var(--colab-border-color);\"><style>\n",
              "      pre.function-repr-contents {\n",
              "        overflow-x: auto;\n",
              "        padding: 8px 12px;\n",
              "        max-height: 500px;\n",
              "      }\n",
              "\n",
              "      pre.function-repr-contents.function-repr-contents-collapsed {\n",
              "        cursor: pointer;\n",
              "        max-height: 100px;\n",
              "      }\n",
              "    </style>\n",
              "    <pre style=\"white-space: initial; background:\n",
              "         var(--colab-secondary-surface-color); padding: 8px 12px;\n",
              "         border-bottom: 1px solid var(--colab-border-color);\"><b>pandas.core.frame.DataFrame</b><br/>def __init__(data=None, index: Axes | None=None, columns: Axes | None=None, dtype: Dtype | None=None, copy: bool | None=None) -&gt; None</pre><pre class=\"function-repr-contents function-repr-contents-collapsed\" style=\"\"><a class=\"filepath\" style=\"display:none\" href=\"#\">/usr/local/lib/python3.11/dist-packages/pandas/core/frame.py</a>Two-dimensional, size-mutable, potentially heterogeneous tabular data.\n",
              "\n",
              "Data structure also contains labeled axes (rows and columns).\n",
              "Arithmetic operations align on both row and column labels. Can be\n",
              "thought of as a dict-like container for Series objects. The primary\n",
              "pandas data structure.\n",
              "\n",
              "Parameters\n",
              "----------\n",
              "data : ndarray (structured or homogeneous), Iterable, dict, or DataFrame\n",
              "    Dict can contain Series, arrays, constants, dataclass or list-like objects. If\n",
              "    data is a dict, column order follows insertion-order. If a dict contains Series\n",
              "    which have an index defined, it is aligned by its index. This alignment also\n",
              "    occurs if data is a Series or a DataFrame itself. Alignment is done on\n",
              "    Series/DataFrame inputs.\n",
              "\n",
              "    If data is a list of dicts, column order follows insertion-order.\n",
              "\n",
              "index : Index or array-like\n",
              "    Index to use for resulting frame. Will default to RangeIndex if\n",
              "    no indexing information part of input data and no index provided.\n",
              "columns : Index or array-like\n",
              "    Column labels to use for resulting frame when data does not have them,\n",
              "    defaulting to RangeIndex(0, 1, 2, ..., n). If data contains column labels,\n",
              "    will perform column selection instead.\n",
              "dtype : dtype, default None\n",
              "    Data type to force. Only a single dtype is allowed. If None, infer.\n",
              "copy : bool or None, default None\n",
              "    Copy data from inputs.\n",
              "    For dict data, the default of None behaves like ``copy=True``.  For DataFrame\n",
              "    or 2d ndarray input, the default of None behaves like ``copy=False``.\n",
              "    If data is a dict containing one or more Series (possibly of different dtypes),\n",
              "    ``copy=False`` will ensure that these inputs are not copied.\n",
              "\n",
              "    .. versionchanged:: 1.3.0\n",
              "\n",
              "See Also\n",
              "--------\n",
              "DataFrame.from_records : Constructor from tuples, also record arrays.\n",
              "DataFrame.from_dict : From dicts of Series, arrays, or dicts.\n",
              "read_csv : Read a comma-separated values (csv) file into DataFrame.\n",
              "read_table : Read general delimited file into DataFrame.\n",
              "read_clipboard : Read text from clipboard into DataFrame.\n",
              "\n",
              "Notes\n",
              "-----\n",
              "Please reference the :ref:`User Guide &lt;basics.dataframe&gt;` for more information.\n",
              "\n",
              "Examples\n",
              "--------\n",
              "Constructing DataFrame from a dictionary.\n",
              "\n",
              "&gt;&gt;&gt; d = {&#x27;col1&#x27;: [1, 2], &#x27;col2&#x27;: [3, 4]}\n",
              "&gt;&gt;&gt; df = pd.DataFrame(data=d)\n",
              "&gt;&gt;&gt; df\n",
              "   col1  col2\n",
              "0     1     3\n",
              "1     2     4\n",
              "\n",
              "Notice that the inferred dtype is int64.\n",
              "\n",
              "&gt;&gt;&gt; df.dtypes\n",
              "col1    int64\n",
              "col2    int64\n",
              "dtype: object\n",
              "\n",
              "To enforce a single dtype:\n",
              "\n",
              "&gt;&gt;&gt; df = pd.DataFrame(data=d, dtype=np.int8)\n",
              "&gt;&gt;&gt; df.dtypes\n",
              "col1    int8\n",
              "col2    int8\n",
              "dtype: object\n",
              "\n",
              "Constructing DataFrame from a dictionary including Series:\n",
              "\n",
              "&gt;&gt;&gt; d = {&#x27;col1&#x27;: [0, 1, 2, 3], &#x27;col2&#x27;: pd.Series([2, 3], index=[2, 3])}\n",
              "&gt;&gt;&gt; pd.DataFrame(data=d, index=[0, 1, 2, 3])\n",
              "   col1  col2\n",
              "0     0   NaN\n",
              "1     1   NaN\n",
              "2     2   2.0\n",
              "3     3   3.0\n",
              "\n",
              "Constructing DataFrame from numpy ndarray:\n",
              "\n",
              "&gt;&gt;&gt; df2 = pd.DataFrame(np.array([[1, 2, 3], [4, 5, 6], [7, 8, 9]]),\n",
              "...                    columns=[&#x27;a&#x27;, &#x27;b&#x27;, &#x27;c&#x27;])\n",
              "&gt;&gt;&gt; df2\n",
              "   a  b  c\n",
              "0  1  2  3\n",
              "1  4  5  6\n",
              "2  7  8  9\n",
              "\n",
              "Constructing DataFrame from a numpy ndarray that has labeled columns:\n",
              "\n",
              "&gt;&gt;&gt; data = np.array([(1, 2, 3), (4, 5, 6), (7, 8, 9)],\n",
              "...                 dtype=[(&quot;a&quot;, &quot;i4&quot;), (&quot;b&quot;, &quot;i4&quot;), (&quot;c&quot;, &quot;i4&quot;)])\n",
              "&gt;&gt;&gt; df3 = pd.DataFrame(data, columns=[&#x27;c&#x27;, &#x27;a&#x27;])\n",
              "...\n",
              "&gt;&gt;&gt; df3\n",
              "   c  a\n",
              "0  3  1\n",
              "1  6  4\n",
              "2  9  7\n",
              "\n",
              "Constructing DataFrame from dataclass:\n",
              "\n",
              "&gt;&gt;&gt; from dataclasses import make_dataclass\n",
              "&gt;&gt;&gt; Point = make_dataclass(&quot;Point&quot;, [(&quot;x&quot;, int), (&quot;y&quot;, int)])\n",
              "&gt;&gt;&gt; pd.DataFrame([Point(0, 0), Point(0, 3), Point(2, 3)])\n",
              "   x  y\n",
              "0  0  0\n",
              "1  0  3\n",
              "2  2  3\n",
              "\n",
              "Constructing DataFrame from Series/DataFrame:\n",
              "\n",
              "&gt;&gt;&gt; ser = pd.Series([1, 2, 3], index=[&quot;a&quot;, &quot;b&quot;, &quot;c&quot;])\n",
              "&gt;&gt;&gt; df = pd.DataFrame(data=ser, index=[&quot;a&quot;, &quot;c&quot;])\n",
              "&gt;&gt;&gt; df\n",
              "   0\n",
              "a  1\n",
              "c  3\n",
              "\n",
              "&gt;&gt;&gt; df1 = pd.DataFrame([1, 2, 3], index=[&quot;a&quot;, &quot;b&quot;, &quot;c&quot;], columns=[&quot;x&quot;])\n",
              "&gt;&gt;&gt; df2 = pd.DataFrame(data=df1, index=[&quot;a&quot;, &quot;c&quot;])\n",
              "&gt;&gt;&gt; df2\n",
              "   x\n",
              "a  1\n",
              "c  3</pre>\n",
              "      <script>\n",
              "      if (google.colab.kernel.accessAllowed && google.colab.files && google.colab.files.view) {\n",
              "        for (const element of document.querySelectorAll('.filepath')) {\n",
              "          element.style.display = 'block'\n",
              "          element.onclick = (event) => {\n",
              "            event.preventDefault();\n",
              "            event.stopPropagation();\n",
              "            google.colab.files.view(element.textContent, 509);\n",
              "          };\n",
              "        }\n",
              "      }\n",
              "      for (const element of document.querySelectorAll('.function-repr-contents')) {\n",
              "        element.onclick = (event) => {\n",
              "          event.preventDefault();\n",
              "          event.stopPropagation();\n",
              "          element.classList.toggle('function-repr-contents-collapsed');\n",
              "        };\n",
              "      }\n",
              "      </script>\n",
              "      </div>"
            ]
          },
          "metadata": {},
          "execution_count": 5
        }
      ]
    },
    {
      "cell_type": "markdown",
      "source": [
        "### [1.2] Tuplas a partir de enumerate"
      ],
      "metadata": {
        "id": "6Ga15KnUBjJ6"
      }
    },
    {
      "cell_type": "code",
      "source": [
        "paises = ['perú','colombia','venezuela','ecuador','chile']\n",
        "\n",
        "for i,pais in enumerate(paises):\n",
        "  print((i,pais))"
      ],
      "metadata": {
        "id": "uGif8EEGBvqM",
        "outputId": "1dbeabfc-665d-454b-db5f-f36fbded49f5",
        "colab": {
          "base_uri": "https://localhost:8080/"
        }
      },
      "execution_count": null,
      "outputs": [
        {
          "output_type": "stream",
          "name": "stdout",
          "text": [
            "(0, 'perú')\n",
            "(1, 'colombia')\n",
            "(2, 'venezuela')\n",
            "(3, 'ecuador')\n",
            "(4, 'chile')\n"
          ]
        }
      ]
    },
    {
      "cell_type": "markdown",
      "source": [
        "### [1.3] Tuplas a partir de librería os"
      ],
      "metadata": {
        "id": "BadFpPR9CCTZ"
      }
    },
    {
      "cell_type": "code",
      "source": [
        "import os\n",
        "\n",
        "ruta = \"/home/usuario/archivo.txt\"\n",
        "resultado = os.path.split(ruta)\n",
        "print(resultado)"
      ],
      "metadata": {
        "id": "g7AqxAYmBwIM",
        "outputId": "0b82188a-a2f0-4cad-c8dc-fc2712e7966a",
        "colab": {
          "base_uri": "https://localhost:8080/"
        }
      },
      "execution_count": null,
      "outputs": [
        {
          "output_type": "stream",
          "name": "stdout",
          "text": [
            "('/home/usuario', 'archivo.txt')\n"
          ]
        }
      ]
    },
    {
      "cell_type": "markdown",
      "source": [
        "## [2] Crear tuplas e identificar los tipos de tuplas"
      ],
      "metadata": {
        "id": "DWhuqqC-fj5G"
      }
    },
    {
      "cell_type": "code",
      "source": [
        "tupla_0 = ('ibk','bcp','bbva')\n",
        "print(tupla_0)"
      ],
      "metadata": {
        "id": "qzsv-0QWBf8c",
        "outputId": "af4cdad7-6b26-4db3-ba82-faa53aed797f",
        "colab": {
          "base_uri": "https://localhost:8080/"
        }
      },
      "execution_count": null,
      "outputs": [
        {
          "output_type": "stream",
          "name": "stdout",
          "text": [
            "('ibk', 'bcp', 'bbva')\n"
          ]
        }
      ]
    },
    {
      "cell_type": "code",
      "source": [
        "type(tupla_0)"
      ],
      "metadata": {
        "id": "LD2mBEEMhsgO",
        "outputId": "18129ec7-b5e3-49a4-a5d8-a05ab4487f2b",
        "colab": {
          "base_uri": "https://localhost:8080/"
        }
      },
      "execution_count": null,
      "outputs": [
        {
          "output_type": "execute_result",
          "data": {
            "text/plain": [
              "tuple"
            ]
          },
          "metadata": {},
          "execution_count": 10
        }
      ]
    },
    {
      "cell_type": "code",
      "source": [
        "tupla_0 = () # Tupla vacía"
      ],
      "metadata": {
        "id": "g9w3MgKvbOYX"
      },
      "execution_count": null,
      "outputs": []
    },
    {
      "cell_type": "code",
      "source": [
        "type(tupla_0)"
      ],
      "metadata": {
        "id": "zRkTwen0c5XP"
      },
      "execution_count": null,
      "outputs": []
    },
    {
      "cell_type": "code",
      "source": [
        "#Lista con un elemento\n",
        "tupla_0 = [1]\n",
        "type(tupla_0)"
      ],
      "metadata": {
        "id": "nUNhNoLEiU06",
        "outputId": "ef881f01-24a7-4ba4-e081-8533d1ba3b78",
        "colab": {
          "base_uri": "https://localhost:8080/"
        }
      },
      "execution_count": null,
      "outputs": [
        {
          "output_type": "execute_result",
          "data": {
            "text/plain": [
              "list"
            ]
          },
          "metadata": {},
          "execution_count": 14
        }
      ]
    },
    {
      "cell_type": "code",
      "source": [
        "tupla_0 = (1) # Tupla de 1 elemento (ERROR)\n",
        "type(tupla_0)"
      ],
      "metadata": {
        "id": "sdJLMIrah-bo",
        "outputId": "8d2991c7-e27b-4ce4-e78f-3f3c4ba0e2fa",
        "colab": {
          "base_uri": "https://localhost:8080/"
        }
      },
      "execution_count": null,
      "outputs": [
        {
          "output_type": "execute_result",
          "data": {
            "text/plain": [
              "int"
            ]
          },
          "metadata": {},
          "execution_count": 12
        }
      ]
    },
    {
      "cell_type": "code",
      "source": [
        "#La manera correcta de crear una tupla con un elemento es la siguiente\n",
        "tupla_0 = (1,)\n",
        "type(tupla_0)"
      ],
      "metadata": {
        "id": "ZoBAkZ8oiMMW",
        "outputId": "29b6e171-eff2-4438-8ff5-1b554a2c5895",
        "colab": {
          "base_uri": "https://localhost:8080/"
        }
      },
      "execution_count": null,
      "outputs": [
        {
          "output_type": "execute_result",
          "data": {
            "text/plain": [
              "tuple"
            ]
          },
          "metadata": {},
          "execution_count": 13
        }
      ]
    },
    {
      "cell_type": "code",
      "source": [
        "type(tupla_0)"
      ],
      "metadata": {
        "id": "HOqEm_8whvyd",
        "outputId": "5ba1f214-b814-4a7e-8b94-38c0755c5ceb",
        "colab": {
          "base_uri": "https://localhost:8080/"
        }
      },
      "execution_count": null,
      "outputs": [
        {
          "output_type": "execute_result",
          "data": {
            "text/plain": [
              "tuple"
            ]
          },
          "metadata": {},
          "execution_count": 11
        }
      ]
    },
    {
      "cell_type": "code",
      "source": [
        "tupla_1 = (5,) # Tupla de 1 elemento\n",
        "type(tupla_1)"
      ],
      "metadata": {
        "id": "n5NnbgLMc7Al"
      },
      "execution_count": null,
      "outputs": []
    },
    {
      "cell_type": "markdown",
      "source": [
        "## Actividad N022"
      ],
      "metadata": {
        "id": "-qKSwJwWDkBd"
      }
    },
    {
      "cell_type": "markdown",
      "source": [
        "Crear una tupla con el nombre “equipos”, los elementos de la tupla serán 5 equipos de fútbol y vamos a mostrar en pantalla el resultado."
      ],
      "metadata": {
        "id": "7rk2mFtKDnSu"
      }
    },
    {
      "cell_type": "code",
      "source": [
        "equipos = ('Alianza','Universitario','Cienciano','Cristal','Vallejo')\n",
        "print(equipos)"
      ],
      "metadata": {
        "id": "nyszH_XfDrVI",
        "outputId": "e5f1179a-d4ea-4781-e51a-1b240a0b1be1",
        "colab": {
          "base_uri": "https://localhost:8080/"
        }
      },
      "execution_count": null,
      "outputs": [
        {
          "output_type": "stream",
          "name": "stdout",
          "text": [
            "('Alianza', 'Universitario', 'Cienciano', 'Cristal', 'Vallejo')\n"
          ]
        }
      ]
    },
    {
      "cell_type": "markdown",
      "source": [
        "## [3] Tipos de tuplas"
      ],
      "metadata": {
        "id": "i2YPNZCzDyWg"
      }
    },
    {
      "cell_type": "code",
      "source": [
        "# Tupla homogénea => elementos son del mismo tipo\n",
        "\n",
        "tupla_2 = (2.0, 2.5, 3.2, 4.3, 4.5, 6.5, 7.0)\n",
        "print(f\"La tupla es \\n{tupla_2}\")\n",
        "print(f\"El objeto tupla_2 es del tipo {type(tupla_2)}\")"
      ],
      "metadata": {
        "id": "6jSfoLLvdHSY",
        "outputId": "07e010ca-90de-4a82-cedc-f0d001e64eb4",
        "colab": {
          "base_uri": "https://localhost:8080/"
        }
      },
      "execution_count": null,
      "outputs": [
        {
          "output_type": "stream",
          "name": "stdout",
          "text": [
            "La tupla es \n",
            "(2.0, 2.5, 3.2, 4.3, 4.5, 6.5, 7.0)\n",
            "El objeto tupla_2 es del tipo <class 'tuple'>\n"
          ]
        }
      ]
    },
    {
      "cell_type": "markdown",
      "source": [
        "## Actividad N023"
      ],
      "metadata": {
        "id": "5OCfITR2FNXH"
      }
    },
    {
      "cell_type": "markdown",
      "source": [
        "(2,5.5,'UTEC',True)\n",
        "\n",
        "Crear una tupla con la información de la imagen superior y nombrar como “info_personal”.\n",
        "¿Qué tipo de tupla es “info_personal”?"
      ],
      "metadata": {
        "id": "qz4HAITeFPe7"
      }
    },
    {
      "cell_type": "code",
      "source": [
        "info_personal = (2,5.5,'UTEC',True)\n",
        "print(f\"La tupla es \\n{info_personal}\")\n",
        "print(f\"El objeto info_personal es del tipo {type(info_personal)}\")"
      ],
      "metadata": {
        "id": "4rEE9oKYFZVM",
        "outputId": "7fea5a78-8d39-4dfc-b7c6-d68f7a36455b",
        "colab": {
          "base_uri": "https://localhost:8080/"
        }
      },
      "execution_count": null,
      "outputs": [
        {
          "output_type": "stream",
          "name": "stdout",
          "text": [
            "La tupla es \n",
            "(2, 5.5, 'UTEC', True)\n",
            "El objeto info_personal es del tipo <class 'tuple'>\n"
          ]
        }
      ]
    },
    {
      "cell_type": "markdown",
      "source": [
        "## [4] Acceder a los elementos de las tuplas"
      ],
      "metadata": {
        "id": "MY9xSd-qfgkS"
      }
    },
    {
      "cell_type": "code",
      "source": [
        "materias = ('algebra','aritmética','razonamiento verbal','trigonometría','geometría')"
      ],
      "metadata": {
        "id": "eRYIY_eEEEd3"
      },
      "execution_count": null,
      "outputs": []
    },
    {
      "cell_type": "code",
      "source": [
        "materias[2]"
      ],
      "metadata": {
        "id": "PIz7aCaJEZHj",
        "outputId": "68f599c2-4716-428a-9c3f-a3459210b8f7",
        "colab": {
          "base_uri": "https://localhost:8080/",
          "height": 36
        }
      },
      "execution_count": null,
      "outputs": [
        {
          "output_type": "execute_result",
          "data": {
            "text/plain": [
              "'razonamiento verbal'"
            ],
            "application/vnd.google.colaboratory.intrinsic+json": {
              "type": "string"
            }
          },
          "metadata": {},
          "execution_count": 20
        }
      ]
    },
    {
      "cell_type": "code",
      "source": [
        "materias[1:4]"
      ],
      "metadata": {
        "id": "kIF8FIZqEdsw",
        "outputId": "889b6493-63f8-4668-facf-35470133c0be",
        "colab": {
          "base_uri": "https://localhost:8080/"
        }
      },
      "execution_count": null,
      "outputs": [
        {
          "output_type": "execute_result",
          "data": {
            "text/plain": [
              "('aritmética', 'razonamiento verbal', 'trigonometría')"
            ]
          },
          "metadata": {},
          "execution_count": 22
        }
      ]
    },
    {
      "cell_type": "code",
      "source": [
        "print(f\"La tupla es {tupla_3}\")\n",
        "print(f\"El elemento de índice 1 de la tupla es {tupla_3[1]}\")"
      ],
      "metadata": {
        "id": "G_AXXBySeEo4"
      },
      "execution_count": null,
      "outputs": []
    },
    {
      "cell_type": "code",
      "source": [
        "tupla_4 = (1,2,3,4,5,6,7,8,9,10)"
      ],
      "metadata": {
        "id": "ndnatYBSf6_V"
      },
      "execution_count": null,
      "outputs": []
    },
    {
      "cell_type": "code",
      "source": [
        "# Acceder a los elementos de la tupla por operadores de segmentación\n",
        "print(f\"Los elementos seleccionados de la tupla original son \\n{tupla_4[2:7]}\")"
      ],
      "metadata": {
        "id": "AQhKAo1Sjnjs",
        "outputId": "47e80126-d6f2-4241-9bb5-68e16d42e23f",
        "colab": {
          "base_uri": "https://localhost:8080/"
        }
      },
      "execution_count": null,
      "outputs": [
        {
          "output_type": "stream",
          "name": "stdout",
          "text": [
            "Los elementos seleccionados de la tupla original son \n",
            "(3, 4, 5, 6, 7)\n"
          ]
        }
      ]
    },
    {
      "cell_type": "code",
      "source": [
        "print(f\"Los elementos seleccionados de la tupla original son \\n{tupla_4[7:]}\")"
      ],
      "metadata": {
        "id": "ynldLm6JkrTS",
        "outputId": "55eaa165-509e-4125-dbe9-36f11b196b8b",
        "colab": {
          "base_uri": "https://localhost:8080/"
        }
      },
      "execution_count": null,
      "outputs": [
        {
          "output_type": "stream",
          "name": "stdout",
          "text": [
            "Los elementos seleccionados de la tupla original son \n",
            "(8, 9, 10)\n"
          ]
        }
      ]
    },
    {
      "cell_type": "code",
      "source": [
        "print(f\"Los elementos seleccionados de la tupla original son \\n{tupla_4[0:4]}\")"
      ],
      "metadata": {
        "id": "D-k3mMqWloTN",
        "outputId": "a858a2ae-f6cd-44c4-a847-e09c8df3ca00",
        "colab": {
          "base_uri": "https://localhost:8080/"
        }
      },
      "execution_count": null,
      "outputs": [
        {
          "output_type": "stream",
          "name": "stdout",
          "text": [
            "Los elementos seleccionados de la tupla original son \n",
            "(1, 2, 3, 4)\n"
          ]
        }
      ]
    },
    {
      "cell_type": "code",
      "source": [
        "print(f\"Los elementos seleccionados de la tupla original son \\n{tupla_4[:4]}\")"
      ],
      "metadata": {
        "id": "IScUIKDblsUM",
        "outputId": "6a36ad02-36d8-42b1-b1c8-fd9cb15e032b",
        "colab": {
          "base_uri": "https://localhost:8080/"
        }
      },
      "execution_count": null,
      "outputs": [
        {
          "output_type": "stream",
          "name": "stdout",
          "text": [
            "Los elementos seleccionados de la tupla original son \n",
            "(1, 2, 3, 4)\n"
          ]
        }
      ]
    },
    {
      "cell_type": "markdown",
      "source": [
        "## Actividad N024"
      ],
      "metadata": {
        "id": "zxMMwTm5Es5v"
      }
    },
    {
      "cell_type": "markdown",
      "source": [
        "Acceder al último elemento de la tupla (“equipos”)."
      ],
      "metadata": {
        "id": "VmmXpCP9Exf9"
      }
    },
    {
      "cell_type": "code",
      "source": [
        "print(f\"El último elemento de la tupla es {equipos[-1]}\")"
      ],
      "metadata": {
        "id": "6cOHpfzlEw0U",
        "outputId": "dfb61ae8-d6b1-430b-8429-680a9db8bd3b",
        "colab": {
          "base_uri": "https://localhost:8080/"
        }
      },
      "execution_count": null,
      "outputs": [
        {
          "output_type": "stream",
          "name": "stdout",
          "text": [
            "El último elemento de la tupla es Vallejo\n"
          ]
        }
      ]
    },
    {
      "cell_type": "markdown",
      "source": [
        "Acceder a los primeros 3 elementos de la tupla (“equipos”)."
      ],
      "metadata": {
        "id": "aBUdIPP8E8IQ"
      }
    },
    {
      "cell_type": "code",
      "source": [
        "print(f'Los tres primeros elementos de equipo son {equipos[:3]}')"
      ],
      "metadata": {
        "id": "O-Q7KnwOE9YQ",
        "outputId": "836ad80b-8b68-4fc9-a3c5-4cb0830f5a55",
        "colab": {
          "base_uri": "https://localhost:8080/"
        }
      },
      "execution_count": null,
      "outputs": [
        {
          "output_type": "stream",
          "name": "stdout",
          "text": [
            "Los tres primeros elementos de equipo son ('Alianza', 'Universitario', 'Cienciano')\n"
          ]
        }
      ]
    },
    {
      "cell_type": "markdown",
      "source": [
        "## [5] Desempaquetado de tuplas"
      ],
      "metadata": {
        "id": "90beMxfqovaa"
      }
    },
    {
      "cell_type": "code",
      "source": [
        "var_1, var_2 = \"UTEC\",\"UPC\" # Desempaquetado de dos cadenas de caracteres en dos variables (var_1,var_2)"
      ],
      "metadata": {
        "id": "py4oDOQronuA"
      },
      "execution_count": null,
      "outputs": []
    },
    {
      "cell_type": "code",
      "source": [
        "print(f\"El valor de var_1 es {var_1}\")\n",
        "print(f\"El valor de var_2 es {var_2}\")"
      ],
      "metadata": {
        "id": "jzXde_wyo6mi",
        "outputId": "9c7176f5-1f59-4af0-a039-0029d9e1d0e7",
        "colab": {
          "base_uri": "https://localhost:8080/"
        }
      },
      "execution_count": null,
      "outputs": [
        {
          "output_type": "stream",
          "name": "stdout",
          "text": [
            "El valor de var_1 es UTEC\n",
            "El valor de var_2 es UPC\n"
          ]
        }
      ]
    },
    {
      "cell_type": "code",
      "source": [
        "t_vocales = (\"a\", \"e\", \"i\", \"o\", \"u\")\n",
        "print(f\"La tupla vocales es {t_vocales}\")"
      ],
      "metadata": {
        "id": "OnR3rrRvpBMJ",
        "outputId": "80f76558-aaa0-485d-8329-164311db20c0",
        "colab": {
          "base_uri": "https://localhost:8080/"
        }
      },
      "execution_count": null,
      "outputs": [
        {
          "output_type": "stream",
          "name": "stdout",
          "text": [
            "La tupla vocales es ('a', 'e', 'i', 'o', 'u')\n"
          ]
        }
      ]
    },
    {
      "cell_type": "code",
      "source": [
        "print(f\"La selección de los primeros tres elementos es {t_vocales[0:3]}\")"
      ],
      "metadata": {
        "id": "7oXysCaZpVl-",
        "outputId": "0861dc9f-fc37-42c2-af99-c4f6bd4e3167",
        "colab": {
          "base_uri": "https://localhost:8080/"
        }
      },
      "execution_count": null,
      "outputs": [
        {
          "output_type": "stream",
          "name": "stdout",
          "text": [
            "La selección de los primeros tres elementos es ('a', 'e', 'i')\n"
          ]
        }
      ]
    },
    {
      "cell_type": "code",
      "source": [
        "x, y, z = t_vocales[0:3] # Desempaquetar los elementos de la tupla en 3 variables"
      ],
      "metadata": {
        "id": "yygRS0qvqB9l"
      },
      "execution_count": null,
      "outputs": []
    },
    {
      "cell_type": "code",
      "source": [
        "print(f\"El primer elemento de la tupla vocales es {x}.\")\n",
        "print(f\"El segundo elemento de la tupla vocales es {y}.\")\n",
        "print(f\"El tercer elemento de la tupla vocales es {z}.\")"
      ],
      "metadata": {
        "id": "R1IwLShhqNaP",
        "outputId": "c0feee0d-63d1-40ba-95dc-fb4cd98a092a",
        "colab": {
          "base_uri": "https://localhost:8080/"
        }
      },
      "execution_count": null,
      "outputs": [
        {
          "output_type": "stream",
          "name": "stdout",
          "text": [
            "El primer elemento de la tupla vocales es a.\n",
            "El segundo elemento de la tupla vocales es e.\n",
            "El tercer elemento de la tupla vocales es i.\n"
          ]
        }
      ]
    },
    {
      "cell_type": "code",
      "source": [
        "t_vocales[0] = \"A\" # Tuplas son inmutables"
      ],
      "metadata": {
        "id": "NNXZ16M5qfIv",
        "outputId": "cd88f932-6e66-4771-f7d5-b2838b8b09b4",
        "colab": {
          "base_uri": "https://localhost:8080/",
          "height": 148
        }
      },
      "execution_count": null,
      "outputs": [
        {
          "output_type": "error",
          "ename": "TypeError",
          "evalue": "'tuple' object does not support item assignment",
          "traceback": [
            "\u001b[0;31m---------------------------------------------------------------------------\u001b[0m",
            "\u001b[0;31mTypeError\u001b[0m                                 Traceback (most recent call last)",
            "\u001b[0;32m<ipython-input-40-19cd03765649>\u001b[0m in \u001b[0;36m<cell line: 0>\u001b[0;34m()\u001b[0m\n\u001b[0;32m----> 1\u001b[0;31m \u001b[0mt_vocales\u001b[0m\u001b[0;34m[\u001b[0m\u001b[0;36m0\u001b[0m\u001b[0;34m]\u001b[0m \u001b[0;34m=\u001b[0m \u001b[0;34m\"A\"\u001b[0m \u001b[0;31m# Tuplas son inmutables\u001b[0m\u001b[0;34m\u001b[0m\u001b[0;34m\u001b[0m\u001b[0m\n\u001b[0m",
            "\u001b[0;31mTypeError\u001b[0m: 'tuple' object does not support item assignment"
          ]
        }
      ]
    },
    {
      "cell_type": "code",
      "source": [
        "print(materias)"
      ],
      "metadata": {
        "id": "54h3b0goFxLE",
        "outputId": "9fce56ae-2b27-419c-ecac-6a9ba5c37202",
        "colab": {
          "base_uri": "https://localhost:8080/"
        }
      },
      "execution_count": null,
      "outputs": [
        {
          "output_type": "stream",
          "name": "stdout",
          "text": [
            "('algebra', 'aritmética', 'razonamiento verbal', 'trigonometría', 'geometría')\n"
          ]
        }
      ]
    },
    {
      "cell_type": "code",
      "source": [
        "x,y,z = materias[0:3]"
      ],
      "metadata": {
        "id": "XAelNq2gq_T5"
      },
      "execution_count": null,
      "outputs": []
    },
    {
      "cell_type": "markdown",
      "source": [
        "## Actividad N025"
      ],
      "metadata": {
        "id": "L6mFLkVaF_Qw"
      }
    },
    {
      "cell_type": "markdown",
      "source": [
        "Desempaquetar los 2 últimos equipos de la tupla (“equipos”) y almacenarlos en los objetos equipo_A y equipo_B."
      ],
      "metadata": {
        "id": "cpSfGmfoGCZO"
      }
    },
    {
      "cell_type": "code",
      "source": [
        "equipos"
      ],
      "metadata": {
        "id": "R15D5zg5wzCf",
        "outputId": "11c1c159-86cd-4570-936e-65f14fba1351",
        "colab": {
          "base_uri": "https://localhost:8080/"
        }
      },
      "execution_count": null,
      "outputs": [
        {
          "output_type": "execute_result",
          "data": {
            "text/plain": [
              "('Alianza', 'Universitario', 'Cienciano', 'Cristal', 'Vallejo')"
            ]
          },
          "metadata": {},
          "execution_count": 45
        }
      ]
    },
    {
      "cell_type": "code",
      "source": [
        "equipo_A,equipo_B = equipos[-2:]\n",
        "print(f'El ultimo equipo es {equipo_A}\\n el penultimo equipo es {equipo_B}')"
      ],
      "metadata": {
        "id": "0LVyhf6dwR-O",
        "outputId": "a2b71162-30ab-4bd4-89fe-a5f0e88e555a",
        "colab": {
          "base_uri": "https://localhost:8080/"
        }
      },
      "execution_count": null,
      "outputs": [
        {
          "output_type": "stream",
          "name": "stdout",
          "text": [
            "El ultimo equipo es Cristal\n",
            " el penultimo equipo es Vallejo\n"
          ]
        }
      ]
    },
    {
      "cell_type": "markdown",
      "source": [
        "## [6] Desempaquetado de tuplas con FOR"
      ],
      "metadata": {
        "id": "bYvov9PCrwZf"
      }
    },
    {
      "cell_type": "code",
      "source": [
        "t_prod = ((\"A0001\",\"manzana\",3.0),(\"A0002\",\"aceite\",7.5)) #tupla de tuplas"
      ],
      "metadata": {
        "id": "ZBKicQLJre0p"
      },
      "execution_count": null,
      "outputs": []
    },
    {
      "cell_type": "code",
      "source": [
        "print(f\"La tupla de productos es \\n{t_prod}\")"
      ],
      "metadata": {
        "id": "N0IHEobWsEkJ",
        "outputId": "fce7df73-afc1-47ed-be67-2764426175c0",
        "colab": {
          "base_uri": "https://localhost:8080/"
        }
      },
      "execution_count": null,
      "outputs": [
        {
          "output_type": "stream",
          "name": "stdout",
          "text": [
            "La tupla de productos es \n",
            "(('A0001', 'manzana', 3.0), ('A0002', 'aceite', 7.5))\n"
          ]
        }
      ]
    },
    {
      "cell_type": "code",
      "source": [
        "for cod,prod,pre in t_prod:\n",
        "  print(f\"El producto {prod} con código {cod} tiene el precio vigente en S/.{pre}\")"
      ],
      "metadata": {
        "id": "rZt_NLthsI1k",
        "outputId": "f38ac2bd-6ea9-42fe-f239-8318c237015d",
        "colab": {
          "base_uri": "https://localhost:8080/"
        }
      },
      "execution_count": null,
      "outputs": [
        {
          "output_type": "stream",
          "name": "stdout",
          "text": [
            "El producto manzana con código A0001 tiene el precio vigente en S/.3.0\n",
            "El producto aceite con código A0002 tiene el precio vigente en S/.7.5\n"
          ]
        }
      ]
    },
    {
      "cell_type": "code",
      "source": [
        "# ejemplo para alumnos\n",
        "\n",
        "tupla_al = (('Juan','23','Noviembre'),('Pedro','22','Octube'),('Larisa','20','Marzo'),('Julieta','23','Abril'))\n",
        "for nombre, edad, mes in tupla_al:\n",
        "  print(f'{nombre} tiene {edad} años y nació en {mes}')"
      ],
      "metadata": {
        "id": "vdPnD6fbxN-F",
        "outputId": "b155705c-847d-496e-fcea-f6ec22d1f195",
        "colab": {
          "base_uri": "https://localhost:8080/"
        }
      },
      "execution_count": null,
      "outputs": [
        {
          "output_type": "stream",
          "name": "stdout",
          "text": [
            "Juan tiene 23 años y nació en Noviembre\n",
            "Pedro tiene 22 años y nació en Octube\n",
            "Larisa tiene 20 años y nació en Marzo\n",
            "Julieta tiene 23 años y nació en Abril\n"
          ]
        }
      ]
    },
    {
      "cell_type": "markdown",
      "source": [
        "## [7] Función tuple"
      ],
      "metadata": {
        "id": "GKm73_I7supL"
      }
    },
    {
      "cell_type": "code",
      "source": [
        "pares = tuple(range(2,11,2)) #funcion tuple permite crear tuplas\n",
        "print(pares)\n",
        "type(pares)"
      ],
      "metadata": {
        "id": "KXZ3pB0WGeXV",
        "outputId": "54c53102-f8a2-4d5b-d067-72ec0b667ff8",
        "colab": {
          "base_uri": "https://localhost:8080/"
        }
      },
      "execution_count": null,
      "outputs": [
        {
          "output_type": "stream",
          "name": "stdout",
          "text": [
            "(2, 4, 6, 8, 10)\n"
          ]
        },
        {
          "output_type": "execute_result",
          "data": {
            "text/plain": [
              "tuple"
            ]
          },
          "metadata": {},
          "execution_count": 56
        }
      ]
    },
    {
      "cell_type": "code",
      "source": [
        "lista_ = list(range(10)) # Función list me permite crear listas"
      ],
      "metadata": {
        "id": "FqYvb0BestuV"
      },
      "execution_count": null,
      "outputs": []
    },
    {
      "cell_type": "code",
      "source": [
        "print(f\"La lista {lista_} es del tipo {type(lista_)}\")"
      ],
      "metadata": {
        "id": "-9Dcr5ursiYC",
        "outputId": "8104e558-d7d8-40d0-9d12-6dc1dbf6dc85",
        "colab": {
          "base_uri": "https://localhost:8080/"
        }
      },
      "execution_count": null,
      "outputs": [
        {
          "output_type": "stream",
          "name": "stdout",
          "text": [
            "La lista [0, 1, 2, 3, 4, 5, 6, 7, 8, 9] es del tipo <class 'list'>\n"
          ]
        }
      ]
    },
    {
      "cell_type": "code",
      "source": [
        "tupla_ = tuple(lista_) # Función tuple me permite crear tuplas\n",
        "print(f\"La tupla {tupla_} es del tipo {type(tupla_)}\")"
      ],
      "metadata": {
        "id": "p-5jW-BttDEa",
        "outputId": "943cdc93-88f7-4452-b017-f5f9ffd1e275",
        "colab": {
          "base_uri": "https://localhost:8080/"
        }
      },
      "execution_count": null,
      "outputs": [
        {
          "output_type": "stream",
          "name": "stdout",
          "text": [
            "La tupla (0, 1, 2, 3, 4, 5, 6, 7, 8, 9) es del tipo <class 'tuple'>\n"
          ]
        }
      ]
    },
    {
      "cell_type": "code",
      "source": [
        "tuple(\"David\")"
      ],
      "metadata": {
        "id": "PCrzJ3y8tXrs",
        "outputId": "2a6c6dea-be11-4187-809c-2da6663539c8",
        "colab": {
          "base_uri": "https://localhost:8080/"
        }
      },
      "execution_count": null,
      "outputs": [
        {
          "output_type": "execute_result",
          "data": {
            "text/plain": [
              "('D', 'a', 'v', 'i', 'd')"
            ]
          },
          "metadata": {},
          "execution_count": 60
        }
      ]
    },
    {
      "cell_type": "markdown",
      "source": [
        "## Actividad N026"
      ],
      "metadata": {
        "id": "eDbrnbWkGiLB"
      }
    },
    {
      "cell_type": "markdown",
      "source": [
        "Crear la tupla cobre_prod, esta tupla estará compuesta por la información del cuadro."
      ],
      "metadata": {
        "id": "Y3aiPsbNGqQi"
      }
    },
    {
      "cell_type": "code",
      "source": [
        "from google.colab import files\n",
        "#subir archivo desde tu maquina local\n",
        "uploaded = files.upload()"
      ],
      "metadata": {
        "id": "jOhYW9um2YaN",
        "outputId": "ed8435ef-3d7b-429b-df25-57549fa20a78",
        "colab": {
          "base_uri": "https://localhost:8080/",
          "height": 73
        }
      },
      "execution_count": 61,
      "outputs": [
        {
          "output_type": "display_data",
          "data": {
            "text/plain": [
              "<IPython.core.display.HTML object>"
            ],
            "text/html": [
              "\n",
              "     <input type=\"file\" id=\"files-9a8cfb0d-c7be-4a22-a101-0726962880e6\" name=\"files[]\" multiple disabled\n",
              "        style=\"border:none\" />\n",
              "     <output id=\"result-9a8cfb0d-c7be-4a22-a101-0726962880e6\">\n",
              "      Upload widget is only available when the cell has been executed in the\n",
              "      current browser session. Please rerun this cell to enable.\n",
              "      </output>\n",
              "      <script>// Copyright 2017 Google LLC\n",
              "//\n",
              "// Licensed under the Apache License, Version 2.0 (the \"License\");\n",
              "// you may not use this file except in compliance with the License.\n",
              "// You may obtain a copy of the License at\n",
              "//\n",
              "//      http://www.apache.org/licenses/LICENSE-2.0\n",
              "//\n",
              "// Unless required by applicable law or agreed to in writing, software\n",
              "// distributed under the License is distributed on an \"AS IS\" BASIS,\n",
              "// WITHOUT WARRANTIES OR CONDITIONS OF ANY KIND, either express or implied.\n",
              "// See the License for the specific language governing permissions and\n",
              "// limitations under the License.\n",
              "\n",
              "/**\n",
              " * @fileoverview Helpers for google.colab Python module.\n",
              " */\n",
              "(function(scope) {\n",
              "function span(text, styleAttributes = {}) {\n",
              "  const element = document.createElement('span');\n",
              "  element.textContent = text;\n",
              "  for (const key of Object.keys(styleAttributes)) {\n",
              "    element.style[key] = styleAttributes[key];\n",
              "  }\n",
              "  return element;\n",
              "}\n",
              "\n",
              "// Max number of bytes which will be uploaded at a time.\n",
              "const MAX_PAYLOAD_SIZE = 100 * 1024;\n",
              "\n",
              "function _uploadFiles(inputId, outputId) {\n",
              "  const steps = uploadFilesStep(inputId, outputId);\n",
              "  const outputElement = document.getElementById(outputId);\n",
              "  // Cache steps on the outputElement to make it available for the next call\n",
              "  // to uploadFilesContinue from Python.\n",
              "  outputElement.steps = steps;\n",
              "\n",
              "  return _uploadFilesContinue(outputId);\n",
              "}\n",
              "\n",
              "// This is roughly an async generator (not supported in the browser yet),\n",
              "// where there are multiple asynchronous steps and the Python side is going\n",
              "// to poll for completion of each step.\n",
              "// This uses a Promise to block the python side on completion of each step,\n",
              "// then passes the result of the previous step as the input to the next step.\n",
              "function _uploadFilesContinue(outputId) {\n",
              "  const outputElement = document.getElementById(outputId);\n",
              "  const steps = outputElement.steps;\n",
              "\n",
              "  const next = steps.next(outputElement.lastPromiseValue);\n",
              "  return Promise.resolve(next.value.promise).then((value) => {\n",
              "    // Cache the last promise value to make it available to the next\n",
              "    // step of the generator.\n",
              "    outputElement.lastPromiseValue = value;\n",
              "    return next.value.response;\n",
              "  });\n",
              "}\n",
              "\n",
              "/**\n",
              " * Generator function which is called between each async step of the upload\n",
              " * process.\n",
              " * @param {string} inputId Element ID of the input file picker element.\n",
              " * @param {string} outputId Element ID of the output display.\n",
              " * @return {!Iterable<!Object>} Iterable of next steps.\n",
              " */\n",
              "function* uploadFilesStep(inputId, outputId) {\n",
              "  const inputElement = document.getElementById(inputId);\n",
              "  inputElement.disabled = false;\n",
              "\n",
              "  const outputElement = document.getElementById(outputId);\n",
              "  outputElement.innerHTML = '';\n",
              "\n",
              "  const pickedPromise = new Promise((resolve) => {\n",
              "    inputElement.addEventListener('change', (e) => {\n",
              "      resolve(e.target.files);\n",
              "    });\n",
              "  });\n",
              "\n",
              "  const cancel = document.createElement('button');\n",
              "  inputElement.parentElement.appendChild(cancel);\n",
              "  cancel.textContent = 'Cancel upload';\n",
              "  const cancelPromise = new Promise((resolve) => {\n",
              "    cancel.onclick = () => {\n",
              "      resolve(null);\n",
              "    };\n",
              "  });\n",
              "\n",
              "  // Wait for the user to pick the files.\n",
              "  const files = yield {\n",
              "    promise: Promise.race([pickedPromise, cancelPromise]),\n",
              "    response: {\n",
              "      action: 'starting',\n",
              "    }\n",
              "  };\n",
              "\n",
              "  cancel.remove();\n",
              "\n",
              "  // Disable the input element since further picks are not allowed.\n",
              "  inputElement.disabled = true;\n",
              "\n",
              "  if (!files) {\n",
              "    return {\n",
              "      response: {\n",
              "        action: 'complete',\n",
              "      }\n",
              "    };\n",
              "  }\n",
              "\n",
              "  for (const file of files) {\n",
              "    const li = document.createElement('li');\n",
              "    li.append(span(file.name, {fontWeight: 'bold'}));\n",
              "    li.append(span(\n",
              "        `(${file.type || 'n/a'}) - ${file.size} bytes, ` +\n",
              "        `last modified: ${\n",
              "            file.lastModifiedDate ? file.lastModifiedDate.toLocaleDateString() :\n",
              "                                    'n/a'} - `));\n",
              "    const percent = span('0% done');\n",
              "    li.appendChild(percent);\n",
              "\n",
              "    outputElement.appendChild(li);\n",
              "\n",
              "    const fileDataPromise = new Promise((resolve) => {\n",
              "      const reader = new FileReader();\n",
              "      reader.onload = (e) => {\n",
              "        resolve(e.target.result);\n",
              "      };\n",
              "      reader.readAsArrayBuffer(file);\n",
              "    });\n",
              "    // Wait for the data to be ready.\n",
              "    let fileData = yield {\n",
              "      promise: fileDataPromise,\n",
              "      response: {\n",
              "        action: 'continue',\n",
              "      }\n",
              "    };\n",
              "\n",
              "    // Use a chunked sending to avoid message size limits. See b/62115660.\n",
              "    let position = 0;\n",
              "    do {\n",
              "      const length = Math.min(fileData.byteLength - position, MAX_PAYLOAD_SIZE);\n",
              "      const chunk = new Uint8Array(fileData, position, length);\n",
              "      position += length;\n",
              "\n",
              "      const base64 = btoa(String.fromCharCode.apply(null, chunk));\n",
              "      yield {\n",
              "        response: {\n",
              "          action: 'append',\n",
              "          file: file.name,\n",
              "          data: base64,\n",
              "        },\n",
              "      };\n",
              "\n",
              "      let percentDone = fileData.byteLength === 0 ?\n",
              "          100 :\n",
              "          Math.round((position / fileData.byteLength) * 100);\n",
              "      percent.textContent = `${percentDone}% done`;\n",
              "\n",
              "    } while (position < fileData.byteLength);\n",
              "  }\n",
              "\n",
              "  // All done.\n",
              "  yield {\n",
              "    response: {\n",
              "      action: 'complete',\n",
              "    }\n",
              "  };\n",
              "}\n",
              "\n",
              "scope.google = scope.google || {};\n",
              "scope.google.colab = scope.google.colab || {};\n",
              "scope.google.colab._files = {\n",
              "  _uploadFiles,\n",
              "  _uploadFilesContinue,\n",
              "};\n",
              "})(self);\n",
              "</script> "
            ]
          },
          "metadata": {}
        },
        {
          "output_type": "stream",
          "name": "stdout",
          "text": [
            "Saving minas datos.png to minas datos.png\n"
          ]
        }
      ]
    },
    {
      "cell_type": "code",
      "source": [
        "from IPython.display import Image, display\n",
        "# Mostrar la imagen en Colab\n",
        "display(Image(filename='minas datos.png'))"
      ],
      "metadata": {
        "id": "szmc3yzs3HHH",
        "outputId": "abd82f56-3c52-46cf-fb62-4c521105d838",
        "colab": {
          "base_uri": "https://localhost:8080/",
          "height": 726
        }
      },
      "execution_count": 63,
      "outputs": [
        {
          "output_type": "display_data",
          "data": {
            "image/png": "[encoded data removed]",
            "text/plain": [
              "<IPython.core.display.Image object>"
            ]
          },
          "metadata": {}
        }
      ]
    },
    {
      "cell_type": "code",
      "source": [
        "cobre_prod = (('Escondida','Chile','1281400t(2023)'),('Grasberg','Indonesia','816466t(2023)'),('Collahuasi','Chile','563390t(2023)'),('ANtamina','Peru','434238t(2024)'),('Cerro Verde','Peru','449096t(2024)'),('Las Bambas','Peru','400000t(2021)'))"
      ],
      "metadata": {
        "id": "y_fwBZT0GkcE"
      },
      "execution_count": 66,
      "outputs": []
    },
    {
      "cell_type": "markdown",
      "source": [
        "## Actividad N027"
      ],
      "metadata": {
        "id": "fyCkjmKrGvT4"
      }
    },
    {
      "cell_type": "markdown",
      "source": [
        "Desempaquetar la tupla cobre_prod, imprimir en pantalla los siguientes enunciados."
      ],
      "metadata": {
        "id": "OKnEoJyEGrrI"
      }
    },
    {
      "cell_type": "code",
      "source": [
        "for mina,pais,prod_an in cobre_prod:\n",
        "  print(f'La mina {mina} se encuentra en {pais} y tiene un producción anual de {prod_an}')"
      ],
      "metadata": {
        "id": "KMLfnzfTGtu2",
        "outputId": "b0e69807-f1b6-4cc8-b575-80669e085602",
        "colab": {
          "base_uri": "https://localhost:8080/"
        }
      },
      "execution_count": 67,
      "outputs": [
        {
          "output_type": "stream",
          "name": "stdout",
          "text": [
            "La mina Escondida se encuentra en Chile y tiene un producción anual de 1281400t(2023)\n",
            "La mina Grasberg se encuentra en Indonesia y tiene un producción anual de 816466t(2023)\n",
            "La mina Collahuasi se encuentra en Chile y tiene un producción anual de 563390t(2023)\n",
            "La mina ANtamina se encuentra en Peru y tiene un producción anual de 434238t(2024)\n",
            "La mina Cerro Verde se encuentra en Peru y tiene un producción anual de 449096t(2024)\n",
            "La mina Las Bambas se encuentra en Peru y tiene un producción anual de 400000t(2021)\n"
          ]
        }
      ]
    }
  ]
}