{
  "nbformat": 4,
  "nbformat_minor": 0,
  "metadata": {
    "colab": {
      "provenance": [],
      "include_colab_link": true
    },
    "kernelspec": {
      "name": "python3",
      "display_name": "Python 3"
    },
    "language_info": {
      "name": "python"
    }
  },
  "cells": [
    {
      "cell_type": "markdown",
      "metadata": {
        "id": "view-in-github",
        "colab_type": "text"
      },
      "source": [
        "<a href=\"https://colab.research.google.com/github/escorpio11/programa-python/blob/main/modulo_3/Progama_Python_UTEC_Sesion11_DataGathering.ipynb\" target=\"_parent\"><img src=\"https://colab.research.google.com/assets/colab-badge.svg\" alt=\"Open In Colab\"/></a>"
      ]
    },
    {
      "cell_type": "markdown",
      "source": [
        "# Data Gathering"
      ],
      "metadata": {
        "id": "2aJKkiH-8JIv"
      }
    },
    {
      "cell_type": "markdown",
      "source": [
        "## [0] Librerías necesarias para conectar Drive con Colab"
      ],
      "metadata": {
        "id": "1x9qVkgk_ngg"
      }
    },
    {
      "cell_type": "code",
      "source": [
        "# Conectamos Google Drive con Google Colab\n",
        "from google.colab import drive\n",
        "drive.mount('/gdrive')"
      ],
      "metadata": {
        "id": "XnNWwwD__izD"
      },
      "execution_count": null,
      "outputs": []
    },
    {
      "cell_type": "markdown",
      "source": [
        "## [1] Conectarse a una base de datos"
      ],
      "metadata": {
        "id": "7CXWw7O5AGLX"
      }
    },
    {
      "cell_type": "code",
      "execution_count": null,
      "metadata": {
        "id": "oGYOP6p58D4o"
      },
      "outputs": [],
      "source": [
        "import sqlite3\n",
        "import pandas as pd\n"
      ]
    },
    {
      "cell_type": "code",
      "source": [
        "# 1. Conectar a la base de datos\n",
        "conexion = sqlite3.connect(\"movie.sqlite\")  # Asegúrate de tener este archivo en tu directorio\n"
      ],
      "metadata": {
        "id": "oKLk_k-z-jro"
      },
      "execution_count": null,
      "outputs": []
    },
    {
      "cell_type": "code",
      "source": [
        "conexion"
      ],
      "metadata": {
        "id": "jCQYrGKKAXe2"
      },
      "execution_count": null,
      "outputs": []
    },
    {
      "cell_type": "code",
      "source": [
        "# 2. Ver las tablas disponibles (opcional)\n",
        "query_tablas = \"SELECT name FROM sqlite_master WHERE type='table';\"\n",
        "tablas = pd.read_sql(query_tablas, conexion)\n",
        "print(\"Tablas disponibles:\")\n",
        "print(tablas)\n"
      ],
      "metadata": {
        "id": "6yuvLeqRAZQ1"
      },
      "execution_count": null,
      "outputs": []
    },
    {
      "cell_type": "code",
      "source": [
        "# 3. Ejecutar una consulta SQL\n",
        "query = \"\"\"\n",
        "SELECT *\n",
        "FROM movies\n",
        "LIMIT 5;\n",
        "\"\"\""
      ],
      "metadata": {
        "id": "67ATP25zD86z"
      },
      "execution_count": null,
      "outputs": []
    },
    {
      "cell_type": "code",
      "source": [
        "df = pd.read_sql(query, conexion)\n",
        "\n",
        "df.head(3)"
      ],
      "metadata": {
        "id": "3HrefV_lEFy2"
      },
      "execution_count": null,
      "outputs": []
    },
    {
      "cell_type": "code",
      "source": [
        "# 3. Ejecutar una consulta SQL\n",
        "query = \"\"\"\n",
        "SELECT *\n",
        "FROM directors\n",
        "LIMIT 5;\n",
        "\"\"\""
      ],
      "metadata": {
        "id": "bDpZEpGWEV4H"
      },
      "execution_count": null,
      "outputs": []
    },
    {
      "cell_type": "code",
      "source": [
        "df_ = pd.read_sql(query, conexion)\n",
        "\n",
        "df_.head(3)"
      ],
      "metadata": {
        "id": "QdEKDzyEFsUe"
      },
      "execution_count": null,
      "outputs": []
    },
    {
      "cell_type": "code",
      "source": [
        "# 3. Ejecutar una consulta SQL\n",
        "query = \"\"\"\n",
        "SELECT A.title, A.vote_average, B.name AS director\n",
        "FROM movies A\n",
        "LEFT JOIN directors B ON A.director_id = B.id\n",
        "WHERE A.budget >= 1000000;\n",
        "\"\"\""
      ],
      "metadata": {
        "id": "97RL2iwrAjo_"
      },
      "execution_count": null,
      "outputs": []
    },
    {
      "cell_type": "code",
      "source": [
        "df__ = pd.read_sql(query, conexion)\n",
        "\n",
        "df__.head(3)"
      ],
      "metadata": {
        "id": "wixd6YsbAwit"
      },
      "execution_count": null,
      "outputs": []
    },
    {
      "cell_type": "code",
      "source": [
        "df__.shape"
      ],
      "metadata": {
        "id": "q_alGrDGA0Ix"
      },
      "execution_count": null,
      "outputs": []
    },
    {
      "cell_type": "code",
      "source": [
        "ruta = '/gdrive/My Drive/[UTEC_2025]/[Programa_Python_Mayo]/ALUMNOS/out/'\n",
        "dataset = 'muestra.csv'"
      ],
      "metadata": {
        "id": "YB4W-bGzHiV6"
      },
      "execution_count": null,
      "outputs": []
    },
    {
      "cell_type": "code",
      "source": [
        "df__.to_csv(ruta+dataset, index=False)"
      ],
      "metadata": {
        "id": "Hx2iJpdTHST4"
      },
      "execution_count": null,
      "outputs": []
    },
    {
      "cell_type": "markdown",
      "source": [
        "## [2] Conectarse a una API"
      ],
      "metadata": {
        "id": "QBE_Ndn6KEY9"
      }
    },
    {
      "cell_type": "code",
      "source": [
        "import requests"
      ],
      "metadata": {
        "id": "dmysFXCYHzo4"
      },
      "execution_count": null,
      "outputs": []
    },
    {
      "cell_type": "code",
      "source": [
        "# 1. Definir la URL del endpoint\n",
        "url = \"https://jsonplaceholder.typicode.com/users\"\n"
      ],
      "metadata": {
        "id": "OHiOWSg8KK-C"
      },
      "execution_count": null,
      "outputs": []
    },
    {
      "cell_type": "code",
      "source": [
        "# 2. Hacer la solicitud HTTP (GET)\n",
        "respuesta = requests.get(url)\n",
        "respuesta"
      ],
      "metadata": {
        "id": "sIhxYFnCKrel"
      },
      "execution_count": null,
      "outputs": []
    },
    {
      "cell_type": "code",
      "source": [
        "type(respuesta)"
      ],
      "metadata": {
        "id": "SKS8pS-rK4KA"
      },
      "execution_count": null,
      "outputs": []
    },
    {
      "cell_type": "code",
      "source": [
        "# 3. Verificar el estado de la respuesta\n",
        "if respuesta.status_code == 200:\n",
        "    print(\"Conexión exitosa\")\n",
        "else:\n",
        "    print(\"Error al conectarse\")"
      ],
      "metadata": {
        "id": "xu4OqBmkKupO"
      },
      "execution_count": null,
      "outputs": []
    },
    {
      "cell_type": "code",
      "source": [
        "# 4. Obtener los datos en formato JSON\n",
        "datos = respuesta.json()\n",
        "\n",
        "# 5. Convertir a un DataFrame de Pandas\n",
        "df_1 = pd.DataFrame(datos)\n",
        "\n",
        "df_1.head(3)"
      ],
      "metadata": {
        "id": "mSdwDjt8K6NL"
      },
      "execution_count": null,
      "outputs": []
    },
    {
      "cell_type": "code",
      "source": [
        "df_1['address'][0]"
      ],
      "metadata": {
        "id": "-hAfKYJhLG-0"
      },
      "execution_count": null,
      "outputs": []
    },
    {
      "cell_type": "code",
      "source": [
        "print(\"\\nCiudades:\")\n",
        "print(df_1['address'].apply(lambda x: x['city']))"
      ],
      "metadata": {
        "id": "r3E3-HXTL731"
      },
      "execution_count": null,
      "outputs": []
    },
    {
      "cell_type": "code",
      "source": [
        "df_1['city'] = df_1['address'].apply(lambda x: x['city'])"
      ],
      "metadata": {
        "id": "pk1iAxv_MC8k"
      },
      "execution_count": null,
      "outputs": []
    },
    {
      "cell_type": "code",
      "source": [
        "df_1.head(3)"
      ],
      "metadata": {
        "id": "rQgleo_vMZLr"
      },
      "execution_count": null,
      "outputs": []
    },
    {
      "cell_type": "markdown",
      "source": [
        "## [3] Web Scraping"
      ],
      "metadata": {
        "id": "dsyT1Fy4N5HZ"
      }
    },
    {
      "cell_type": "code",
      "source": [
        "!pip install requests beautifulsoup4"
      ],
      "metadata": {
        "id": "bRTq1yPOMbOW"
      },
      "execution_count": null,
      "outputs": []
    },
    {
      "cell_type": "code",
      "source": [
        "import requests\n",
        "from bs4 import BeautifulSoup"
      ],
      "metadata": {
        "id": "jGCkoRuIOBLL"
      },
      "execution_count": null,
      "outputs": []
    },
    {
      "cell_type": "code",
      "source": [
        "# 1. Hacer la solicitud HTTP\n",
        "url = \"https://quotes.toscrape.com\"\n",
        "respuesta = requests.get(url)\n",
        "\n",
        "respuesta"
      ],
      "metadata": {
        "id": "kI3y_9E1OIlH"
      },
      "execution_count": null,
      "outputs": []
    },
    {
      "cell_type": "code",
      "source": [
        "respuesta.text"
      ],
      "metadata": {
        "id": "KcyzGwI-OdIc"
      },
      "execution_count": null,
      "outputs": []
    },
    {
      "cell_type": "code",
      "source": [
        "# 2. Analizar el contenido HTML\n",
        "soup = BeautifulSoup(respuesta.text, \"html.parser\")\n",
        "soup"
      ],
      "metadata": {
        "id": "x0HRklA9OZVC"
      },
      "execution_count": null,
      "outputs": []
    },
    {
      "cell_type": "code",
      "source": [
        "# 3. Extraer las citas y los autores\n",
        "citas = soup.find_all(\"span\", class_=\"text\")\n",
        "autores = soup.find_all(\"small\", class_=\"author\")\n"
      ],
      "metadata": {
        "id": "6QuGHumcOkrF"
      },
      "execution_count": null,
      "outputs": []
    },
    {
      "cell_type": "code",
      "source": [
        "citas"
      ],
      "metadata": {
        "id": "HsLo8mQVOx25"
      },
      "execution_count": null,
      "outputs": []
    },
    {
      "cell_type": "code",
      "source": [
        "autores"
      ],
      "metadata": {
        "id": "z-6DSjvrOzT0"
      },
      "execution_count": null,
      "outputs": []
    },
    {
      "cell_type": "code",
      "source": [
        "# 4. Mostrar resultados\n",
        "for i in range(len(citas)):\n",
        "    print(f\"{i+1}. {citas[i].text} — {autores[i].text}\")"
      ],
      "metadata": {
        "id": "cEgXZsboO5B8"
      },
      "execution_count": null,
      "outputs": []
    },
    {
      "cell_type": "code",
      "source": [
        "import pandas as pd\n",
        "\n",
        "data = [{\"Cita\": citas[i].text, \"Autor\": autores[i].text} for i in range(len(citas))]\n",
        "df_2 = pd.DataFrame(data)"
      ],
      "metadata": {
        "id": "CmNxiscRO9Uw"
      },
      "execution_count": null,
      "outputs": []
    },
    {
      "cell_type": "code",
      "source": [
        "df_2.head(3)"
      ],
      "metadata": {
        "id": "hQLrhu3uPTLX"
      },
      "execution_count": null,
      "outputs": []
    },
    {
      "cell_type": "code",
      "source": [
        "df_2.to_csv(ruta+\"citas_scrapeadas.csv\", index=False)"
      ],
      "metadata": {
        "id": "Ag8NfPTlPVxF"
      },
      "execution_count": null,
      "outputs": []
    },
    {
      "cell_type": "code",
      "source": [],
      "metadata": {
        "id": "HagnSd9mPa6G"
      },
      "execution_count": null,
      "outputs": []
    }
  ]
}