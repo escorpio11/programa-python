{
  "nbformat": 4,
  "nbformat_minor": 0,
  "metadata": {
    "colab": {
      "provenance": [],
      "include_colab_link": true
    },
    "kernelspec": {
      "name": "python3",
      "display_name": "Python 3"
    },
    "language_info": {
      "name": "python"
    }
  },
  "cells": [
    {
      "cell_type": "markdown",
      "metadata": {
        "id": "view-in-github",
        "colab_type": "text"
      },
      "source": [
        "<a href=\"https://colab.research.google.com/github/escorpio11/programa-python/blob/main/modulo_3/Progama_Python_UTEC_Sesion06_NumPy.ipynb\" target=\"_parent\"><img src=\"https://colab.research.google.com/assets/colab-badge.svg\" alt=\"Open In Colab\"/></a>"
      ]
    },
    {
      "cell_type": "markdown",
      "source": [
        "## NumPy"
      ],
      "metadata": {
        "id": "M7ax-NH9Qw82"
      }
    },
    {
      "cell_type": "markdown",
      "source": [
        "### [1] Crear un arreglo NumPy"
      ],
      "metadata": {
        "id": "DFN-vU8MSO6d"
      }
    },
    {
      "cell_type": "code",
      "execution_count": 1,
      "metadata": {
        "id": "g6evhYb4QrvL"
      },
      "outputs": [],
      "source": [
        "# Llamar a la librería\n",
        "import numpy as np"
      ]
    },
    {
      "cell_type": "code",
      "source": [
        "# Crear un arreglo en numpy\n",
        "arr_1 = np.array([2,4,6])"
      ],
      "metadata": {
        "id": "wNH_N_ZFRHTI"
      },
      "execution_count": 2,
      "outputs": []
    },
    {
      "cell_type": "code",
      "source": [
        "# Visualizar el arreglo\n",
        "print(f\"El arreglo en numpy es \\n{arr_1}\")"
      ],
      "metadata": {
        "id": "Q2LXArvJRaxe",
        "colab": {
          "base_uri": "https://localhost:8080/"
        },
        "outputId": "cdc4a21a-7845-47b3-ed73-8dd08bfae79a"
      },
      "execution_count": 3,
      "outputs": [
        {
          "output_type": "stream",
          "name": "stdout",
          "text": [
            "El arreglo en numpy es \n",
            "[2 4 6]\n"
          ]
        }
      ]
    },
    {
      "cell_type": "code",
      "source": [
        "lista_0 = [2,4,6]\n",
        "print(f\"La lista es \\n{lista_0}\")"
      ],
      "metadata": {
        "id": "ifCG0Kepj1A1",
        "outputId": "c0692b72-2fe7-456b-d844-1dde2ce703bd",
        "colab": {
          "base_uri": "https://localhost:8080/"
        }
      },
      "execution_count": 4,
      "outputs": [
        {
          "output_type": "stream",
          "name": "stdout",
          "text": [
            "La lista es \n",
            "[2, 4, 6]\n"
          ]
        }
      ]
    },
    {
      "cell_type": "code",
      "source": [
        "arreglo_1 = np.array([[0, 1, 2, 3],[4, 5, 6, 7],[8, 9, 10, 11]])\n",
        "print(f\"El arreglo es \\n{arreglo_1}\")\n",
        "print(f\"\\nEl tipo de dato es {type(arreglo_1)}\")"
      ],
      "metadata": {
        "colab": {
          "base_uri": "https://localhost:8080/"
        },
        "id": "ykj0D5pO78Am",
        "outputId": "78891a03-0980-46b5-b007-cd6ad2e9112f"
      },
      "execution_count": 5,
      "outputs": [
        {
          "output_type": "stream",
          "name": "stdout",
          "text": [
            "El arreglo es \n",
            "[[ 0  1  2  3]\n",
            " [ 4  5  6  7]\n",
            " [ 8  9 10 11]]\n",
            "\n",
            "El tipo de dato es <class 'numpy.ndarray'>\n"
          ]
        }
      ]
    },
    {
      "cell_type": "code",
      "source": [
        "# Crear una lista\n",
        "lista_1 = [2,4,6]\n",
        "print(f\"La lista es \\n{lista_1}\")"
      ],
      "metadata": {
        "id": "3XsqVLskRk2j",
        "colab": {
          "base_uri": "https://localhost:8080/"
        },
        "outputId": "04eb6ceb-75f0-47ce-f5b8-e135e14fcc06"
      },
      "execution_count": 6,
      "outputs": [
        {
          "output_type": "stream",
          "name": "stdout",
          "text": [
            "La lista es \n",
            "[2, 4, 6]\n"
          ]
        }
      ]
    },
    {
      "cell_type": "code",
      "source": [
        "print(f\"El objeto arr_1 es del tipo \\n{type(arr_1)}\")\n",
        "print(f\"\\nEl objeto lista_1 es del tipo \\n{type(lista_1)}\")"
      ],
      "metadata": {
        "id": "IKOZVtQdRwgx",
        "colab": {
          "base_uri": "https://localhost:8080/"
        },
        "outputId": "d68233e9-b083-4c07-92c7-6806f363f8a4"
      },
      "execution_count": 7,
      "outputs": [
        {
          "output_type": "stream",
          "name": "stdout",
          "text": [
            "El objeto arr_1 es del tipo \n",
            "<class 'numpy.ndarray'>\n",
            "\n",
            "El objeto lista_1 es del tipo \n",
            "<class 'list'>\n"
          ]
        }
      ]
    },
    {
      "cell_type": "code",
      "source": [
        "# Operaciones listas\n",
        "print(f\"El valor mínimo de la lista \\n{lista_1} es {min(lista_1)}\")\n",
        "print(f\"\\nEl valor máximo de la lista \\n{lista_1} es {max(lista_1)}\")\n",
        "print(f\"\\nLa suma total de la lista \\n{lista_1} es {sum(lista_1)}\")\n",
        "print(f\"\\nEl promedio de la lista \\n{lista_1} es {sum(lista_1)/len(lista_1)}\")"
      ],
      "metadata": {
        "id": "JLk0F3VoSGC5",
        "colab": {
          "base_uri": "https://localhost:8080/"
        },
        "outputId": "6e6998d7-3dd7-4271-c3cc-82c37c723973"
      },
      "execution_count": 9,
      "outputs": [
        {
          "output_type": "stream",
          "name": "stdout",
          "text": [
            "El valor mínimo de la lista \n",
            "[2, 4, 6] es 2\n",
            "\n",
            "El valor máximo de la lista \n",
            "[2, 4, 6] es 6\n",
            "\n",
            "La suma total de la lista \n",
            "[2, 4, 6] es 12\n",
            "\n",
            "El promedio de la lista \n",
            "[2, 4, 6] es 4.0\n"
          ]
        }
      ]
    },
    {
      "cell_type": "code",
      "source": [
        "%whos"
      ],
      "metadata": {
        "id": "dac3BPl5mZv2",
        "outputId": "25a2e2dd-bc3a-4cf7-c55e-bd9d442e0c1a",
        "colab": {
          "base_uri": "https://localhost:8080/"
        }
      },
      "execution_count": 10,
      "outputs": [
        {
          "output_type": "stream",
          "name": "stdout",
          "text": [
            "Variable    Type       Data/Info\n",
            "--------------------------------\n",
            "arr_1       ndarray    3: 3 elems, type `int64`, 24 bytes\n",
            "arreglo_1   ndarray    3x4: 12 elems, type `int64`, 96 bytes\n",
            "lista_0     list       n=3\n",
            "lista_1     list       n=3\n",
            "np          module     <module 'numpy' from '/us<...>kages/numpy/__init__.py'>\n"
          ]
        }
      ]
    },
    {
      "cell_type": "code",
      "source": [
        "print(f\"La lista 0 es \\n{lista_0}\")\n",
        "print(f\"\\nEl arreglo 1 es \\n{arr_1}\")"
      ],
      "metadata": {
        "id": "g2i4oTZCmg-q",
        "outputId": "da1ced38-b0ea-4621-8607-c8815dd04381",
        "colab": {
          "base_uri": "https://localhost:8080/"
        }
      },
      "execution_count": 11,
      "outputs": [
        {
          "output_type": "stream",
          "name": "stdout",
          "text": [
            "La lista 0 es \n",
            "[2, 4, 6]\n",
            "\n",
            "El arreglo 1 es \n",
            "[2 4 6]\n"
          ]
        }
      ]
    },
    {
      "cell_type": "code",
      "source": [
        "#cuando trabajamos con listas el sibbolo \"+\" me permite concatenar\n",
        "lista_0 + lista_1"
      ],
      "metadata": {
        "id": "kXslgazdmopp",
        "outputId": "fb52f4ed-709d-4bbd-9740-6bfcdf3ecee9",
        "colab": {
          "base_uri": "https://localhost:8080/"
        }
      },
      "execution_count": 12,
      "outputs": [
        {
          "output_type": "execute_result",
          "data": {
            "text/plain": [
              "[2, 4, 6, 2, 4, 6]"
            ]
          },
          "metadata": {},
          "execution_count": 12
        }
      ]
    },
    {
      "cell_type": "code",
      "source": [
        "# El simbolo \"+\" permite concatenar listas\n",
        "lista_1 + [5]"
      ],
      "metadata": {
        "id": "0h8l7P7om1Hb",
        "outputId": "e1f79c53-fa23-4e4b-a682-aee3866ec907",
        "colab": {
          "base_uri": "https://localhost:8080/"
        }
      },
      "execution_count": 13,
      "outputs": [
        {
          "output_type": "execute_result",
          "data": {
            "text/plain": [
              "[2, 4, 6, 5]"
            ]
          },
          "metadata": {},
          "execution_count": 13
        }
      ]
    },
    {
      "cell_type": "code",
      "source": [
        "# El símbolo \"+\" permite concatenar listas\n",
        "lista_1 + [5]"
      ],
      "metadata": {
        "id": "syypEvzBSvnE",
        "colab": {
          "base_uri": "https://localhost:8080/"
        },
        "outputId": "42f6cf41-d97a-4043-9a25-7d06a4cae19c"
      },
      "execution_count": null,
      "outputs": [
        {
          "output_type": "execute_result",
          "data": {
            "text/plain": [
              "[2, 4, 6, 5]"
            ]
          },
          "metadata": {},
          "execution_count": 9
        }
      ]
    },
    {
      "cell_type": "code",
      "source": [
        "print(f\"El arreglo en numpy es \\n{arr_1}\")\n",
        "print(f\"Suma del arreglo en numpy con 5 es \\n{arr_1 + 5}\")"
      ],
      "metadata": {
        "id": "EIXdc1GPTYLg",
        "colab": {
          "base_uri": "https://localhost:8080/"
        },
        "outputId": "a8707eb1-aa15-4dd2-e40b-cbdd5cea0693"
      },
      "execution_count": 14,
      "outputs": [
        {
          "output_type": "stream",
          "name": "stdout",
          "text": [
            "El arreglo en numpy es \n",
            "[2 4 6]\n",
            "Suma del arreglo en numpy con 5 es \n",
            "[ 7  9 11]\n"
          ]
        }
      ]
    },
    {
      "cell_type": "code",
      "source": [
        "#la suma de una lista y un arreglo es un arreglo\n",
        "print(f\" La lista es {lista_0}\") #lista\n",
        "print(f\"\\nEl arreglo es {arr_1}\") #arreglo en NumPy\n",
        "res_ = np.array(lista_0) + arr_1 #np.array convierte la lista en un array\n",
        "print(f\"\\nLa suma de la lista y el arreglo es {res_}\")\n",
        "print(f\"\\nEl tipo de dato es {type(res_)}\")"
      ],
      "metadata": {
        "id": "4o8DWqWinpDE",
        "outputId": "3deed847-6682-4f84-a4d1-225191494112",
        "colab": {
          "base_uri": "https://localhost:8080/"
        }
      },
      "execution_count": 16,
      "outputs": [
        {
          "output_type": "stream",
          "name": "stdout",
          "text": [
            " La lista es [2, 4, 6]\n",
            "\n",
            "El arreglo es [2 4 6]\n",
            "\n",
            "La suma de la lista y el arreglo es [ 4  8 12]\n",
            "\n",
            "El tipo de dato es <class 'numpy.ndarray'>\n"
          ]
        }
      ]
    },
    {
      "cell_type": "code",
      "source": [
        "# Crear arreglos de numpy\n",
        "\n",
        "a1 = np.array([1,2,3])\n",
        "a2 = np.array([4,5,6])\n",
        "\n",
        "print(f\"El arreglo a1 es \\n{a1}\")\n",
        "print(f\"\\nEl arreglo a2 es \\n{a2}\")"
      ],
      "metadata": {
        "id": "_MYwIeGhT6xV",
        "outputId": "d90d089b-4259-4b53-e3b2-cb7bf5d04041",
        "colab": {
          "base_uri": "https://localhost:8080/"
        }
      },
      "execution_count": 17,
      "outputs": [
        {
          "output_type": "stream",
          "name": "stdout",
          "text": [
            "El arreglo a1 es \n",
            "[1 2 3]\n",
            "\n",
            "El arreglo a2 es \n",
            "[4 5 6]\n"
          ]
        }
      ]
    },
    {
      "cell_type": "code",
      "source": [
        "print(f\"El arreglo a1 es del tipo \\n{type(a1)}\")\n",
        "print(f\"\\nEl arreglo a2 es del tipo \\n{type(a2)}\")"
      ],
      "metadata": {
        "id": "B7N437r5Up_A",
        "outputId": "d785322e-b604-4583-b1f3-5f661b556aab",
        "colab": {
          "base_uri": "https://localhost:8080/"
        }
      },
      "execution_count": 18,
      "outputs": [
        {
          "output_type": "stream",
          "name": "stdout",
          "text": [
            "El arreglo a1 es del tipo \n",
            "<class 'numpy.ndarray'>\n",
            "\n",
            "El arreglo a2 es del tipo \n",
            "<class 'numpy.ndarray'>\n"
          ]
        }
      ]
    },
    {
      "cell_type": "markdown",
      "source": [
        "### Actividad N034"
      ],
      "metadata": {
        "id": "HKmjSqdxS8Fw"
      }
    },
    {
      "cell_type": "markdown",
      "source": [
        "Crear un arreglo en NumPy a partir de la información de la siguiente tabla y nombrarlo como data_array"
      ],
      "metadata": {
        "id": "kx3YcpVKTFbO"
      }
    },
    {
      "cell_type": "code",
      "source": [
        "from google.colab import files\n",
        "\n",
        "# Subir archivo desde tu máquina local\n",
        "uploaded = files.upload()"
      ],
      "metadata": {
        "id": "DC1TlVMxTiiZ",
        "outputId": "2b95868c-4fc4-4913-a9fe-b6bb3b9f6caf",
        "colab": {
          "base_uri": "https://localhost:8080/",
          "height": 73
        }
      },
      "execution_count": 21,
      "outputs": [
        {
          "output_type": "display_data",
          "data": {
            "text/plain": [
              "<IPython.core.display.HTML object>"
            ],
            "text/html": [
              "\n",
              "     <input type=\"file\" id=\"files-96011740-cafc-467f-b6ae-fdbbaf888496\" name=\"files[]\" multiple disabled\n",
              "        style=\"border:none\" />\n",
              "     <output id=\"result-96011740-cafc-467f-b6ae-fdbbaf888496\">\n",
              "      Upload widget is only available when the cell has been executed in the\n",
              "      current browser session. Please rerun this cell to enable.\n",
              "      </output>\n",
              "      <script>// Copyright 2017 Google LLC\n",
              "//\n",
              "// Licensed under the Apache License, Version 2.0 (the \"License\");\n",
              "// you may not use this file except in compliance with the License.\n",
              "// You may obtain a copy of the License at\n",
              "//\n",
              "//      http://www.apache.org/licenses/LICENSE-2.0\n",
              "//\n",
              "// Unless required by applicable law or agreed to in writing, software\n",
              "// distributed under the License is distributed on an \"AS IS\" BASIS,\n",
              "// WITHOUT WARRANTIES OR CONDITIONS OF ANY KIND, either express or implied.\n",
              "// See the License for the specific language governing permissions and\n",
              "// limitations under the License.\n",
              "\n",
              "/**\n",
              " * @fileoverview Helpers for google.colab Python module.\n",
              " */\n",
              "(function(scope) {\n",
              "function span(text, styleAttributes = {}) {\n",
              "  const element = document.createElement('span');\n",
              "  element.textContent = text;\n",
              "  for (const key of Object.keys(styleAttributes)) {\n",
              "    element.style[key] = styleAttributes[key];\n",
              "  }\n",
              "  return element;\n",
              "}\n",
              "\n",
              "// Max number of bytes which will be uploaded at a time.\n",
              "const MAX_PAYLOAD_SIZE = 100 * 1024;\n",
              "\n",
              "function _uploadFiles(inputId, outputId) {\n",
              "  const steps = uploadFilesStep(inputId, outputId);\n",
              "  const outputElement = document.getElementById(outputId);\n",
              "  // Cache steps on the outputElement to make it available for the next call\n",
              "  // to uploadFilesContinue from Python.\n",
              "  outputElement.steps = steps;\n",
              "\n",
              "  return _uploadFilesContinue(outputId);\n",
              "}\n",
              "\n",
              "// This is roughly an async generator (not supported in the browser yet),\n",
              "// where there are multiple asynchronous steps and the Python side is going\n",
              "// to poll for completion of each step.\n",
              "// This uses a Promise to block the python side on completion of each step,\n",
              "// then passes the result of the previous step as the input to the next step.\n",
              "function _uploadFilesContinue(outputId) {\n",
              "  const outputElement = document.getElementById(outputId);\n",
              "  const steps = outputElement.steps;\n",
              "\n",
              "  const next = steps.next(outputElement.lastPromiseValue);\n",
              "  return Promise.resolve(next.value.promise).then((value) => {\n",
              "    // Cache the last promise value to make it available to the next\n",
              "    // step of the generator.\n",
              "    outputElement.lastPromiseValue = value;\n",
              "    return next.value.response;\n",
              "  });\n",
              "}\n",
              "\n",
              "/**\n",
              " * Generator function which is called between each async step of the upload\n",
              " * process.\n",
              " * @param {string} inputId Element ID of the input file picker element.\n",
              " * @param {string} outputId Element ID of the output display.\n",
              " * @return {!Iterable<!Object>} Iterable of next steps.\n",
              " */\n",
              "function* uploadFilesStep(inputId, outputId) {\n",
              "  const inputElement = document.getElementById(inputId);\n",
              "  inputElement.disabled = false;\n",
              "\n",
              "  const outputElement = document.getElementById(outputId);\n",
              "  outputElement.innerHTML = '';\n",
              "\n",
              "  const pickedPromise = new Promise((resolve) => {\n",
              "    inputElement.addEventListener('change', (e) => {\n",
              "      resolve(e.target.files);\n",
              "    });\n",
              "  });\n",
              "\n",
              "  const cancel = document.createElement('button');\n",
              "  inputElement.parentElement.appendChild(cancel);\n",
              "  cancel.textContent = 'Cancel upload';\n",
              "  const cancelPromise = new Promise((resolve) => {\n",
              "    cancel.onclick = () => {\n",
              "      resolve(null);\n",
              "    };\n",
              "  });\n",
              "\n",
              "  // Wait for the user to pick the files.\n",
              "  const files = yield {\n",
              "    promise: Promise.race([pickedPromise, cancelPromise]),\n",
              "    response: {\n",
              "      action: 'starting',\n",
              "    }\n",
              "  };\n",
              "\n",
              "  cancel.remove();\n",
              "\n",
              "  // Disable the input element since further picks are not allowed.\n",
              "  inputElement.disabled = true;\n",
              "\n",
              "  if (!files) {\n",
              "    return {\n",
              "      response: {\n",
              "        action: 'complete',\n",
              "      }\n",
              "    };\n",
              "  }\n",
              "\n",
              "  for (const file of files) {\n",
              "    const li = document.createElement('li');\n",
              "    li.append(span(file.name, {fontWeight: 'bold'}));\n",
              "    li.append(span(\n",
              "        `(${file.type || 'n/a'}) - ${file.size} bytes, ` +\n",
              "        `last modified: ${\n",
              "            file.lastModifiedDate ? file.lastModifiedDate.toLocaleDateString() :\n",
              "                                    'n/a'} - `));\n",
              "    const percent = span('0% done');\n",
              "    li.appendChild(percent);\n",
              "\n",
              "    outputElement.appendChild(li);\n",
              "\n",
              "    const fileDataPromise = new Promise((resolve) => {\n",
              "      const reader = new FileReader();\n",
              "      reader.onload = (e) => {\n",
              "        resolve(e.target.result);\n",
              "      };\n",
              "      reader.readAsArrayBuffer(file);\n",
              "    });\n",
              "    // Wait for the data to be ready.\n",
              "    let fileData = yield {\n",
              "      promise: fileDataPromise,\n",
              "      response: {\n",
              "        action: 'continue',\n",
              "      }\n",
              "    };\n",
              "\n",
              "    // Use a chunked sending to avoid message size limits. See b/62115660.\n",
              "    let position = 0;\n",
              "    do {\n",
              "      const length = Math.min(fileData.byteLength - position, MAX_PAYLOAD_SIZE);\n",
              "      const chunk = new Uint8Array(fileData, position, length);\n",
              "      position += length;\n",
              "\n",
              "      const base64 = btoa(String.fromCharCode.apply(null, chunk));\n",
              "      yield {\n",
              "        response: {\n",
              "          action: 'append',\n",
              "          file: file.name,\n",
              "          data: base64,\n",
              "        },\n",
              "      };\n",
              "\n",
              "      let percentDone = fileData.byteLength === 0 ?\n",
              "          100 :\n",
              "          Math.round((position / fileData.byteLength) * 100);\n",
              "      percent.textContent = `${percentDone}% done`;\n",
              "\n",
              "    } while (position < fileData.byteLength);\n",
              "  }\n",
              "\n",
              "  // All done.\n",
              "  yield {\n",
              "    response: {\n",
              "      action: 'complete',\n",
              "    }\n",
              "  };\n",
              "}\n",
              "\n",
              "scope.google = scope.google || {};\n",
              "scope.google.colab = scope.google.colab || {};\n",
              "scope.google.colab._files = {\n",
              "  _uploadFiles,\n",
              "  _uploadFilesContinue,\n",
              "};\n",
              "})(self);\n",
              "</script> "
            ]
          },
          "metadata": {}
        },
        {
          "output_type": "stream",
          "name": "stdout",
          "text": [
            "Saving data_arreglo.png to data_arreglo.png\n"
          ]
        }
      ]
    },
    {
      "cell_type": "code",
      "source": [
        "from IPython.display import Image, display\n",
        "\n",
        "# Mostrar la imagen en Colab\n",
        "display(Image(filename='data_arreglo.png'))"
      ],
      "metadata": {
        "id": "5dFQd7L_Tjr7",
        "outputId": "7865d019-f73c-442e-9ed4-44322b6458cd",
        "colab": {
          "base_uri": "https://localhost:8080/",
          "height": 197
        }
      },
      "execution_count": 22,
      "outputs": [
        {
          "output_type": "display_data",
          "data": {
            "image/png": "[encoded data removed]",
            "text/plain": [
              "<IPython.core.display.Image object>"
            ]
          },
          "metadata": {}
        }
      ]
    },
    {
      "cell_type": "code",
      "source": [
        "data_array = np.array(\n",
        "    [[35, 10, 1, 3500, 12000],\n",
        "    [50,25,3,6000,30000],\n",
        "    [25,2,0,50,1500],\n",
        "    [42,15,2,1000,2800]]\n",
        "    )\n",
        "print(f\"El arreglo es \\n{data_array}\")"
      ],
      "metadata": {
        "id": "Yt8I7zPZT81c",
        "outputId": "f67219fb-9ecd-4c7f-f805-12b0a968f2df",
        "colab": {
          "base_uri": "https://localhost:8080/"
        }
      },
      "execution_count": 28,
      "outputs": [
        {
          "output_type": "stream",
          "name": "stdout",
          "text": [
            "El arreglo es \n",
            "[[   35    10     1  3500 12000]\n",
            " [   50    25     3  6000 30000]\n",
            " [   25     2     0    50  1500]\n",
            " [   42    15     2  1000  2800]]\n"
          ]
        }
      ]
    },
    {
      "cell_type": "markdown",
      "source": [
        "### [2] Características de un arreglo"
      ],
      "metadata": {
        "id": "r7-m_bzyUMZS"
      }
    },
    {
      "cell_type": "code",
      "source": [
        "arreglo_1 = np.array([[0, 1, 2, 3],[4, 5, 6, 7],[8, 9, 10, 11]])\n",
        "print(f\"El arreglo es \\n{arreglo_1}\")\n",
        "print(f\"\\nEl tipo de dato es {type(arreglo_1)}\")"
      ],
      "metadata": {
        "id": "-_AubxSmUSuJ",
        "outputId": "9e910ed4-7a08-4154-dd64-80b6496c400d",
        "colab": {
          "base_uri": "https://localhost:8080/"
        }
      },
      "execution_count": 29,
      "outputs": [
        {
          "output_type": "stream",
          "name": "stdout",
          "text": [
            "El arreglo es \n",
            "[[ 0  1  2  3]\n",
            " [ 4  5  6  7]\n",
            " [ 8  9 10 11]]\n",
            "\n",
            "El tipo de dato es <class 'numpy.ndarray'>\n"
          ]
        }
      ]
    },
    {
      "cell_type": "code",
      "source": [
        " #nuemro de dimensiones del arreglo\n",
        "arreglo_1.ndim"
      ],
      "metadata": {
        "id": "QKHJ1b60UZ_d",
        "outputId": "91017ba1-f141-490e-964e-57568f5dcf73",
        "colab": {
          "base_uri": "https://localhost:8080/"
        }
      },
      "execution_count": 31,
      "outputs": [
        {
          "output_type": "execute_result",
          "data": {
            "text/plain": [
              "2"
            ]
          },
          "metadata": {},
          "execution_count": 31
        }
      ]
    },
    {
      "cell_type": "code",
      "source": [
        " #Para conocer el tamaño del arreglo usar .shape\n",
        "arreglo_1.shape"
      ],
      "metadata": {
        "id": "sckRTGENUeXm",
        "outputId": "259a5f37-b57f-4c4e-99ca-80f8506e9f15",
        "colab": {
          "base_uri": "https://localhost:8080/"
        }
      },
      "execution_count": 32,
      "outputs": [
        {
          "output_type": "execute_result",
          "data": {
            "text/plain": [
              "(3, 4)"
            ]
          },
          "metadata": {},
          "execution_count": 32
        }
      ]
    },
    {
      "cell_type": "code",
      "source": [
        "#Para conocer le numero de elemntos de un arreglo usar .size\n",
        "arreglo_1.size"
      ],
      "metadata": {
        "id": "_PDqakPpUhLx",
        "outputId": "5222134d-55d8-4135-83df-362689d6ea6a",
        "colab": {
          "base_uri": "https://localhost:8080/"
        }
      },
      "execution_count": 34,
      "outputs": [
        {
          "output_type": "execute_result",
          "data": {
            "text/plain": [
              "12"
            ]
          },
          "metadata": {},
          "execution_count": 34
        }
      ]
    },
    {
      "cell_type": "code",
      "source": [
        "#Para conocer el tipo de datos que conforma el arreglo .dtype.size\n",
        "arreglo_1.dtype.name"
      ],
      "metadata": {
        "id": "uBsa3bH9UjmD",
        "outputId": "091b8b55-7df2-4307-8efe-c9dc9c54c0dc",
        "colab": {
          "base_uri": "https://localhost:8080/",
          "height": 36
        }
      },
      "execution_count": 36,
      "outputs": [
        {
          "output_type": "execute_result",
          "data": {
            "text/plain": [
              "'int64'"
            ],
            "application/vnd.google.colaboratory.intrinsic+json": {
              "type": "string"
            }
          },
          "metadata": {},
          "execution_count": 36
        }
      ]
    },
    {
      "cell_type": "markdown",
      "source": [
        "### Actividad N035"
      ],
      "metadata": {
        "id": "VuPreCZLUsn9"
      }
    },
    {
      "cell_type": "markdown",
      "source": [
        "Obtenga las siguientes características del arreglo NumPy data_array: el número de dimensiones, tamaño de cada dimensión, el número de elementos."
      ],
      "metadata": {
        "id": "Q9SnUAUjUwx5"
      }
    },
    {
      "cell_type": "code",
      "source": [],
      "metadata": {
        "id": "nDvSNbd6tFGu"
      },
      "execution_count": null,
      "outputs": []
    },
    {
      "cell_type": "code",
      "source": [
        "print(f\"El arreglo es \\n{data_array}\")\n",
        "print(f\"\\nEl numero de dimensiones del arreglo es {data_array.ndim}\")\n",
        "print(f\"\\nEl tamaño de cada dimension del arreglo es {data_array.shape}\")\n",
        "print(f\"\\nEl numero de elementos del arreglo es {data_array.size}\")"
      ],
      "metadata": {
        "id": "0B6qwiAAU0q9",
        "outputId": "823350d6-a706-46ab-af96-ada594a7b65f",
        "colab": {
          "base_uri": "https://localhost:8080/"
        }
      },
      "execution_count": 37,
      "outputs": [
        {
          "output_type": "stream",
          "name": "stdout",
          "text": [
            "El arreglo es \n",
            "[[   35    10     1  3500 12000]\n",
            " [   50    25     3  6000 30000]\n",
            " [   25     2     0    50  1500]\n",
            " [   42    15     2  1000  2800]]\n",
            "\n",
            "El numero de dimensiones del arreglo es 2\n",
            "\n",
            "El tamaño de cada dimension del arreglo es (4, 5)\n",
            "\n",
            "El numero de elementos del arreglo es 20\n"
          ]
        }
      ]
    },
    {
      "cell_type": "markdown",
      "source": [
        "### [3] Operaciones matemáticas con arreglos NumPy"
      ],
      "metadata": {
        "id": "WcN1zyxaU3vT"
      }
    },
    {
      "cell_type": "code",
      "source": [
        "arreglo_2 = np.array( [11, 12, 13, 14])\n",
        "arreglo_3 = np.array( [ 1, 2, 3, 4])"
      ],
      "metadata": {
        "id": "bM-cNQMgVKed"
      },
      "execution_count": 38,
      "outputs": []
    },
    {
      "cell_type": "code",
      "source": [
        "# Suma de arreglos\n",
        "arreglo_4 = arreglo_2 + arreglo_3\n",
        "print(f\"\\nEL arreglo resultante es {arreglo_4}\")"
      ],
      "metadata": {
        "id": "iP_admGHVNO4",
        "outputId": "6aa78819-5fe3-4874-c5f6-7800089e1161",
        "colab": {
          "base_uri": "https://localhost:8080/"
        }
      },
      "execution_count": 41,
      "outputs": [
        {
          "output_type": "stream",
          "name": "stdout",
          "text": [
            "\n",
            "EL arreglo resultante es [12 14 16 18]\n"
          ]
        }
      ]
    },
    {
      "cell_type": "code",
      "source": [
        "arreglo_2_ = np.array( [11, 12, 13, 14])\n",
        "arreglo_3_ = np.array( [ 1, 2, 3, 4, 5])"
      ],
      "metadata": {
        "id": "jgcNfBQsucYY"
      },
      "execution_count": 47,
      "outputs": []
    },
    {
      "cell_type": "code",
      "source": [
        "arreglo_4_ = arreglo_2_ + arreglo_3_\n",
        "print(f\"\\nEL arreglo resultante es {arreglo_4_}\")"
      ],
      "metadata": {
        "id": "ZWpKD_z4uiZs",
        "outputId": "e82b81ef-c470-40d6-a25b-1aca8b4b54ba",
        "colab": {
          "base_uri": "https://localhost:8080/",
          "height": 166
        }
      },
      "execution_count": 48,
      "outputs": [
        {
          "output_type": "error",
          "ename": "ValueError",
          "evalue": "operands could not be broadcast together with shapes (4,) (5,) ",
          "traceback": [
            "\u001b[0;31m---------------------------------------------------------------------------\u001b[0m",
            "\u001b[0;31mValueError\u001b[0m                                Traceback (most recent call last)",
            "\u001b[0;32m<ipython-input-48-64249dfc6405>\u001b[0m in \u001b[0;36m<cell line: 0>\u001b[0;34m()\u001b[0m\n\u001b[0;32m----> 1\u001b[0;31m \u001b[0marreglo_4_\u001b[0m \u001b[0;34m=\u001b[0m \u001b[0marreglo_2_\u001b[0m \u001b[0;34m+\u001b[0m \u001b[0marreglo_3_\u001b[0m\u001b[0;34m\u001b[0m\u001b[0;34m\u001b[0m\u001b[0m\n\u001b[0m\u001b[1;32m      2\u001b[0m \u001b[0mprint\u001b[0m\u001b[0;34m(\u001b[0m\u001b[0;34mf\"\\nEL arreglo resultante es {arreglo_4_}\"\u001b[0m\u001b[0;34m)\u001b[0m\u001b[0;34m\u001b[0m\u001b[0;34m\u001b[0m\u001b[0m\n",
            "\u001b[0;31mValueError\u001b[0m: operands could not be broadcast together with shapes (4,) (5,) "
          ]
        }
      ]
    },
    {
      "cell_type": "code",
      "source": [
        "# Resta de arreglos\n",
        "arreglo_5 = arreglo_2 - arreglo_3\n",
        "print(f\"\\nEL arreglo resultante es {arreglo_5}\")"
      ],
      "metadata": {
        "id": "idpDjiIGVRk2",
        "outputId": "42b50331-f4fe-4579-8ef7-b99af3195fca",
        "colab": {
          "base_uri": "https://localhost:8080/"
        }
      },
      "execution_count": 43,
      "outputs": [
        {
          "output_type": "stream",
          "name": "stdout",
          "text": [
            "\n",
            "EL arreglo resultante es [10 10 10 10]\n"
          ]
        }
      ]
    },
    {
      "cell_type": "code",
      "source": [
        "# Potencia de arreglos\n",
        "arreglo_3**2\n",
        "print(f\"\\nEL arreglo resultante es {arreglo_3}\")"
      ],
      "metadata": {
        "id": "b-sGyJKYVbT3",
        "outputId": "e6562c6e-b481-43e4-8543-ffff0de5eb22",
        "colab": {
          "base_uri": "https://localhost:8080/"
        }
      },
      "execution_count": 44,
      "outputs": [
        {
          "output_type": "execute_result",
          "data": {
            "text/plain": [
              "array([ 1,  4,  9, 16])"
            ]
          },
          "metadata": {},
          "execution_count": 44
        }
      ]
    },
    {
      "cell_type": "code",
      "source": [
        "# Transformación de un arreglo\n",
        "np.cos(arreglo_3)\n",
        "print(f\"\\nEL arreglo resultante es {np.cos(arreglo_3)}\")"
      ],
      "metadata": {
        "id": "iRgBq4tTVgdZ",
        "outputId": "da5dea4e-cde4-4549-b6f7-1c618bc3b592",
        "colab": {
          "base_uri": "https://localhost:8080/"
        }
      },
      "execution_count": 46,
      "outputs": [
        {
          "output_type": "stream",
          "name": "stdout",
          "text": [
            "\n",
            "EL arreglo resultante es [ 0.54030231 -0.41614684 -0.9899925  -0.65364362]\n"
          ]
        }
      ]
    },
    {
      "cell_type": "code",
      "source": [
        "# Multiplicación de matrices (producto punto)\n",
        "\n",
        "A1 = np.array([[1, 1],[0, 1]])\n",
        "A2 = np.array([[2, 0],[3, 4]])\n",
        "print(f\"La matriz A1 es \\n{A1}\")\n",
        "print(f\"\\nLa matriz A2 es \\n{A2}\")"
      ],
      "metadata": {
        "id": "Qu6uMOVnVl34",
        "outputId": "a4911f91-8e0a-4887-a811-d9034f2f6dc7",
        "colab": {
          "base_uri": "https://localhost:8080/"
        }
      },
      "execution_count": 58,
      "outputs": [
        {
          "output_type": "stream",
          "name": "stdout",
          "text": [
            "La matriz A1 es \n",
            "[[1 1]\n",
            " [0 1]]\n",
            "\n",
            "La matriz A2 es \n",
            "[[2 0]\n",
            " [3 4]]\n"
          ]
        }
      ]
    },
    {
      "cell_type": "code",
      "source": [
        "# Inspeccionar las matrices antes de multiplicar\n",
        "print(A1.shape)\n",
        "print(A2.shape)\n",
        "A1.shape[1] == A2.shape[0] #acceder al elemento 1 y 0 de las tuplas que contienes el numero de filas y columnas de los arrays"
      ],
      "metadata": {
        "id": "-jDktasPyt_w",
        "outputId": "fd3aebe6-1222-4bc8-f078-3ec4687e3ac7",
        "colab": {
          "base_uri": "https://localhost:8080/"
        }
      },
      "execution_count": 66,
      "outputs": [
        {
          "output_type": "stream",
          "name": "stdout",
          "text": [
            "(2, 2)\n",
            "(2, 2)\n"
          ]
        },
        {
          "output_type": "execute_result",
          "data": {
            "text/plain": [
              "True"
            ]
          },
          "metadata": {},
          "execution_count": 66
        }
      ]
    },
    {
      "cell_type": "code",
      "source": [
        "np.dot(A1,A2)"
      ],
      "metadata": {
        "id": "u4S9UdHEVl6U",
        "outputId": "95fe034e-48df-4683-8427-51c62c7bb3c8",
        "colab": {
          "base_uri": "https://localhost:8080/"
        }
      },
      "execution_count": 50,
      "outputs": [
        {
          "output_type": "execute_result",
          "data": {
            "text/plain": [
              "array([[5, 4],\n",
              "       [3, 4]])"
            ]
          },
          "metadata": {},
          "execution_count": 50
        }
      ]
    },
    {
      "cell_type": "code",
      "source": [
        "print(a1, a2)"
      ],
      "metadata": {
        "id": "SI6S36bMvmh4",
        "outputId": "71402deb-f1c4-48d8-cf03-04aa66e1ead2",
        "colab": {
          "base_uri": "https://localhost:8080/"
        }
      },
      "execution_count": 56,
      "outputs": [
        {
          "output_type": "stream",
          "name": "stdout",
          "text": [
            "[1 2 3] [4 5 6]\n"
          ]
        }
      ]
    },
    {
      "cell_type": "code",
      "source": [
        "# Operaciones matemáticas con los arreglos de numpy\n",
        "arr_sum = a1 + a2\n",
        "arr_prod = a1 * a2\n",
        "print(f\"La suma de los arreglos es \\n{arr_sum}\")\n",
        "print(f\"\\nLa multiplicación de los arreglos es \\n{arr_prod}\")"
      ],
      "metadata": {
        "id": "Oep_gqWsU4g8",
        "outputId": "40928a3e-b896-4578-a4bf-af788cb64216",
        "colab": {
          "base_uri": "https://localhost:8080/"
        }
      },
      "execution_count": 53,
      "outputs": [
        {
          "output_type": "stream",
          "name": "stdout",
          "text": [
            "La suma de los arreglos es \n",
            "[5 7 9]\n",
            "\n",
            "La multiplicación de los arreglos es \n",
            "[ 4 10 18]\n"
          ]
        }
      ]
    },
    {
      "cell_type": "code",
      "source": [
        "# Matrices de 2D\n",
        "mat_4 = np.array([[1,2,3],[4,5,6]])\n",
        "print(f\"La matriz de 2D es \\n{mat_4}\")"
      ],
      "metadata": {
        "id": "g1gxfd7fVjc1",
        "outputId": "b4c6675f-b495-4111-96fd-c71cd4cea501",
        "colab": {
          "base_uri": "https://localhost:8080/"
        }
      },
      "execution_count": 67,
      "outputs": [
        {
          "output_type": "stream",
          "name": "stdout",
          "text": [
            "La matriz de 2D es \n",
            "[[1 2 3]\n",
            " [4 5 6]]\n"
          ]
        }
      ]
    },
    {
      "cell_type": "code",
      "source": [
        "# Crear una lista de listas\n",
        "ll_1 = [[10,20,30],[10,10,10]]\n",
        "print(f\"La lista de listas es \\n{ll_1}\")\n",
        "print(f\"\\nEl objeto ll_1 es del tipo \\n{type(ll_1)}\")"
      ],
      "metadata": {
        "id": "hDeFOdGYW02Q",
        "outputId": "fdab6851-ca6a-44b4-b0b5-72b69b840540",
        "colab": {
          "base_uri": "https://localhost:8080/"
        }
      },
      "execution_count": 68,
      "outputs": [
        {
          "output_type": "stream",
          "name": "stdout",
          "text": [
            "La lista de listas es \n",
            "[[10, 20, 30], [10, 10, 10]]\n",
            "\n",
            "El objeto ll_1 es del tipo \n",
            "<class 'list'>\n"
          ]
        }
      ]
    },
    {
      "cell_type": "code",
      "source": [
        "# Crear una matriz en numpy a partir de una lista\n",
        "\n",
        "mat_6 = np.array(ll_1)\n",
        "print(f\"La matriz de 2D es \\n{mat_6}\")\n",
        "print(f\"\\nEl objeto mat_6 es del tipo \\n{type(mat_6)}\")"
      ],
      "metadata": {
        "id": "9VYr7KCjXjoW",
        "outputId": "399b9044-85b1-4c30-96b5-ec9fc2b9ee9b",
        "colab": {
          "base_uri": "https://localhost:8080/"
        }
      },
      "execution_count": 70,
      "outputs": [
        {
          "output_type": "stream",
          "name": "stdout",
          "text": [
            "La matriz de 2D es \n",
            "[[10 20 30]\n",
            " [10 10 10]]\n",
            "\n",
            "El objeto mat_6 es del tipo \n",
            "<class 'numpy.ndarray'>\n"
          ]
        }
      ]
    },
    {
      "cell_type": "code",
      "source": [
        "# Creamos una matriz 1D a parit de arange\n",
        "mat_7 = np.arange(15)\n",
        "print(f\"La matriz 1D de numpy es \\n{mat_7}\")\n",
        "print(f\"\\nEl objeto mat_7 es del tipo \\n{type(mat_7)}\")"
      ],
      "metadata": {
        "id": "xVpociN9YCzM",
        "outputId": "cbf7bafe-e294-4a9c-dd22-9437b955e081",
        "colab": {
          "base_uri": "https://localhost:8080/"
        }
      },
      "execution_count": 69,
      "outputs": [
        {
          "output_type": "stream",
          "name": "stdout",
          "text": [
            "La matriz 1D de numpy es \n",
            "[ 0  1  2  3  4  5  6  7  8  9 10 11 12 13 14]\n",
            "\n",
            "El objeto mat_7 es del tipo \n",
            "<class 'numpy.ndarray'>\n"
          ]
        }
      ]
    },
    {
      "cell_type": "code",
      "source": [
        "# Crear una matriz 2D en numpy a partir de una matriz 1D\n",
        "mat_8 = mat_7.reshape(3,5) #3 filas, 5 columnas\n",
        "print(f\"La matriz 2D de numpy es \\n{mat_8}\")\n",
        "print(f\"\\nEl objeto mat_8 es del tipo \\n{type(mat_8)}\")"
      ],
      "metadata": {
        "id": "zBCQkxowYszN",
        "outputId": "a372530b-61e4-43c6-af0c-55005835c4de",
        "colab": {
          "base_uri": "https://localhost:8080/"
        }
      },
      "execution_count": 71,
      "outputs": [
        {
          "output_type": "stream",
          "name": "stdout",
          "text": [
            "La matriz 2D de numpy es \n",
            "[[ 0  1  2  3  4]\n",
            " [ 5  6  7  8  9]\n",
            " [10 11 12 13 14]]\n",
            "\n",
            "El objeto mat_8 es del tipo \n",
            "<class 'numpy.ndarray'>\n"
          ]
        }
      ]
    },
    {
      "cell_type": "code",
      "source": [
        "print(f\"El número de dimensiones del objeto mat_8 es {mat_8.ndim}\")\n",
        "print(f\"\\nEl tamaño de las dimensiones del objeto mat_8 es {mat_8.shape}\")\n",
        "print(f\"\\nEl número de elementos del objeto mat_8 es {mat_8.size}\")"
      ],
      "metadata": {
        "id": "uL28s-jdZfRI",
        "outputId": "b250a237-9453-4b40-b8a8-4f042dc2b0ad",
        "colab": {
          "base_uri": "https://localhost:8080/"
        }
      },
      "execution_count": 72,
      "outputs": [
        {
          "output_type": "stream",
          "name": "stdout",
          "text": [
            "El número de dimensiones del objeto mat_8 es 2\n",
            "\n",
            "El tamaño de las dimensiones del objeto mat_8 es (3, 5)\n",
            "\n",
            "El número de elementos del objeto mat_8 es 15\n"
          ]
        }
      ]
    },
    {
      "cell_type": "code",
      "source": [
        "# Crear una matriz de ceros con determinadas dimensiones\n",
        "mat_9 = np.zeros((4,3))"
      ],
      "metadata": {
        "id": "lZJSIKI-aTZV"
      },
      "execution_count": 73,
      "outputs": []
    },
    {
      "cell_type": "code",
      "source": [
        "# Las características de la matriz\n",
        "print(f\"La matriz mat_9 es \\n{mat_9}\")\n",
        "print(f\"\\nEl objeto mat_9 es del tipo \\n{type(mat_9)}\")\n",
        "print(f\"\\nEl número de dimensiones de la matriz mat_9 es {mat_9.ndim}\")\n",
        "print(f\"\\nEl tamaño de las dimensiones de la matriz mat_9 es {mat_9.shape}\")\n",
        "print(f\"\\nEl número de elementos de la matriz mat_9 es {mat_9.size}\")"
      ],
      "metadata": {
        "id": "4bvzOoLMeVOe",
        "outputId": "5f39c658-2f78-41e5-a006-f2633736c90c",
        "colab": {
          "base_uri": "https://localhost:8080/"
        }
      },
      "execution_count": 74,
      "outputs": [
        {
          "output_type": "stream",
          "name": "stdout",
          "text": [
            "La matriz mat_9 es \n",
            "[[0. 0. 0.]\n",
            " [0. 0. 0.]\n",
            " [0. 0. 0.]\n",
            " [0. 0. 0.]]\n",
            "\n",
            "El objeto mat_9 es del tipo \n",
            "<class 'numpy.ndarray'>\n",
            "\n",
            "El número de dimensiones de la matriz mat_9 es 2\n",
            "\n",
            "El tamaño de las dimensiones de la matriz mat_9 es (4, 3)\n",
            "\n",
            "El número de elementos de la matriz mat_9 es 12\n"
          ]
        }
      ]
    },
    {
      "cell_type": "code",
      "source": [
        "# Crear una matriz de valores espaciados en un intervalo\n",
        "mat_10 = np.linspace(50,60,20)\n",
        "# Las características de la matriz\n",
        "print(f\"La matriz mat_10 es \\n{mat_10}\")\n",
        "print(f\"\\nEl objeto mat_10 es del tipo \\n{type(mat_10)}\")\n",
        "print(f\"\\nEl número de dimensiones de la matriz mat_10 es {mat_10.ndim}\")\n",
        "print(f\"\\nEl tamaño de las dimensiones de la matriz mat_10 es {mat_10.shape}\")\n",
        "print(f\"\\nEl número de elementos de la matriz mat_10 es {mat_10.size}\")"
      ],
      "metadata": {
        "id": "AHxgSSv6fDzC",
        "outputId": "32e0f2b4-be9a-4c3d-d2f7-de697121557d",
        "colab": {
          "base_uri": "https://localhost:8080/"
        }
      },
      "execution_count": 75,
      "outputs": [
        {
          "output_type": "stream",
          "name": "stdout",
          "text": [
            "La matriz mat_10 es \n",
            "[50.         50.52631579 51.05263158 51.57894737 52.10526316 52.63157895\n",
            " 53.15789474 53.68421053 54.21052632 54.73684211 55.26315789 55.78947368\n",
            " 56.31578947 56.84210526 57.36842105 57.89473684 58.42105263 58.94736842\n",
            " 59.47368421 60.        ]\n",
            "\n",
            "El objeto mat_10 es del tipo \n",
            "<class 'numpy.ndarray'>\n",
            "\n",
            "El número de dimensiones de la matriz mat_10 es 1\n",
            "\n",
            "El tamaño de las dimensiones de la matriz mat_10 es (20,)\n",
            "\n",
            "El número de elementos de la matriz mat_10 es 20\n"
          ]
        }
      ]
    },
    {
      "cell_type": "code",
      "source": [
        "l_0 = [30,32,40,50,65]\n",
        "print(f\"El objeto l_0 es {l_0}\")\n",
        "print(f\"El objeto l_0 es del tipo {type(l_0)}\")"
      ],
      "metadata": {
        "id": "I6qfHJdvfp4B",
        "outputId": "60901f9b-7b41-4702-c37d-2db597733bac",
        "colab": {
          "base_uri": "https://localhost:8080/"
        }
      },
      "execution_count": 76,
      "outputs": [
        {
          "output_type": "stream",
          "name": "stdout",
          "text": [
            "El objeto l_0 es [30, 32, 40, 50, 65]\n",
            "El objeto l_0 es del tipo <class 'list'>\n"
          ]
        }
      ]
    },
    {
      "cell_type": "code",
      "source": [
        "mat_11 = np.array(l_0) # Convertir una lista en un arreglo numpy\n",
        "print(f\"El objeto mat_11 es {mat_11}\")\n",
        "print(f\"El objeto mat_11 es del tipo {type(mat_11)}\")"
      ],
      "metadata": {
        "id": "BPLlnuJHhLeY",
        "outputId": "8c72ebca-b72a-4b63-a08c-e0f980549859",
        "colab": {
          "base_uri": "https://localhost:8080/"
        }
      },
      "execution_count": 77,
      "outputs": [
        {
          "output_type": "stream",
          "name": "stdout",
          "text": [
            "El objeto mat_11 es [30 32 40 50 65]\n",
            "El objeto mat_11 es del tipo <class 'numpy.ndarray'>\n"
          ]
        }
      ]
    },
    {
      "cell_type": "code",
      "source": [
        "# Las características de la matriz\n",
        "print(f\"La matriz mat_11 es \\n{mat_11}\")\n",
        "print(f\"\\nEl objeto mat_11 es del tipo \\n{type(mat_11)}\")\n",
        "print(f\"\\nEl número de dimensiones de la matriz mat_11 es {mat_11.ndim}\")\n",
        "print(f\"\\nEl tamaño de las dimensiones de la matriz mat_11 es {mat_11.shape}\")\n",
        "print(f\"\\nEl número de elementos de la matriz mat_11 es {mat_11.size}\")"
      ],
      "metadata": {
        "id": "uN22MonEhLrv",
        "outputId": "3abd0251-d46a-4d6f-f0b7-e3baace660d9",
        "colab": {
          "base_uri": "https://localhost:8080/"
        }
      },
      "execution_count": 78,
      "outputs": [
        {
          "output_type": "stream",
          "name": "stdout",
          "text": [
            "La matriz mat_11 es \n",
            "[30 32 40 50 65]\n",
            "\n",
            "El objeto mat_11 es del tipo \n",
            "<class 'numpy.ndarray'>\n",
            "\n",
            "El número de dimensiones de la matriz mat_11 es 1\n",
            "\n",
            "El tamaño de las dimensiones de la matriz mat_11 es (5,)\n",
            "\n",
            "El número de elementos de la matriz mat_11 es 5\n"
          ]
        }
      ]
    },
    {
      "cell_type": "code",
      "source": [
        "import numpy as np\n",
        "#el primer parametro indica el numero de matrices y el 2do y 3er la dimensionalidad de cada matriz\n",
        "mat_12 = np.arange(24).reshape(2,4,3)\n",
        "# Las características de la matriz\n",
        "print(f\"La matriz mat_12 es \\n{mat_12}\")\n",
        "print(f\"\\nEl objeto mat_12 es del tipo \\n{type(mat_12)}\")\n",
        "print(f\"\\nEl número de dimensiones de la matriz mat_12 es {mat_12.ndim}\")\n",
        "print(f\"\\nEl tamaño de las dimensiones de la matriz mat_12 es {mat_12.shape}\")\n",
        "print(f\"\\nEl número de elementos de la matriz mat_12 es {mat_12.size}\")"
      ],
      "metadata": {
        "id": "_CPKGXr0hL3T",
        "outputId": "dcd4e86e-f2a1-4ca6-a259-2532a2236aac",
        "colab": {
          "base_uri": "https://localhost:8080/"
        }
      },
      "execution_count": 80,
      "outputs": [
        {
          "output_type": "stream",
          "name": "stdout",
          "text": [
            "La matriz mat_12 es \n",
            "[[[ 0  1  2]\n",
            "  [ 3  4  5]\n",
            "  [ 6  7  8]\n",
            "  [ 9 10 11]]\n",
            "\n",
            " [[12 13 14]\n",
            "  [15 16 17]\n",
            "  [18 19 20]\n",
            "  [21 22 23]]]\n",
            "\n",
            "El objeto mat_12 es del tipo \n",
            "<class 'numpy.ndarray'>\n",
            "\n",
            "El número de dimensiones de la matriz mat_12 es 3\n",
            "\n",
            "El tamaño de las dimensiones de la matriz mat_12 es (2, 4, 3)\n",
            "\n",
            "El número de elementos de la matriz mat_12 es 24\n"
          ]
        }
      ]
    },
    {
      "cell_type": "code",
      "source": [
        "print(f\"\\nEl número de dimensiones de la matriz mat_12 es {mat_12.ndim}\") # Matriz de 3D\n",
        "# .ravel() permite convertir una matriz de n dimensiones a unidimensional\n",
        "print(f\"\\nLa matriz mat_12 se convierte con la función ravel en \\n{mat_12.ravel()}\")\n",
        "mat_12 = mat_12.ravel()"
      ],
      "metadata": {
        "id": "G1Z1pK-hhMCc",
        "outputId": "9d458ca7-edcc-4501-aa26-640e79ae8b81",
        "colab": {
          "base_uri": "https://localhost:8080/"
        }
      },
      "execution_count": 81,
      "outputs": [
        {
          "output_type": "stream",
          "name": "stdout",
          "text": [
            "\n",
            "El número de dimensiones de la matriz mat_12 es 3\n",
            "\n",
            "La matriz mat_12 se convierte con la función ravel en \n",
            "[ 0  1  2  3  4  5  6  7  8  9 10 11 12 13 14 15 16 17 18 19 20 21 22 23]\n"
          ]
        }
      ]
    },
    {
      "cell_type": "code",
      "source": [
        "print(f\"\\nEl número de dimensiones de la matriz mat_12 es {mat_12.ndim}\")"
      ],
      "metadata": {
        "id": "uVGF2oqMNS8n",
        "outputId": "4d0e2bfc-646e-4bae-de55-03555654b2c5",
        "colab": {
          "base_uri": "https://localhost:8080/"
        }
      },
      "execution_count": 82,
      "outputs": [
        {
          "output_type": "stream",
          "name": "stdout",
          "text": [
            "\n",
            "El número de dimensiones de la matriz mat_12 es 1\n"
          ]
        }
      ]
    },
    {
      "cell_type": "code",
      "source": [
        "# np.array(objeto) => objeto se convierte en numpy array\n",
        "ll_x = [[57,21,48,0],[71,27,60,0],[111,51,96,0]]\n",
        "print(f\"La lista de listas es \\n{ll_x}\")"
      ],
      "metadata": {
        "id": "KCofsUZpQFW_",
        "outputId": "cd6cad0a-7734-44af-b9ea-a6d6ec2c1139",
        "colab": {
          "base_uri": "https://localhost:8080/"
        }
      },
      "execution_count": 83,
      "outputs": [
        {
          "output_type": "stream",
          "name": "stdout",
          "text": [
            "La lista de listas es \n",
            "[[57, 21, 48, 0], [71, 27, 60, 0], [111, 51, 96, 0]]\n"
          ]
        }
      ]
    },
    {
      "cell_type": "code",
      "source": [
        "mat_13 = np.array(ll_x)\n",
        "print(f\"La matriz mat_13 es \\n{mat_13}\")"
      ],
      "metadata": {
        "id": "s47KbA5oSmBa",
        "outputId": "d06e37a1-d7a9-4442-fa3c-5bb68e762485",
        "colab": {
          "base_uri": "https://localhost:8080/"
        }
      },
      "execution_count": 84,
      "outputs": [
        {
          "output_type": "stream",
          "name": "stdout",
          "text": [
            "La matriz mat_13 es \n",
            "[[ 57  21  48   0]\n",
            " [ 71  27  60   0]\n",
            " [111  51  96   0]]\n"
          ]
        }
      ]
    },
    {
      "cell_type": "code",
      "source": [
        "mat_13 = np.array([\n",
        "    [  # Primera matriz\n",
        "        [57, 21, 48, 0],\n",
        "        [71, 27, 60, 0],\n",
        "        [111, 51, 96, 0]\n",
        "    ],\n",
        "    [  # Segunda matriz\n",
        "        [66, 16, 36, 18],\n",
        "        [95, 22, 58, 29],\n",
        "        [83, 20, 46, 23]\n",
        "    ],\n",
        "    [  # Tercera matriz\n",
        "        [44, 34, 72, 44],\n",
        "        [34, 32, 72, 34],\n",
        "        [13, 25, 64, 13]\n",
        "    ]\n",
        "])"
      ],
      "metadata": {
        "id": "-rgDuAncS1Mg"
      },
      "execution_count": 85,
      "outputs": []
    },
    {
      "cell_type": "code",
      "source": [
        "# Las características de la matriz\n",
        "print(f\"La matriz mat_13 es \\n{mat_13}\")\n",
        "print(f\"\\nEl objeto mat_13 es del tipo \\n{type(mat_13)}\")\n",
        "print(f\"\\nEl número de dimensiones de la matriz mat_13 es {mat_13.ndim}\")\n",
        "print(f\"\\nEl tamaño de las dimensiones de la matriz mat_13 es {mat_13.shape}\")\n",
        "print(f\"\\nEl número de elementos de la matriz mat_13 es {mat_13.size}\")"
      ],
      "metadata": {
        "id": "Jt1CXWeEVHps",
        "outputId": "4254d64c-3f9f-4331-ee3b-0150d1650edc",
        "colab": {
          "base_uri": "https://localhost:8080/"
        }
      },
      "execution_count": 86,
      "outputs": [
        {
          "output_type": "stream",
          "name": "stdout",
          "text": [
            "La matriz mat_13 es \n",
            "[[[ 57  21  48   0]\n",
            "  [ 71  27  60   0]\n",
            "  [111  51  96   0]]\n",
            "\n",
            " [[ 66  16  36  18]\n",
            "  [ 95  22  58  29]\n",
            "  [ 83  20  46  23]]\n",
            "\n",
            " [[ 44  34  72  44]\n",
            "  [ 34  32  72  34]\n",
            "  [ 13  25  64  13]]]\n",
            "\n",
            "El objeto mat_13 es del tipo \n",
            "<class 'numpy.ndarray'>\n",
            "\n",
            "El número de dimensiones de la matriz mat_13 es 3\n",
            "\n",
            "El tamaño de las dimensiones de la matriz mat_13 es (3, 3, 4)\n",
            "\n",
            "El número de elementos de la matriz mat_13 es 36\n"
          ]
        }
      ]
    },
    {
      "cell_type": "code",
      "source": [
        "# Crear una matriz con la ayuda de numpy de 3D que tenga 6 matrices de 2 filas x 2 columnas\n",
        "# Podemos usar la función arange() para generar los elementos de la matriz\n",
        "mat_14 = np.arange(24).reshape(6,2,2)\n",
        "# Las características de la matriz\n",
        "print(f\"La matriz mat_14 es \\n{mat_14}\")\n",
        "print(f\"\\nEl objeto mat_14 es del tipo \\n{type(mat_14)}\")\n",
        "print(f\"\\nEl número de dimensiones de la matriz mat_14 es {mat_14.ndim}\")\n",
        "print(f\"\\nEl tamaño de las dimensiones de la matriz mat_14 es {mat_14.shape}\")\n",
        "print(f\"\\nEl número de elementos de la matriz mat_14 es {mat_14.size}\")"
      ],
      "metadata": {
        "id": "eBAQbi50VtR0",
        "outputId": "d36ec7f8-e70e-4efc-d0c1-19b814d56ab6",
        "colab": {
          "base_uri": "https://localhost:8080/"
        }
      },
      "execution_count": 87,
      "outputs": [
        {
          "output_type": "stream",
          "name": "stdout",
          "text": [
            "La matriz mat_14 es \n",
            "[[[ 0  1]\n",
            "  [ 2  3]]\n",
            "\n",
            " [[ 4  5]\n",
            "  [ 6  7]]\n",
            "\n",
            " [[ 8  9]\n",
            "  [10 11]]\n",
            "\n",
            " [[12 13]\n",
            "  [14 15]]\n",
            "\n",
            " [[16 17]\n",
            "  [18 19]]\n",
            "\n",
            " [[20 21]\n",
            "  [22 23]]]\n",
            "\n",
            "El objeto mat_14 es del tipo \n",
            "<class 'numpy.ndarray'>\n",
            "\n",
            "El número de dimensiones de la matriz mat_14 es 3\n",
            "\n",
            "El tamaño de las dimensiones de la matriz mat_14 es (6, 2, 2)\n",
            "\n",
            "El número de elementos de la matriz mat_14 es 24\n"
          ]
        }
      ]
    },
    {
      "cell_type": "code",
      "source": [
        "# Acceder a los elementos de una matriz 3D\n",
        "\n",
        "print(f\"Los elementos de la primera matriz mat_13 son \\n{mat_13[0]}\") #accerder a la 1era fila de la 1era matriz\n",
        "print(f\"\\nLos elementos de la segunda matriz mat_13 son \\n{mat_13[1]}\")\n",
        "print(f\"\\nLos elementos de la tercera matriz mat_13 son \\n{mat_13[2]}\")"
      ],
      "metadata": {
        "id": "xPuvd7s0W2X5",
        "outputId": "6fea0f0c-8156-42ed-cac7-09d36dce8b67",
        "colab": {
          "base_uri": "https://localhost:8080/"
        }
      },
      "execution_count": 94,
      "outputs": [
        {
          "output_type": "stream",
          "name": "stdout",
          "text": [
            "Los elementos de la primera matriz mat_13 son \n",
            "[[ 57  21  48   0]\n",
            " [ 71  27  60   0]\n",
            " [111  51  96   0]]\n",
            "\n",
            "Los elementos de la segunda matriz mat_13 son \n",
            "[[66 16 36 18]\n",
            " [95 22 58 29]\n",
            " [83 20 46 23]]\n",
            "\n",
            "Los elementos de la tercera matriz mat_13 son \n",
            "[[44 34 72 44]\n",
            " [34 32 72 34]\n",
            " [13 25 64 13]]\n"
          ]
        }
      ]
    },
    {
      "cell_type": "code",
      "source": [
        "print(f\"Los elementos de la primera fila y la primera matriz mat_13 son \\n{mat_13[0][0]}\")"
      ],
      "metadata": {
        "id": "3jc7JJlZYavj",
        "outputId": "266db6f2-71e9-49e5-b29b-74ab77748f18",
        "colab": {
          "base_uri": "https://localhost:8080/"
        }
      },
      "execution_count": 90,
      "outputs": [
        {
          "output_type": "stream",
          "name": "stdout",
          "text": [
            "Los elementos de la primera fila y la primera matriz mat_13 son \n",
            "[57 21 48  0]\n"
          ]
        }
      ]
    },
    {
      "cell_type": "code",
      "source": [
        "print(f\"Los elementos de la tercera fila de la segunda matriz mat_13 son \\n{mat_13[1][2]}\")"
      ],
      "metadata": {
        "id": "X9ZA8pWQXkLj",
        "outputId": "b0165b01-27a4-49fe-ff1b-02c37bd177d0",
        "colab": {
          "base_uri": "https://localhost:8080/"
        }
      },
      "execution_count": 91,
      "outputs": [
        {
          "output_type": "stream",
          "name": "stdout",
          "text": [
            "Los elementos de la tercera fila de la segunda matriz mat_13 son \n",
            "[83 20 46 23]\n"
          ]
        }
      ]
    },
    {
      "cell_type": "code",
      "source": [
        "print(f\"El 1er elemento de la tercera fila de la segunda matriz mat_13 son \\n{mat_13[1][2][0]}\")"
      ],
      "metadata": {
        "id": "Pu43ZhW-ZaZU",
        "outputId": "788ea73c-8d39-4696-9c7e-0cea6d9ce569",
        "colab": {
          "base_uri": "https://localhost:8080/"
        }
      },
      "execution_count": 92,
      "outputs": [
        {
          "output_type": "stream",
          "name": "stdout",
          "text": [
            "Los elementos de la tercera fila de la segunda matriz mat_13 son \n",
            "83\n"
          ]
        }
      ]
    },
    {
      "cell_type": "code",
      "source": [
        "print(f\"El valor mínimo de la matriz mat_13 es {mat_13.min()}\")\n",
        "print(f\"El valor máximo de la matriz mat_13 es {mat_13.max()}\")\n",
        "print(f\"La suma de los elementos de la matriz mat_13 es {mat_13.sum()}\")"
      ],
      "metadata": {
        "id": "RQ-slN8GZgGi",
        "outputId": "666d7b7b-cf38-4277-c924-25149b86e818",
        "colab": {
          "base_uri": "https://localhost:8080/"
        }
      },
      "execution_count": 93,
      "outputs": [
        {
          "output_type": "stream",
          "name": "stdout",
          "text": [
            "El valor mínimo de la matriz mat_13 es 0\n",
            "El valor máximo de la matriz mat_13 es 111\n",
            "La suma de los elementos de la matriz mat_13 es 1535\n"
          ]
        }
      ]
    },
    {
      "cell_type": "code",
      "source": [
        "print(f\"el 2do elemento de la 2da matriz de la 3era metriz es {mat_13[2][1][1]}\")"
      ],
      "metadata": {
        "id": "w_xRe4ezAYdV",
        "outputId": "28e054d8-ed32-45d7-f9af-3e8ce7f1a271",
        "colab": {
          "base_uri": "https://localhost:8080/"
        }
      },
      "execution_count": 97,
      "outputs": [
        {
          "output_type": "stream",
          "name": "stdout",
          "text": [
            "el 2do elemento de la 2da matriz de la 3era metriz es 32\n"
          ]
        }
      ]
    },
    {
      "cell_type": "markdown",
      "source": [
        "### Actividad N036"
      ],
      "metadata": {
        "id": "8rQicFvjWTd3"
      }
    },
    {
      "cell_type": "markdown",
      "source": [
        "Crear los arreglos A y B, realice el cálculo de multiplicación de matrices (A.B) y de (B.A)"
      ],
      "metadata": {
        "id": "SzKkR5a0WWIK"
      }
    },
    {
      "cell_type": "code",
      "source": [
        "from google.colab import files\n",
        "\n",
        "# Subir archivo desde tu máquina local\n",
        "uploaded = files.upload()"
      ],
      "metadata": {
        "id": "FqYwItr9WqkT",
        "outputId": "b9bdf02a-dfd3-4d04-91c5-106071ed36ca",
        "colab": {
          "base_uri": "https://localhost:8080/",
          "height": 358
        }
      },
      "execution_count": 98,
      "outputs": [
        {
          "output_type": "display_data",
          "data": {
            "text/plain": [
              "<IPython.core.display.HTML object>"
            ],
            "text/html": [
              "\n",
              "     <input type=\"file\" id=\"files-ac7b26c7-4fc5-4717-9538-f62407c8195c\" name=\"files[]\" multiple disabled\n",
              "        style=\"border:none\" />\n",
              "     <output id=\"result-ac7b26c7-4fc5-4717-9538-f62407c8195c\">\n",
              "      Upload widget is only available when the cell has been executed in the\n",
              "      current browser session. Please rerun this cell to enable.\n",
              "      </output>\n",
              "      <script>// Copyright 2017 Google LLC\n",
              "//\n",
              "// Licensed under the Apache License, Version 2.0 (the \"License\");\n",
              "// you may not use this file except in compliance with the License.\n",
              "// You may obtain a copy of the License at\n",
              "//\n",
              "//      http://www.apache.org/licenses/LICENSE-2.0\n",
              "//\n",
              "// Unless required by applicable law or agreed to in writing, software\n",
              "// distributed under the License is distributed on an \"AS IS\" BASIS,\n",
              "// WITHOUT WARRANTIES OR CONDITIONS OF ANY KIND, either express or implied.\n",
              "// See the License for the specific language governing permissions and\n",
              "// limitations under the License.\n",
              "\n",
              "/**\n",
              " * @fileoverview Helpers for google.colab Python module.\n",
              " */\n",
              "(function(scope) {\n",
              "function span(text, styleAttributes = {}) {\n",
              "  const element = document.createElement('span');\n",
              "  element.textContent = text;\n",
              "  for (const key of Object.keys(styleAttributes)) {\n",
              "    element.style[key] = styleAttributes[key];\n",
              "  }\n",
              "  return element;\n",
              "}\n",
              "\n",
              "// Max number of bytes which will be uploaded at a time.\n",
              "const MAX_PAYLOAD_SIZE = 100 * 1024;\n",
              "\n",
              "function _uploadFiles(inputId, outputId) {\n",
              "  const steps = uploadFilesStep(inputId, outputId);\n",
              "  const outputElement = document.getElementById(outputId);\n",
              "  // Cache steps on the outputElement to make it available for the next call\n",
              "  // to uploadFilesContinue from Python.\n",
              "  outputElement.steps = steps;\n",
              "\n",
              "  return _uploadFilesContinue(outputId);\n",
              "}\n",
              "\n",
              "// This is roughly an async generator (not supported in the browser yet),\n",
              "// where there are multiple asynchronous steps and the Python side is going\n",
              "// to poll for completion of each step.\n",
              "// This uses a Promise to block the python side on completion of each step,\n",
              "// then passes the result of the previous step as the input to the next step.\n",
              "function _uploadFilesContinue(outputId) {\n",
              "  const outputElement = document.getElementById(outputId);\n",
              "  const steps = outputElement.steps;\n",
              "\n",
              "  const next = steps.next(outputElement.lastPromiseValue);\n",
              "  return Promise.resolve(next.value.promise).then((value) => {\n",
              "    // Cache the last promise value to make it available to the next\n",
              "    // step of the generator.\n",
              "    outputElement.lastPromiseValue = value;\n",
              "    return next.value.response;\n",
              "  });\n",
              "}\n",
              "\n",
              "/**\n",
              " * Generator function which is called between each async step of the upload\n",
              " * process.\n",
              " * @param {string} inputId Element ID of the input file picker element.\n",
              " * @param {string} outputId Element ID of the output display.\n",
              " * @return {!Iterable<!Object>} Iterable of next steps.\n",
              " */\n",
              "function* uploadFilesStep(inputId, outputId) {\n",
              "  const inputElement = document.getElementById(inputId);\n",
              "  inputElement.disabled = false;\n",
              "\n",
              "  const outputElement = document.getElementById(outputId);\n",
              "  outputElement.innerHTML = '';\n",
              "\n",
              "  const pickedPromise = new Promise((resolve) => {\n",
              "    inputElement.addEventListener('change', (e) => {\n",
              "      resolve(e.target.files);\n",
              "    });\n",
              "  });\n",
              "\n",
              "  const cancel = document.createElement('button');\n",
              "  inputElement.parentElement.appendChild(cancel);\n",
              "  cancel.textContent = 'Cancel upload';\n",
              "  const cancelPromise = new Promise((resolve) => {\n",
              "    cancel.onclick = () => {\n",
              "      resolve(null);\n",
              "    };\n",
              "  });\n",
              "\n",
              "  // Wait for the user to pick the files.\n",
              "  const files = yield {\n",
              "    promise: Promise.race([pickedPromise, cancelPromise]),\n",
              "    response: {\n",
              "      action: 'starting',\n",
              "    }\n",
              "  };\n",
              "\n",
              "  cancel.remove();\n",
              "\n",
              "  // Disable the input element since further picks are not allowed.\n",
              "  inputElement.disabled = true;\n",
              "\n",
              "  if (!files) {\n",
              "    return {\n",
              "      response: {\n",
              "        action: 'complete',\n",
              "      }\n",
              "    };\n",
              "  }\n",
              "\n",
              "  for (const file of files) {\n",
              "    const li = document.createElement('li');\n",
              "    li.append(span(file.name, {fontWeight: 'bold'}));\n",
              "    li.append(span(\n",
              "        `(${file.type || 'n/a'}) - ${file.size} bytes, ` +\n",
              "        `last modified: ${\n",
              "            file.lastModifiedDate ? file.lastModifiedDate.toLocaleDateString() :\n",
              "                                    'n/a'} - `));\n",
              "    const percent = span('0% done');\n",
              "    li.appendChild(percent);\n",
              "\n",
              "    outputElement.appendChild(li);\n",
              "\n",
              "    const fileDataPromise = new Promise((resolve) => {\n",
              "      const reader = new FileReader();\n",
              "      reader.onload = (e) => {\n",
              "        resolve(e.target.result);\n",
              "      };\n",
              "      reader.readAsArrayBuffer(file);\n",
              "    });\n",
              "    // Wait for the data to be ready.\n",
              "    let fileData = yield {\n",
              "      promise: fileDataPromise,\n",
              "      response: {\n",
              "        action: 'continue',\n",
              "      }\n",
              "    };\n",
              "\n",
              "    // Use a chunked sending to avoid message size limits. See b/62115660.\n",
              "    let position = 0;\n",
              "    do {\n",
              "      const length = Math.min(fileData.byteLength - position, MAX_PAYLOAD_SIZE);\n",
              "      const chunk = new Uint8Array(fileData, position, length);\n",
              "      position += length;\n",
              "\n",
              "      const base64 = btoa(String.fromCharCode.apply(null, chunk));\n",
              "      yield {\n",
              "        response: {\n",
              "          action: 'append',\n",
              "          file: file.name,\n",
              "          data: base64,\n",
              "        },\n",
              "      };\n",
              "\n",
              "      let percentDone = fileData.byteLength === 0 ?\n",
              "          100 :\n",
              "          Math.round((position / fileData.byteLength) * 100);\n",
              "      percent.textContent = `${percentDone}% done`;\n",
              "\n",
              "    } while (position < fileData.byteLength);\n",
              "  }\n",
              "\n",
              "  // All done.\n",
              "  yield {\n",
              "    response: {\n",
              "      action: 'complete',\n",
              "    }\n",
              "  };\n",
              "}\n",
              "\n",
              "scope.google = scope.google || {};\n",
              "scope.google.colab = scope.google.colab || {};\n",
              "scope.google.colab._files = {\n",
              "  _uploadFiles,\n",
              "  _uploadFilesContinue,\n",
              "};\n",
              "})(self);\n",
              "</script> "
            ]
          },
          "metadata": {}
        },
        {
          "output_type": "error",
          "ename": "KeyboardInterrupt",
          "evalue": "",
          "traceback": [
            "\u001b[0;31m---------------------------------------------------------------------------\u001b[0m",
            "\u001b[0;31mKeyboardInterrupt\u001b[0m                         Traceback (most recent call last)",
            "\u001b[0;32m<ipython-input-98-606927737f67>\u001b[0m in \u001b[0;36m<cell line: 0>\u001b[0;34m()\u001b[0m\n\u001b[1;32m      2\u001b[0m \u001b[0;34m\u001b[0m\u001b[0m\n\u001b[1;32m      3\u001b[0m \u001b[0;31m# Subir archivo desde tu máquina local\u001b[0m\u001b[0;34m\u001b[0m\u001b[0;34m\u001b[0m\u001b[0m\n\u001b[0;32m----> 4\u001b[0;31m \u001b[0muploaded\u001b[0m \u001b[0;34m=\u001b[0m \u001b[0mfiles\u001b[0m\u001b[0;34m.\u001b[0m\u001b[0mupload\u001b[0m\u001b[0;34m(\u001b[0m\u001b[0;34m)\u001b[0m\u001b[0;34m\u001b[0m\u001b[0;34m\u001b[0m\u001b[0m\n\u001b[0m",
            "\u001b[0;32m/usr/local/lib/python3.11/dist-packages/google/colab/files.py\u001b[0m in \u001b[0;36mupload\u001b[0;34m(target_dir)\u001b[0m\n\u001b[1;32m     70\u001b[0m   \"\"\"\n\u001b[1;32m     71\u001b[0m \u001b[0;34m\u001b[0m\u001b[0m\n\u001b[0;32m---> 72\u001b[0;31m   \u001b[0muploaded_files\u001b[0m \u001b[0;34m=\u001b[0m \u001b[0m_upload_files\u001b[0m\u001b[0;34m(\u001b[0m\u001b[0mmultiple\u001b[0m\u001b[0;34m=\u001b[0m\u001b[0;32mTrue\u001b[0m\u001b[0;34m)\u001b[0m\u001b[0;34m\u001b[0m\u001b[0;34m\u001b[0m\u001b[0m\n\u001b[0m\u001b[1;32m     73\u001b[0m   \u001b[0;31m# Mapping from original filename to filename as saved locally.\u001b[0m\u001b[0;34m\u001b[0m\u001b[0;34m\u001b[0m\u001b[0m\n\u001b[1;32m     74\u001b[0m   \u001b[0mlocal_filenames\u001b[0m \u001b[0;34m=\u001b[0m \u001b[0mdict\u001b[0m\u001b[0;34m(\u001b[0m\u001b[0;34m)\u001b[0m\u001b[0;34m\u001b[0m\u001b[0;34m\u001b[0m\u001b[0m\n",
            "\u001b[0;32m/usr/local/lib/python3.11/dist-packages/google/colab/files.py\u001b[0m in \u001b[0;36m_upload_files\u001b[0;34m(multiple)\u001b[0m\n\u001b[1;32m    162\u001b[0m \u001b[0;34m\u001b[0m\u001b[0m\n\u001b[1;32m    163\u001b[0m   \u001b[0;31m# First result is always an indication that the file picker has completed.\u001b[0m\u001b[0;34m\u001b[0m\u001b[0;34m\u001b[0m\u001b[0m\n\u001b[0;32m--> 164\u001b[0;31m   result = _output.eval_js(\n\u001b[0m\u001b[1;32m    165\u001b[0m       'google.colab._files._uploadFiles(\"{input_id}\", \"{output_id}\")'.format(\n\u001b[1;32m    166\u001b[0m           \u001b[0minput_id\u001b[0m\u001b[0;34m=\u001b[0m\u001b[0minput_id\u001b[0m\u001b[0;34m,\u001b[0m \u001b[0moutput_id\u001b[0m\u001b[0;34m=\u001b[0m\u001b[0moutput_id\u001b[0m\u001b[0;34m\u001b[0m\u001b[0;34m\u001b[0m\u001b[0m\n",
            "\u001b[0;32m/usr/local/lib/python3.11/dist-packages/google/colab/output/_js.py\u001b[0m in \u001b[0;36meval_js\u001b[0;34m(script, ignore_result, timeout_sec)\u001b[0m\n\u001b[1;32m     38\u001b[0m   \u001b[0;32mif\u001b[0m \u001b[0mignore_result\u001b[0m\u001b[0;34m:\u001b[0m\u001b[0;34m\u001b[0m\u001b[0;34m\u001b[0m\u001b[0m\n\u001b[1;32m     39\u001b[0m     \u001b[0;32mreturn\u001b[0m\u001b[0;34m\u001b[0m\u001b[0;34m\u001b[0m\u001b[0m\n\u001b[0;32m---> 40\u001b[0;31m   \u001b[0;32mreturn\u001b[0m \u001b[0m_message\u001b[0m\u001b[0;34m.\u001b[0m\u001b[0mread_reply_from_input\u001b[0m\u001b[0;34m(\u001b[0m\u001b[0mrequest_id\u001b[0m\u001b[0;34m,\u001b[0m \u001b[0mtimeout_sec\u001b[0m\u001b[0;34m)\u001b[0m\u001b[0;34m\u001b[0m\u001b[0;34m\u001b[0m\u001b[0m\n\u001b[0m\u001b[1;32m     41\u001b[0m \u001b[0;34m\u001b[0m\u001b[0m\n\u001b[1;32m     42\u001b[0m \u001b[0;34m\u001b[0m\u001b[0m\n",
            "\u001b[0;32m/usr/local/lib/python3.11/dist-packages/google/colab/_message.py\u001b[0m in \u001b[0;36mread_reply_from_input\u001b[0;34m(message_id, timeout_sec)\u001b[0m\n\u001b[1;32m     94\u001b[0m     \u001b[0mreply\u001b[0m \u001b[0;34m=\u001b[0m \u001b[0m_read_next_input_message\u001b[0m\u001b[0;34m(\u001b[0m\u001b[0;34m)\u001b[0m\u001b[0;34m\u001b[0m\u001b[0;34m\u001b[0m\u001b[0m\n\u001b[1;32m     95\u001b[0m     \u001b[0;32mif\u001b[0m \u001b[0mreply\u001b[0m \u001b[0;34m==\u001b[0m \u001b[0m_NOT_READY\u001b[0m \u001b[0;32mor\u001b[0m \u001b[0;32mnot\u001b[0m \u001b[0misinstance\u001b[0m\u001b[0;34m(\u001b[0m\u001b[0mreply\u001b[0m\u001b[0;34m,\u001b[0m \u001b[0mdict\u001b[0m\u001b[0;34m)\u001b[0m\u001b[0;34m:\u001b[0m\u001b[0;34m\u001b[0m\u001b[0;34m\u001b[0m\u001b[0m\n\u001b[0;32m---> 96\u001b[0;31m       \u001b[0mtime\u001b[0m\u001b[0;34m.\u001b[0m\u001b[0msleep\u001b[0m\u001b[0;34m(\u001b[0m\u001b[0;36m0.025\u001b[0m\u001b[0;34m)\u001b[0m\u001b[0;34m\u001b[0m\u001b[0;34m\u001b[0m\u001b[0m\n\u001b[0m\u001b[1;32m     97\u001b[0m       \u001b[0;32mcontinue\u001b[0m\u001b[0;34m\u001b[0m\u001b[0;34m\u001b[0m\u001b[0m\n\u001b[1;32m     98\u001b[0m     if (\n",
            "\u001b[0;31mKeyboardInterrupt\u001b[0m: "
          ]
        }
      ]
    },
    {
      "cell_type": "code",
      "source": [
        "from IPython.display import Image, display\n",
        "\n",
        "# Mostrar la imagen en Colab\n",
        "display(Image(filename='actividad36.png'))"
      ],
      "metadata": {
        "id": "_CiiDyEZWrOC"
      },
      "execution_count": null,
      "outputs": []
    },
    {
      "cell_type": "code",
      "source": [
        "A = np.array([[1,2,3],\n",
        "             [3,2,1]])\n",
        "\n",
        "B = np.array([[0,2],\n",
        "             [1, -1],\n",
        "             [0,1]])"
      ],
      "metadata": {
        "id": "vrAV34UKWrqa"
      },
      "execution_count": 101,
      "outputs": []
    },
    {
      "cell_type": "code",
      "source": [
        "C = np.dot(A,B)\n",
        "D = np.dot(B,A)"
      ],
      "metadata": {
        "id": "lkYQhLFgCSiD"
      },
      "execution_count": 105,
      "outputs": []
    },
    {
      "cell_type": "code",
      "source": [
        "print(f\"\\nLa matriz producto C = AxB es {np.dot(A,B)}\")\n",
        "print(f\"\\nLa matriz producto D = BxA es {np.dot(B,A)}\")"
      ],
      "metadata": {
        "id": "ysVcNPZTBeWD",
        "outputId": "917f7cd1-fe97-464d-91d6-1575257c8958",
        "colab": {
          "base_uri": "https://localhost:8080/"
        }
      },
      "execution_count": 106,
      "outputs": [
        {
          "output_type": "stream",
          "name": "stdout",
          "text": [
            "\n",
            "La matriz producto C = AxB es [[2 3]\n",
            " [2 5]]\n",
            "\n",
            "La matriz producto D = BxA es [[ 6  4  2]\n",
            " [-2  0  2]\n",
            " [ 3  2  1]]\n"
          ]
        }
      ]
    },
    {
      "cell_type": "code",
      "source": [
        "print(f\"\\nEl nuemro de dimensiones de la matriz C es {C.ndim}\")\n",
        "print(f\"\\nEl tamaño de las dimensiones de la matriz C es {C.shape}\")\n",
        "print(f\"\\nEl número de elementos de la matriz C es {C.size}\")\n",
        "print(f\"\\nEl nuemro de dimensiones de la matriz D es {D.ndim}\")\n",
        "print(f\"\\nEl tamaño de las dimensiones de la matriz D es {D.shape}\")\n",
        "print(f\"\\nEl número de elementos de la matriz D es {D.size}\")"
      ],
      "metadata": {
        "id": "7VMuRTA-B0sv",
        "outputId": "ce6508e7-0851-4d81-b28b-5ae386427063",
        "colab": {
          "base_uri": "https://localhost:8080/"
        }
      },
      "execution_count": 107,
      "outputs": [
        {
          "output_type": "stream",
          "name": "stdout",
          "text": [
            "\n",
            "El nuemro de dimensiones de la matriz C es 2\n",
            "\n",
            "El tamaño de las dimensiones de la matriz C es (2, 2)\n",
            "\n",
            "El número de elementos de la matriz C es 4\n",
            "\n",
            "El nuemro de dimensiones de la matriz D es 2\n",
            "\n",
            "El tamaño de las dimensiones de la matriz D es (3, 3)\n",
            "\n",
            "El número de elementos de la matriz D es 9\n"
          ]
        }
      ]
    },
    {
      "cell_type": "markdown",
      "source": [
        "### [4] Operaciones con arreglos"
      ],
      "metadata": {
        "id": "0hrw-5IkbXqW"
      }
    },
    {
      "cell_type": "code",
      "source": [
        "mat_15 = np.array([[3,1],[2,7]])\n",
        "# Las características de la matriz mat_15\n",
        "print(f\"La matriz es \\n{mat_15}\")\n",
        "print(f\"\\nEl objeto es del tipo \\n{type(mat_15)}\")\n",
        "print(f\"\\nEl número de dimensiones de la matriz es {mat_15.ndim}\")\n",
        "print(f\"\\nEl tamaño de las dimensiones de la matriz es {mat_15.shape}\")\n",
        "print(f\"\\nEl número de elementos de la matriz es {mat_15.size}\")"
      ],
      "metadata": {
        "id": "g_mN9lsJZ_-w",
        "outputId": "b1fc2b2f-781a-4d45-c3b0-1a151078db58",
        "colab": {
          "base_uri": "https://localhost:8080/"
        }
      },
      "execution_count": 108,
      "outputs": [
        {
          "output_type": "stream",
          "name": "stdout",
          "text": [
            "La matriz es \n",
            "[[3 1]\n",
            " [2 7]]\n",
            "\n",
            "El objeto es del tipo \n",
            "<class 'numpy.ndarray'>\n",
            "\n",
            "El número de dimensiones de la matriz es 2\n",
            "\n",
            "El tamaño de las dimensiones de la matriz es (2, 2)\n",
            "\n",
            "El número de elementos de la matriz es 4\n"
          ]
        }
      ]
    },
    {
      "cell_type": "code",
      "source": [
        "mat_16 = np.array([[4,2],[5,7]])\n",
        "# Las características de la matriz mat_16\n",
        "print(f\"La matriz es \\n{mat_16}\")\n",
        "print(f\"\\nEl objeto es del tipo \\n{type(mat_16)}\")\n",
        "print(f\"\\nEl número de dimensiones de la matriz es {mat_16.ndim}\")\n",
        "print(f\"\\nEl tamaño de las dimensiones de la matriz es {mat_16.shape}\")\n",
        "print(f\"\\nEl número de elementos de la matriz es {mat_16.size}\")"
      ],
      "metadata": {
        "id": "6LA5B_1rb07_",
        "outputId": "d576e3e2-33b1-48a6-c0fb-9a0f2f46fef8",
        "colab": {
          "base_uri": "https://localhost:8080/"
        }
      },
      "execution_count": 109,
      "outputs": [
        {
          "output_type": "stream",
          "name": "stdout",
          "text": [
            "La matriz es \n",
            "[[4 2]\n",
            " [5 7]]\n",
            "\n",
            "El objeto es del tipo \n",
            "<class 'numpy.ndarray'>\n",
            "\n",
            "El número de dimensiones de la matriz es 2\n",
            "\n",
            "El tamaño de las dimensiones de la matriz es (2, 2)\n",
            "\n",
            "El número de elementos de la matriz es 4\n"
          ]
        }
      ]
    },
    {
      "cell_type": "code",
      "source": [
        "# Suma de matrices por método directo\n",
        "mat_17 = mat_15 + mat_16\n",
        "# Las características de la matriz mat_17\n",
        "print(f\"La matriz es \\n{mat_17}\")\n",
        "print(f\"\\nEl objeto es del tipo \\n{type(mat_17)}\")\n",
        "print(f\"\\nEl número de dimensiones de la matriz es {mat_17.ndim}\")\n",
        "print(f\"\\nEl tamaño de las dimensiones de la matriz es {mat_17.shape}\")\n",
        "print(f\"\\nEl número de elementos de la matriz es {mat_17.size}\")"
      ],
      "metadata": {
        "id": "ffzonjJXcFi4",
        "outputId": "8e70cb2a-2e35-46e5-bca9-b007b3342b20",
        "colab": {
          "base_uri": "https://localhost:8080/"
        }
      },
      "execution_count": 110,
      "outputs": [
        {
          "output_type": "stream",
          "name": "stdout",
          "text": [
            "La matriz es \n",
            "[[ 7  3]\n",
            " [ 7 14]]\n",
            "\n",
            "El objeto es del tipo \n",
            "<class 'numpy.ndarray'>\n",
            "\n",
            "El número de dimensiones de la matriz es 2\n",
            "\n",
            "El tamaño de las dimensiones de la matriz es (2, 2)\n",
            "\n",
            "El número de elementos de la matriz es 4\n"
          ]
        }
      ]
    },
    {
      "cell_type": "code",
      "source": [
        "# Suma de matrices por método add\n",
        "print(f\"La primera matriz es \\n{mat_15}\")\n",
        "print(f\"\\nLa segunda matriz es \\n{mat_16}\")\n",
        "print(f\"\\nLa matriz resultado de la suma es \\n{np.add(mat_15,mat_16)}\")"
      ],
      "metadata": {
        "id": "j0V4g4dQccUT",
        "outputId": "f8568f4c-bf27-4b92-af7f-6f31b5292dd9",
        "colab": {
          "base_uri": "https://localhost:8080/"
        }
      },
      "execution_count": 111,
      "outputs": [
        {
          "output_type": "stream",
          "name": "stdout",
          "text": [
            "La primera matriz es \n",
            "[[3 1]\n",
            " [2 7]]\n",
            "\n",
            "La segunda matriz es \n",
            "[[4 2]\n",
            " [5 7]]\n",
            "\n",
            "La matriz resultado de la suma es \n",
            "[[ 7  3]\n",
            " [ 7 14]]\n"
          ]
        }
      ]
    },
    {
      "cell_type": "code",
      "source": [
        "# Resta de matrices\n",
        "print(f\"La primera matriz es \\n{mat_15}\")\n",
        "print(f\"\\nLa segunda matriz es \\n{mat_16}\")\n",
        "print(f\"\\nLa matriz resultado de la resta es \\n{mat_15-mat_16}\")"
      ],
      "metadata": {
        "id": "wsGMQi9mc_RK",
        "outputId": "f9fa2034-8502-4f5f-8bfb-58ce3fd02002",
        "colab": {
          "base_uri": "https://localhost:8080/"
        }
      },
      "execution_count": 112,
      "outputs": [
        {
          "output_type": "stream",
          "name": "stdout",
          "text": [
            "La primera matriz es \n",
            "[[3 1]\n",
            " [2 7]]\n",
            "\n",
            "La segunda matriz es \n",
            "[[4 2]\n",
            " [5 7]]\n",
            "\n",
            "La matriz resultado de la resta es \n",
            "[[-1 -1]\n",
            " [-3  0]]\n"
          ]
        }
      ]
    },
    {
      "cell_type": "code",
      "source": [
        "# Resta de matrices con método subtract\n",
        "print(f\"La primera matriz es \\n{mat_15}\")\n",
        "print(f\"\\nLa segunda matriz es \\n{mat_16}\")\n",
        "print(f\"\\nLa matriz resultado de la resta es \\n{np.subtract(mat_15,mat_16)}\")"
      ],
      "metadata": {
        "id": "XVIA_CNthvCE",
        "outputId": "00cbf369-657f-48c1-99d5-bfe03189c7a8",
        "colab": {
          "base_uri": "https://localhost:8080/"
        }
      },
      "execution_count": 113,
      "outputs": [
        {
          "output_type": "stream",
          "name": "stdout",
          "text": [
            "La primera matriz es \n",
            "[[3 1]\n",
            " [2 7]]\n",
            "\n",
            "La segunda matriz es \n",
            "[[4 2]\n",
            " [5 7]]\n",
            "\n",
            "La matriz resultado de la resta es \n",
            "[[-1 -1]\n",
            " [-3  0]]\n"
          ]
        }
      ]
    },
    {
      "cell_type": "code",
      "source": [
        "# Multiplicar matrices (a nivel de posiciones)\n",
        "print(f\"La primera matriz es \\n{mat_15}\")\n",
        "print(f\"\\nLa segunda matriz es \\n{mat_16}\")\n",
        "print(f\"\\nLa matriz resultado de la multiplicación es \\n{np.multiply(mat_15,mat_16)}\")"
      ],
      "metadata": {
        "id": "K0LlpL6ziW2z",
        "outputId": "4ef708c9-16a9-4d69-8038-297c5aa9cdaa",
        "colab": {
          "base_uri": "https://localhost:8080/"
        }
      },
      "execution_count": 114,
      "outputs": [
        {
          "output_type": "stream",
          "name": "stdout",
          "text": [
            "La primera matriz es \n",
            "[[3 1]\n",
            " [2 7]]\n",
            "\n",
            "La segunda matriz es \n",
            "[[4 2]\n",
            " [5 7]]\n",
            "\n",
            "La matriz resultado de la multiplicación es \n",
            "[[12  2]\n",
            " [10 49]]\n"
          ]
        }
      ]
    },
    {
      "cell_type": "code",
      "source": [
        "# Multiplicar matrices\n",
        "print(f\"La primera matriz es \\n{mat_15}\")\n",
        "print(f\"\\nLa segunda matriz es \\n{mat_16}\")\n",
        "print(f\"\\nLa matriz resultado de la multiplicación es \\n{mat_15.dot(mat_16)}\")"
      ],
      "metadata": {
        "id": "MjLn1oSukXx3",
        "outputId": "b3ec4fc1-3433-4f42-cad8-0e00dd4afbcd",
        "colab": {
          "base_uri": "https://localhost:8080/"
        }
      },
      "execution_count": 115,
      "outputs": [
        {
          "output_type": "stream",
          "name": "stdout",
          "text": [
            "La primera matriz es \n",
            "[[3 1]\n",
            " [2 7]]\n",
            "\n",
            "La segunda matriz es \n",
            "[[4 2]\n",
            " [5 7]]\n",
            "\n",
            "La matriz resultado de la multiplicación es \n",
            "[[17 13]\n",
            " [43 53]]\n"
          ]
        }
      ]
    },
    {
      "cell_type": "code",
      "source": [
        "mat_18 = np.array([[1,2],[3,4],[5,6]])\n",
        "mat_19 = np.array([[1,2,3],[3,4,5]])\n",
        "\n",
        "print(f\"La matriz mat_18 es \\n{mat_18}\")\n",
        "print(f\"\\nEl número de dimensiones de la matriz mat_18 es {mat_18.ndim}\")\n",
        "print(f\"\\nEl tamaño de las dimensiones de la matriz mat_18 es {mat_18.shape}\")\n",
        "\n",
        "print(f\"\\nLa matriz mat_19 es \\n{mat_19}\")\n",
        "print(f\"\\nEl número de dimensiones de la matriz mat_19 es {mat_19.ndim}\")\n",
        "print(f\"\\nEl tamaño de las dimensiones de la matriz mat_19 es {mat_19.shape}\")\n"
      ],
      "metadata": {
        "id": "VZ_1YOuQnE-G",
        "outputId": "0aac9f49-76cd-43ec-9b0c-1ca2c4007404",
        "colab": {
          "base_uri": "https://localhost:8080/"
        }
      },
      "execution_count": 116,
      "outputs": [
        {
          "output_type": "stream",
          "name": "stdout",
          "text": [
            "La matriz mat_18 es \n",
            "[[1 2]\n",
            " [3 4]\n",
            " [5 6]]\n",
            "\n",
            "El número de dimensiones de la matriz mat_18 es 2\n",
            "\n",
            "El tamaño de las dimensiones de la matriz mat_18 es (3, 2)\n",
            "\n",
            "La matriz mat_19 es \n",
            "[[1 2 3]\n",
            " [3 4 5]]\n",
            "\n",
            "El número de dimensiones de la matriz mat_19 es 2\n",
            "\n",
            "El tamaño de las dimensiones de la matriz mat_19 es (2, 3)\n"
          ]
        }
      ]
    },
    {
      "cell_type": "code",
      "source": [
        "# Multiplicar matrices\n",
        "print(f\"La primera matriz es \\n{mat_18}\")\n",
        "print(f\"\\nLa segunda matriz es \\n{mat_19}\")\n",
        "print(f\"\\nLa matriz resultado de la multiplicación es \\n{mat_18.dot(mat_19)}\")\n",
        "print(f\"\\nLa matriz resultado de la multiplicación es \\n{mat_19.dot(mat_18)}\")"
      ],
      "metadata": {
        "id": "tKBorDbloUFs",
        "outputId": "a205ca6c-d9df-4474-ae0b-7853e5b4f39e",
        "colab": {
          "base_uri": "https://localhost:8080/"
        }
      },
      "execution_count": 117,
      "outputs": [
        {
          "output_type": "stream",
          "name": "stdout",
          "text": [
            "La primera matriz es \n",
            "[[1 2]\n",
            " [3 4]\n",
            " [5 6]]\n",
            "\n",
            "La segunda matriz es \n",
            "[[1 2 3]\n",
            " [3 4 5]]\n",
            "\n",
            "La matriz resultado de la multiplicación es \n",
            "[[ 7 10 13]\n",
            " [15 22 29]\n",
            " [23 34 45]]\n",
            "\n",
            "La matriz resultado de la multiplicación es \n",
            "[[22 28]\n",
            " [40 52]]\n"
          ]
        }
      ]
    },
    {
      "cell_type": "code",
      "source": [
        "print(f\"La primera matriz es \\n{mat_18}\")\n",
        "print(f\"\\nLa segunda matriz es \\n{mat_19}\")\n",
        "print(f\"\\nLa matriz resultado de la multiplicación es \\n{mat_18+mat_19}\")"
      ],
      "metadata": {
        "id": "riHOiqlXo-uE"
      },
      "execution_count": null,
      "outputs": []
    },
    {
      "cell_type": "code",
      "source": [
        "print(f\"La primera matriz es \\n{mat_15}\")\n",
        "print(f\"\\nLa segunda matriz es \\n{mat_16}\")\n",
        "print(f\"\\nLas matrices concatenadas \\n{np.concatenate([mat_15,mat_16],axis=0)}\")"
      ],
      "metadata": {
        "id": "iGkMTESJpPHq"
      },
      "execution_count": null,
      "outputs": []
    },
    {
      "cell_type": "code",
      "source": [
        "print(f\"La primera matriz es \\n{mat_15}\")\n",
        "print(f\"\\nLa segunda matriz es \\n{mat_16}\")\n",
        "print(f\"\\nLas matrices concatenadas \\n{np.concatenate([mat_15,mat_16],axis=1)}\")"
      ],
      "metadata": {
        "id": "camf5mlbqJ7e"
      },
      "execution_count": null,
      "outputs": []
    },
    {
      "cell_type": "code",
      "source": [
        "# Multiplicar matrices\n",
        "print(f\"La primera matriz es \\n{mat_19}\")\n",
        "print(f\"\\nLa segunda matriz es \\n{mat_18}\")\n",
        "print(f\"\\nLa matriz resultado de la multiplicación es \\n{mat_19.dot(mat_18)}\")"
      ],
      "metadata": {
        "id": "niWjoF-sqRRN"
      },
      "execution_count": null,
      "outputs": []
    },
    {
      "cell_type": "code",
      "source": [
        "# Arreglo original\n",
        "arreglo_1"
      ],
      "metadata": {
        "id": "tMJFRG3HXWTx"
      },
      "execution_count": null,
      "outputs": []
    },
    {
      "cell_type": "code",
      "source": [
        "arreglo_1.ravel()"
      ],
      "metadata": {
        "id": "vZN3_k-2XeL6"
      },
      "execution_count": null,
      "outputs": []
    },
    {
      "cell_type": "code",
      "source": [
        "arreglo_1.shape = (6,2)"
      ],
      "metadata": {
        "id": "S5dlrdg1XgCT"
      },
      "execution_count": null,
      "outputs": []
    },
    {
      "cell_type": "code",
      "source": [
        "arreglo_1.transpose()"
      ],
      "metadata": {
        "id": "odhL7RqdXksE"
      },
      "execution_count": null,
      "outputs": []
    },
    {
      "cell_type": "code",
      "source": [
        "#Seleccionamos la fila 1 y la columna 2.\n",
        "arreglo_1[0,1]"
      ],
      "metadata": {
        "id": "BFZGYsDcYH3_"
      },
      "execution_count": null,
      "outputs": []
    },
    {
      "cell_type": "code",
      "source": [
        "#Seleccionamos la fila 1 y las 3 primeras columnas.\n",
        "arreglo_1[ 0 , 0:3 ]"
      ],
      "metadata": {
        "id": "_B1JZKb5YSfc"
      },
      "execution_count": null,
      "outputs": []
    },
    {
      "cell_type": "code",
      "source": [
        "#Seleccionamos la fila 1 y todas las columnas.\n",
        "arreglo_1[ 0 , : ]"
      ],
      "metadata": {
        "id": "YgUxPko1YT8j"
      },
      "execution_count": null,
      "outputs": []
    },
    {
      "cell_type": "code",
      "source": [
        "#Seleccionamos todas las filas y la columna 2.\n",
        "arreglo_1[ : , 1 ]"
      ],
      "metadata": {
        "id": "IBOmihejYVQd"
      },
      "execution_count": null,
      "outputs": []
    },
    {
      "cell_type": "markdown",
      "source": [
        "### Actividad N037"
      ],
      "metadata": {
        "id": "TTYIFEXvYWZv"
      }
    },
    {
      "cell_type": "markdown",
      "source": [
        "Seleccione del arreglo data_array la edad y los años de experiencia del primer y tercer registro\n"
      ],
      "metadata": {
        "id": "l_pRWxCRYaji"
      }
    },
    {
      "cell_type": "code",
      "source": [],
      "metadata": {
        "id": "3jNMiNmKYhVI"
      },
      "execution_count": null,
      "outputs": []
    },
    {
      "cell_type": "markdown",
      "source": [
        "### [5] Estadísticas en arreglos NumPy"
      ],
      "metadata": {
        "id": "bgDhLt00XvBE"
      }
    },
    {
      "cell_type": "code",
      "source": [
        "a = np.array([1, 2, 3, 4])\n",
        "\n",
        "print(a.mean())   # promedio\n",
        "print(a.sum())    # suma total\n",
        "print(a.max())    # valor máximo\n",
        "print(a.min())    # valor mínimo\n"
      ],
      "metadata": {
        "id": "LgSCO9TkX1TF"
      },
      "execution_count": null,
      "outputs": []
    },
    {
      "cell_type": "markdown",
      "source": [
        "### Actividad N038"
      ],
      "metadata": {
        "id": "b8cqM5mJX7f-"
      }
    },
    {
      "cell_type": "markdown",
      "source": [
        "Del arreglo data_array, calcule los valores mínimo, máximos y promedios de todas las variables\n"
      ],
      "metadata": {
        "id": "vgJpDiufYkfC"
      }
    },
    {
      "cell_type": "code",
      "source": [],
      "metadata": {
        "id": "KPKkTN8RYqao"
      },
      "execution_count": null,
      "outputs": []
    },
    {
      "cell_type": "markdown",
      "source": [
        "### [6] Comparación de listas y arreglos NumPy"
      ],
      "metadata": {
        "id": "nwoy0lQ2Ys6d"
      }
    },
    {
      "cell_type": "code",
      "source": [
        "import numpy as np\n",
        "\n",
        "lista = list(range(1_000_000))\n",
        "array = np.array(lista)"
      ],
      "metadata": {
        "id": "5ZV888_YrxQH"
      },
      "execution_count": null,
      "outputs": []
    },
    {
      "cell_type": "code",
      "source": [
        "lista"
      ],
      "metadata": {
        "id": "4gYi5Isavgqz"
      },
      "execution_count": null,
      "outputs": []
    },
    {
      "cell_type": "code",
      "source": [
        "array"
      ],
      "metadata": {
        "id": "D0ay9CWgvmjs"
      },
      "execution_count": null,
      "outputs": []
    },
    {
      "cell_type": "code",
      "source": [
        "type(lista)"
      ],
      "metadata": {
        "id": "v2gIlxFxvqdx"
      },
      "execution_count": null,
      "outputs": []
    },
    {
      "cell_type": "code",
      "source": [
        "type(array)"
      ],
      "metadata": {
        "id": "aKrIzQbEvskN"
      },
      "execution_count": null,
      "outputs": []
    },
    {
      "cell_type": "code",
      "source": [
        "import time\n",
        "\n",
        "start = time.time()\n",
        "[ x*2 for x in lista ]\n",
        "print(\"Lista:\", time.time() - start)\n"
      ],
      "metadata": {
        "id": "4PGE4iYzvuwf"
      },
      "execution_count": null,
      "outputs": []
    },
    {
      "cell_type": "code",
      "source": [
        "import time\n",
        "\n",
        "start = time.time()\n",
        "array * 2\n",
        "print(\"NumPy:\", time.time() - start)"
      ],
      "metadata": {
        "id": "9VbDA_WIvyIP"
      },
      "execution_count": null,
      "outputs": []
    },
    {
      "cell_type": "markdown",
      "source": [
        "### [7] Caso aplicado: Cálculo de la elasticidad precio"
      ],
      "metadata": {
        "id": "C05k156lY2C5"
      }
    },
    {
      "cell_type": "code",
      "source": [
        "import pandas as pd\n",
        "\n",
        "data = pd.read_csv(\"data_arroz.csv\", encoding='latin-1')"
      ],
      "metadata": {
        "id": "3z5ywQqCv8li"
      },
      "execution_count": null,
      "outputs": []
    },
    {
      "cell_type": "code",
      "source": [
        "data.head(2)"
      ],
      "metadata": {
        "id": "XnjgBcRq3mo8"
      },
      "execution_count": null,
      "outputs": []
    },
    {
      "cell_type": "code",
      "source": [
        "array_arroz = np.array(data.iloc[:,2:])"
      ],
      "metadata": {
        "id": "OMJT7N0l4B7e"
      },
      "execution_count": null,
      "outputs": []
    },
    {
      "cell_type": "code",
      "source": [
        "X = array_arroz[:,0]\n",
        "X"
      ],
      "metadata": {
        "id": "wEbPCv1Y4HNH"
      },
      "execution_count": null,
      "outputs": []
    },
    {
      "cell_type": "code",
      "source": [
        "print(f\"Las estadísticas de los precios son \\n Mínimo: {X.min()} \\n Máximo: {X.max()} \\n Promedio: {X.mean()}\")"
      ],
      "metadata": {
        "id": "-Gmz4qEbNQUb"
      },
      "execution_count": null,
      "outputs": []
    },
    {
      "cell_type": "code",
      "source": [
        "y = array_arroz[:,1]\n",
        "y"
      ],
      "metadata": {
        "id": "6IbkffoD4x4E"
      },
      "execution_count": null,
      "outputs": []
    },
    {
      "cell_type": "code",
      "source": [
        "print(f\"Las estadísticas de la demanda semanal en unidades son \\n Mínimo: {y.min()} \\n Máximo: {y.max()} \\n Promedio: {np.round(y.mean(),2)}\")"
      ],
      "metadata": {
        "id": "jnXNWTsZNvpX"
      },
      "execution_count": null,
      "outputs": []
    },
    {
      "cell_type": "code",
      "source": [
        "X_ = np.column_stack((np.ones(len(X)), X))\n",
        "X_"
      ],
      "metadata": {
        "id": "u1DCeqtD44tq"
      },
      "execution_count": null,
      "outputs": []
    },
    {
      "cell_type": "code",
      "source": [
        "y = y.reshape(-1, 1)\n",
        "y"
      ],
      "metadata": {
        "id": "NEH7dDfI5B9d"
      },
      "execution_count": null,
      "outputs": []
    },
    {
      "cell_type": "code",
      "source": [
        "p1 = np.linalg.inv(np.dot(X_.transpose(),X_))\n",
        "p2 = np.dot(X_.transpose(),y)\n",
        "beta = np.dot(p1,p2)"
      ],
      "metadata": {
        "id": "bEACEGhg5IDe"
      },
      "execution_count": null,
      "outputs": []
    },
    {
      "cell_type": "code",
      "source": [
        "beta"
      ],
      "metadata": {
        "id": "XXZKF9qc6c3x"
      },
      "execution_count": null,
      "outputs": []
    },
    {
      "cell_type": "code",
      "source": [
        "beta[1,:]"
      ],
      "metadata": {
        "id": "M4EsJDee6kFm"
      },
      "execution_count": null,
      "outputs": []
    },
    {
      "cell_type": "code",
      "source": [
        "elasticidad = beta[1,:] * (X.mean()/y.mean())"
      ],
      "metadata": {
        "id": "w1nqRXjc6vkp"
      },
      "execution_count": null,
      "outputs": []
    },
    {
      "cell_type": "code",
      "source": [
        "elasticidad"
      ],
      "metadata": {
        "id": "pwXtE90YPRP5"
      },
      "execution_count": null,
      "outputs": []
    },
    {
      "cell_type": "markdown",
      "source": [
        "### Actividad N039"
      ],
      "metadata": {
        "id": "lLRhA9HrY_N2"
      }
    },
    {
      "cell_type": "markdown",
      "source": [
        "Calcular la elasticidad precio de un yogurt de 1 Litro, considere la información del archivo yogurt1L.csv que registra los precios y la demanda de este producto en 20 semanas consecutivas."
      ],
      "metadata": {
        "id": "xK3YD4cWZGrw"
      }
    },
    {
      "cell_type": "code",
      "source": [],
      "metadata": {
        "id": "U9N_TaxQPSo3"
      },
      "execution_count": null,
      "outputs": []
    }
  ]
}