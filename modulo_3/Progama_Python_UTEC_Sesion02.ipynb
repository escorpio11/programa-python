{
  "nbformat": 4,
  "nbformat_minor": 0,
  "metadata": {
    "colab": {
      "provenance": [],
      "include_colab_link": true
    },
    "kernelspec": {
      "name": "python3",
      "display_name": "Python 3"
    },
    "language_info": {
      "name": "python"
    }
  },
  "cells": [
    {
      "cell_type": "markdown",
      "metadata": {
        "id": "view-in-github",
        "colab_type": "text"
      },
      "source": [
        "<a href=\"https://colab.research.google.com/github/escorpio11/programa-python/blob/main/modulo_3/Progama_Python_UTEC_Sesion02.ipynb\" target=\"_parent\"><img src=\"https://colab.research.google.com/assets/colab-badge.svg\" alt=\"Open In Colab\"/></a>"
      ]
    },
    {
      "cell_type": "markdown",
      "source": [
        "## [1] Recorrer una lista en Python"
      ],
      "metadata": {
        "id": "MD4emPFaL0p6"
      }
    },
    {
      "cell_type": "code",
      "execution_count": 1,
      "metadata": {
        "id": "D8mSGH6KLL_l"
      },
      "outputs": [],
      "source": [
        "librerias = ['numpy','pandas','scipy','matplotlib','scikit learn']"
      ]
    },
    {
      "cell_type": "code",
      "source": [
        "print(f\"Los elementos de la lista librerias son \\n{librerias}\")"
      ],
      "metadata": {
        "colab": {
          "base_uri": "https://localhost:8080/"
        },
        "id": "oHnqo8bEL3JP",
        "outputId": "9f756402-a3ea-442e-a052-6da7de09eeea"
      },
      "execution_count": 2,
      "outputs": [
        {
          "output_type": "stream",
          "name": "stdout",
          "text": [
            "Los elementos de la lista librerias son \n",
            "['numpy', 'pandas', 'scipy', 'matplotlib', 'scikit learn']\n"
          ]
        }
      ]
    },
    {
      "cell_type": "code",
      "source": [
        "type(librerias)"
      ],
      "metadata": {
        "colab": {
          "base_uri": "https://localhost:8080/"
        },
        "id": "Psqhco3ashR0",
        "outputId": "9d4a5558-e964-4823-f79e-4c77ae27290f"
      },
      "execution_count": 3,
      "outputs": [
        {
          "output_type": "execute_result",
          "data": {
            "text/plain": [
              "list"
            ]
          },
          "metadata": {},
          "execution_count": 3
        }
      ]
    },
    {
      "cell_type": "code",
      "source": [
        "for libreria in librerias:\n",
        "  print(libreria)"
      ],
      "metadata": {
        "colab": {
          "base_uri": "https://localhost:8080/"
        },
        "id": "2M0sHbWgMHN7",
        "outputId": "0d2cfbc5-4532-4a37-e496-468539ae7d8c"
      },
      "execution_count": 4,
      "outputs": [
        {
          "output_type": "stream",
          "name": "stdout",
          "text": [
            "numpy\n",
            "pandas\n",
            "scipy\n",
            "matplotlib\n",
            "scikit learn\n"
          ]
        }
      ]
    },
    {
      "cell_type": "markdown",
      "source": [
        "### Actividad N016"
      ],
      "metadata": {
        "id": "R8ZIY17-MQqA"
      }
    },
    {
      "cell_type": "code",
      "source": [
        "## SOLUCIÓN ACTIVIDAD N016\n",
        "\n",
        "productos = [\"Arroz\", \"Leche\", \"Pan\", \"Huevos\", \"Frutas\"]\n",
        "\n",
        "print(\"Mi lista de compra habitual en el supermercado es:\")\n",
        "for producto in productos:\n",
        "    print(producto)"
      ],
      "metadata": {
        "colab": {
          "base_uri": "https://localhost:8080/"
        },
        "id": "8M9HBSKOMLgH",
        "outputId": "9dc50b83-7523-49d3-d8bd-95d78ec2158f"
      },
      "execution_count": 5,
      "outputs": [
        {
          "output_type": "stream",
          "name": "stdout",
          "text": [
            "Mi lista de compra habitual en el supermercado es:\n",
            "Arroz\n",
            "Leche\n",
            "Pan\n",
            "Huevos\n",
            "Frutas\n"
          ]
        }
      ]
    },
    {
      "cell_type": "markdown",
      "source": [
        "## [2] Realizar una acción después del bucle"
      ],
      "metadata": {
        "id": "mI8P28IGMe5e"
      }
    },
    {
      "cell_type": "code",
      "source": [
        "productos = ['aceite','arroz','agua','carne','pollo']"
      ],
      "metadata": {
        "id": "Ubh6rpUnMaYT"
      },
      "execution_count": 6,
      "outputs": []
    },
    {
      "cell_type": "code",
      "source": [
        "print(\"Mi lista habitual en el supermercado es\")\n",
        "for producto in productos:\n",
        "  print('-',producto)\n",
        "print(\"Mi presupuesto principalmente se basa en esta lista\")"
      ],
      "metadata": {
        "colab": {
          "base_uri": "https://localhost:8080/"
        },
        "id": "3jqWsTTVMvj4",
        "outputId": "c486f3a6-1ded-4f66-ffc2-515dc65aa2a0"
      },
      "execution_count": 7,
      "outputs": [
        {
          "output_type": "stream",
          "name": "stdout",
          "text": [
            "Mi lista habitual en el supermercado es\n",
            "- aceite\n",
            "- arroz\n",
            "- agua\n",
            "- carne\n",
            "- pollo\n",
            "Mi presupuesto principalmente se basa en esta lista\n"
          ]
        }
      ]
    },
    {
      "cell_type": "markdown",
      "source": [
        "### Actividad N017"
      ],
      "metadata": {
        "id": "aW6MbEPqNGZe"
      }
    },
    {
      "cell_type": "code",
      "source": [
        "## SOLUCIÓN DE ACTIVIDAD N017\n",
        "print(\"Las librerías más usadas en Python son:\")\n",
        "for libreria in librerias:\n",
        "  print('-',libreria)\n",
        "print(\"Tengo experiencia profesional trabajando con todas ellas\")"
      ],
      "metadata": {
        "colab": {
          "base_uri": "https://localhost:8080/"
        },
        "id": "2mWHMqd9M_5c",
        "outputId": "9f08ade3-4b0e-4c04-b9d8-78ed677761e2"
      },
      "execution_count": 8,
      "outputs": [
        {
          "output_type": "stream",
          "name": "stdout",
          "text": [
            "Las librerías más usadas en Python son:\n",
            "- numpy\n",
            "- pandas\n",
            "- scipy\n",
            "- matplotlib\n",
            "- scikit learn\n",
            "Tengo experiencia profesional trabajando con todas ellas\n"
          ]
        }
      ]
    },
    {
      "cell_type": "markdown",
      "source": [
        "## [3] Problemas con identación y dos puntos"
      ],
      "metadata": {
        "id": "IZVy2ddcNULO"
      }
    },
    {
      "cell_type": "markdown",
      "source": [
        "### Olvidamos la identación"
      ],
      "metadata": {
        "id": "A_88Du1_NpC5"
      }
    },
    {
      "cell_type": "code",
      "source": [
        "print(\"En Python las librerías más populares son\")\n",
        "for libreria in librerias:\n",
        "  print(\"-\",libreria)"
      ],
      "metadata": {
        "colab": {
          "base_uri": "https://localhost:8080/"
        },
        "id": "tbJzYa-7NONP",
        "outputId": "48e8b685-8dcb-443b-ec26-5ad2a643a14d"
      },
      "execution_count": 9,
      "outputs": [
        {
          "output_type": "stream",
          "name": "stdout",
          "text": [
            "En Python las librerías más populares son\n",
            "- numpy\n",
            "- pandas\n",
            "- scipy\n",
            "- matplotlib\n",
            "- scikit learn\n"
          ]
        }
      ]
    },
    {
      "cell_type": "markdown",
      "source": [
        "### Usamos la identación de manera innecesaria"
      ],
      "metadata": {
        "id": "OPt53QvUNtIZ"
      }
    },
    {
      "cell_type": "code",
      "source": [
        "print(\"En Python las librerías más populares son\")\n",
        "for libreria in librerias:\n",
        "  print(\"-\",libreria)\n",
        "  print(\"Tengo experiencia profesional trabajando con todas ellas\")"
      ],
      "metadata": {
        "colab": {
          "base_uri": "https://localhost:8080/"
        },
        "id": "OUHG8ch-NhzH",
        "outputId": "d31a7ec3-7760-4c4c-e33c-5a5c2c09733b"
      },
      "execution_count": 10,
      "outputs": [
        {
          "output_type": "stream",
          "name": "stdout",
          "text": [
            "En Python las librerías más populares son\n",
            "- numpy\n",
            "Tengo experiencia profesional trabajando con todas ellas\n",
            "- pandas\n",
            "Tengo experiencia profesional trabajando con todas ellas\n",
            "- scipy\n",
            "Tengo experiencia profesional trabajando con todas ellas\n",
            "- matplotlib\n",
            "Tengo experiencia profesional trabajando con todas ellas\n",
            "- scikit learn\n",
            "Tengo experiencia profesional trabajando con todas ellas\n"
          ]
        }
      ]
    },
    {
      "cell_type": "markdown",
      "source": [
        "### Olvidamos los dos puntos"
      ],
      "metadata": {
        "id": "kE584601OE7l"
      }
    },
    {
      "cell_type": "code",
      "source": [
        "print(\"En Python las librerías más populares son\")\n",
        "for libreria in librerias:\n",
        "  print(\"-\",libreria)\n",
        "print(\"Tengo experiencia profesional trabajando con todas ellas\")"
      ],
      "metadata": {
        "colab": {
          "base_uri": "https://localhost:8080/"
        },
        "id": "u5lNRDnJN5wm",
        "outputId": "23755696-586f-4198-c3f3-7327dc2e2040"
      },
      "execution_count": 11,
      "outputs": [
        {
          "output_type": "stream",
          "name": "stdout",
          "text": [
            "En Python las librerías más populares son\n",
            "- numpy\n",
            "- pandas\n",
            "- scipy\n",
            "- matplotlib\n",
            "- scikit learn\n",
            "Tengo experiencia profesional trabajando con todas ellas\n"
          ]
        }
      ]
    },
    {
      "cell_type": "markdown",
      "source": [
        "### Actividad N018"
      ],
      "metadata": {
        "id": "zn72L7ycOStz"
      }
    },
    {
      "cell_type": "code",
      "source": [
        "## SOLUCIÓN ACTIVIDAD N018\n",
        "paises = [\"Noruega\", \"Italia\", \"España\", \"Francia\"]\n",
        "print(\"Los paises que me gustaría conocer son:\")\n",
        "for pais in paises:\n",
        "  print('-',pais)\n",
        "print(\"Estos paises se caracterizan por sus bellos paisajes\")"
      ],
      "metadata": {
        "colab": {
          "base_uri": "https://localhost:8080/"
        },
        "id": "7Onf7aj0OUWW",
        "outputId": "c426e0c9-9b94-4469-bd4b-1a37420c5709"
      },
      "execution_count": 12,
      "outputs": [
        {
          "output_type": "stream",
          "name": "stdout",
          "text": [
            "Los paises que me gustaría conocer son:\n",
            "- Noruega\n",
            "- Italia\n",
            "- España\n",
            "- Francia\n",
            "Estos paises se caracterizan por sus bellos paisajes\n"
          ]
        }
      ]
    },
    {
      "cell_type": "markdown",
      "source": [
        "## [2] Función RANGE"
      ],
      "metadata": {
        "id": "p0MaGjRGOZgU"
      }
    },
    {
      "cell_type": "code",
      "source": [
        "range(1,5)"
      ],
      "metadata": {
        "colab": {
          "base_uri": "https://localhost:8080/"
        },
        "id": "Q8VFXc-AOXm5",
        "outputId": "236ed6c1-cd31-44ba-b5cf-6f8ab9eaea22"
      },
      "execution_count": 13,
      "outputs": [
        {
          "output_type": "execute_result",
          "data": {
            "text/plain": [
              "range(1, 5)"
            ]
          },
          "metadata": {},
          "execution_count": 13
        }
      ]
    },
    {
      "cell_type": "code",
      "source": [
        "for valor in range(1,5):\n",
        "  print(valor)"
      ],
      "metadata": {
        "colab": {
          "base_uri": "https://localhost:8080/"
        },
        "id": "W1KbWORTOgo9",
        "outputId": "a8dc8805-b413-4674-ca06-bb415ce789bf"
      },
      "execution_count": 14,
      "outputs": [
        {
          "output_type": "stream",
          "name": "stdout",
          "text": [
            "1\n",
            "2\n",
            "3\n",
            "4\n"
          ]
        }
      ]
    },
    {
      "cell_type": "markdown",
      "source": [
        "## [3] Crear una lista usando la función RANGE"
      ],
      "metadata": {
        "id": "qjKgyikIOqWQ"
      }
    },
    {
      "cell_type": "code",
      "source": [
        "numeros = list(range(1,11))"
      ],
      "metadata": {
        "id": "BJ9nwe27Oj8t"
      },
      "execution_count": 15,
      "outputs": []
    },
    {
      "cell_type": "code",
      "source": [
        "print(f\"La lista numeros contiene los siguientes elementos \\n{numeros}\")"
      ],
      "metadata": {
        "colab": {
          "base_uri": "https://localhost:8080/"
        },
        "id": "NoBvB3ddO9WL",
        "outputId": "6a406939-6199-4ceb-a984-3767334069c1"
      },
      "execution_count": 16,
      "outputs": [
        {
          "output_type": "stream",
          "name": "stdout",
          "text": [
            "La lista numeros contiene los siguientes elementos \n",
            "[1, 2, 3, 4, 5, 6, 7, 8, 9, 10]\n"
          ]
        }
      ]
    },
    {
      "cell_type": "code",
      "source": [
        "type(numeros)"
      ],
      "metadata": {
        "colab": {
          "base_uri": "https://localhost:8080/"
        },
        "id": "NMfmCSRWPDFA",
        "outputId": "43210c90-8380-4ad8-9cbf-10af00aaddc6"
      },
      "execution_count": 17,
      "outputs": [
        {
          "output_type": "execute_result",
          "data": {
            "text/plain": [
              "list"
            ]
          },
          "metadata": {},
          "execution_count": 17
        }
      ]
    },
    {
      "cell_type": "code",
      "source": [
        "for valor in numeros:\n",
        "  print(valor)"
      ],
      "metadata": {
        "colab": {
          "base_uri": "https://localhost:8080/"
        },
        "id": "R7a7UfsqzsGY",
        "outputId": "9e07470c-d3fc-4e19-e04a-d4d1a967362c"
      },
      "execution_count": 18,
      "outputs": [
        {
          "output_type": "stream",
          "name": "stdout",
          "text": [
            "1\n",
            "2\n",
            "3\n",
            "4\n",
            "5\n",
            "6\n",
            "7\n",
            "8\n",
            "9\n",
            "10\n"
          ]
        }
      ]
    },
    {
      "cell_type": "markdown",
      "source": [
        "### Actividad N019"
      ],
      "metadata": {
        "id": "4CdtcPKoPIQv"
      }
    },
    {
      "cell_type": "code",
      "source": [
        "## SOLUCIÓN ACTIVIDAD N019\n",
        "\n",
        "#print(f\"La lista numeros contiene los siguientes elementos \\n{numeros}\")\n",
        "for valor in range(10,21):\n",
        "  print(valor)"
      ],
      "metadata": {
        "colab": {
          "base_uri": "https://localhost:8080/"
        },
        "id": "3diMOYkBPHGp",
        "outputId": "b5208103-1fff-407c-ba0d-d5e16e0cdbd8"
      },
      "execution_count": 19,
      "outputs": [
        {
          "output_type": "stream",
          "name": "stdout",
          "text": [
            "10\n",
            "11\n",
            "12\n",
            "13\n",
            "14\n",
            "15\n",
            "16\n",
            "17\n",
            "18\n",
            "19\n",
            "20\n"
          ]
        }
      ]
    },
    {
      "cell_type": "code",
      "source": [
        "correlativos = list(range(10,21))\n",
        "print(f\"La lista numeros contiene los siguientes elementos \\n{correlativos}\")\n",
        "# Mostrar todos los elemento de la lista\n",
        "print(\"Acceder a los elementos de la lista a través de un bucle\")\n",
        "for valor in correlativos:\n",
        "  print(valor)"
      ],
      "metadata": {
        "colab": {
          "base_uri": "https://localhost:8080/"
        },
        "id": "D8QqA44I0z4l",
        "outputId": "9c3577c7-ed7c-4482-f37f-14f8b8482541"
      },
      "execution_count": 20,
      "outputs": [
        {
          "output_type": "stream",
          "name": "stdout",
          "text": [
            "La lista numeros contiene los siguientes elementos \n",
            "[10, 11, 12, 13, 14, 15, 16, 17, 18, 19, 20]\n",
            "Acceder a los elementos de la lista a través de un bucle\n",
            "10\n",
            "11\n",
            "12\n",
            "13\n",
            "14\n",
            "15\n",
            "16\n",
            "17\n",
            "18\n",
            "19\n",
            "20\n"
          ]
        }
      ]
    },
    {
      "cell_type": "code",
      "source": [
        "pares = list(range(2,22,2))"
      ],
      "metadata": {
        "id": "ndqZ8ReMPPYA"
      },
      "execution_count": 21,
      "outputs": []
    },
    {
      "cell_type": "code",
      "source": [
        "print(f\"La lista pares contiene los elementos \\n{pares}\")"
      ],
      "metadata": {
        "colab": {
          "base_uri": "https://localhost:8080/"
        },
        "id": "t0jzzsXfPY8b",
        "outputId": "f0fe5728-d63c-411a-f0bf-c8037f2dff49"
      },
      "execution_count": 22,
      "outputs": [
        {
          "output_type": "stream",
          "name": "stdout",
          "text": [
            "La lista pares contiene los elementos \n",
            "[2, 4, 6, 8, 10, 12, 14, 16, 18, 20]\n"
          ]
        }
      ]
    },
    {
      "cell_type": "code",
      "source": [
        "type(pares)"
      ],
      "metadata": {
        "colab": {
          "base_uri": "https://localhost:8080/"
        },
        "id": "McsS_5fWPcq2",
        "outputId": "b3f22498-6701-4f17-b8b7-c1d6cab4b037"
      },
      "execution_count": 23,
      "outputs": [
        {
          "output_type": "execute_result",
          "data": {
            "text/plain": [
              "list"
            ]
          },
          "metadata": {},
          "execution_count": 23
        }
      ]
    },
    {
      "cell_type": "markdown",
      "source": [
        "## [4] Crear una lista en función de otra lista"
      ],
      "metadata": {
        "id": "kjTuXQfbPiyW"
      }
    },
    {
      "cell_type": "code",
      "source": [
        "cuadrados = [] # lista vacía\n",
        "for par in pares:\n",
        "  cuadrado = par**2\n",
        "  cuadrados.append(cuadrado)\n",
        "print(f\"La lista pares contiene los elementos \\n{pares}\")\n",
        "print(f\"\\nLa lista cuadrados contiene los elementos \\n{cuadrados}\")"
      ],
      "metadata": {
        "colab": {
          "base_uri": "https://localhost:8080/"
        },
        "id": "zYuLtoPCPfRa",
        "outputId": "b069aacc-6f81-4840-a911-859e520747b3"
      },
      "execution_count": 24,
      "outputs": [
        {
          "output_type": "stream",
          "name": "stdout",
          "text": [
            "La lista pares contiene los elementos \n",
            "[2, 4, 6, 8, 10, 12, 14, 16, 18, 20]\n",
            "\n",
            "La lista cuadrados contiene los elementos \n",
            "[4, 16, 36, 64, 100, 144, 196, 256, 324, 400]\n"
          ]
        }
      ]
    },
    {
      "cell_type": "markdown",
      "source": [
        "## [5] Calcular estadísticas a partir de una lista"
      ],
      "metadata": {
        "id": "L6H83fgtQJva"
      }
    },
    {
      "cell_type": "code",
      "source": [
        "print(f\"El valor mínimo de la lista cuadrados es {min(cuadrados)}\")"
      ],
      "metadata": {
        "colab": {
          "base_uri": "https://localhost:8080/"
        },
        "id": "FjefhDc3P1Lz",
        "outputId": "7fe3ce11-87e2-4797-980b-aba49b262276"
      },
      "execution_count": 25,
      "outputs": [
        {
          "output_type": "stream",
          "name": "stdout",
          "text": [
            "El valor mínimo de la lista cuadrados es 4\n"
          ]
        }
      ]
    },
    {
      "cell_type": "code",
      "source": [
        "print(f\"El valor máximo de la lista cuadrados es {max(cuadrados)}\")"
      ],
      "metadata": {
        "colab": {
          "base_uri": "https://localhost:8080/"
        },
        "id": "h2Q8zEjCQUF4",
        "outputId": "ce9bc71a-aabc-4077-86dc-ebc98cfba924"
      },
      "execution_count": 26,
      "outputs": [
        {
          "output_type": "stream",
          "name": "stdout",
          "text": [
            "El valor máximo de la lista cuadrados es 400\n"
          ]
        }
      ]
    },
    {
      "cell_type": "code",
      "source": [
        "print(f\"La suma de los valores de la lista cuadrados es {sum(cuadrados)}\")"
      ],
      "metadata": {
        "colab": {
          "base_uri": "https://localhost:8080/"
        },
        "id": "RQmQj9xuQW9m",
        "outputId": "0319634d-2e61-411a-b1c2-390921bc4ab2"
      },
      "execution_count": 27,
      "outputs": [
        {
          "output_type": "stream",
          "name": "stdout",
          "text": [
            "La suma de los valores de la lista cuadrados es 1540\n"
          ]
        }
      ]
    },
    {
      "cell_type": "code",
      "source": [
        "print(f\"El promedio de los valores de la lista cuadrados es {sum(cuadrados)/len(cuadrados)}\")"
      ],
      "metadata": {
        "colab": {
          "base_uri": "https://localhost:8080/"
        },
        "id": "Nv2IMNtMQbaR",
        "outputId": "2f042bc1-a036-409e-b13b-f4eecd85ac3c"
      },
      "execution_count": 28,
      "outputs": [
        {
          "output_type": "stream",
          "name": "stdout",
          "text": [
            "El promedio de los valores de la lista cuadrados es 154.0\n"
          ]
        }
      ]
    },
    {
      "cell_type": "markdown",
      "source": [
        "## [6] Comprensión de listas"
      ],
      "metadata": {
        "id": "M5GhhcB2QqaS"
      }
    },
    {
      "cell_type": "code",
      "source": [
        "cuadrados = [par**2 for par in pares]"
      ],
      "metadata": {
        "id": "yILWEw6hQjO3"
      },
      "execution_count": 29,
      "outputs": []
    },
    {
      "cell_type": "code",
      "source": [
        "print(f\"La lista pares contiene los elementos \\n{pares}\")\n",
        "print(f\"\\nLa lista cuadrados contiene los elementos \\n{cuadrados}\")"
      ],
      "metadata": {
        "id": "4dWHFsmTQ01v",
        "outputId": "d3080912-f040-4cd4-cb24-a5d0749d1f38",
        "colab": {
          "base_uri": "https://localhost:8080/"
        }
      },
      "execution_count": 30,
      "outputs": [
        {
          "output_type": "stream",
          "name": "stdout",
          "text": [
            "La lista pares contiene los elementos \n",
            "[2, 4, 6, 8, 10, 12, 14, 16, 18, 20]\n",
            "\n",
            "La lista cuadrados contiene los elementos \n",
            "[4, 16, 36, 64, 100, 144, 196, 256, 324, 400]\n"
          ]
        }
      ]
    },
    {
      "cell_type": "markdown",
      "source": [
        "### Actividad N020"
      ],
      "metadata": {
        "id": "c0IKdY8qRFtw"
      }
    },
    {
      "cell_type": "code",
      "source": [
        "## SOLUCIÓN ACTIVIDAD N020\n",
        "#valores del 10 al 20 en la lista correlativos\n",
        "correlativos = [valor for valor in range(10,21)]\n",
        "print(f\"La lista correlativos contiene los elementos \\n{correlativos}\")\n",
        "\n",
        "#nueva lista\n",
        "correlativosn = [(elem + 5) for elem in correlativos] #creaccion de una lista en funcion de otra de manera comprimida\n",
        "correlativosn"
      ],
      "metadata": {
        "id": "zY7Z2YCUQ9p9",
        "outputId": "b3b5579e-fd9e-4fad-9e5d-c56454235a63",
        "colab": {
          "base_uri": "https://localhost:8080/"
        }
      },
      "execution_count": 31,
      "outputs": [
        {
          "output_type": "stream",
          "name": "stdout",
          "text": [
            "La lista correlativos contiene los elementos \n",
            "[10, 11, 12, 13, 14, 15, 16, 17, 18, 19, 20]\n"
          ]
        },
        {
          "output_type": "execute_result",
          "data": {
            "text/plain": [
              "[15, 16, 17, 18, 19, 20, 21, 22, 23, 24, 25]"
            ]
          },
          "metadata": {},
          "execution_count": 31
        }
      ]
    },
    {
      "cell_type": "markdown",
      "source": [
        "## [7] Acceder a más de un elemento de la lista"
      ],
      "metadata": {
        "id": "NRl9ZEmZRMyj"
      }
    },
    {
      "cell_type": "code",
      "source": [
        "print(f\"Los elementos de la lista librerias son \\n{librerias}\")"
      ],
      "metadata": {
        "id": "ooOaZzSlRJx4",
        "outputId": "b6f36067-3721-4516-fd64-18e73f27479d",
        "colab": {
          "base_uri": "https://localhost:8080/"
        }
      },
      "execution_count": 32,
      "outputs": [
        {
          "output_type": "stream",
          "name": "stdout",
          "text": [
            "Los elementos de la lista librerias son \n",
            "['numpy', 'pandas', 'scipy', 'matplotlib', 'scikit learn']\n"
          ]
        }
      ]
    },
    {
      "cell_type": "code",
      "source": [
        "librerias[1:3]"
      ],
      "metadata": {
        "id": "C4uMCrKmRX07",
        "outputId": "4e7a47f3-b378-4c79-ae42-ac08271fb722",
        "colab": {
          "base_uri": "https://localhost:8080/"
        }
      },
      "execution_count": 33,
      "outputs": [
        {
          "output_type": "execute_result",
          "data": {
            "text/plain": [
              "['pandas', 'scipy']"
            ]
          },
          "metadata": {},
          "execution_count": 33
        }
      ]
    },
    {
      "cell_type": "code",
      "source": [
        "librerias[0:3]"
      ],
      "metadata": {
        "id": "6LpdSmUVRefl",
        "outputId": "8bd0e4d5-ecac-4534-ff75-6344f6cd0d07",
        "colab": {
          "base_uri": "https://localhost:8080/"
        }
      },
      "execution_count": 34,
      "outputs": [
        {
          "output_type": "execute_result",
          "data": {
            "text/plain": [
              "['numpy', 'pandas', 'scipy']"
            ]
          },
          "metadata": {},
          "execution_count": 34
        }
      ]
    },
    {
      "cell_type": "code",
      "source": [
        "librerias[:3]"
      ],
      "metadata": {
        "id": "uSJZAu2uRh1H",
        "outputId": "d41c570b-e63e-49b5-d281-0e15b4511358",
        "colab": {
          "base_uri": "https://localhost:8080/"
        }
      },
      "execution_count": 35,
      "outputs": [
        {
          "output_type": "execute_result",
          "data": {
            "text/plain": [
              "['numpy', 'pandas', 'scipy']"
            ]
          },
          "metadata": {},
          "execution_count": 35
        }
      ]
    },
    {
      "cell_type": "code",
      "source": [
        "librerias[3:5]"
      ],
      "metadata": {
        "id": "NXjQUYiURjR1",
        "outputId": "35dbbe20-cf37-44f8-9400-bbf9b394d16c",
        "colab": {
          "base_uri": "https://localhost:8080/"
        }
      },
      "execution_count": 36,
      "outputs": [
        {
          "output_type": "execute_result",
          "data": {
            "text/plain": [
              "['matplotlib', 'scikit learn']"
            ]
          },
          "metadata": {},
          "execution_count": 36
        }
      ]
    },
    {
      "cell_type": "code",
      "source": [
        "librerias[3:]"
      ],
      "metadata": {
        "id": "OOzBP1nbRnPW",
        "outputId": "fd25650c-f67c-4c72-dd9d-eb456b648a63",
        "colab": {
          "base_uri": "https://localhost:8080/"
        }
      },
      "execution_count": 37,
      "outputs": [
        {
          "output_type": "execute_result",
          "data": {
            "text/plain": [
              "['matplotlib', 'scikit learn']"
            ]
          },
          "metadata": {},
          "execution_count": 37
        }
      ]
    },
    {
      "cell_type": "markdown",
      "source": [
        "### Actividad N021"
      ],
      "metadata": {
        "id": "PiGCrXKRRuCc"
      }
    },
    {
      "cell_type": "code",
      "source": [
        "## SOLUCIÓN ACTIVIDAD N021\n",
        "#lista universidades\n",
        "universidades = ['UNI','SAN MARCOS','CAYETANO','PACIFICO','UTEC']\n",
        "#acceder a los 3 ultimos elementos\n",
        "\n",
        "universidades_n = universidades[-3:]\n",
        "universidades_n\n"
      ],
      "metadata": {
        "id": "M-J8B0Z6Rpb0",
        "outputId": "0d4b643a-9cef-4db3-ab45-f5979bd3186a",
        "colab": {
          "base_uri": "https://localhost:8080/"
        }
      },
      "execution_count": 38,
      "outputs": [
        {
          "output_type": "execute_result",
          "data": {
            "text/plain": [
              "['CAYETANO', 'PACIFICO', 'UTEC']"
            ]
          },
          "metadata": {},
          "execution_count": 38
        }
      ]
    },
    {
      "cell_type": "markdown",
      "source": [
        "## [8] Copiar una lista"
      ],
      "metadata": {
        "id": "_V71W0HcR35w"
      }
    },
    {
      "cell_type": "code",
      "source": [
        "print(f\"La lista librerias contiene los elementos \\n{librerias}\")"
      ],
      "metadata": {
        "id": "fGMsX6P7R0i8",
        "outputId": "7109047b-4397-4851-a5d6-8baa295e30d5",
        "colab": {
          "base_uri": "https://localhost:8080/"
        }
      },
      "execution_count": 39,
      "outputs": [
        {
          "output_type": "stream",
          "name": "stdout",
          "text": [
            "La lista librerias contiene los elementos \n",
            "['numpy', 'pandas', 'scipy', 'matplotlib', 'scikit learn']\n"
          ]
        }
      ]
    },
    {
      "cell_type": "code",
      "source": [
        "herramientas = librerias[:] #copiar todos los elementos de una lista. Crea una copia como una lista independiente\n",
        "herramientas"
      ],
      "metadata": {
        "id": "G27YO4BZSBZC",
        "outputId": "dd80b947-2445-4010-ce4b-3e992d8b6dad",
        "colab": {
          "base_uri": "https://localhost:8080/"
        }
      },
      "execution_count": 40,
      "outputs": [
        {
          "output_type": "execute_result",
          "data": {
            "text/plain": [
              "['numpy', 'pandas', 'scipy', 'matplotlib', 'scikit learn']"
            ]
          },
          "metadata": {},
          "execution_count": 40
        }
      ]
    },
    {
      "cell_type": "code",
      "source": [
        "librerias.append('re')\n",
        "librerias"
      ],
      "metadata": {
        "id": "5GVRvm6HSFk4",
        "outputId": "8fc0bc80-b0cd-4e89-fb4b-300d53be20bf",
        "colab": {
          "base_uri": "https://localhost:8080/"
        }
      },
      "execution_count": 41,
      "outputs": [
        {
          "output_type": "execute_result",
          "data": {
            "text/plain": [
              "['numpy', 'pandas', 'scipy', 'matplotlib', 'scikit learn', 're']"
            ]
          },
          "metadata": {},
          "execution_count": 41
        }
      ]
    },
    {
      "cell_type": "code",
      "source": [
        "herramientas.append('sqlAlchemy')\n",
        "herramientas"
      ],
      "metadata": {
        "id": "QKZkMz2NSHiA",
        "outputId": "bb978801-20fc-4b0b-8603-b8abacef6d1b",
        "colab": {
          "base_uri": "https://localhost:8080/"
        }
      },
      "execution_count": 42,
      "outputs": [
        {
          "output_type": "execute_result",
          "data": {
            "text/plain": [
              "['numpy', 'pandas', 'scipy', 'matplotlib', 'scikit learn', 'sqlAlchemy']"
            ]
          },
          "metadata": {},
          "execution_count": 42
        }
      ]
    },
    {
      "cell_type": "code",
      "source": [
        "print(f\"La lista librerias contiene los elementos \\n{librerias}\")"
      ],
      "metadata": {
        "id": "NwdYAgaKSLS6",
        "outputId": "1b414ad1-3aa2-4e0d-e582-340860eff237",
        "colab": {
          "base_uri": "https://localhost:8080/"
        }
      },
      "execution_count": 43,
      "outputs": [
        {
          "output_type": "stream",
          "name": "stdout",
          "text": [
            "La lista librerias contiene los elementos \n",
            "['numpy', 'pandas', 'scipy', 'matplotlib', 'scikit learn', 're']\n"
          ]
        }
      ]
    },
    {
      "cell_type": "code",
      "source": [
        "print(f\"La lista herramientas contiene los elementos \\n{herramientas}\")"
      ],
      "metadata": {
        "id": "c9smWBJFSNPK",
        "outputId": "538938aa-cfc2-452c-9625-5c7106dbd613",
        "colab": {
          "base_uri": "https://localhost:8080/"
        }
      },
      "execution_count": 44,
      "outputs": [
        {
          "output_type": "stream",
          "name": "stdout",
          "text": [
            "La lista herramientas contiene los elementos \n",
            "['numpy', 'pandas', 'scipy', 'matplotlib', 'scikit learn', 'sqlAlchemy']\n"
          ]
        }
      ]
    },
    {
      "cell_type": "code",
      "source": [
        "estudios = universidades #crea listas espejo"
      ],
      "metadata": {
        "id": "K_aqNq-hXjtz"
      },
      "execution_count": 45,
      "outputs": []
    },
    {
      "cell_type": "code",
      "source": [
        "universidades.append('harvard')\n",
        "estudios.append('mit')"
      ],
      "metadata": {
        "id": "MQFjW5zLSQjy"
      },
      "execution_count": 46,
      "outputs": []
    },
    {
      "cell_type": "code",
      "source": [
        "print(f'la lista universidades contiene los elementos \\n{universidades}')"
      ],
      "metadata": {
        "id": "u0VjF6bGXnjw",
        "outputId": "92968ebb-c1fb-47ec-c4fe-65c2a5895630",
        "colab": {
          "base_uri": "https://localhost:8080/"
        }
      },
      "execution_count": 47,
      "outputs": [
        {
          "output_type": "stream",
          "name": "stdout",
          "text": [
            "la lista universidades contiene los elementos \n",
            "['UNI', 'SAN MARCOS', 'CAYETANO', 'PACIFICO', 'UTEC', 'harvard', 'mit']\n"
          ]
        }
      ]
    },
    {
      "cell_type": "code",
      "source": [
        "print(f'la lista estudios contiene los elementos \\n{estudios}')"
      ],
      "metadata": {
        "id": "Hzdcxx4CX9ev",
        "outputId": "66501e28-4d3b-4096-89ef-daa3a0d94fdc",
        "colab": {
          "base_uri": "https://localhost:8080/"
        }
      },
      "execution_count": 48,
      "outputs": [
        {
          "output_type": "stream",
          "name": "stdout",
          "text": [
            "la lista estudios contiene los elementos \n",
            "['UNI', 'SAN MARCOS', 'CAYETANO', 'PACIFICO', 'UTEC', 'harvard', 'mit']\n"
          ]
        }
      ]
    },
    {
      "cell_type": "markdown",
      "source": [
        "###1.1. Crear una lista que inicie en el número 12 y acabe en el número 200, en su construcción se considere saltos de 2 en 2, guarde la lista con el nombre \"lista_x\"."
      ],
      "metadata": {
        "id": "6ty5GUI8br1f"
      }
    },
    {
      "cell_type": "code",
      "source": [
        "lista_x = list(range(12,201,2))#funcion list permite generar una lista con diferentes elementos, como los de un range por ejemplo\n",
        "print(f\"La lista lista_x contiene los elementos \\n{lista_x}\")"
      ],
      "metadata": {
        "id": "qv3_kV0pbvEc",
        "outputId": "ce7fbc8d-a0e1-400c-e049-37c648856538",
        "colab": {
          "base_uri": "https://localhost:8080/"
        }
      },
      "execution_count": 49,
      "outputs": [
        {
          "output_type": "stream",
          "name": "stdout",
          "text": [
            "La lista lista_x contiene los elementos \n",
            "[12, 14, 16, 18, 20, 22, 24, 26, 28, 30, 32, 34, 36, 38, 40, 42, 44, 46, 48, 50, 52, 54, 56, 58, 60, 62, 64, 66, 68, 70, 72, 74, 76, 78, 80, 82, 84, 86, 88, 90, 92, 94, 96, 98, 100, 102, 104, 106, 108, 110, 112, 114, 116, 118, 120, 122, 124, 126, 128, 130, 132, 134, 136, 138, 140, 142, 144, 146, 148, 150, 152, 154, 156, 158, 160, 162, 164, 166, 168, 170, 172, 174, 176, 178, 180, 182, 184, 186, 188, 190, 192, 194, 196, 198, 200]\n"
          ]
        }
      ]
    },
    {
      "cell_type": "markdown",
      "source": [
        "###1.2. Con la lista_x, eliminar el primer y el último valor, los valores eliminados se deberán almacenar en otra lista llamada"
      ],
      "metadata": {
        "id": "4GzsVph0cDlW"
      }
    },
    {
      "cell_type": "code",
      "source": [
        "a = lista_x.pop(0)\n",
        "b = lista_x.pop(len(lista_x)-1)\n",
        "print(a)\n",
        "print(b)\n",
        "lista_y = [a,b]\n"
      ],
      "metadata": {
        "id": "afeWTlmNcF95",
        "outputId": "077cbb7f-2f06-4a49-9621-d6b55bff9cc2",
        "colab": {
          "base_uri": "https://localhost:8080/"
        }
      },
      "execution_count": 50,
      "outputs": [
        {
          "output_type": "stream",
          "name": "stdout",
          "text": [
            "12\n",
            "200\n"
          ]
        }
      ]
    },
    {
      "cell_type": "markdown",
      "source": [
        "###Muestre los valores mínimos y máximos de la lista_x."
      ],
      "metadata": {
        "id": "TcRdI2GqdBMU"
      }
    },
    {
      "cell_type": "code",
      "source": [
        "val_max = max(lista_x)\n",
        "val_min = min(lista_x)\n",
        "print(f\"El valor máximo de la lista lista_x es {max}\")\n",
        "print(f\"El valor mínimo de la lista lista_x es {min}\")"
      ],
      "metadata": {
        "id": "yh919CH6dEi2",
        "outputId": "1907264b-0aa0-4791-a49f-87e5137e49a6",
        "colab": {
          "base_uri": "https://localhost:8080/"
        }
      },
      "execution_count": 51,
      "outputs": [
        {
          "output_type": "stream",
          "name": "stdout",
          "text": [
            "El valor máximo de la lista lista_x es <built-in function max>\n",
            "El valor mínimo de la lista lista_x es <built-in function min>\n"
          ]
        }
      ]
    },
    {
      "cell_type": "markdown",
      "source": [
        "###Listas\n",
        "2.1. Determine el número de elementos de la lista a crear.\n",
        "2.2. Ingrese los valores de la lista a crear.\n",
        "2.3. Almacene los valores en una lista.\n",
        "2.4. Muestre los valores de la lista.\n",
        "2.5. Calcule y muestre los valores mínimo, máximo y promedio de los valores de la lista."
      ],
      "metadata": {
        "id": "2F_EOfPvfBbb"
      }
    },
    {
      "cell_type": "code",
      "source": [
        "n = int(input('Ingrese el número de elementos de la lista: '))\n",
        "\n",
        "lista = []\n",
        "for i in range(n):\n",
        "\n",
        "  a = input(f'Ingrese el elemento numero {i+1}: ')\n",
        "  lista.append(a)\n",
        "lista\n",
        "val_max = max(lista)\n",
        "val_min = min(lista)\n",
        "print(f\"El valor máximo de la lista lista es {val_max}\")\n",
        "print(f\"El valor mínimo de la lista lista es {val_min}\")"
      ],
      "metadata": {
        "id": "HjBbkVp9fIIH",
        "outputId": "a03435b0-1684-4774-9f78-d077d4ccef6b",
        "colab": {
          "base_uri": "https://localhost:8080/"
        }
      },
      "execution_count": 52,
      "outputs": [
        {
          "output_type": "stream",
          "name": "stdout",
          "text": [
            "Ingrese el número de elementos de la lista: 3\n",
            "Ingrese el elemento numero 1: 2\n",
            "Ingrese el elemento numero 2: 5\n",
            "Ingrese el elemento numero 3: 7\n",
            "El valor máximo de la lista lista es 7\n",
            "El valor mínimo de la lista lista es 2\n"
          ]
        }
      ]
    },
    {
      "cell_type": "code",
      "source": [
        "#otro metodo usando insert\n",
        "n = int(input('Ingrese el número de elementos de la lista: '))\n",
        "elementos = []\n",
        "for elemento in range(n):\n",
        "  elementos.insert(elemento,int(input(f'Ingrese el elemento numero {elemento+1}: ')))\n",
        "print(f'El valor máximo de la lista es {max(elementos)}')\n",
        "print(f'El valor mínimo de la lista es {min(elementos)}')\n",
        "print(f'El valor promedio de la lista es {sum(elementos)/len(elementos)}')"
      ],
      "metadata": {
        "id": "i3wTjQu8il_6",
        "outputId": "ed3a6586-404a-4c2c-c7b8-f6092d9fb383",
        "colab": {
          "base_uri": "https://localhost:8080/"
        }
      },
      "execution_count": 54,
      "outputs": [
        {
          "output_type": "stream",
          "name": "stdout",
          "text": [
            "Ingrese el número de elementos de la lista: 4\n",
            "Ingrese el elemento numero 1: 3\n",
            "Ingrese el elemento numero 2: 5\n",
            "Ingrese el elemento numero 3: 7\n",
            "Ingrese el elemento numero 4: 6\n",
            "El valor máximo de la lista es 7\n",
            "El valor mínimo de la lista es 3\n",
            "El valor promedio de la lista es 5.25\n"
          ]
        }
      ]
    },
    {
      "cell_type": "markdown",
      "source": [
        "###Listas\n",
        "3.1. Ingrese a python la siguiente lista_x = [\"A\", \"B\", \"b\", \"c\", \"E\", \"E\", \"f\"]\n",
        "3.2. Solicitar al usuario un elemento a eliminar.\n",
        "3.3. Mostrar el elemento eliminado y la lista resultante."
      ],
      "metadata": {
        "id": "KanUcS7tk45a"
      }
    },
    {
      "cell_type": "code",
      "source": [
        "lista_x = [\"A\", \"B\", \"b\", \"c\", \"E\", \"E\", \"f\"]\n",
        "\n",
        "n = int(input(f'ingrese el número de elemento que desea eliminar del 1 al {len(lista_x)}: '))\n",
        "eliminado = lista_x.pop(n-1)\n",
        "print(f'El elemento eliminado es {eliminado}')\n",
        "print(f'La lista resultante es {lista_x}')"
      ],
      "metadata": {
        "id": "Jgic-kMsk7f3",
        "outputId": "6111d1b4-29b7-4203-c94c-ca3b831d3a14",
        "colab": {
          "base_uri": "https://localhost:8080/"
        }
      },
      "execution_count": 57,
      "outputs": [
        {
          "output_type": "stream",
          "name": "stdout",
          "text": [
            "ingrese el número de elemento que desea eliminar del 1 al 7: 2\n",
            "El elemento eliminado es B\n",
            "La lista resultante es ['A', 'b', 'c', 'E', 'E', 'f']\n"
          ]
        }
      ]
    },
    {
      "cell_type": "code",
      "source": [
        "lista_x = [\"A\", \"B\", \"b\", \"c\", \"E\", \"E\", \"f\"]\n",
        "\n",
        "n = input(f'ingrese el elemento que desea eliminar en [\"A\", \"B\", \"b\", \"c\", \"E\", \"E\", \"f\"]: ')\n",
        "eliminado_1 = lista_x.remove(n)\n",
        "print(f'El elemento eliminado es {eliminado_1}')\n",
        "print(f'La lista resultante es {lista_x}')"
      ],
      "metadata": {
        "id": "Lzx2MhBalmyi",
        "outputId": "aa192862-834d-4435-99d3-fc7e6cf0b6e3",
        "colab": {
          "base_uri": "https://localhost:8080/"
        }
      },
      "execution_count": 61,
      "outputs": [
        {
          "output_type": "stream",
          "name": "stdout",
          "text": [
            "ingrese el elemento que desea eliminar en [\"A\", \"B\", \"b\", \"c\", \"E\", \"E\", \"f\"]: A\n",
            "El elemento eliminado es None\n",
            "La lista resultante es ['B', 'b', 'c', 'E', 'E', 'f']\n"
          ]
        }
      ]
    },
    {
      "cell_type": "code",
      "source": [
        "lista_y = [\"A\", \"B\", \"b\", \"c\", \"E\", \"E\", \"f\"]\n",
        "\n",
        "el_el1 = input('Ingrese el elemento a eliminar: ')\n",
        "\n",
        "lista_z = []\n",
        "# Boucle para eliminar un elemento determinado de una lista incluso siestan repetidos\n",
        "for elemento in lista_y:\n",
        "  if elemento != el_el1:  #recorreo los elementos de la lista comparando con los valores a eliminar\n",
        "  # si no coincide con el valor a eliminar entonces se añade en la lista z que contendra todos los elementos que se conservan\n",
        "    lista_z.append(elemento)\n",
        "print(f'El elemento a eliminar es {el_el1}')\n",
        "print(f'La lista resultante es {lista_z}')"
      ],
      "metadata": {
        "id": "-vbvQpGfmmHn",
        "outputId": "aa95d10e-cae2-493d-ddec-b206912e8f6d",
        "colab": {
          "base_uri": "https://localhost:8080/"
        }
      },
      "execution_count": 62,
      "outputs": [
        {
          "output_type": "stream",
          "name": "stdout",
          "text": [
            "Ingrese el elemento a eliminar: E\n",
            "El elemento a eliminar es E\n",
            "La lista resultante es ['A', 'B', 'b', 'c', 'f']\n"
          ]
        }
      ]
    }
  ]
}